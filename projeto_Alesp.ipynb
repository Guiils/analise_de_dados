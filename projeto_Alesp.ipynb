{
  "nbformat": 4,
  "nbformat_minor": 0,
  "metadata": {
    "colab": {
      "provenance": [],
      "authorship_tag": "ABX9TyMFqC1vYhioE5IdAHFjGF6A",
      "include_colab_link": true
    },
    "kernelspec": {
      "name": "python3",
      "display_name": "Python 3"
    },
    "language_info": {
      "name": "python"
    }
  },
  "cells": [
    {
      "cell_type": "markdown",
      "metadata": {
        "id": "view-in-github",
        "colab_type": "text"
      },
      "source": [
        "<a href=\"https://colab.research.google.com/github/Guiils/analise_de_dados/blob/main/projeto_Alesp.ipynb\" target=\"_parent\"><img src=\"https://colab.research.google.com/assets/colab-badge.svg\" alt=\"Open In Colab\"/></a>"
      ]
    },
    {
      "cell_type": "markdown",
      "source": [
        "## Declaração de libs"
      ],
      "metadata": {
        "id": "5Hw-QT75ie_s"
      }
    },
    {
      "cell_type": "code",
      "execution_count": null,
      "metadata": {
        "id": "3pZPfMNj-wlm"
      },
      "outputs": [],
      "source": [
        "pip install gcsfs"
      ]
    },
    {
      "cell_type": "code",
      "source": [
        "pip install pandera"
      ],
      "metadata": {
        "id": "0PCtWroaK6aL"
      },
      "execution_count": null,
      "outputs": []
    },
    {
      "cell_type": "code",
      "source": [
        "import pandas as pd\n",
        "import os\n",
        "from google.cloud import storage\n",
        "import numpy as np\n",
        "import pandera as pa"
      ],
      "metadata": {
        "id": "eHl_P5-DJJui"
      },
      "execution_count": null,
      "outputs": []
    },
    {
      "cell_type": "markdown",
      "source": [
        "## Configurando a parte visual do DataFrame pelo Pandas"
      ],
      "metadata": {
        "id": "-Civic4dimU3"
      }
    },
    {
      "cell_type": "code",
      "source": [
        "pd.set_option('display.max_columns', 100)"
      ],
      "metadata": {
        "id": "31pA_JAFJMIq"
      },
      "execution_count": null,
      "outputs": []
    },
    {
      "cell_type": "markdown",
      "source": [
        "## Conector para Cloud Storage(bucket)"
      ],
      "metadata": {
        "id": "GGZBffaci2oT"
      }
    },
    {
      "cell_type": "code",
      "source": [
        "serviceAccount = '/content/advance-airline-377819-1bf613aac07c.json'\n",
        "os.environ['GOOGLE_APPLICATION_CREDENTIALS'] = serviceAccount"
      ],
      "metadata": {
        "id": "rs8favykJNEA"
      },
      "execution_count": null,
      "outputs": []
    },
    {
      "cell_type": "code",
      "source": [
        "client = storage.Client()\n",
        "bucket = client.get_bucket('ad1-bucket')\n",
        "bucket.blob('depsp.csv')\n",
        "path = 'gs://ad1-bucket/brutos/depsp.csv'"
      ],
      "metadata": {
        "id": "Tu1PBI4eJO_3"
      },
      "execution_count": null,
      "outputs": []
    },
    {
      "cell_type": "code",
      "source": [
        "path = 'gs://ad1-bucket/brutos/depsp.csv'"
      ],
      "metadata": {
        "id": "G2xDr8q6ibap"
      },
      "execution_count": null,
      "outputs": []
    },
    {
      "cell_type": "markdown",
      "source": [
        "## Extração de Dados(Extract)"
      ],
      "metadata": {
        "id": "W-ZEY16ti-sc"
      }
    },
    {
      "cell_type": "code",
      "source": [
        "df = pd.read_csv(path)\n",
        "dfback = df.copy()"
      ],
      "metadata": {
        "colab": {
          "base_uri": "https://localhost:8080/"
        },
        "id": "-jLSawcZJVqB",
        "outputId": "46486f57-7222-4af1-e652-43a4fa7b8273"
      },
      "execution_count": null,
      "outputs": [
        {
          "output_type": "stream",
          "name": "stderr",
          "text": [
            "/usr/local/lib/python3.9/dist-packages/IPython/core/interactiveshell.py:3326: DtypeWarning: Columns (4) have mixed types.Specify dtype option on import or set low_memory=False.\n",
            "  exec(code_obj, self.user_global_ns, self.user_ns)\n"
          ]
        }
      ]
    },
    {
      "cell_type": "markdown",
      "source": [
        "## Pré análise"
      ],
      "metadata": {
        "id": "oYwzMcfYjOL2"
      }
    },
    {
      "cell_type": "code",
      "source": [
        "df.head(5)"
      ],
      "metadata": {
        "colab": {
          "base_uri": "https://localhost:8080/",
          "height": 354
        },
        "id": "h2Fj2jvXjS1R",
        "outputId": "244222d2-926e-4052-f9f1-42727cd71819"
      },
      "execution_count": null,
      "outputs": [
        {
          "output_type": "execute_result",
          "data": {
            "text/plain": [
              "    Ano  Matricula  Mes    Valor            CNPJ            Deputado  \\\n",
              "0  2015     300257    3   200.00  71806251000106  ABELARDO CAMARINHA   \n",
              "1  2015     300257    3   295.40  68064740000125  ABELARDO CAMARINHA   \n",
              "2  2015     300257    3  2850.00     22145388877  ABELARDO CAMARINHA   \n",
              "3  2015     300257    4   100.00  10915883000113  ABELARDO CAMARINHA   \n",
              "4  2015     300257    4   195.01  71806251000106  ABELARDO CAMARINHA   \n",
              "\n",
              "                                                Tipo  \\\n",
              "0                   A - COMBUSTÍVEIS E LUBRIFICANTES   \n",
              "1  E - MATERIAIS DE ESCRITÓRIO E OUTROS MATERIAIS...   \n",
              "2                                        N - MORADIA   \n",
              "3                   A - COMBUSTÍVEIS E LUBRIFICANTES   \n",
              "4                   A - COMBUSTÍVEIS E LUBRIFICANTES   \n",
              "\n",
              "                         Fornecedor  \n",
              "0  AUTO POSTO DE SERVIÇOS MARV LTDA  \n",
              "1         PAPER FACE COMERCIAL LTDA  \n",
              "2         LARA SERVINO VARGAS ABREU  \n",
              "3     CENTRO AUTOMOTIVO TOP 23 LTDA  \n",
              "4  AUTO POSTO DE SERVIÇOS MARV LTDA  "
            ],
            "text/html": [
              "\n",
              "  <div id=\"df-e11f5a6d-246b-42ea-8ea7-b3a1dd2bfcb2\">\n",
              "    <div class=\"colab-df-container\">\n",
              "      <div>\n",
              "<style scoped>\n",
              "    .dataframe tbody tr th:only-of-type {\n",
              "        vertical-align: middle;\n",
              "    }\n",
              "\n",
              "    .dataframe tbody tr th {\n",
              "        vertical-align: top;\n",
              "    }\n",
              "\n",
              "    .dataframe thead th {\n",
              "        text-align: right;\n",
              "    }\n",
              "</style>\n",
              "<table border=\"1\" class=\"dataframe\">\n",
              "  <thead>\n",
              "    <tr style=\"text-align: right;\">\n",
              "      <th></th>\n",
              "      <th>Ano</th>\n",
              "      <th>Matricula</th>\n",
              "      <th>Mes</th>\n",
              "      <th>Valor</th>\n",
              "      <th>CNPJ</th>\n",
              "      <th>Deputado</th>\n",
              "      <th>Tipo</th>\n",
              "      <th>Fornecedor</th>\n",
              "    </tr>\n",
              "  </thead>\n",
              "  <tbody>\n",
              "    <tr>\n",
              "      <th>0</th>\n",
              "      <td>2015</td>\n",
              "      <td>300257</td>\n",
              "      <td>3</td>\n",
              "      <td>200.00</td>\n",
              "      <td>71806251000106</td>\n",
              "      <td>ABELARDO CAMARINHA</td>\n",
              "      <td>A - COMBUSTÍVEIS E LUBRIFICANTES</td>\n",
              "      <td>AUTO POSTO DE SERVIÇOS MARV LTDA</td>\n",
              "    </tr>\n",
              "    <tr>\n",
              "      <th>1</th>\n",
              "      <td>2015</td>\n",
              "      <td>300257</td>\n",
              "      <td>3</td>\n",
              "      <td>295.40</td>\n",
              "      <td>68064740000125</td>\n",
              "      <td>ABELARDO CAMARINHA</td>\n",
              "      <td>E - MATERIAIS DE ESCRITÓRIO E OUTROS MATERIAIS...</td>\n",
              "      <td>PAPER FACE COMERCIAL LTDA</td>\n",
              "    </tr>\n",
              "    <tr>\n",
              "      <th>2</th>\n",
              "      <td>2015</td>\n",
              "      <td>300257</td>\n",
              "      <td>3</td>\n",
              "      <td>2850.00</td>\n",
              "      <td>22145388877</td>\n",
              "      <td>ABELARDO CAMARINHA</td>\n",
              "      <td>N - MORADIA</td>\n",
              "      <td>LARA SERVINO VARGAS ABREU</td>\n",
              "    </tr>\n",
              "    <tr>\n",
              "      <th>3</th>\n",
              "      <td>2015</td>\n",
              "      <td>300257</td>\n",
              "      <td>4</td>\n",
              "      <td>100.00</td>\n",
              "      <td>10915883000113</td>\n",
              "      <td>ABELARDO CAMARINHA</td>\n",
              "      <td>A - COMBUSTÍVEIS E LUBRIFICANTES</td>\n",
              "      <td>CENTRO AUTOMOTIVO TOP 23 LTDA</td>\n",
              "    </tr>\n",
              "    <tr>\n",
              "      <th>4</th>\n",
              "      <td>2015</td>\n",
              "      <td>300257</td>\n",
              "      <td>4</td>\n",
              "      <td>195.01</td>\n",
              "      <td>71806251000106</td>\n",
              "      <td>ABELARDO CAMARINHA</td>\n",
              "      <td>A - COMBUSTÍVEIS E LUBRIFICANTES</td>\n",
              "      <td>AUTO POSTO DE SERVIÇOS MARV LTDA</td>\n",
              "    </tr>\n",
              "  </tbody>\n",
              "</table>\n",
              "</div>\n",
              "      <button class=\"colab-df-convert\" onclick=\"convertToInteractive('df-e11f5a6d-246b-42ea-8ea7-b3a1dd2bfcb2')\"\n",
              "              title=\"Convert this dataframe to an interactive table.\"\n",
              "              style=\"display:none;\">\n",
              "        \n",
              "  <svg xmlns=\"http://www.w3.org/2000/svg\" height=\"24px\"viewBox=\"0 0 24 24\"\n",
              "       width=\"24px\">\n",
              "    <path d=\"M0 0h24v24H0V0z\" fill=\"none\"/>\n",
              "    <path d=\"M18.56 5.44l.94 2.06.94-2.06 2.06-.94-2.06-.94-.94-2.06-.94 2.06-2.06.94zm-11 1L8.5 8.5l.94-2.06 2.06-.94-2.06-.94L8.5 2.5l-.94 2.06-2.06.94zm10 10l.94 2.06.94-2.06 2.06-.94-2.06-.94-.94-2.06-.94 2.06-2.06.94z\"/><path d=\"M17.41 7.96l-1.37-1.37c-.4-.4-.92-.59-1.43-.59-.52 0-1.04.2-1.43.59L10.3 9.45l-7.72 7.72c-.78.78-.78 2.05 0 2.83L4 21.41c.39.39.9.59 1.41.59.51 0 1.02-.2 1.41-.59l7.78-7.78 2.81-2.81c.8-.78.8-2.07 0-2.86zM5.41 20L4 18.59l7.72-7.72 1.47 1.35L5.41 20z\"/>\n",
              "  </svg>\n",
              "      </button>\n",
              "      \n",
              "  <style>\n",
              "    .colab-df-container {\n",
              "      display:flex;\n",
              "      flex-wrap:wrap;\n",
              "      gap: 12px;\n",
              "    }\n",
              "\n",
              "    .colab-df-convert {\n",
              "      background-color: #E8F0FE;\n",
              "      border: none;\n",
              "      border-radius: 50%;\n",
              "      cursor: pointer;\n",
              "      display: none;\n",
              "      fill: #1967D2;\n",
              "      height: 32px;\n",
              "      padding: 0 0 0 0;\n",
              "      width: 32px;\n",
              "    }\n",
              "\n",
              "    .colab-df-convert:hover {\n",
              "      background-color: #E2EBFA;\n",
              "      box-shadow: 0px 1px 2px rgba(60, 64, 67, 0.3), 0px 1px 3px 1px rgba(60, 64, 67, 0.15);\n",
              "      fill: #174EA6;\n",
              "    }\n",
              "\n",
              "    [theme=dark] .colab-df-convert {\n",
              "      background-color: #3B4455;\n",
              "      fill: #D2E3FC;\n",
              "    }\n",
              "\n",
              "    [theme=dark] .colab-df-convert:hover {\n",
              "      background-color: #434B5C;\n",
              "      box-shadow: 0px 1px 3px 1px rgba(0, 0, 0, 0.15);\n",
              "      filter: drop-shadow(0px 1px 2px rgba(0, 0, 0, 0.3));\n",
              "      fill: #FFFFFF;\n",
              "    }\n",
              "  </style>\n",
              "\n",
              "      <script>\n",
              "        const buttonEl =\n",
              "          document.querySelector('#df-e11f5a6d-246b-42ea-8ea7-b3a1dd2bfcb2 button.colab-df-convert');\n",
              "        buttonEl.style.display =\n",
              "          google.colab.kernel.accessAllowed ? 'block' : 'none';\n",
              "\n",
              "        async function convertToInteractive(key) {\n",
              "          const element = document.querySelector('#df-e11f5a6d-246b-42ea-8ea7-b3a1dd2bfcb2');\n",
              "          const dataTable =\n",
              "            await google.colab.kernel.invokeFunction('convertToInteractive',\n",
              "                                                     [key], {});\n",
              "          if (!dataTable) return;\n",
              "\n",
              "          const docLinkHtml = 'Like what you see? Visit the ' +\n",
              "            '<a target=\"_blank\" href=https://colab.research.google.com/notebooks/data_table.ipynb>data table notebook</a>'\n",
              "            + ' to learn more about interactive tables.';\n",
              "          element.innerHTML = '';\n",
              "          dataTable['output_type'] = 'display_data';\n",
              "          await google.colab.output.renderOutput(dataTable, element);\n",
              "          const docLink = document.createElement('div');\n",
              "          docLink.innerHTML = docLinkHtml;\n",
              "          element.appendChild(docLink);\n",
              "        }\n",
              "      </script>\n",
              "    </div>\n",
              "  </div>\n",
              "  "
            ]
          },
          "metadata": {},
          "execution_count": 53
        }
      ]
    },
    {
      "cell_type": "code",
      "source": [
        "df.dtypes"
      ],
      "metadata": {
        "colab": {
          "base_uri": "https://localhost:8080/"
        },
        "id": "9esiWbwHjzJP",
        "outputId": "57e43a06-9361-4f44-b452-45bd046dce07"
      },
      "execution_count": null,
      "outputs": [
        {
          "output_type": "execute_result",
          "data": {
            "text/plain": [
              "Ano             int64\n",
              "Matricula       int64\n",
              "Mes             int64\n",
              "Valor         float64\n",
              "CNPJ           object\n",
              "Deputado       object\n",
              "Tipo           object\n",
              "Fornecedor     object\n",
              "dtype: object"
            ]
          },
          "metadata": {},
          "execution_count": 54
        }
      ]
    },
    {
      "cell_type": "code",
      "source": [
        "pd.unique(df['cnpj'])"
      ],
      "metadata": {
        "id": "6lsUQisPlYmL"
      },
      "execution_count": null,
      "outputs": []
    },
    {
      "cell_type": "code",
      "source": [
        "df.isna().sum()"
      ],
      "metadata": {
        "id": "NTjSrE5ukFod"
      },
      "execution_count": null,
      "outputs": []
    },
    {
      "cell_type": "markdown",
      "source": [
        "## Transformações(Limpeza,conversão,etc)"
      ],
      "metadata": {
        "id": "iD7OurskjrTF"
      }
    },
    {
      "cell_type": "code",
      "source": [
        "df.rename(columns={'Ano':'ano','Matricula':'matricula','Mes':'mes','Valor':'valor','CNPJ':'cnpj','Deputado':'deputado','Tipo':'tipo','Fornecedor':'fornecedor'}, inplace=True)"
      ],
      "metadata": {
        "id": "V4_8NSRXjqed"
      },
      "execution_count": null,
      "outputs": []
    },
    {
      "cell_type": "markdown",
      "source": [],
      "metadata": {
        "id": "EMzQx1TdlcGf"
      }
    },
    {
      "cell_type": "markdown",
      "source": [
        "## Criação de Filtros"
      ],
      "metadata": {
        "id": "TiJlE92vlsQU"
      }
    },
    {
      "cell_type": "code",
      "source": [
        "filtro4anos = df.ano > 2017\n",
        "anos4 = df.loc[filtro4anos]\n",
        "primeiroSem = df.mes <= 6\n",
        "segundoSem = df.mes >= 7\n",
        "gastosPrimeiroSem = df.loc[primeiroSem & filtro4anos]\n",
        "gastosSegundoSem = df.loc[segundoSem & filtro4anos]"
      ],
      "metadata": {
        "id": "RH7E9xudTVxl"
      },
      "execution_count": null,
      "outputs": []
    },
    {
      "cell_type": "code",
      "source": [
        "anos4"
      ],
      "metadata": {
        "id": "VJncqH3lqoOR"
      },
      "execution_count": null,
      "outputs": []
    },
    {
      "cell_type": "code",
      "source": [
        "anos4.isna().sum()"
      ],
      "metadata": {
        "colab": {
          "base_uri": "https://localhost:8080/"
        },
        "id": "Gob7a7K5Uho-",
        "outputId": "dc77fdef-814c-4c18-9c6b-a0f5640663a6"
      },
      "execution_count": null,
      "outputs": [
        {
          "output_type": "execute_result",
          "data": {
            "text/plain": [
              "ano              0\n",
              "matricula        0\n",
              "mes              0\n",
              "valor            0\n",
              "cnpj          1483\n",
              "deputado         0\n",
              "tipo             0\n",
              "fornecedor       0\n",
              "dtype: int64"
            ]
          },
          "metadata": {},
          "execution_count": 66
        }
      ]
    },
    {
      "cell_type": "markdown",
      "source": [
        "##Insights"
      ],
      "metadata": {
        "id": "Q_Q_D0RQtE67"
      }
    },
    {
      "cell_type": "code",
      "source": [
        "#Os que mais gastaram no tempo total do df\n",
        "gastoTotal = df.groupby('deputado')['valor'].sum().sort_values(ascending=False)"
      ],
      "metadata": {
        "id": "iRBj3BtpVM0u"
      },
      "execution_count": null,
      "outputs": []
    },
    {
      "cell_type": "code",
      "source": [
        "#Os que mais gastaram\n",
        "gastoTotal.head(3)"
      ],
      "metadata": {
        "colab": {
          "base_uri": "https://localhost:8080/"
        },
        "id": "diSADc5emscF",
        "outputId": "d8fb8052-2ef2-4750-9dbc-6b6ffb603f9d"
      },
      "execution_count": null,
      "outputs": [
        {
          "output_type": "execute_result",
          "data": {
            "text/plain": [
              "deputado\n",
              "CAMPOS MACHADO       5691197.91\n",
              "ENIO TATTO           5363451.90\n",
              "MARIA LÚCIA AMARY    5297913.91\n",
              "Name: valor, dtype: float64"
            ]
          },
          "metadata": {},
          "execution_count": 68
        }
      ]
    },
    {
      "cell_type": "code",
      "source": [
        "#Os que menos gastaram\n",
        "gastoTotal.tail(3)"
      ],
      "metadata": {
        "colab": {
          "base_uri": "https://localhost:8080/"
        },
        "id": "z_JRgIr3mt88",
        "outputId": "390e0016-77b1-45c0-87f1-4f5268a3786c"
      },
      "execution_count": null,
      "outputs": [
        {
          "output_type": "execute_result",
          "data": {
            "text/plain": [
              "deputado\n",
              "ULISSES SALES                   2653.53\n",
              "MAJOR MAURO                     2311.53\n",
              "ANTÔNIO AGUIMARÃES DE CALDAS    2225.63\n",
              "Name: valor, dtype: float64"
            ]
          },
          "metadata": {},
          "execution_count": 69
        }
      ]
    },
    {
      "cell_type": "code",
      "source": [
        "#Os que mais gastaram nos ultimos 4 anos\n",
        "gasto4Anos = anos4.groupby('deputado')['valor'].sum().sort_values(ascending=False)"
      ],
      "metadata": {
        "id": "uva3_a8GejkN"
      },
      "execution_count": null,
      "outputs": []
    },
    {
      "cell_type": "code",
      "source": [
        "#Os que mais gastaram\n",
        "gasto4Anos.head(3)"
      ],
      "metadata": {
        "colab": {
          "base_uri": "https://localhost:8080/"
        },
        "id": "FdCnpCkxnPv_",
        "outputId": "d0d5fb97-34f0-4a4f-e52f-e8baa97498c4"
      },
      "execution_count": null,
      "outputs": [
        {
          "output_type": "execute_result",
          "data": {
            "text/plain": [
              "deputado\n",
              "TEONILIO BARBA    1917275.47\n",
              "MARTA COSTA       1865500.77\n",
              "ENIO TATTO        1860088.08\n",
              "Name: valor, dtype: float64"
            ]
          },
          "metadata": {},
          "execution_count": 71
        }
      ]
    },
    {
      "cell_type": "code",
      "source": [
        "#Os que menos gastaram\n",
        "gasto4Anos.tail(3)"
      ],
      "metadata": {
        "colab": {
          "base_uri": "https://localhost:8080/"
        },
        "id": "CjEMdUf7nbK-",
        "outputId": "31cf207c-492e-4f8f-f726-2bd0d54f7446"
      },
      "execution_count": null,
      "outputs": [
        {
          "output_type": "execute_result",
          "data": {
            "text/plain": [
              "deputado\n",
              "EVANDRO LOSACCO        2818.42\n",
              "MAJOR MAURO            2311.53\n",
              "LUIZ GONZAGA VIEIRA    2251.96\n",
              "Name: valor, dtype: float64"
            ]
          },
          "metadata": {},
          "execution_count": 72
        }
      ]
    },
    {
      "cell_type": "code",
      "source": [
        "#Ranking de maiores gastos por tipo\n",
        "anos4.groupby('tipo')['valor'].sum().sort_values(ascending=False)"
      ],
      "metadata": {
        "colab": {
          "base_uri": "https://localhost:8080/"
        },
        "id": "-nvxHnzKfE-g",
        "outputId": "c39cf1cc-46ba-4476-8530-d9f89b9807cb"
      },
      "execution_count": null,
      "outputs": [
        {
          "output_type": "execute_result",
          "data": {
            "text/plain": [
              "tipo\n",
              "L - LOCAÇÃO DE BENS IMÓVEIS                                           20261433.46\n",
              "D - MATERIAIS E SERVIÇOS GRÁFICOS, DE CÓPIAS  E REPRODUÇÃO DE DOCS    16305196.99\n",
              "O - LOCAÇÃO DE VEÍCULO                                                11693211.97\n",
              "F - SERVIÇOS TÉCNICOS PROFISSIONAIS (CONSULTORIA, PESQUISAS ETC)      10818575.26\n",
              "K - LOCAÇÃO DE BENS MÓVEIS                                             9211102.83\n",
              "A - COMBUSTÍVEIS E LUBRIFICANTES                                       8377506.79\n",
              "M - MANUTENÇÃO DE BENS MÓVEIS,  IMÓVEIS, CONDOMÍNIOS E OUTROS          6115481.49\n",
              "H - SERV.UTIL.PÚBLICA (TELEF.MÓVEL/FIXA, ENERGIA, ÁGUA, GÁS ETC)       5566687.31\n",
              "E - MATERIAIS DE ESCRITÓRIO E OUTROS MATERIAIS DE CONSUMO              5213792.32\n",
              "J - SERVIÇOS DE COMUNICAÇÃO                                            3766041.38\n",
              "I - HOSPEDAGEM, ALIMENTAÇÃO E DESPESAS DE LOCOMOÇÃO                    3708313.49\n",
              "N - MORADIA                                                            2898985.17\n",
              "G - ASSINATURAS DE PERIÓDICOS, PUBLICAÇÕES, INTERNET E SOFTWARES       1683124.83\n",
              "P - DIVULGAÇÃO DA ATIVIDADE PARLAMENTAR                                1554983.42\n",
              "C - MATERIAIS E SERVIÇOS DE MANUT E CONSERV DE VEÍCULOS ; PEDÁGIOS      853947.79\n",
              "Name: valor, dtype: float64"
            ]
          },
          "metadata": {},
          "execution_count": 73
        }
      ]
    },
    {
      "cell_type": "code",
      "source": [
        "gastosPrimeiroSem.groupby('tipo')['valor'].sum().sort_values(ascending=False)"
      ],
      "metadata": {
        "colab": {
          "base_uri": "https://localhost:8080/"
        },
        "id": "XPGb7SZPnqoS",
        "outputId": "78dd7ca5-6661-440c-de95-e36c60d90191"
      },
      "execution_count": null,
      "outputs": [
        {
          "output_type": "execute_result",
          "data": {
            "text/plain": [
              "tipo\n",
              "L - LOCAÇÃO DE BENS IMÓVEIS                                           10289446.28\n",
              "D - MATERIAIS E SERVIÇOS GRÁFICOS, DE CÓPIAS  E REPRODUÇÃO DE DOCS     8781729.01\n",
              "O - LOCAÇÃO DE VEÍCULO                                                 5613922.56\n",
              "F - SERVIÇOS TÉCNICOS PROFISSIONAIS (CONSULTORIA, PESQUISAS ETC)       5461478.93\n",
              "K - LOCAÇÃO DE BENS MÓVEIS                                             4574769.73\n",
              "A - COMBUSTÍVEIS E LUBRIFICANTES                                       4233214.66\n",
              "M - MANUTENÇÃO DE BENS MÓVEIS,  IMÓVEIS, CONDOMÍNIOS E OUTROS          3237950.18\n",
              "H - SERV.UTIL.PÚBLICA (TELEF.MÓVEL/FIXA, ENERGIA, ÁGUA, GÁS ETC)       2946087.97\n",
              "E - MATERIAIS DE ESCRITÓRIO E OUTROS MATERIAIS DE CONSUMO              2573949.45\n",
              "J - SERVIÇOS DE COMUNICAÇÃO                                            1974243.19\n",
              "I - HOSPEDAGEM, ALIMENTAÇÃO E DESPESAS DE LOCOMOÇÃO                    1780333.01\n",
              "N - MORADIA                                                            1480775.38\n",
              "G - ASSINATURAS DE PERIÓDICOS, PUBLICAÇÕES, INTERNET E SOFTWARES        863851.95\n",
              "P - DIVULGAÇÃO DA ATIVIDADE PARLAMENTAR                                 812964.68\n",
              "C - MATERIAIS E SERVIÇOS DE MANUT E CONSERV DE VEÍCULOS ; PEDÁGIOS      655536.06\n",
              "Name: valor, dtype: float64"
            ]
          },
          "metadata": {},
          "execution_count": 77
        }
      ]
    },
    {
      "cell_type": "code",
      "source": [
        "gastosSegundoSem.groupby('tipo')['valor'].sum().sort_values(ascending=False)"
      ],
      "metadata": {
        "colab": {
          "base_uri": "https://localhost:8080/"
        },
        "id": "UYIB62lbsAjv",
        "outputId": "ace892be-5f2b-4329-ee5f-d0a37bf6780a"
      },
      "execution_count": null,
      "outputs": [
        {
          "output_type": "execute_result",
          "data": {
            "text/plain": [
              "tipo\n",
              "L - LOCAÇÃO DE BENS IMÓVEIS                                           9971987.18\n",
              "D - MATERIAIS E SERVIÇOS GRÁFICOS, DE CÓPIAS  E REPRODUÇÃO DE DOCS    7523467.98\n",
              "O - LOCAÇÃO DE VEÍCULO                                                6079289.41\n",
              "F - SERVIÇOS TÉCNICOS PROFISSIONAIS (CONSULTORIA, PESQUISAS ETC)      5357096.33\n",
              "K - LOCAÇÃO DE BENS MÓVEIS                                            4636333.10\n",
              "A - COMBUSTÍVEIS E LUBRIFICANTES                                      4144292.13\n",
              "M - MANUTENÇÃO DE BENS MÓVEIS,  IMÓVEIS, CONDOMÍNIOS E OUTROS         2877531.31\n",
              "E - MATERIAIS DE ESCRITÓRIO E OUTROS MATERIAIS DE CONSUMO             2639842.87\n",
              "H - SERV.UTIL.PÚBLICA (TELEF.MÓVEL/FIXA, ENERGIA, ÁGUA, GÁS ETC)      2620599.34\n",
              "I - HOSPEDAGEM, ALIMENTAÇÃO E DESPESAS DE LOCOMOÇÃO                   1927980.48\n",
              "J - SERVIÇOS DE COMUNICAÇÃO                                           1791798.19\n",
              "N - MORADIA                                                           1418209.79\n",
              "G - ASSINATURAS DE PERIÓDICOS, PUBLICAÇÕES, INTERNET E SOFTWARES       819272.88\n",
              "P - DIVULGAÇÃO DA ATIVIDADE PARLAMENTAR                                742018.74\n",
              "C - MATERIAIS E SERVIÇOS DE MANUT E CONSERV DE VEÍCULOS ; PEDÁGIOS     198411.73\n",
              "Name: valor, dtype: float64"
            ]
          },
          "metadata": {},
          "execution_count": 78
        }
      ]
    },
    {
      "cell_type": "code",
      "source": [
        "relatorioGastosPrimSem = gastosPrimeiroSem.groupby('deputado')['valor'].sum().sort_values(ascending=False)"
      ],
      "metadata": {
        "id": "2I9t2ER_sNxp"
      },
      "execution_count": null,
      "outputs": []
    },
    {
      "cell_type": "code",
      "source": [
        "relatorioGastosSegSem = gastosSegundoSem.groupby('deputado')['valor'].sum().sort_values(ascending=False)"
      ],
      "metadata": {
        "id": "-PSWkPMusXLi"
      },
      "execution_count": null,
      "outputs": []
    },
    {
      "cell_type": "markdown",
      "source": [
        "##LOAD(Carregamento) salvar o df."
      ],
      "metadata": {
        "id": "4wj447_xs---"
      }
    },
    {
      "cell_type": "code",
      "source": [
        "relatorioGastosPrimSem.to_csv('gs://ad1-bucket/tratados/relatoriogastos1sem.csv', index=False)"
      ],
      "metadata": {
        "id": "6O8Af6GFu1TB"
      },
      "execution_count": null,
      "outputs": []
    }
  ]
}