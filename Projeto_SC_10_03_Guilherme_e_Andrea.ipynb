{
  "nbformat": 4,
  "nbformat_minor": 0,
  "metadata": {
    "colab": {
      "provenance": [],
      "collapsed_sections": [
        "j0dDnHA5holK",
        "Dy9sySkm7Xf3",
        "Lg2LfDbCjHrW",
        "NEZnaADB7ok4",
        "cQlptR4ygUtF",
        "J3C5sAqsg1V6",
        "eq-tOq768hbz",
        "Mt8S9QeXqvAq",
        "3a3UqmffvyK8"
      ],
      "toc_visible": true,
      "include_colab_link": true
    },
    "kernelspec": {
      "name": "python3",
      "display_name": "Python 3"
    },
    "language_info": {
      "name": "python"
    }
  },
  "cells": [
    {
      "cell_type": "markdown",
      "metadata": {
        "id": "view-in-github",
        "colab_type": "text"
      },
      "source": [
        "<a href=\"https://colab.research.google.com/github/Guiils/analise_de_dados/blob/main/Projeto_SC_10_03_Guilherme_e_Andrea.ipynb\" target=\"_parent\"><img src=\"https://colab.research.google.com/assets/colab-badge.svg\" alt=\"Open In Colab\"/></a>"
      ]
    },
    {
      "cell_type": "markdown",
      "source": [
        "#Projeto em Dupla Pandas e MongoDb\n",
        "* Andrea Pelá\n",
        "* Guilherme Lins\n",
        "\n"
      ],
      "metadata": {
        "id": "KEUA4xnm5VKn"
      }
    },
    {
      "cell_type": "markdown",
      "source": [
        "\n",
        "##Nivel Infra\n",
        "* O Dataset deve ser salvo em ambiente cloud(Cloud Storage)\n",
        "* O arquivo original e tratado deve ser salvo em MongoDB Atlas em coleções diferentes\n",
        "* O Dataset devem ser obrigatoriamente salvos em uma bucket do CloudStorage (Original e Tratado)\n",
        "\n",
        "##Nivel Pandas\n",
        "* O arquivo está em outra linguagem e deve ter seus dados traduzidos para Português-BR\n",
        "* Realizar a extração corretamente para um dataframe\n",
        "* Verificar a existência de dados inconsistentes e realizar a limpeza para NaN ou NA explicando o porque da decisão\n",
        "* Realizar o drop(se necessário) de colunas do dataframe realizando o comentário do porque da exclusão \n",
        "* Todos os passos devem ser comentados\n",
        "realizar no mínimo 3 análises apenas numérica\n",
        "realizar plotagens para no mínimo 4 análises\n",
        "chegar a uma conclusão ou sugestão \n",
        "\n",
        "** Observação** : o que será analisado são os tópicos cumpridos , na ocasião de findar o tempo e algum(ns) não forem contemplados , realize a entrega do que foi concluído . Pedimos que nos conceda acesso ao email professores.bcw4@soulcodeacademy.org para seu projeto no google cloud , adicione um usuário : soulcode  no mongo atlas e compartilhe junto a key de autenticação para acessarmos seu mongo atlas e seja enviado juntamente com o código realizado\n"
      ],
      "metadata": {
        "id": "WiH960Dd2XPD"
      }
    },
    {
      "cell_type": "markdown",
      "source": [
        "##Preparar Bibliotecas"
      ],
      "metadata": {
        "id": "j0dDnHA5holK"
      }
    },
    {
      "cell_type": "code",
      "execution_count": null,
      "metadata": {
        "id": "PARGhhJS04fi",
        "colab": {
          "base_uri": "https://localhost:8080/"
        },
        "outputId": "101d4599-cebf-4c15-f9a0-4e652e8802ac"
      },
      "outputs": [
        {
          "output_type": "stream",
          "name": "stdout",
          "text": [
            "Looking in indexes: https://pypi.org/simple, https://us-python.pkg.dev/colab-wheels/public/simple/\n",
            "Requirement already satisfied: gcsfs in /usr/local/lib/python3.9/dist-packages (2023.3.0)\n",
            "Requirement already satisfied: fsspec==2023.3.0 in /usr/local/lib/python3.9/dist-packages (from gcsfs) (2023.3.0)\n",
            "Requirement already satisfied: google-cloud-storage in /usr/local/lib/python3.9/dist-packages (from gcsfs) (2.7.0)\n",
            "Requirement already satisfied: aiohttp!=4.0.0a0,!=4.0.0a1 in /usr/local/lib/python3.9/dist-packages (from gcsfs) (3.8.4)\n",
            "Requirement already satisfied: requests in /usr/local/lib/python3.9/dist-packages (from gcsfs) (2.25.1)\n",
            "Requirement already satisfied: google-auth-oauthlib in /usr/local/lib/python3.9/dist-packages (from gcsfs) (0.4.6)\n",
            "Requirement already satisfied: google-auth>=1.2 in /usr/local/lib/python3.9/dist-packages (from gcsfs) (2.16.2)\n",
            "Requirement already satisfied: decorator>4.1.2 in /usr/local/lib/python3.9/dist-packages (from gcsfs) (4.4.2)\n",
            "Requirement already satisfied: async-timeout<5.0,>=4.0.0a3 in /usr/local/lib/python3.9/dist-packages (from aiohttp!=4.0.0a0,!=4.0.0a1->gcsfs) (4.0.2)\n",
            "Requirement already satisfied: yarl<2.0,>=1.0 in /usr/local/lib/python3.9/dist-packages (from aiohttp!=4.0.0a0,!=4.0.0a1->gcsfs) (1.8.2)\n",
            "Requirement already satisfied: attrs>=17.3.0 in /usr/local/lib/python3.9/dist-packages (from aiohttp!=4.0.0a0,!=4.0.0a1->gcsfs) (22.2.0)\n",
            "Requirement already satisfied: charset-normalizer<4.0,>=2.0 in /usr/local/lib/python3.9/dist-packages (from aiohttp!=4.0.0a0,!=4.0.0a1->gcsfs) (3.1.0)\n",
            "Requirement already satisfied: multidict<7.0,>=4.5 in /usr/local/lib/python3.9/dist-packages (from aiohttp!=4.0.0a0,!=4.0.0a1->gcsfs) (6.0.4)\n",
            "Requirement already satisfied: aiosignal>=1.1.2 in /usr/local/lib/python3.9/dist-packages (from aiohttp!=4.0.0a0,!=4.0.0a1->gcsfs) (1.3.1)\n",
            "Requirement already satisfied: frozenlist>=1.1.1 in /usr/local/lib/python3.9/dist-packages (from aiohttp!=4.0.0a0,!=4.0.0a1->gcsfs) (1.3.3)\n",
            "Requirement already satisfied: rsa<5,>=3.1.4 in /usr/local/lib/python3.9/dist-packages (from google-auth>=1.2->gcsfs) (4.9)\n",
            "Requirement already satisfied: six>=1.9.0 in /usr/local/lib/python3.9/dist-packages (from google-auth>=1.2->gcsfs) (1.15.0)\n",
            "Requirement already satisfied: cachetools<6.0,>=2.0.0 in /usr/local/lib/python3.9/dist-packages (from google-auth>=1.2->gcsfs) (5.3.0)\n",
            "Requirement already satisfied: pyasn1-modules>=0.2.1 in /usr/local/lib/python3.9/dist-packages (from google-auth>=1.2->gcsfs) (0.2.8)\n",
            "Requirement already satisfied: requests-oauthlib>=0.7.0 in /usr/local/lib/python3.9/dist-packages (from google-auth-oauthlib->gcsfs) (1.3.1)\n",
            "Requirement already satisfied: google-api-core!=2.0.*,!=2.1.*,!=2.2.*,!=2.3.0,<3.0.0dev,>=1.31.5 in /usr/local/lib/python3.9/dist-packages (from google-cloud-storage->gcsfs) (2.11.0)\n",
            "Requirement already satisfied: google-resumable-media>=2.3.2 in /usr/local/lib/python3.9/dist-packages (from google-cloud-storage->gcsfs) (2.4.1)\n",
            "Requirement already satisfied: google-cloud-core<3.0dev,>=2.3.0 in /usr/local/lib/python3.9/dist-packages (from google-cloud-storage->gcsfs) (2.3.2)\n",
            "Requirement already satisfied: certifi>=2017.4.17 in /usr/local/lib/python3.9/dist-packages (from requests->gcsfs) (2022.12.7)\n",
            "Requirement already satisfied: chardet<5,>=3.0.2 in /usr/local/lib/python3.9/dist-packages (from requests->gcsfs) (4.0.0)\n",
            "Requirement already satisfied: urllib3<1.27,>=1.21.1 in /usr/local/lib/python3.9/dist-packages (from requests->gcsfs) (1.26.14)\n",
            "Requirement already satisfied: idna<3,>=2.5 in /usr/local/lib/python3.9/dist-packages (from requests->gcsfs) (2.10)\n",
            "Requirement already satisfied: protobuf!=3.20.0,!=3.20.1,!=4.21.0,!=4.21.1,!=4.21.2,!=4.21.3,!=4.21.4,!=4.21.5,<5.0.0dev,>=3.19.5 in /usr/local/lib/python3.9/dist-packages (from google-api-core!=2.0.*,!=2.1.*,!=2.2.*,!=2.3.0,<3.0.0dev,>=1.31.5->google-cloud-storage->gcsfs) (3.19.6)\n",
            "Requirement already satisfied: googleapis-common-protos<2.0dev,>=1.56.2 in /usr/local/lib/python3.9/dist-packages (from google-api-core!=2.0.*,!=2.1.*,!=2.2.*,!=2.3.0,<3.0.0dev,>=1.31.5->google-cloud-storage->gcsfs) (1.58.0)\n",
            "Requirement already satisfied: google-crc32c<2.0dev,>=1.0 in /usr/local/lib/python3.9/dist-packages (from google-resumable-media>=2.3.2->google-cloud-storage->gcsfs) (1.5.0)\n",
            "Requirement already satisfied: pyasn1<0.5.0,>=0.4.6 in /usr/local/lib/python3.9/dist-packages (from pyasn1-modules>=0.2.1->google-auth>=1.2->gcsfs) (0.4.8)\n",
            "Requirement already satisfied: oauthlib>=3.0.0 in /usr/local/lib/python3.9/dist-packages (from requests-oauthlib>=0.7.0->google-auth-oauthlib->gcsfs) (3.2.2)\n"
          ]
        }
      ],
      "source": [
        "pip install gcsfs"
      ]
    },
    {
      "cell_type": "code",
      "source": [
        "pip install pandera"
      ],
      "metadata": {
        "id": "5BX73OT99jdF",
        "colab": {
          "base_uri": "https://localhost:8080/"
        },
        "outputId": "1c84a39b-e573-4f85-9ad2-dc5a16d042c7"
      },
      "execution_count": null,
      "outputs": [
        {
          "output_type": "stream",
          "name": "stdout",
          "text": [
            "Looking in indexes: https://pypi.org/simple, https://us-python.pkg.dev/colab-wheels/public/simple/\n",
            "Requirement already satisfied: pandera in /usr/local/lib/python3.9/dist-packages (0.13.4)\n",
            "Requirement already satisfied: wrapt in /usr/local/lib/python3.9/dist-packages (from pandera) (1.15.0)\n",
            "Requirement already satisfied: pydantic in /usr/local/lib/python3.9/dist-packages (from pandera) (1.10.5)\n",
            "Requirement already satisfied: packaging>=20.0 in /usr/local/lib/python3.9/dist-packages (from pandera) (23.0)\n",
            "Requirement already satisfied: typing-inspect>=0.6.0 in /usr/local/lib/python3.9/dist-packages (from pandera) (0.8.0)\n",
            "Requirement already satisfied: pandas>=1.2.0 in /usr/local/lib/python3.9/dist-packages (from pandera) (1.3.5)\n",
            "Requirement already satisfied: numpy>=1.19.0 in /usr/local/lib/python3.9/dist-packages (from pandera) (1.22.4)\n",
            "Requirement already satisfied: python-dateutil>=2.7.3 in /usr/local/lib/python3.9/dist-packages (from pandas>=1.2.0->pandera) (2.8.2)\n",
            "Requirement already satisfied: pytz>=2017.3 in /usr/local/lib/python3.9/dist-packages (from pandas>=1.2.0->pandera) (2022.7.1)\n",
            "Requirement already satisfied: mypy-extensions>=0.3.0 in /usr/local/lib/python3.9/dist-packages (from typing-inspect>=0.6.0->pandera) (1.0.0)\n",
            "Requirement already satisfied: typing-extensions>=3.7.4 in /usr/local/lib/python3.9/dist-packages (from typing-inspect>=0.6.0->pandera) (4.5.0)\n",
            "Requirement already satisfied: six>=1.5 in /usr/local/lib/python3.9/dist-packages (from python-dateutil>=2.7.3->pandas>=1.2.0->pandera) (1.15.0)\n"
          ]
        }
      ]
    },
    {
      "cell_type": "code",
      "execution_count": null,
      "metadata": {
        "id": "xNB8x-4p5O7y",
        "colab": {
          "base_uri": "https://localhost:8080/"
        },
        "outputId": "30c22d30-6a04-4999-b772-b0cf03c1e912"
      },
      "outputs": [
        {
          "output_type": "stream",
          "name": "stdout",
          "text": [
            "Looking in indexes: https://pypi.org/simple, https://us-python.pkg.dev/colab-wheels/public/simple/\n",
            "Requirement already satisfied: pymongo in /usr/local/lib/python3.9/dist-packages (4.3.3)\n",
            "Requirement already satisfied: dnspython<3.0.0,>=1.16.0 in /usr/local/lib/python3.9/dist-packages (from pymongo) (2.3.0)\n"
          ]
        }
      ],
      "source": [
        "pip install pymongo"
      ]
    },
    {
      "cell_type": "code",
      "source": [
        "import pymongo\n",
        "from pymongo import MongoClient\n",
        "import pandas as pd\n",
        "import numpy as np\n",
        "import pandera as pa\n",
        "import os\n",
        "from google.cloud import storage"
      ],
      "metadata": {
        "id": "MDpbNldf6nlB"
      },
      "execution_count": null,
      "outputs": []
    },
    {
      "cell_type": "markdown",
      "source": [
        "**Conector MongoAtlas**"
      ],
      "metadata": {
        "id": "at3gqqKt6t05"
      }
    },
    {
      "cell_type": "code",
      "source": [
        "uri = \"mongodb+srv://projetopandas.llpd4c8.mongodb.net/?authSource=%24external&authMechanism=MONGODB-X509&retryWrites=true&w=majority\"\n",
        "client = MongoClient(uri,tls=True,tlsCertificateKeyFile='/content/X509-cert-6765079240341740868.pem')\n"
      ],
      "metadata": {
        "id": "CBX8dGJB6rq2"
      },
      "execution_count": null,
      "outputs": []
    },
    {
      "cell_type": "markdown",
      "source": [
        "##Vinculando o GoogleCloud"
      ],
      "metadata": {
        "id": "Dy9sySkm7Xf3"
      }
    },
    {
      "cell_type": "markdown",
      "source": [
        "Conector Google"
      ],
      "metadata": {
        "id": "NTO1kycWiTzT"
      }
    },
    {
      "cell_type": "code",
      "source": [
        "serviceAccount = '/content/projeto-pandas-b72bf82ac36a.json'\n",
        "os.environ['GOOGLE_APPLICATION_CREDENTIALS'] = serviceAccount"
      ],
      "metadata": {
        "id": "s7VVEgSSiiA4"
      },
      "execution_count": null,
      "outputs": []
    },
    {
      "cell_type": "markdown",
      "source": [
        "## Carregando Arquivos no MongoDB"
      ],
      "metadata": {
        "id": "Lg2LfDbCjHrW"
      }
    },
    {
      "cell_type": "code",
      "source": [
        "df = pd.read_csv(path)"
      ],
      "metadata": {
        "id": "3XcLpTVdB1K-"
      },
      "execution_count": null,
      "outputs": []
    },
    {
      "cell_type": "code",
      "source": [
        "db = client['bruto']\n",
        "colecaomarketing = db['marketing_campaign']"
      ],
      "metadata": {
        "id": "kXJoXnAjCxA7"
      },
      "execution_count": null,
      "outputs": []
    },
    {
      "cell_type": "code",
      "source": [
        "df_dict = df.to_dict('records')\n",
        "\n",
        "colecaomarketing.insert_many(df_dict)"
      ],
      "metadata": {
        "id": "E6_N1gVUB964"
      },
      "execution_count": null,
      "outputs": []
    },
    {
      "cell_type": "markdown",
      "source": [
        "##Setando o path do arquivo CSV do Colab e Criando DF"
      ],
      "metadata": {
        "id": "NEZnaADB7ok4"
      }
    },
    {
      "cell_type": "code",
      "source": [
        "path = 'gs://brutos/marketing_campaign.csv' "
      ],
      "metadata": {
        "id": "lYVNvlt48CIB"
      },
      "execution_count": null,
      "outputs": []
    },
    {
      "cell_type": "code",
      "source": [
        "df = pd.read_csv(path,sep=',',encoding='ISO-8859-1', parse_dates=['Dt_Customer'])"
      ],
      "metadata": {
        "id": "lfTShs8b7shg"
      },
      "execution_count": null,
      "outputs": []
    },
    {
      "cell_type": "markdown",
      "source": [
        "#Tratando o df"
      ],
      "metadata": {
        "id": "cQlptR4ygUtF"
      }
    },
    {
      "cell_type": "code",
      "source": [
        "pd.set_option('display.max_columns', 30)"
      ],
      "metadata": {
        "id": "3dWRXCBnnsIE"
      },
      "execution_count": null,
      "outputs": []
    },
    {
      "cell_type": "code",
      "source": [
        "df"
      ],
      "metadata": {
        "id": "mWFoWzFRg1V4",
        "colab": {
          "base_uri": "https://localhost:8080/",
          "height": 488
        },
        "outputId": "ce4ae0c0-4002-4de9-ecb0-1c134dc95c69"
      },
      "execution_count": null,
      "outputs": [
        {
          "output_type": "execute_result",
          "data": {
            "text/plain": [
              "         ID  Year_Birth   Education Marital_Status   Income  Kidhome  \\\n",
              "0      5524        1957  Graduation         Single  58138.0        0   \n",
              "1      2174        1954  Graduation         Single  46344.0        1   \n",
              "2      4141        1965  Graduation       Together  71613.0        0   \n",
              "3      6182        1984  Graduation       Together  26646.0        1   \n",
              "4      5324        1981         PhD        Married  58293.0        1   \n",
              "...     ...         ...         ...            ...      ...      ...   \n",
              "2235  10870        1967  Graduation        Married  61223.0        0   \n",
              "2236   4001        1946         PhD       Together  64014.0        2   \n",
              "2237   7270        1981  Graduation       Divorced  56981.0        0   \n",
              "2238   8235        1956      Master       Together  69245.0        0   \n",
              "2239   9405        1954         PhD        Married  52869.0        1   \n",
              "\n",
              "      Teenhome Dt_Customer  Recency  MntWines  ...  NumWebVisitsMonth  \\\n",
              "0            0  2012-04-09       58       635  ...                  7   \n",
              "1            1  2014-08-03       38        11  ...                  5   \n",
              "2            0  2013-08-21       26       426  ...                  4   \n",
              "3            0  2014-10-02       26        11  ...                  6   \n",
              "4            0  2014-01-19       94       173  ...                  5   \n",
              "...        ...         ...      ...       ...  ...                ...   \n",
              "2235         1  2013-06-13       46       709  ...                  5   \n",
              "2236         1  2014-10-06       56       406  ...                  7   \n",
              "2237         0  2014-01-25       91       908  ...                  6   \n",
              "2238         1  2014-01-24        8       428  ...                  3   \n",
              "2239         1  2012-10-15       40        84  ...                  7   \n",
              "\n",
              "      AcceptedCmp3  AcceptedCmp4  AcceptedCmp5  AcceptedCmp1  AcceptedCmp2  \\\n",
              "0                0             0             0             0             0   \n",
              "1                0             0             0             0             0   \n",
              "2                0             0             0             0             0   \n",
              "3                0             0             0             0             0   \n",
              "4                0             0             0             0             0   \n",
              "...            ...           ...           ...           ...           ...   \n",
              "2235             0             0             0             0             0   \n",
              "2236             0             0             0             1             0   \n",
              "2237             0             1             0             0             0   \n",
              "2238             0             0             0             0             0   \n",
              "2239             0             0             0             0             0   \n",
              "\n",
              "      Complain  Z_CostContact  Z_Revenue  Response  \n",
              "0            0              3         11         1  \n",
              "1            0              3         11         0  \n",
              "2            0              3         11         0  \n",
              "3            0              3         11         0  \n",
              "4            0              3         11         0  \n",
              "...        ...            ...        ...       ...  \n",
              "2235         0              3         11         0  \n",
              "2236         0              3         11         0  \n",
              "2237         0              3         11         0  \n",
              "2238         0              3         11         0  \n",
              "2239         0              3         11         1  \n",
              "\n",
              "[2240 rows x 29 columns]"
            ],
            "text/html": [
              "\n",
              "  <div id=\"df-85802fc5-abe0-4c7c-a21b-4a08c2a88c31\">\n",
              "    <div class=\"colab-df-container\">\n",
              "      <div>\n",
              "<style scoped>\n",
              "    .dataframe tbody tr th:only-of-type {\n",
              "        vertical-align: middle;\n",
              "    }\n",
              "\n",
              "    .dataframe tbody tr th {\n",
              "        vertical-align: top;\n",
              "    }\n",
              "\n",
              "    .dataframe thead th {\n",
              "        text-align: right;\n",
              "    }\n",
              "</style>\n",
              "<table border=\"1\" class=\"dataframe\">\n",
              "  <thead>\n",
              "    <tr style=\"text-align: right;\">\n",
              "      <th></th>\n",
              "      <th>ID</th>\n",
              "      <th>Year_Birth</th>\n",
              "      <th>Education</th>\n",
              "      <th>Marital_Status</th>\n",
              "      <th>Income</th>\n",
              "      <th>Kidhome</th>\n",
              "      <th>Teenhome</th>\n",
              "      <th>Dt_Customer</th>\n",
              "      <th>Recency</th>\n",
              "      <th>MntWines</th>\n",
              "      <th>...</th>\n",
              "      <th>NumWebVisitsMonth</th>\n",
              "      <th>AcceptedCmp3</th>\n",
              "      <th>AcceptedCmp4</th>\n",
              "      <th>AcceptedCmp5</th>\n",
              "      <th>AcceptedCmp1</th>\n",
              "      <th>AcceptedCmp2</th>\n",
              "      <th>Complain</th>\n",
              "      <th>Z_CostContact</th>\n",
              "      <th>Z_Revenue</th>\n",
              "      <th>Response</th>\n",
              "    </tr>\n",
              "  </thead>\n",
              "  <tbody>\n",
              "    <tr>\n",
              "      <th>0</th>\n",
              "      <td>5524</td>\n",
              "      <td>1957</td>\n",
              "      <td>Graduation</td>\n",
              "      <td>Single</td>\n",
              "      <td>58138.0</td>\n",
              "      <td>0</td>\n",
              "      <td>0</td>\n",
              "      <td>2012-04-09</td>\n",
              "      <td>58</td>\n",
              "      <td>635</td>\n",
              "      <td>...</td>\n",
              "      <td>7</td>\n",
              "      <td>0</td>\n",
              "      <td>0</td>\n",
              "      <td>0</td>\n",
              "      <td>0</td>\n",
              "      <td>0</td>\n",
              "      <td>0</td>\n",
              "      <td>3</td>\n",
              "      <td>11</td>\n",
              "      <td>1</td>\n",
              "    </tr>\n",
              "    <tr>\n",
              "      <th>1</th>\n",
              "      <td>2174</td>\n",
              "      <td>1954</td>\n",
              "      <td>Graduation</td>\n",
              "      <td>Single</td>\n",
              "      <td>46344.0</td>\n",
              "      <td>1</td>\n",
              "      <td>1</td>\n",
              "      <td>2014-08-03</td>\n",
              "      <td>38</td>\n",
              "      <td>11</td>\n",
              "      <td>...</td>\n",
              "      <td>5</td>\n",
              "      <td>0</td>\n",
              "      <td>0</td>\n",
              "      <td>0</td>\n",
              "      <td>0</td>\n",
              "      <td>0</td>\n",
              "      <td>0</td>\n",
              "      <td>3</td>\n",
              "      <td>11</td>\n",
              "      <td>0</td>\n",
              "    </tr>\n",
              "    <tr>\n",
              "      <th>2</th>\n",
              "      <td>4141</td>\n",
              "      <td>1965</td>\n",
              "      <td>Graduation</td>\n",
              "      <td>Together</td>\n",
              "      <td>71613.0</td>\n",
              "      <td>0</td>\n",
              "      <td>0</td>\n",
              "      <td>2013-08-21</td>\n",
              "      <td>26</td>\n",
              "      <td>426</td>\n",
              "      <td>...</td>\n",
              "      <td>4</td>\n",
              "      <td>0</td>\n",
              "      <td>0</td>\n",
              "      <td>0</td>\n",
              "      <td>0</td>\n",
              "      <td>0</td>\n",
              "      <td>0</td>\n",
              "      <td>3</td>\n",
              "      <td>11</td>\n",
              "      <td>0</td>\n",
              "    </tr>\n",
              "    <tr>\n",
              "      <th>3</th>\n",
              "      <td>6182</td>\n",
              "      <td>1984</td>\n",
              "      <td>Graduation</td>\n",
              "      <td>Together</td>\n",
              "      <td>26646.0</td>\n",
              "      <td>1</td>\n",
              "      <td>0</td>\n",
              "      <td>2014-10-02</td>\n",
              "      <td>26</td>\n",
              "      <td>11</td>\n",
              "      <td>...</td>\n",
              "      <td>6</td>\n",
              "      <td>0</td>\n",
              "      <td>0</td>\n",
              "      <td>0</td>\n",
              "      <td>0</td>\n",
              "      <td>0</td>\n",
              "      <td>0</td>\n",
              "      <td>3</td>\n",
              "      <td>11</td>\n",
              "      <td>0</td>\n",
              "    </tr>\n",
              "    <tr>\n",
              "      <th>4</th>\n",
              "      <td>5324</td>\n",
              "      <td>1981</td>\n",
              "      <td>PhD</td>\n",
              "      <td>Married</td>\n",
              "      <td>58293.0</td>\n",
              "      <td>1</td>\n",
              "      <td>0</td>\n",
              "      <td>2014-01-19</td>\n",
              "      <td>94</td>\n",
              "      <td>173</td>\n",
              "      <td>...</td>\n",
              "      <td>5</td>\n",
              "      <td>0</td>\n",
              "      <td>0</td>\n",
              "      <td>0</td>\n",
              "      <td>0</td>\n",
              "      <td>0</td>\n",
              "      <td>0</td>\n",
              "      <td>3</td>\n",
              "      <td>11</td>\n",
              "      <td>0</td>\n",
              "    </tr>\n",
              "    <tr>\n",
              "      <th>...</th>\n",
              "      <td>...</td>\n",
              "      <td>...</td>\n",
              "      <td>...</td>\n",
              "      <td>...</td>\n",
              "      <td>...</td>\n",
              "      <td>...</td>\n",
              "      <td>...</td>\n",
              "      <td>...</td>\n",
              "      <td>...</td>\n",
              "      <td>...</td>\n",
              "      <td>...</td>\n",
              "      <td>...</td>\n",
              "      <td>...</td>\n",
              "      <td>...</td>\n",
              "      <td>...</td>\n",
              "      <td>...</td>\n",
              "      <td>...</td>\n",
              "      <td>...</td>\n",
              "      <td>...</td>\n",
              "      <td>...</td>\n",
              "      <td>...</td>\n",
              "    </tr>\n",
              "    <tr>\n",
              "      <th>2235</th>\n",
              "      <td>10870</td>\n",
              "      <td>1967</td>\n",
              "      <td>Graduation</td>\n",
              "      <td>Married</td>\n",
              "      <td>61223.0</td>\n",
              "      <td>0</td>\n",
              "      <td>1</td>\n",
              "      <td>2013-06-13</td>\n",
              "      <td>46</td>\n",
              "      <td>709</td>\n",
              "      <td>...</td>\n",
              "      <td>5</td>\n",
              "      <td>0</td>\n",
              "      <td>0</td>\n",
              "      <td>0</td>\n",
              "      <td>0</td>\n",
              "      <td>0</td>\n",
              "      <td>0</td>\n",
              "      <td>3</td>\n",
              "      <td>11</td>\n",
              "      <td>0</td>\n",
              "    </tr>\n",
              "    <tr>\n",
              "      <th>2236</th>\n",
              "      <td>4001</td>\n",
              "      <td>1946</td>\n",
              "      <td>PhD</td>\n",
              "      <td>Together</td>\n",
              "      <td>64014.0</td>\n",
              "      <td>2</td>\n",
              "      <td>1</td>\n",
              "      <td>2014-10-06</td>\n",
              "      <td>56</td>\n",
              "      <td>406</td>\n",
              "      <td>...</td>\n",
              "      <td>7</td>\n",
              "      <td>0</td>\n",
              "      <td>0</td>\n",
              "      <td>0</td>\n",
              "      <td>1</td>\n",
              "      <td>0</td>\n",
              "      <td>0</td>\n",
              "      <td>3</td>\n",
              "      <td>11</td>\n",
              "      <td>0</td>\n",
              "    </tr>\n",
              "    <tr>\n",
              "      <th>2237</th>\n",
              "      <td>7270</td>\n",
              "      <td>1981</td>\n",
              "      <td>Graduation</td>\n",
              "      <td>Divorced</td>\n",
              "      <td>56981.0</td>\n",
              "      <td>0</td>\n",
              "      <td>0</td>\n",
              "      <td>2014-01-25</td>\n",
              "      <td>91</td>\n",
              "      <td>908</td>\n",
              "      <td>...</td>\n",
              "      <td>6</td>\n",
              "      <td>0</td>\n",
              "      <td>1</td>\n",
              "      <td>0</td>\n",
              "      <td>0</td>\n",
              "      <td>0</td>\n",
              "      <td>0</td>\n",
              "      <td>3</td>\n",
              "      <td>11</td>\n",
              "      <td>0</td>\n",
              "    </tr>\n",
              "    <tr>\n",
              "      <th>2238</th>\n",
              "      <td>8235</td>\n",
              "      <td>1956</td>\n",
              "      <td>Master</td>\n",
              "      <td>Together</td>\n",
              "      <td>69245.0</td>\n",
              "      <td>0</td>\n",
              "      <td>1</td>\n",
              "      <td>2014-01-24</td>\n",
              "      <td>8</td>\n",
              "      <td>428</td>\n",
              "      <td>...</td>\n",
              "      <td>3</td>\n",
              "      <td>0</td>\n",
              "      <td>0</td>\n",
              "      <td>0</td>\n",
              "      <td>0</td>\n",
              "      <td>0</td>\n",
              "      <td>0</td>\n",
              "      <td>3</td>\n",
              "      <td>11</td>\n",
              "      <td>0</td>\n",
              "    </tr>\n",
              "    <tr>\n",
              "      <th>2239</th>\n",
              "      <td>9405</td>\n",
              "      <td>1954</td>\n",
              "      <td>PhD</td>\n",
              "      <td>Married</td>\n",
              "      <td>52869.0</td>\n",
              "      <td>1</td>\n",
              "      <td>1</td>\n",
              "      <td>2012-10-15</td>\n",
              "      <td>40</td>\n",
              "      <td>84</td>\n",
              "      <td>...</td>\n",
              "      <td>7</td>\n",
              "      <td>0</td>\n",
              "      <td>0</td>\n",
              "      <td>0</td>\n",
              "      <td>0</td>\n",
              "      <td>0</td>\n",
              "      <td>0</td>\n",
              "      <td>3</td>\n",
              "      <td>11</td>\n",
              "      <td>1</td>\n",
              "    </tr>\n",
              "  </tbody>\n",
              "</table>\n",
              "<p>2240 rows × 29 columns</p>\n",
              "</div>\n",
              "      <button class=\"colab-df-convert\" onclick=\"convertToInteractive('df-85802fc5-abe0-4c7c-a21b-4a08c2a88c31')\"\n",
              "              title=\"Convert this dataframe to an interactive table.\"\n",
              "              style=\"display:none;\">\n",
              "        \n",
              "  <svg xmlns=\"http://www.w3.org/2000/svg\" height=\"24px\"viewBox=\"0 0 24 24\"\n",
              "       width=\"24px\">\n",
              "    <path d=\"M0 0h24v24H0V0z\" fill=\"none\"/>\n",
              "    <path d=\"M18.56 5.44l.94 2.06.94-2.06 2.06-.94-2.06-.94-.94-2.06-.94 2.06-2.06.94zm-11 1L8.5 8.5l.94-2.06 2.06-.94-2.06-.94L8.5 2.5l-.94 2.06-2.06.94zm10 10l.94 2.06.94-2.06 2.06-.94-2.06-.94-.94-2.06-.94 2.06-2.06.94z\"/><path d=\"M17.41 7.96l-1.37-1.37c-.4-.4-.92-.59-1.43-.59-.52 0-1.04.2-1.43.59L10.3 9.45l-7.72 7.72c-.78.78-.78 2.05 0 2.83L4 21.41c.39.39.9.59 1.41.59.51 0 1.02-.2 1.41-.59l7.78-7.78 2.81-2.81c.8-.78.8-2.07 0-2.86zM5.41 20L4 18.59l7.72-7.72 1.47 1.35L5.41 20z\"/>\n",
              "  </svg>\n",
              "      </button>\n",
              "      \n",
              "  <style>\n",
              "    .colab-df-container {\n",
              "      display:flex;\n",
              "      flex-wrap:wrap;\n",
              "      gap: 12px;\n",
              "    }\n",
              "\n",
              "    .colab-df-convert {\n",
              "      background-color: #E8F0FE;\n",
              "      border: none;\n",
              "      border-radius: 50%;\n",
              "      cursor: pointer;\n",
              "      display: none;\n",
              "      fill: #1967D2;\n",
              "      height: 32px;\n",
              "      padding: 0 0 0 0;\n",
              "      width: 32px;\n",
              "    }\n",
              "\n",
              "    .colab-df-convert:hover {\n",
              "      background-color: #E2EBFA;\n",
              "      box-shadow: 0px 1px 2px rgba(60, 64, 67, 0.3), 0px 1px 3px 1px rgba(60, 64, 67, 0.15);\n",
              "      fill: #174EA6;\n",
              "    }\n",
              "\n",
              "    [theme=dark] .colab-df-convert {\n",
              "      background-color: #3B4455;\n",
              "      fill: #D2E3FC;\n",
              "    }\n",
              "\n",
              "    [theme=dark] .colab-df-convert:hover {\n",
              "      background-color: #434B5C;\n",
              "      box-shadow: 0px 1px 3px 1px rgba(0, 0, 0, 0.15);\n",
              "      filter: drop-shadow(0px 1px 2px rgba(0, 0, 0, 0.3));\n",
              "      fill: #FFFFFF;\n",
              "    }\n",
              "  </style>\n",
              "\n",
              "      <script>\n",
              "        const buttonEl =\n",
              "          document.querySelector('#df-85802fc5-abe0-4c7c-a21b-4a08c2a88c31 button.colab-df-convert');\n",
              "        buttonEl.style.display =\n",
              "          google.colab.kernel.accessAllowed ? 'block' : 'none';\n",
              "\n",
              "        async function convertToInteractive(key) {\n",
              "          const element = document.querySelector('#df-85802fc5-abe0-4c7c-a21b-4a08c2a88c31');\n",
              "          const dataTable =\n",
              "            await google.colab.kernel.invokeFunction('convertToInteractive',\n",
              "                                                     [key], {});\n",
              "          if (!dataTable) return;\n",
              "\n",
              "          const docLinkHtml = 'Like what you see? Visit the ' +\n",
              "            '<a target=\"_blank\" href=https://colab.research.google.com/notebooks/data_table.ipynb>data table notebook</a>'\n",
              "            + ' to learn more about interactive tables.';\n",
              "          element.innerHTML = '';\n",
              "          dataTable['output_type'] = 'display_data';\n",
              "          await google.colab.output.renderOutput(dataTable, element);\n",
              "          const docLink = document.createElement('div');\n",
              "          docLink.innerHTML = docLinkHtml;\n",
              "          element.appendChild(docLink);\n",
              "        }\n",
              "      </script>\n",
              "    </div>\n",
              "  </div>\n",
              "  "
            ]
          },
          "metadata": {},
          "execution_count": 9
        }
      ]
    },
    {
      "cell_type": "markdown",
      "source": [
        "##Tradução"
      ],
      "metadata": {
        "id": "J3C5sAqsg1V6"
      }
    },
    {
      "cell_type": "code",
      "source": [
        "df.head()"
      ],
      "metadata": {
        "id": "moq4Kb4i87Xz",
        "colab": {
          "base_uri": "https://localhost:8080/"
        },
        "outputId": "92bce4f5-6fcf-4a42-a102-5511badf4c18"
      },
      "execution_count": null,
      "outputs": [
        {
          "output_type": "execute_result",
          "data": {
            "text/plain": [
              "     ID  Year_Birth   Education Marital_Status   Income  Kidhome  Teenhome  \\\n",
              "0  5524        1957  Graduation         Single  58138.0        0         0   \n",
              "1  2174        1954  Graduation         Single  46344.0        1         1   \n",
              "2  4141        1965  Graduation       Together  71613.0        0         0   \n",
              "3  6182        1984  Graduation       Together  26646.0        1         0   \n",
              "4  5324        1981         PhD        Married  58293.0        1         0   \n",
              "\n",
              "  Dt_Customer  Recency  MntWines  ...  NumWebVisitsMonth  AcceptedCmp3  \\\n",
              "0  2012-04-09       58       635  ...                  7             0   \n",
              "1  2014-08-03       38        11  ...                  5             0   \n",
              "2  2013-08-21       26       426  ...                  4             0   \n",
              "3  2014-10-02       26        11  ...                  6             0   \n",
              "4  2014-01-19       94       173  ...                  5             0   \n",
              "\n",
              "   AcceptedCmp4  AcceptedCmp5  AcceptedCmp1  AcceptedCmp2  Complain  \\\n",
              "0             0             0             0             0         0   \n",
              "1             0             0             0             0         0   \n",
              "2             0             0             0             0         0   \n",
              "3             0             0             0             0         0   \n",
              "4             0             0             0             0         0   \n",
              "\n",
              "   Z_CostContact  Z_Revenue  Response  \n",
              "0              3         11         1  \n",
              "1              3         11         0  \n",
              "2              3         11         0  \n",
              "3              3         11         0  \n",
              "4              3         11         0  \n",
              "\n",
              "[5 rows x 29 columns]"
            ],
            "text/html": [
              "\n",
              "  <div id=\"df-fb0f7e80-bfb5-46f0-8ed7-3d66e78f1100\">\n",
              "    <div class=\"colab-df-container\">\n",
              "      <div>\n",
              "<style scoped>\n",
              "    .dataframe tbody tr th:only-of-type {\n",
              "        vertical-align: middle;\n",
              "    }\n",
              "\n",
              "    .dataframe tbody tr th {\n",
              "        vertical-align: top;\n",
              "    }\n",
              "\n",
              "    .dataframe thead th {\n",
              "        text-align: right;\n",
              "    }\n",
              "</style>\n",
              "<table border=\"1\" class=\"dataframe\">\n",
              "  <thead>\n",
              "    <tr style=\"text-align: right;\">\n",
              "      <th></th>\n",
              "      <th>ID</th>\n",
              "      <th>Year_Birth</th>\n",
              "      <th>Education</th>\n",
              "      <th>Marital_Status</th>\n",
              "      <th>Income</th>\n",
              "      <th>Kidhome</th>\n",
              "      <th>Teenhome</th>\n",
              "      <th>Dt_Customer</th>\n",
              "      <th>Recency</th>\n",
              "      <th>MntWines</th>\n",
              "      <th>...</th>\n",
              "      <th>NumWebVisitsMonth</th>\n",
              "      <th>AcceptedCmp3</th>\n",
              "      <th>AcceptedCmp4</th>\n",
              "      <th>AcceptedCmp5</th>\n",
              "      <th>AcceptedCmp1</th>\n",
              "      <th>AcceptedCmp2</th>\n",
              "      <th>Complain</th>\n",
              "      <th>Z_CostContact</th>\n",
              "      <th>Z_Revenue</th>\n",
              "      <th>Response</th>\n",
              "    </tr>\n",
              "  </thead>\n",
              "  <tbody>\n",
              "    <tr>\n",
              "      <th>0</th>\n",
              "      <td>5524</td>\n",
              "      <td>1957</td>\n",
              "      <td>Graduation</td>\n",
              "      <td>Single</td>\n",
              "      <td>58138.0</td>\n",
              "      <td>0</td>\n",
              "      <td>0</td>\n",
              "      <td>2012-04-09</td>\n",
              "      <td>58</td>\n",
              "      <td>635</td>\n",
              "      <td>...</td>\n",
              "      <td>7</td>\n",
              "      <td>0</td>\n",
              "      <td>0</td>\n",
              "      <td>0</td>\n",
              "      <td>0</td>\n",
              "      <td>0</td>\n",
              "      <td>0</td>\n",
              "      <td>3</td>\n",
              "      <td>11</td>\n",
              "      <td>1</td>\n",
              "    </tr>\n",
              "    <tr>\n",
              "      <th>1</th>\n",
              "      <td>2174</td>\n",
              "      <td>1954</td>\n",
              "      <td>Graduation</td>\n",
              "      <td>Single</td>\n",
              "      <td>46344.0</td>\n",
              "      <td>1</td>\n",
              "      <td>1</td>\n",
              "      <td>2014-08-03</td>\n",
              "      <td>38</td>\n",
              "      <td>11</td>\n",
              "      <td>...</td>\n",
              "      <td>5</td>\n",
              "      <td>0</td>\n",
              "      <td>0</td>\n",
              "      <td>0</td>\n",
              "      <td>0</td>\n",
              "      <td>0</td>\n",
              "      <td>0</td>\n",
              "      <td>3</td>\n",
              "      <td>11</td>\n",
              "      <td>0</td>\n",
              "    </tr>\n",
              "    <tr>\n",
              "      <th>2</th>\n",
              "      <td>4141</td>\n",
              "      <td>1965</td>\n",
              "      <td>Graduation</td>\n",
              "      <td>Together</td>\n",
              "      <td>71613.0</td>\n",
              "      <td>0</td>\n",
              "      <td>0</td>\n",
              "      <td>2013-08-21</td>\n",
              "      <td>26</td>\n",
              "      <td>426</td>\n",
              "      <td>...</td>\n",
              "      <td>4</td>\n",
              "      <td>0</td>\n",
              "      <td>0</td>\n",
              "      <td>0</td>\n",
              "      <td>0</td>\n",
              "      <td>0</td>\n",
              "      <td>0</td>\n",
              "      <td>3</td>\n",
              "      <td>11</td>\n",
              "      <td>0</td>\n",
              "    </tr>\n",
              "    <tr>\n",
              "      <th>3</th>\n",
              "      <td>6182</td>\n",
              "      <td>1984</td>\n",
              "      <td>Graduation</td>\n",
              "      <td>Together</td>\n",
              "      <td>26646.0</td>\n",
              "      <td>1</td>\n",
              "      <td>0</td>\n",
              "      <td>2014-10-02</td>\n",
              "      <td>26</td>\n",
              "      <td>11</td>\n",
              "      <td>...</td>\n",
              "      <td>6</td>\n",
              "      <td>0</td>\n",
              "      <td>0</td>\n",
              "      <td>0</td>\n",
              "      <td>0</td>\n",
              "      <td>0</td>\n",
              "      <td>0</td>\n",
              "      <td>3</td>\n",
              "      <td>11</td>\n",
              "      <td>0</td>\n",
              "    </tr>\n",
              "    <tr>\n",
              "      <th>4</th>\n",
              "      <td>5324</td>\n",
              "      <td>1981</td>\n",
              "      <td>PhD</td>\n",
              "      <td>Married</td>\n",
              "      <td>58293.0</td>\n",
              "      <td>1</td>\n",
              "      <td>0</td>\n",
              "      <td>2014-01-19</td>\n",
              "      <td>94</td>\n",
              "      <td>173</td>\n",
              "      <td>...</td>\n",
              "      <td>5</td>\n",
              "      <td>0</td>\n",
              "      <td>0</td>\n",
              "      <td>0</td>\n",
              "      <td>0</td>\n",
              "      <td>0</td>\n",
              "      <td>0</td>\n",
              "      <td>3</td>\n",
              "      <td>11</td>\n",
              "      <td>0</td>\n",
              "    </tr>\n",
              "  </tbody>\n",
              "</table>\n",
              "<p>5 rows × 29 columns</p>\n",
              "</div>\n",
              "      <button class=\"colab-df-convert\" onclick=\"convertToInteractive('df-fb0f7e80-bfb5-46f0-8ed7-3d66e78f1100')\"\n",
              "              title=\"Convert this dataframe to an interactive table.\"\n",
              "              style=\"display:none;\">\n",
              "        \n",
              "  <svg xmlns=\"http://www.w3.org/2000/svg\" height=\"24px\"viewBox=\"0 0 24 24\"\n",
              "       width=\"24px\">\n",
              "    <path d=\"M0 0h24v24H0V0z\" fill=\"none\"/>\n",
              "    <path d=\"M18.56 5.44l.94 2.06.94-2.06 2.06-.94-2.06-.94-.94-2.06-.94 2.06-2.06.94zm-11 1L8.5 8.5l.94-2.06 2.06-.94-2.06-.94L8.5 2.5l-.94 2.06-2.06.94zm10 10l.94 2.06.94-2.06 2.06-.94-2.06-.94-.94-2.06-.94 2.06-2.06.94z\"/><path d=\"M17.41 7.96l-1.37-1.37c-.4-.4-.92-.59-1.43-.59-.52 0-1.04.2-1.43.59L10.3 9.45l-7.72 7.72c-.78.78-.78 2.05 0 2.83L4 21.41c.39.39.9.59 1.41.59.51 0 1.02-.2 1.41-.59l7.78-7.78 2.81-2.81c.8-.78.8-2.07 0-2.86zM5.41 20L4 18.59l7.72-7.72 1.47 1.35L5.41 20z\"/>\n",
              "  </svg>\n",
              "      </button>\n",
              "      \n",
              "  <style>\n",
              "    .colab-df-container {\n",
              "      display:flex;\n",
              "      flex-wrap:wrap;\n",
              "      gap: 12px;\n",
              "    }\n",
              "\n",
              "    .colab-df-convert {\n",
              "      background-color: #E8F0FE;\n",
              "      border: none;\n",
              "      border-radius: 50%;\n",
              "      cursor: pointer;\n",
              "      display: none;\n",
              "      fill: #1967D2;\n",
              "      height: 32px;\n",
              "      padding: 0 0 0 0;\n",
              "      width: 32px;\n",
              "    }\n",
              "\n",
              "    .colab-df-convert:hover {\n",
              "      background-color: #E2EBFA;\n",
              "      box-shadow: 0px 1px 2px rgba(60, 64, 67, 0.3), 0px 1px 3px 1px rgba(60, 64, 67, 0.15);\n",
              "      fill: #174EA6;\n",
              "    }\n",
              "\n",
              "    [theme=dark] .colab-df-convert {\n",
              "      background-color: #3B4455;\n",
              "      fill: #D2E3FC;\n",
              "    }\n",
              "\n",
              "    [theme=dark] .colab-df-convert:hover {\n",
              "      background-color: #434B5C;\n",
              "      box-shadow: 0px 1px 3px 1px rgba(0, 0, 0, 0.15);\n",
              "      filter: drop-shadow(0px 1px 2px rgba(0, 0, 0, 0.3));\n",
              "      fill: #FFFFFF;\n",
              "    }\n",
              "  </style>\n",
              "\n",
              "      <script>\n",
              "        const buttonEl =\n",
              "          document.querySelector('#df-fb0f7e80-bfb5-46f0-8ed7-3d66e78f1100 button.colab-df-convert');\n",
              "        buttonEl.style.display =\n",
              "          google.colab.kernel.accessAllowed ? 'block' : 'none';\n",
              "\n",
              "        async function convertToInteractive(key) {\n",
              "          const element = document.querySelector('#df-fb0f7e80-bfb5-46f0-8ed7-3d66e78f1100');\n",
              "          const dataTable =\n",
              "            await google.colab.kernel.invokeFunction('convertToInteractive',\n",
              "                                                     [key], {});\n",
              "          if (!dataTable) return;\n",
              "\n",
              "          const docLinkHtml = 'Like what you see? Visit the ' +\n",
              "            '<a target=\"_blank\" href=https://colab.research.google.com/notebooks/data_table.ipynb>data table notebook</a>'\n",
              "            + ' to learn more about interactive tables.';\n",
              "          element.innerHTML = '';\n",
              "          dataTable['output_type'] = 'display_data';\n",
              "          await google.colab.output.renderOutput(dataTable, element);\n",
              "          const docLink = document.createElement('div');\n",
              "          docLink.innerHTML = docLinkHtml;\n",
              "          element.appendChild(docLink);\n",
              "        }\n",
              "      </script>\n",
              "    </div>\n",
              "  </div>\n",
              "  "
            ]
          },
          "metadata": {},
          "execution_count": 10
        }
      ]
    },
    {
      "cell_type": "code",
      "source": [
        "df.info()"
      ],
      "metadata": {
        "id": "eV0IUO0xBZ6n",
        "colab": {
          "base_uri": "https://localhost:8080/"
        },
        "outputId": "f291b20e-6482-4071-e71c-b429d930f12b"
      },
      "execution_count": null,
      "outputs": [
        {
          "output_type": "stream",
          "name": "stdout",
          "text": [
            "<class 'pandas.core.frame.DataFrame'>\n",
            "RangeIndex: 2240 entries, 0 to 2239\n",
            "Data columns (total 29 columns):\n",
            " #   Column               Non-Null Count  Dtype         \n",
            "---  ------               --------------  -----         \n",
            " 0   ID                   2240 non-null   int64         \n",
            " 1   Year_Birth           2240 non-null   int64         \n",
            " 2   Education            2240 non-null   object        \n",
            " 3   Marital_Status       2240 non-null   object        \n",
            " 4   Income               2216 non-null   float64       \n",
            " 5   Kidhome              2240 non-null   int64         \n",
            " 6   Teenhome             2240 non-null   int64         \n",
            " 7   Dt_Customer          2240 non-null   datetime64[ns]\n",
            " 8   Recency              2240 non-null   int64         \n",
            " 9   MntWines             2240 non-null   int64         \n",
            " 10  MntFruits            2240 non-null   int64         \n",
            " 11  MntMeatProducts      2240 non-null   int64         \n",
            " 12  MntFishProducts      2240 non-null   int64         \n",
            " 13  MntSweetProducts     2240 non-null   int64         \n",
            " 14  MntGoldProds         2240 non-null   int64         \n",
            " 15  NumDealsPurchases    2240 non-null   int64         \n",
            " 16  NumWebPurchases      2240 non-null   int64         \n",
            " 17  NumCatalogPurchases  2240 non-null   int64         \n",
            " 18  NumStorePurchases    2240 non-null   int64         \n",
            " 19  NumWebVisitsMonth    2240 non-null   int64         \n",
            " 20  AcceptedCmp3         2240 non-null   int64         \n",
            " 21  AcceptedCmp4         2240 non-null   int64         \n",
            " 22  AcceptedCmp5         2240 non-null   int64         \n",
            " 23  AcceptedCmp1         2240 non-null   int64         \n",
            " 24  AcceptedCmp2         2240 non-null   int64         \n",
            " 25  Complain             2240 non-null   int64         \n",
            " 26  Z_CostContact        2240 non-null   int64         \n",
            " 27  Z_Revenue            2240 non-null   int64         \n",
            " 28  Response             2240 non-null   int64         \n",
            "dtypes: datetime64[ns](1), float64(1), int64(25), object(2)\n",
            "memory usage: 507.6+ KB\n"
          ]
        }
      ]
    },
    {
      "cell_type": "code",
      "source": [
        "pd.unique(df['AcceptedCmp4'])\n"
      ],
      "metadata": {
        "id": "-_HoSfLUAb13",
        "colab": {
          "base_uri": "https://localhost:8080/"
        },
        "outputId": "6b5fa8d8-779f-4716-b616-ba125146ab4f"
      },
      "execution_count": null,
      "outputs": [
        {
          "output_type": "execute_result",
          "data": {
            "text/plain": [
              "array([0, 1])"
            ]
          },
          "metadata": {},
          "execution_count": 12
        }
      ]
    },
    {
      "cell_type": "code",
      "source": [
        "pd.unique(df['AcceptedCmp3'])"
      ],
      "metadata": {
        "id": "bCXQS0cy-oYi",
        "colab": {
          "base_uri": "https://localhost:8080/"
        },
        "outputId": "0b7007b8-33fc-4827-e20b-562b5e6c3fc4"
      },
      "execution_count": null,
      "outputs": [
        {
          "output_type": "execute_result",
          "data": {
            "text/plain": [
              "array([0, 1])"
            ]
          },
          "metadata": {},
          "execution_count": 13
        }
      ]
    },
    {
      "cell_type": "code",
      "source": [
        "pd.unique(df['Z_CostContact']) "
      ],
      "metadata": {
        "id": "atQ7BSEJAhOE",
        "colab": {
          "base_uri": "https://localhost:8080/"
        },
        "outputId": "b18cd019-5041-41a8-f0c7-85d5b4be92b1"
      },
      "execution_count": null,
      "outputs": [
        {
          "output_type": "execute_result",
          "data": {
            "text/plain": [
              "array([3])"
            ]
          },
          "metadata": {},
          "execution_count": 14
        }
      ]
    },
    {
      "cell_type": "code",
      "source": [
        "#Configurando a tabela ID como índice\n",
        "\n",
        "df.set_index('ID', inplace=True)"
      ],
      "metadata": {
        "id": "qeacZJoqB22H"
      },
      "execution_count": null,
      "outputs": []
    },
    {
      "cell_type": "code",
      "source": [
        "df.dtypes"
      ],
      "metadata": {
        "id": "OgbTpqtm-vw-",
        "colab": {
          "base_uri": "https://localhost:8080/"
        },
        "outputId": "12292d90-b603-4c80-d33b-820a59b046ca"
      },
      "execution_count": null,
      "outputs": [
        {
          "output_type": "execute_result",
          "data": {
            "text/plain": [
              "Year_Birth                      int64\n",
              "Education                      object\n",
              "Marital_Status                 object\n",
              "Income                        float64\n",
              "Kidhome                         int64\n",
              "Teenhome                        int64\n",
              "Dt_Customer            datetime64[ns]\n",
              "Recency                         int64\n",
              "MntWines                        int64\n",
              "MntFruits                       int64\n",
              "MntMeatProducts                 int64\n",
              "MntFishProducts                 int64\n",
              "MntSweetProducts                int64\n",
              "MntGoldProds                    int64\n",
              "NumDealsPurchases               int64\n",
              "NumWebPurchases                 int64\n",
              "NumCatalogPurchases             int64\n",
              "NumStorePurchases               int64\n",
              "NumWebVisitsMonth               int64\n",
              "AcceptedCmp3                    int64\n",
              "AcceptedCmp4                    int64\n",
              "AcceptedCmp5                    int64\n",
              "AcceptedCmp1                    int64\n",
              "AcceptedCmp2                    int64\n",
              "Complain                        int64\n",
              "Z_CostContact                   int64\n",
              "Z_Revenue                       int64\n",
              "Response                        int64\n",
              "dtype: object"
            ]
          },
          "metadata": {},
          "execution_count": 16
        }
      ]
    },
    {
      "cell_type": "code",
      "source": [
        "#Renomeando colunas - Traduzindo\n",
        "df.rename(columns={\n",
        "    'Year_Birth':'ano_nascimento',\n",
        "    'Education':'escolaridade',\n",
        "    'Marital_Status':'estado_civil',\n",
        "    'Income':'renda',\n",
        "    'Kidhome':'qtde_de_criancas',\n",
        "    'Teenhome':'qtde_de_adolescentes',\n",
        "    'Dt_Customer':'data_cadastro',\n",
        "    'MntWines':'gasto_com_vinho',\n",
        "    'MntFruits':'gasto_com_frutas',\n",
        "    'NumWebVisitsMonth':'visitas_website_mensal',\n",
        "    'MntMeatProducts':'gasto_com_carne',\n",
        "    'MntFishProducts':'gasto_com_peixe',\n",
        "    'MntSweetProducts':'gasto_com_doces',\n",
        "    'MntGoldProds':'gasto_com_goldp',\n",
        "    'NumDealsPurchases':'qtde_compras_desc',\n",
        "    'NumWebPurchases':'qtde_compras_internet',\n",
        "    'NumCatalogPurchases':'qtde_compras_catalogo',\n",
        "    'NumStorePurchases':'qtde_comprasna_loja',\n",
        "    'NumWebVisitsMonth':'qtde_visita_site_mensal',\n",
        "    'Complain':'reclamacoes',\n",
        "    'AcceptedCmp1':'Campanha1',\n",
        "    'AcceptedCmp2':'Campanha2',\n",
        "    'AcceptedCmp3':'Campanha3',\n",
        "    'AcceptedCmp4':'Campanha4',\n",
        "    'AcceptedCmp5':'Campanha5',\n",
        "    'Recency':'diasdaultimacompra'\n",
        "    },inplace=True)\n"
      ],
      "metadata": {
        "id": "iXQW0mH-g1WA"
      },
      "execution_count": null,
      "outputs": []
    },
    {
      "cell_type": "code",
      "source": [
        "pd.unique(df['estado_civil']) "
      ],
      "metadata": {
        "id": "8W9QxKasVNw6",
        "colab": {
          "base_uri": "https://localhost:8080/"
        },
        "outputId": "38dda761-d360-47bc-b0d4-4ccd2ac75b85"
      },
      "execution_count": null,
      "outputs": [
        {
          "output_type": "execute_result",
          "data": {
            "text/plain": [
              "array(['Single', 'Together', 'Married', 'Divorced', 'Widow', 'Alone',\n",
              "       'Absurd', 'YOLO'], dtype=object)"
            ]
          },
          "metadata": {},
          "execution_count": 18
        }
      ]
    },
    {
      "cell_type": "code",
      "source": [
        "##Tradução dos termos utilizados na coluna estado_civil\n",
        "\n",
        "correcoes = { \n",
        "    'Single':'Solteiro',\n",
        "    'Together':'União Estável',\n",
        "    'Married':'Casado',\n",
        "    'Divorced':'Divorciado',\n",
        "    'Widow':'Viuvo',\n",
        "    'Alone':'Sozinho'\n",
        "}\n",
        "  \n",
        "for key, value in correcoes.items():\n",
        "  df.loc[df.estado_civil==key,'estado_civil'] = value"
      ],
      "metadata": {
        "id": "Nae8dLpYWPQP"
      },
      "execution_count": null,
      "outputs": []
    },
    {
      "cell_type": "code",
      "source": [
        "sorted(pd.unique(df['ano_nascimento']))"
      ],
      "metadata": {
        "id": "cn_jwAs_VbWG",
        "colab": {
          "base_uri": "https://localhost:8080/"
        },
        "outputId": "44ee1a45-873b-4499-a0fe-373b4f45bf38"
      },
      "execution_count": null,
      "outputs": [
        {
          "output_type": "execute_result",
          "data": {
            "text/plain": [
              "[1893,\n",
              " 1899,\n",
              " 1900,\n",
              " 1940,\n",
              " 1941,\n",
              " 1943,\n",
              " 1944,\n",
              " 1945,\n",
              " 1946,\n",
              " 1947,\n",
              " 1948,\n",
              " 1949,\n",
              " 1950,\n",
              " 1951,\n",
              " 1952,\n",
              " 1953,\n",
              " 1954,\n",
              " 1955,\n",
              " 1956,\n",
              " 1957,\n",
              " 1958,\n",
              " 1959,\n",
              " 1960,\n",
              " 1961,\n",
              " 1962,\n",
              " 1963,\n",
              " 1964,\n",
              " 1965,\n",
              " 1966,\n",
              " 1967,\n",
              " 1968,\n",
              " 1969,\n",
              " 1970,\n",
              " 1971,\n",
              " 1972,\n",
              " 1973,\n",
              " 1974,\n",
              " 1975,\n",
              " 1976,\n",
              " 1977,\n",
              " 1978,\n",
              " 1979,\n",
              " 1980,\n",
              " 1981,\n",
              " 1982,\n",
              " 1983,\n",
              " 1984,\n",
              " 1985,\n",
              " 1986,\n",
              " 1987,\n",
              " 1988,\n",
              " 1989,\n",
              " 1990,\n",
              " 1991,\n",
              " 1992,\n",
              " 1993,\n",
              " 1994,\n",
              " 1995,\n",
              " 1996]"
            ]
          },
          "metadata": {},
          "execution_count": 20
        }
      ]
    },
    {
      "cell_type": "code",
      "source": [
        "pd.unique(df['escolaridade']) "
      ],
      "metadata": {
        "id": "ZSMoqnywVRAQ",
        "colab": {
          "base_uri": "https://localhost:8080/"
        },
        "outputId": "cbfaf70e-0541-47e8-c1ad-0b72afb448db"
      },
      "execution_count": null,
      "outputs": [
        {
          "output_type": "execute_result",
          "data": {
            "text/plain": [
              "array(['Graduation', 'PhD', 'Master', 'Basic', '2n Cycle'], dtype=object)"
            ]
          },
          "metadata": {},
          "execution_count": 21
        }
      ]
    },
    {
      "cell_type": "code",
      "source": [
        "correcoes = { \n",
        "    'Graduation':'Graduação',\n",
        "    'Master':'Mestrado',\n",
        "    'Basic':'Ensino Fundamental',\n",
        "    '2n Cycle': 'Segundo Ciclo'\n",
        "}\n",
        "  \n",
        "for key, value in correcoes.items():\n",
        "  df.loc[df.escolaridade==key,'escolaridade'] = value"
      ],
      "metadata": {
        "id": "xiTf-UF5VIYi"
      },
      "execution_count": null,
      "outputs": []
    },
    {
      "cell_type": "markdown",
      "source": [
        "#Validação de Dados"
      ],
      "metadata": {
        "id": "NgMLgt_59QzZ"
      }
    },
    {
      "cell_type": "code",
      "source": [
        "#Variavel para checar se é binário já que algumas colunas do DF só são compostas por 0 e 1 com pandera\n",
        "checarbin = pa.Check.isin([0,1])\n",
        "#Criação do schema para validar os dados\n",
        "schema = pa.DataFrameSchema(\n",
        "    columns = {\n",
        "        'ano_nascimento':pa.Column(pa.Int),\n",
        "        'escolaridade':pa.Column(pa.String),\n",
        "        'estado_civil':pa.Column(pa.String),\n",
        "        'renda':pa.Column(pa.Float,nullable=True), # como existiam valores nulos foi utilizado o nullable = True para ignora-los que não iriam ter grande impacto na análise \n",
        "        'qtde_de_criancas':pa.Column(pa.Int),\n",
        "        'qtde_de_adolescentes':pa.Column(pa.Int),\n",
        "        'data_cadastro':pa.Column(pa.DateTime),\n",
        "        'diasdaultimacompra':pa.Column(pa.Int),\n",
        "        'gasto_com_vinho':pa.Column(pa.Int),\n",
        "        'gasto_com_frutas':pa.Column(pa.Int),\n",
        "        'gasto_com_carne':pa.Column(pa.Int),\n",
        "        'gasto_com_peixe':pa.Column(pa.Int),              \n",
        "        'gasto_com_doces':pa.Column(pa.Int),              \n",
        "        'gasto_com_goldp':pa.Column(pa.Int),             \n",
        "        'qtde_compras_desc':pa.Column(pa.Int),            \n",
        "        'qtde_compras_internet':pa.Column(pa.Int),      \n",
        "        'qtde_compras_catalogo':pa.Column(pa.Int),       \n",
        "        'qtde_comprasna_loja':pa.Column(pa.Int),        \n",
        "        'qtde_visita_site_mensal':pa.Column(pa.Int),      \n",
        "        'Campanha3':pa.Column(pa.Int,checarbin),                    \n",
        "        'Campanha4':pa.Column(pa.Int,checarbin),                    \n",
        "        'Campanha5':pa.Column(pa.Int,checarbin),                    \n",
        "        'Campanha1':pa.Column(pa.Int,checarbin),                    \n",
        "        'Campanha2':pa.Column(pa.Int,checarbin),                    \n",
        "        'reclamacoes':pa.Column(pa.Int,checarbin),                  \n",
        "        'Z_CostContact':pa.Column(pa.Int),                \n",
        "        'Z_Revenue':pa.Column(pa.Int),                    \n",
        "        'Response':pa.Column(pa.Int,checarbin),                     \n",
        "    })"
      ],
      "metadata": {
        "id": "NMXvIGkWsEis"
      },
      "execution_count": null,
      "outputs": []
    },
    {
      "cell_type": "code",
      "source": [
        "schema.validate(df)"
      ],
      "metadata": {
        "id": "ZeZ22I2CsEhl",
        "colab": {
          "base_uri": "https://localhost:8080/",
          "height": 519
        },
        "outputId": "75292550-db59-4ac2-b268-3a12f019f234"
      },
      "execution_count": null,
      "outputs": [
        {
          "output_type": "execute_result",
          "data": {
            "text/plain": [
              "       ano_nascimento escolaridade   estado_civil    renda  qtde_de_criancas  \\\n",
              "ID                                                                             \n",
              "5524             1957    Graduação       Solteiro  58138.0                 0   \n",
              "2174             1954    Graduação       Solteiro  46344.0                 1   \n",
              "4141             1965    Graduação  União Estável  71613.0                 0   \n",
              "6182             1984    Graduação  União Estável  26646.0                 1   \n",
              "5324             1981          PhD         Casado  58293.0                 1   \n",
              "...               ...          ...            ...      ...               ...   \n",
              "10870            1967    Graduação         Casado  61223.0                 0   \n",
              "4001             1946          PhD  União Estável  64014.0                 2   \n",
              "7270             1981    Graduação     Divorciado  56981.0                 0   \n",
              "8235             1956     Mestrado  União Estável  69245.0                 0   \n",
              "9405             1954          PhD         Casado  52869.0                 1   \n",
              "\n",
              "       qtde_de_adolescentes data_cadastro  diasdaultimacompra  \\\n",
              "ID                                                              \n",
              "5524                      0    2012-04-09                  58   \n",
              "2174                      1    2014-08-03                  38   \n",
              "4141                      0    2013-08-21                  26   \n",
              "6182                      0    2014-10-02                  26   \n",
              "5324                      0    2014-01-19                  94   \n",
              "...                     ...           ...                 ...   \n",
              "10870                     1    2013-06-13                  46   \n",
              "4001                      1    2014-10-06                  56   \n",
              "7270                      0    2014-01-25                  91   \n",
              "8235                      1    2014-01-24                   8   \n",
              "9405                      1    2012-10-15                  40   \n",
              "\n",
              "       gasto_com_vinho  gasto_com_frutas  ...  qtde_visita_site_mensal  \\\n",
              "ID                                        ...                            \n",
              "5524               635                88  ...                        7   \n",
              "2174                11                 1  ...                        5   \n",
              "4141               426                49  ...                        4   \n",
              "6182                11                 4  ...                        6   \n",
              "5324               173                43  ...                        5   \n",
              "...                ...               ...  ...                      ...   \n",
              "10870              709                43  ...                        5   \n",
              "4001               406                 0  ...                        7   \n",
              "7270               908                48  ...                        6   \n",
              "8235               428                30  ...                        3   \n",
              "9405                84                 3  ...                        7   \n",
              "\n",
              "       Campanha3  Campanha4  Campanha5  Campanha1  Campanha2  reclamacoes  \\\n",
              "ID                                                                          \n",
              "5524           0          0          0          0          0            0   \n",
              "2174           0          0          0          0          0            0   \n",
              "4141           0          0          0          0          0            0   \n",
              "6182           0          0          0          0          0            0   \n",
              "5324           0          0          0          0          0            0   \n",
              "...          ...        ...        ...        ...        ...          ...   \n",
              "10870          0          0          0          0          0            0   \n",
              "4001           0          0          0          1          0            0   \n",
              "7270           0          1          0          0          0            0   \n",
              "8235           0          0          0          0          0            0   \n",
              "9405           0          0          0          0          0            0   \n",
              "\n",
              "       Z_CostContact  Z_Revenue  Response  \n",
              "ID                                         \n",
              "5524               3         11         1  \n",
              "2174               3         11         0  \n",
              "4141               3         11         0  \n",
              "6182               3         11         0  \n",
              "5324               3         11         0  \n",
              "...              ...        ...       ...  \n",
              "10870              3         11         0  \n",
              "4001               3         11         0  \n",
              "7270               3         11         0  \n",
              "8235               3         11         0  \n",
              "9405               3         11         1  \n",
              "\n",
              "[2240 rows x 28 columns]"
            ],
            "text/html": [
              "\n",
              "  <div id=\"df-20b5ff45-849c-49e0-8882-bbf329f12978\">\n",
              "    <div class=\"colab-df-container\">\n",
              "      <div>\n",
              "<style scoped>\n",
              "    .dataframe tbody tr th:only-of-type {\n",
              "        vertical-align: middle;\n",
              "    }\n",
              "\n",
              "    .dataframe tbody tr th {\n",
              "        vertical-align: top;\n",
              "    }\n",
              "\n",
              "    .dataframe thead th {\n",
              "        text-align: right;\n",
              "    }\n",
              "</style>\n",
              "<table border=\"1\" class=\"dataframe\">\n",
              "  <thead>\n",
              "    <tr style=\"text-align: right;\">\n",
              "      <th></th>\n",
              "      <th>ano_nascimento</th>\n",
              "      <th>escolaridade</th>\n",
              "      <th>estado_civil</th>\n",
              "      <th>renda</th>\n",
              "      <th>qtde_de_criancas</th>\n",
              "      <th>qtde_de_adolescentes</th>\n",
              "      <th>data_cadastro</th>\n",
              "      <th>diasdaultimacompra</th>\n",
              "      <th>gasto_com_vinho</th>\n",
              "      <th>gasto_com_frutas</th>\n",
              "      <th>...</th>\n",
              "      <th>qtde_visita_site_mensal</th>\n",
              "      <th>Campanha3</th>\n",
              "      <th>Campanha4</th>\n",
              "      <th>Campanha5</th>\n",
              "      <th>Campanha1</th>\n",
              "      <th>Campanha2</th>\n",
              "      <th>reclamacoes</th>\n",
              "      <th>Z_CostContact</th>\n",
              "      <th>Z_Revenue</th>\n",
              "      <th>Response</th>\n",
              "    </tr>\n",
              "    <tr>\n",
              "      <th>ID</th>\n",
              "      <th></th>\n",
              "      <th></th>\n",
              "      <th></th>\n",
              "      <th></th>\n",
              "      <th></th>\n",
              "      <th></th>\n",
              "      <th></th>\n",
              "      <th></th>\n",
              "      <th></th>\n",
              "      <th></th>\n",
              "      <th></th>\n",
              "      <th></th>\n",
              "      <th></th>\n",
              "      <th></th>\n",
              "      <th></th>\n",
              "      <th></th>\n",
              "      <th></th>\n",
              "      <th></th>\n",
              "      <th></th>\n",
              "      <th></th>\n",
              "      <th></th>\n",
              "    </tr>\n",
              "  </thead>\n",
              "  <tbody>\n",
              "    <tr>\n",
              "      <th>5524</th>\n",
              "      <td>1957</td>\n",
              "      <td>Graduação</td>\n",
              "      <td>Solteiro</td>\n",
              "      <td>58138.0</td>\n",
              "      <td>0</td>\n",
              "      <td>0</td>\n",
              "      <td>2012-04-09</td>\n",
              "      <td>58</td>\n",
              "      <td>635</td>\n",
              "      <td>88</td>\n",
              "      <td>...</td>\n",
              "      <td>7</td>\n",
              "      <td>0</td>\n",
              "      <td>0</td>\n",
              "      <td>0</td>\n",
              "      <td>0</td>\n",
              "      <td>0</td>\n",
              "      <td>0</td>\n",
              "      <td>3</td>\n",
              "      <td>11</td>\n",
              "      <td>1</td>\n",
              "    </tr>\n",
              "    <tr>\n",
              "      <th>2174</th>\n",
              "      <td>1954</td>\n",
              "      <td>Graduação</td>\n",
              "      <td>Solteiro</td>\n",
              "      <td>46344.0</td>\n",
              "      <td>1</td>\n",
              "      <td>1</td>\n",
              "      <td>2014-08-03</td>\n",
              "      <td>38</td>\n",
              "      <td>11</td>\n",
              "      <td>1</td>\n",
              "      <td>...</td>\n",
              "      <td>5</td>\n",
              "      <td>0</td>\n",
              "      <td>0</td>\n",
              "      <td>0</td>\n",
              "      <td>0</td>\n",
              "      <td>0</td>\n",
              "      <td>0</td>\n",
              "      <td>3</td>\n",
              "      <td>11</td>\n",
              "      <td>0</td>\n",
              "    </tr>\n",
              "    <tr>\n",
              "      <th>4141</th>\n",
              "      <td>1965</td>\n",
              "      <td>Graduação</td>\n",
              "      <td>União Estável</td>\n",
              "      <td>71613.0</td>\n",
              "      <td>0</td>\n",
              "      <td>0</td>\n",
              "      <td>2013-08-21</td>\n",
              "      <td>26</td>\n",
              "      <td>426</td>\n",
              "      <td>49</td>\n",
              "      <td>...</td>\n",
              "      <td>4</td>\n",
              "      <td>0</td>\n",
              "      <td>0</td>\n",
              "      <td>0</td>\n",
              "      <td>0</td>\n",
              "      <td>0</td>\n",
              "      <td>0</td>\n",
              "      <td>3</td>\n",
              "      <td>11</td>\n",
              "      <td>0</td>\n",
              "    </tr>\n",
              "    <tr>\n",
              "      <th>6182</th>\n",
              "      <td>1984</td>\n",
              "      <td>Graduação</td>\n",
              "      <td>União Estável</td>\n",
              "      <td>26646.0</td>\n",
              "      <td>1</td>\n",
              "      <td>0</td>\n",
              "      <td>2014-10-02</td>\n",
              "      <td>26</td>\n",
              "      <td>11</td>\n",
              "      <td>4</td>\n",
              "      <td>...</td>\n",
              "      <td>6</td>\n",
              "      <td>0</td>\n",
              "      <td>0</td>\n",
              "      <td>0</td>\n",
              "      <td>0</td>\n",
              "      <td>0</td>\n",
              "      <td>0</td>\n",
              "      <td>3</td>\n",
              "      <td>11</td>\n",
              "      <td>0</td>\n",
              "    </tr>\n",
              "    <tr>\n",
              "      <th>5324</th>\n",
              "      <td>1981</td>\n",
              "      <td>PhD</td>\n",
              "      <td>Casado</td>\n",
              "      <td>58293.0</td>\n",
              "      <td>1</td>\n",
              "      <td>0</td>\n",
              "      <td>2014-01-19</td>\n",
              "      <td>94</td>\n",
              "      <td>173</td>\n",
              "      <td>43</td>\n",
              "      <td>...</td>\n",
              "      <td>5</td>\n",
              "      <td>0</td>\n",
              "      <td>0</td>\n",
              "      <td>0</td>\n",
              "      <td>0</td>\n",
              "      <td>0</td>\n",
              "      <td>0</td>\n",
              "      <td>3</td>\n",
              "      <td>11</td>\n",
              "      <td>0</td>\n",
              "    </tr>\n",
              "    <tr>\n",
              "      <th>...</th>\n",
              "      <td>...</td>\n",
              "      <td>...</td>\n",
              "      <td>...</td>\n",
              "      <td>...</td>\n",
              "      <td>...</td>\n",
              "      <td>...</td>\n",
              "      <td>...</td>\n",
              "      <td>...</td>\n",
              "      <td>...</td>\n",
              "      <td>...</td>\n",
              "      <td>...</td>\n",
              "      <td>...</td>\n",
              "      <td>...</td>\n",
              "      <td>...</td>\n",
              "      <td>...</td>\n",
              "      <td>...</td>\n",
              "      <td>...</td>\n",
              "      <td>...</td>\n",
              "      <td>...</td>\n",
              "      <td>...</td>\n",
              "      <td>...</td>\n",
              "    </tr>\n",
              "    <tr>\n",
              "      <th>10870</th>\n",
              "      <td>1967</td>\n",
              "      <td>Graduação</td>\n",
              "      <td>Casado</td>\n",
              "      <td>61223.0</td>\n",
              "      <td>0</td>\n",
              "      <td>1</td>\n",
              "      <td>2013-06-13</td>\n",
              "      <td>46</td>\n",
              "      <td>709</td>\n",
              "      <td>43</td>\n",
              "      <td>...</td>\n",
              "      <td>5</td>\n",
              "      <td>0</td>\n",
              "      <td>0</td>\n",
              "      <td>0</td>\n",
              "      <td>0</td>\n",
              "      <td>0</td>\n",
              "      <td>0</td>\n",
              "      <td>3</td>\n",
              "      <td>11</td>\n",
              "      <td>0</td>\n",
              "    </tr>\n",
              "    <tr>\n",
              "      <th>4001</th>\n",
              "      <td>1946</td>\n",
              "      <td>PhD</td>\n",
              "      <td>União Estável</td>\n",
              "      <td>64014.0</td>\n",
              "      <td>2</td>\n",
              "      <td>1</td>\n",
              "      <td>2014-10-06</td>\n",
              "      <td>56</td>\n",
              "      <td>406</td>\n",
              "      <td>0</td>\n",
              "      <td>...</td>\n",
              "      <td>7</td>\n",
              "      <td>0</td>\n",
              "      <td>0</td>\n",
              "      <td>0</td>\n",
              "      <td>1</td>\n",
              "      <td>0</td>\n",
              "      <td>0</td>\n",
              "      <td>3</td>\n",
              "      <td>11</td>\n",
              "      <td>0</td>\n",
              "    </tr>\n",
              "    <tr>\n",
              "      <th>7270</th>\n",
              "      <td>1981</td>\n",
              "      <td>Graduação</td>\n",
              "      <td>Divorciado</td>\n",
              "      <td>56981.0</td>\n",
              "      <td>0</td>\n",
              "      <td>0</td>\n",
              "      <td>2014-01-25</td>\n",
              "      <td>91</td>\n",
              "      <td>908</td>\n",
              "      <td>48</td>\n",
              "      <td>...</td>\n",
              "      <td>6</td>\n",
              "      <td>0</td>\n",
              "      <td>1</td>\n",
              "      <td>0</td>\n",
              "      <td>0</td>\n",
              "      <td>0</td>\n",
              "      <td>0</td>\n",
              "      <td>3</td>\n",
              "      <td>11</td>\n",
              "      <td>0</td>\n",
              "    </tr>\n",
              "    <tr>\n",
              "      <th>8235</th>\n",
              "      <td>1956</td>\n",
              "      <td>Mestrado</td>\n",
              "      <td>União Estável</td>\n",
              "      <td>69245.0</td>\n",
              "      <td>0</td>\n",
              "      <td>1</td>\n",
              "      <td>2014-01-24</td>\n",
              "      <td>8</td>\n",
              "      <td>428</td>\n",
              "      <td>30</td>\n",
              "      <td>...</td>\n",
              "      <td>3</td>\n",
              "      <td>0</td>\n",
              "      <td>0</td>\n",
              "      <td>0</td>\n",
              "      <td>0</td>\n",
              "      <td>0</td>\n",
              "      <td>0</td>\n",
              "      <td>3</td>\n",
              "      <td>11</td>\n",
              "      <td>0</td>\n",
              "    </tr>\n",
              "    <tr>\n",
              "      <th>9405</th>\n",
              "      <td>1954</td>\n",
              "      <td>PhD</td>\n",
              "      <td>Casado</td>\n",
              "      <td>52869.0</td>\n",
              "      <td>1</td>\n",
              "      <td>1</td>\n",
              "      <td>2012-10-15</td>\n",
              "      <td>40</td>\n",
              "      <td>84</td>\n",
              "      <td>3</td>\n",
              "      <td>...</td>\n",
              "      <td>7</td>\n",
              "      <td>0</td>\n",
              "      <td>0</td>\n",
              "      <td>0</td>\n",
              "      <td>0</td>\n",
              "      <td>0</td>\n",
              "      <td>0</td>\n",
              "      <td>3</td>\n",
              "      <td>11</td>\n",
              "      <td>1</td>\n",
              "    </tr>\n",
              "  </tbody>\n",
              "</table>\n",
              "<p>2240 rows × 28 columns</p>\n",
              "</div>\n",
              "      <button class=\"colab-df-convert\" onclick=\"convertToInteractive('df-20b5ff45-849c-49e0-8882-bbf329f12978')\"\n",
              "              title=\"Convert this dataframe to an interactive table.\"\n",
              "              style=\"display:none;\">\n",
              "        \n",
              "  <svg xmlns=\"http://www.w3.org/2000/svg\" height=\"24px\"viewBox=\"0 0 24 24\"\n",
              "       width=\"24px\">\n",
              "    <path d=\"M0 0h24v24H0V0z\" fill=\"none\"/>\n",
              "    <path d=\"M18.56 5.44l.94 2.06.94-2.06 2.06-.94-2.06-.94-.94-2.06-.94 2.06-2.06.94zm-11 1L8.5 8.5l.94-2.06 2.06-.94-2.06-.94L8.5 2.5l-.94 2.06-2.06.94zm10 10l.94 2.06.94-2.06 2.06-.94-2.06-.94-.94-2.06-.94 2.06-2.06.94z\"/><path d=\"M17.41 7.96l-1.37-1.37c-.4-.4-.92-.59-1.43-.59-.52 0-1.04.2-1.43.59L10.3 9.45l-7.72 7.72c-.78.78-.78 2.05 0 2.83L4 21.41c.39.39.9.59 1.41.59.51 0 1.02-.2 1.41-.59l7.78-7.78 2.81-2.81c.8-.78.8-2.07 0-2.86zM5.41 20L4 18.59l7.72-7.72 1.47 1.35L5.41 20z\"/>\n",
              "  </svg>\n",
              "      </button>\n",
              "      \n",
              "  <style>\n",
              "    .colab-df-container {\n",
              "      display:flex;\n",
              "      flex-wrap:wrap;\n",
              "      gap: 12px;\n",
              "    }\n",
              "\n",
              "    .colab-df-convert {\n",
              "      background-color: #E8F0FE;\n",
              "      border: none;\n",
              "      border-radius: 50%;\n",
              "      cursor: pointer;\n",
              "      display: none;\n",
              "      fill: #1967D2;\n",
              "      height: 32px;\n",
              "      padding: 0 0 0 0;\n",
              "      width: 32px;\n",
              "    }\n",
              "\n",
              "    .colab-df-convert:hover {\n",
              "      background-color: #E2EBFA;\n",
              "      box-shadow: 0px 1px 2px rgba(60, 64, 67, 0.3), 0px 1px 3px 1px rgba(60, 64, 67, 0.15);\n",
              "      fill: #174EA6;\n",
              "    }\n",
              "\n",
              "    [theme=dark] .colab-df-convert {\n",
              "      background-color: #3B4455;\n",
              "      fill: #D2E3FC;\n",
              "    }\n",
              "\n",
              "    [theme=dark] .colab-df-convert:hover {\n",
              "      background-color: #434B5C;\n",
              "      box-shadow: 0px 1px 3px 1px rgba(0, 0, 0, 0.15);\n",
              "      filter: drop-shadow(0px 1px 2px rgba(0, 0, 0, 0.3));\n",
              "      fill: #FFFFFF;\n",
              "    }\n",
              "  </style>\n",
              "\n",
              "      <script>\n",
              "        const buttonEl =\n",
              "          document.querySelector('#df-20b5ff45-849c-49e0-8882-bbf329f12978 button.colab-df-convert');\n",
              "        buttonEl.style.display =\n",
              "          google.colab.kernel.accessAllowed ? 'block' : 'none';\n",
              "\n",
              "        async function convertToInteractive(key) {\n",
              "          const element = document.querySelector('#df-20b5ff45-849c-49e0-8882-bbf329f12978');\n",
              "          const dataTable =\n",
              "            await google.colab.kernel.invokeFunction('convertToInteractive',\n",
              "                                                     [key], {});\n",
              "          if (!dataTable) return;\n",
              "\n",
              "          const docLinkHtml = 'Like what you see? Visit the ' +\n",
              "            '<a target=\"_blank\" href=https://colab.research.google.com/notebooks/data_table.ipynb>data table notebook</a>'\n",
              "            + ' to learn more about interactive tables.';\n",
              "          element.innerHTML = '';\n",
              "          dataTable['output_type'] = 'display_data';\n",
              "          await google.colab.output.renderOutput(dataTable, element);\n",
              "          const docLink = document.createElement('div');\n",
              "          docLink.innerHTML = docLinkHtml;\n",
              "          element.appendChild(docLink);\n",
              "        }\n",
              "      </script>\n",
              "    </div>\n",
              "  </div>\n",
              "  "
            ]
          },
          "metadata": {},
          "execution_count": 24
        }
      ]
    },
    {
      "cell_type": "markdown",
      "source": [
        "#Enviando para Cloud Tratado"
      ],
      "metadata": {
        "id": "eq-tOq768hbz"
      }
    },
    {
      "cell_type": "markdown",
      "source": [
        "MongoDB"
      ],
      "metadata": {
        "id": "sfFIOymloO12"
      }
    },
    {
      "cell_type": "code",
      "source": [
        "db = client['tratado']\n",
        "colecaomarketing2 = db['marketing_campaign']"
      ],
      "metadata": {
        "id": "g3V5BNG58SmB"
      },
      "execution_count": null,
      "outputs": []
    },
    {
      "cell_type": "code",
      "source": [
        "df_dict2 = df.to_dict('records')\n",
        "\n",
        "colecaomarketing2.insert_many(df_dict2)"
      ],
      "metadata": {
        "id": "Rdu8fIWk9MzC"
      },
      "execution_count": null,
      "outputs": []
    },
    {
      "cell_type": "markdown",
      "source": [
        "GCP"
      ],
      "metadata": {
        "id": "FVP99RejoRs-"
      }
    },
    {
      "cell_type": "code",
      "source": [
        "df.to_csv('gs://tratados/marketing_campaign_tratado.csv', index = False)"
      ],
      "metadata": {
        "id": "tiocC7rs9QUx"
      },
      "execution_count": null,
      "outputs": []
    },
    {
      "cell_type": "markdown",
      "source": [
        "##LOAD (Carregamento) salvar o df."
      ],
      "metadata": {
        "id": "oIHcNZo-kdUl"
      }
    },
    {
      "cell_type": "code",
      "source": [
        "#Utilizar se for o rotulo padrão \n",
        "df.to_csv('cenipa_tratado_ok.csv',index=False)"
      ],
      "metadata": {
        "id": "C1GPM_HgkiF1"
      },
      "execution_count": null,
      "outputs": []
    },
    {
      "cell_type": "code",
      "source": [
        "#Carregar direto no bucket\n",
        "df.to_csv('gs://igorgondim01/tratados/cenipa_tratado.csv',index=False)"
      ],
      "metadata": {
        "id": "XUHz-Yseny2N"
      },
      "execution_count": null,
      "outputs": []
    },
    {
      "cell_type": "markdown",
      "source": [
        "#Fazendo Análises"
      ],
      "metadata": {
        "id": "Mt8S9QeXqvAq"
      }
    },
    {
      "cell_type": "code",
      "source": [
        "df.describe()"
      ],
      "metadata": {
        "colab": {
          "base_uri": "https://localhost:8080/",
          "height": 394
        },
        "outputId": "eb0092f1-1776-4d06-b873-498d2a04d81f",
        "id": "w0N44zogqvAq"
      },
      "execution_count": null,
      "outputs": [
        {
          "output_type": "execute_result",
          "data": {
            "text/plain": [
              "       ano_nascimento          renda  qtde_de_criancas  qtde_de_adolescentes  \\\n",
              "count     2240.000000    2216.000000       2240.000000           2240.000000   \n",
              "mean      1968.805804   52247.251354          0.444196              0.506250   \n",
              "std         11.984069   25173.076661          0.538398              0.544538   \n",
              "min       1893.000000    1730.000000          0.000000              0.000000   \n",
              "25%       1959.000000   35303.000000          0.000000              0.000000   \n",
              "50%       1970.000000   51381.500000          0.000000              0.000000   \n",
              "75%       1977.000000   68522.000000          1.000000              1.000000   \n",
              "max       1996.000000  666666.000000          2.000000              2.000000   \n",
              "\n",
              "       diasdaultimacompra  gasto_com_vinho  gasto_com_frutas  gasto_com_carne  \\\n",
              "count         2240.000000      2240.000000       2240.000000      2240.000000   \n",
              "mean            49.109375       303.935714         26.302232       166.950000   \n",
              "std             28.962453       336.597393         39.773434       225.715373   \n",
              "min              0.000000         0.000000          0.000000         0.000000   \n",
              "25%             24.000000        23.750000          1.000000        16.000000   \n",
              "50%             49.000000       173.500000          8.000000        67.000000   \n",
              "75%             74.000000       504.250000         33.000000       232.000000   \n",
              "max             99.000000      1493.000000        199.000000      1725.000000   \n",
              "\n",
              "       gasto_com_peixe  gasto_com_doces  ...  qtde_visita_site_mensal  \\\n",
              "count      2240.000000      2240.000000  ...              2240.000000   \n",
              "mean         37.525446        27.062946  ...                 5.316518   \n",
              "std          54.628979        41.280498  ...                 2.426645   \n",
              "min           0.000000         0.000000  ...                 0.000000   \n",
              "25%           3.000000         1.000000  ...                 3.000000   \n",
              "50%          12.000000         8.000000  ...                 6.000000   \n",
              "75%          50.000000        33.000000  ...                 7.000000   \n",
              "max         259.000000       263.000000  ...                20.000000   \n",
              "\n",
              "         Campanha3    Campanha4    Campanha5    Campanha1    Campanha2  \\\n",
              "count  2240.000000  2240.000000  2240.000000  2240.000000  2240.000000   \n",
              "mean      0.072768     0.074554     0.072768     0.064286     0.013393   \n",
              "std       0.259813     0.262728     0.259813     0.245316     0.114976   \n",
              "min       0.000000     0.000000     0.000000     0.000000     0.000000   \n",
              "25%       0.000000     0.000000     0.000000     0.000000     0.000000   \n",
              "50%       0.000000     0.000000     0.000000     0.000000     0.000000   \n",
              "75%       0.000000     0.000000     0.000000     0.000000     0.000000   \n",
              "max       1.000000     1.000000     1.000000     1.000000     1.000000   \n",
              "\n",
              "       reclamacoes  Z_CostContact  Z_Revenue     Response  \n",
              "count  2240.000000         2240.0     2240.0  2240.000000  \n",
              "mean      0.009375            3.0       11.0     0.149107  \n",
              "std       0.096391            0.0        0.0     0.356274  \n",
              "min       0.000000            3.0       11.0     0.000000  \n",
              "25%       0.000000            3.0       11.0     0.000000  \n",
              "50%       0.000000            3.0       11.0     0.000000  \n",
              "75%       0.000000            3.0       11.0     0.000000  \n",
              "max       1.000000            3.0       11.0     1.000000  \n",
              "\n",
              "[8 rows x 25 columns]"
            ],
            "text/html": [
              "\n",
              "  <div id=\"df-11d01ef5-cd3a-4e2a-9f9e-fb2f65cad87a\">\n",
              "    <div class=\"colab-df-container\">\n",
              "      <div>\n",
              "<style scoped>\n",
              "    .dataframe tbody tr th:only-of-type {\n",
              "        vertical-align: middle;\n",
              "    }\n",
              "\n",
              "    .dataframe tbody tr th {\n",
              "        vertical-align: top;\n",
              "    }\n",
              "\n",
              "    .dataframe thead th {\n",
              "        text-align: right;\n",
              "    }\n",
              "</style>\n",
              "<table border=\"1\" class=\"dataframe\">\n",
              "  <thead>\n",
              "    <tr style=\"text-align: right;\">\n",
              "      <th></th>\n",
              "      <th>ano_nascimento</th>\n",
              "      <th>renda</th>\n",
              "      <th>qtde_de_criancas</th>\n",
              "      <th>qtde_de_adolescentes</th>\n",
              "      <th>diasdaultimacompra</th>\n",
              "      <th>gasto_com_vinho</th>\n",
              "      <th>gasto_com_frutas</th>\n",
              "      <th>gasto_com_carne</th>\n",
              "      <th>gasto_com_peixe</th>\n",
              "      <th>gasto_com_doces</th>\n",
              "      <th>...</th>\n",
              "      <th>qtde_visita_site_mensal</th>\n",
              "      <th>Campanha3</th>\n",
              "      <th>Campanha4</th>\n",
              "      <th>Campanha5</th>\n",
              "      <th>Campanha1</th>\n",
              "      <th>Campanha2</th>\n",
              "      <th>reclamacoes</th>\n",
              "      <th>Z_CostContact</th>\n",
              "      <th>Z_Revenue</th>\n",
              "      <th>Response</th>\n",
              "    </tr>\n",
              "  </thead>\n",
              "  <tbody>\n",
              "    <tr>\n",
              "      <th>count</th>\n",
              "      <td>2240.000000</td>\n",
              "      <td>2216.000000</td>\n",
              "      <td>2240.000000</td>\n",
              "      <td>2240.000000</td>\n",
              "      <td>2240.000000</td>\n",
              "      <td>2240.000000</td>\n",
              "      <td>2240.000000</td>\n",
              "      <td>2240.000000</td>\n",
              "      <td>2240.000000</td>\n",
              "      <td>2240.000000</td>\n",
              "      <td>...</td>\n",
              "      <td>2240.000000</td>\n",
              "      <td>2240.000000</td>\n",
              "      <td>2240.000000</td>\n",
              "      <td>2240.000000</td>\n",
              "      <td>2240.000000</td>\n",
              "      <td>2240.000000</td>\n",
              "      <td>2240.000000</td>\n",
              "      <td>2240.0</td>\n",
              "      <td>2240.0</td>\n",
              "      <td>2240.000000</td>\n",
              "    </tr>\n",
              "    <tr>\n",
              "      <th>mean</th>\n",
              "      <td>1968.805804</td>\n",
              "      <td>52247.251354</td>\n",
              "      <td>0.444196</td>\n",
              "      <td>0.506250</td>\n",
              "      <td>49.109375</td>\n",
              "      <td>303.935714</td>\n",
              "      <td>26.302232</td>\n",
              "      <td>166.950000</td>\n",
              "      <td>37.525446</td>\n",
              "      <td>27.062946</td>\n",
              "      <td>...</td>\n",
              "      <td>5.316518</td>\n",
              "      <td>0.072768</td>\n",
              "      <td>0.074554</td>\n",
              "      <td>0.072768</td>\n",
              "      <td>0.064286</td>\n",
              "      <td>0.013393</td>\n",
              "      <td>0.009375</td>\n",
              "      <td>3.0</td>\n",
              "      <td>11.0</td>\n",
              "      <td>0.149107</td>\n",
              "    </tr>\n",
              "    <tr>\n",
              "      <th>std</th>\n",
              "      <td>11.984069</td>\n",
              "      <td>25173.076661</td>\n",
              "      <td>0.538398</td>\n",
              "      <td>0.544538</td>\n",
              "      <td>28.962453</td>\n",
              "      <td>336.597393</td>\n",
              "      <td>39.773434</td>\n",
              "      <td>225.715373</td>\n",
              "      <td>54.628979</td>\n",
              "      <td>41.280498</td>\n",
              "      <td>...</td>\n",
              "      <td>2.426645</td>\n",
              "      <td>0.259813</td>\n",
              "      <td>0.262728</td>\n",
              "      <td>0.259813</td>\n",
              "      <td>0.245316</td>\n",
              "      <td>0.114976</td>\n",
              "      <td>0.096391</td>\n",
              "      <td>0.0</td>\n",
              "      <td>0.0</td>\n",
              "      <td>0.356274</td>\n",
              "    </tr>\n",
              "    <tr>\n",
              "      <th>min</th>\n",
              "      <td>1893.000000</td>\n",
              "      <td>1730.000000</td>\n",
              "      <td>0.000000</td>\n",
              "      <td>0.000000</td>\n",
              "      <td>0.000000</td>\n",
              "      <td>0.000000</td>\n",
              "      <td>0.000000</td>\n",
              "      <td>0.000000</td>\n",
              "      <td>0.000000</td>\n",
              "      <td>0.000000</td>\n",
              "      <td>...</td>\n",
              "      <td>0.000000</td>\n",
              "      <td>0.000000</td>\n",
              "      <td>0.000000</td>\n",
              "      <td>0.000000</td>\n",
              "      <td>0.000000</td>\n",
              "      <td>0.000000</td>\n",
              "      <td>0.000000</td>\n",
              "      <td>3.0</td>\n",
              "      <td>11.0</td>\n",
              "      <td>0.000000</td>\n",
              "    </tr>\n",
              "    <tr>\n",
              "      <th>25%</th>\n",
              "      <td>1959.000000</td>\n",
              "      <td>35303.000000</td>\n",
              "      <td>0.000000</td>\n",
              "      <td>0.000000</td>\n",
              "      <td>24.000000</td>\n",
              "      <td>23.750000</td>\n",
              "      <td>1.000000</td>\n",
              "      <td>16.000000</td>\n",
              "      <td>3.000000</td>\n",
              "      <td>1.000000</td>\n",
              "      <td>...</td>\n",
              "      <td>3.000000</td>\n",
              "      <td>0.000000</td>\n",
              "      <td>0.000000</td>\n",
              "      <td>0.000000</td>\n",
              "      <td>0.000000</td>\n",
              "      <td>0.000000</td>\n",
              "      <td>0.000000</td>\n",
              "      <td>3.0</td>\n",
              "      <td>11.0</td>\n",
              "      <td>0.000000</td>\n",
              "    </tr>\n",
              "    <tr>\n",
              "      <th>50%</th>\n",
              "      <td>1970.000000</td>\n",
              "      <td>51381.500000</td>\n",
              "      <td>0.000000</td>\n",
              "      <td>0.000000</td>\n",
              "      <td>49.000000</td>\n",
              "      <td>173.500000</td>\n",
              "      <td>8.000000</td>\n",
              "      <td>67.000000</td>\n",
              "      <td>12.000000</td>\n",
              "      <td>8.000000</td>\n",
              "      <td>...</td>\n",
              "      <td>6.000000</td>\n",
              "      <td>0.000000</td>\n",
              "      <td>0.000000</td>\n",
              "      <td>0.000000</td>\n",
              "      <td>0.000000</td>\n",
              "      <td>0.000000</td>\n",
              "      <td>0.000000</td>\n",
              "      <td>3.0</td>\n",
              "      <td>11.0</td>\n",
              "      <td>0.000000</td>\n",
              "    </tr>\n",
              "    <tr>\n",
              "      <th>75%</th>\n",
              "      <td>1977.000000</td>\n",
              "      <td>68522.000000</td>\n",
              "      <td>1.000000</td>\n",
              "      <td>1.000000</td>\n",
              "      <td>74.000000</td>\n",
              "      <td>504.250000</td>\n",
              "      <td>33.000000</td>\n",
              "      <td>232.000000</td>\n",
              "      <td>50.000000</td>\n",
              "      <td>33.000000</td>\n",
              "      <td>...</td>\n",
              "      <td>7.000000</td>\n",
              "      <td>0.000000</td>\n",
              "      <td>0.000000</td>\n",
              "      <td>0.000000</td>\n",
              "      <td>0.000000</td>\n",
              "      <td>0.000000</td>\n",
              "      <td>0.000000</td>\n",
              "      <td>3.0</td>\n",
              "      <td>11.0</td>\n",
              "      <td>0.000000</td>\n",
              "    </tr>\n",
              "    <tr>\n",
              "      <th>max</th>\n",
              "      <td>1996.000000</td>\n",
              "      <td>666666.000000</td>\n",
              "      <td>2.000000</td>\n",
              "      <td>2.000000</td>\n",
              "      <td>99.000000</td>\n",
              "      <td>1493.000000</td>\n",
              "      <td>199.000000</td>\n",
              "      <td>1725.000000</td>\n",
              "      <td>259.000000</td>\n",
              "      <td>263.000000</td>\n",
              "      <td>...</td>\n",
              "      <td>20.000000</td>\n",
              "      <td>1.000000</td>\n",
              "      <td>1.000000</td>\n",
              "      <td>1.000000</td>\n",
              "      <td>1.000000</td>\n",
              "      <td>1.000000</td>\n",
              "      <td>1.000000</td>\n",
              "      <td>3.0</td>\n",
              "      <td>11.0</td>\n",
              "      <td>1.000000</td>\n",
              "    </tr>\n",
              "  </tbody>\n",
              "</table>\n",
              "<p>8 rows × 25 columns</p>\n",
              "</div>\n",
              "      <button class=\"colab-df-convert\" onclick=\"convertToInteractive('df-11d01ef5-cd3a-4e2a-9f9e-fb2f65cad87a')\"\n",
              "              title=\"Convert this dataframe to an interactive table.\"\n",
              "              style=\"display:none;\">\n",
              "        \n",
              "  <svg xmlns=\"http://www.w3.org/2000/svg\" height=\"24px\"viewBox=\"0 0 24 24\"\n",
              "       width=\"24px\">\n",
              "    <path d=\"M0 0h24v24H0V0z\" fill=\"none\"/>\n",
              "    <path d=\"M18.56 5.44l.94 2.06.94-2.06 2.06-.94-2.06-.94-.94-2.06-.94 2.06-2.06.94zm-11 1L8.5 8.5l.94-2.06 2.06-.94-2.06-.94L8.5 2.5l-.94 2.06-2.06.94zm10 10l.94 2.06.94-2.06 2.06-.94-2.06-.94-.94-2.06-.94 2.06-2.06.94z\"/><path d=\"M17.41 7.96l-1.37-1.37c-.4-.4-.92-.59-1.43-.59-.52 0-1.04.2-1.43.59L10.3 9.45l-7.72 7.72c-.78.78-.78 2.05 0 2.83L4 21.41c.39.39.9.59 1.41.59.51 0 1.02-.2 1.41-.59l7.78-7.78 2.81-2.81c.8-.78.8-2.07 0-2.86zM5.41 20L4 18.59l7.72-7.72 1.47 1.35L5.41 20z\"/>\n",
              "  </svg>\n",
              "      </button>\n",
              "      \n",
              "  <style>\n",
              "    .colab-df-container {\n",
              "      display:flex;\n",
              "      flex-wrap:wrap;\n",
              "      gap: 12px;\n",
              "    }\n",
              "\n",
              "    .colab-df-convert {\n",
              "      background-color: #E8F0FE;\n",
              "      border: none;\n",
              "      border-radius: 50%;\n",
              "      cursor: pointer;\n",
              "      display: none;\n",
              "      fill: #1967D2;\n",
              "      height: 32px;\n",
              "      padding: 0 0 0 0;\n",
              "      width: 32px;\n",
              "    }\n",
              "\n",
              "    .colab-df-convert:hover {\n",
              "      background-color: #E2EBFA;\n",
              "      box-shadow: 0px 1px 2px rgba(60, 64, 67, 0.3), 0px 1px 3px 1px rgba(60, 64, 67, 0.15);\n",
              "      fill: #174EA6;\n",
              "    }\n",
              "\n",
              "    [theme=dark] .colab-df-convert {\n",
              "      background-color: #3B4455;\n",
              "      fill: #D2E3FC;\n",
              "    }\n",
              "\n",
              "    [theme=dark] .colab-df-convert:hover {\n",
              "      background-color: #434B5C;\n",
              "      box-shadow: 0px 1px 3px 1px rgba(0, 0, 0, 0.15);\n",
              "      filter: drop-shadow(0px 1px 2px rgba(0, 0, 0, 0.3));\n",
              "      fill: #FFFFFF;\n",
              "    }\n",
              "  </style>\n",
              "\n",
              "      <script>\n",
              "        const buttonEl =\n",
              "          document.querySelector('#df-11d01ef5-cd3a-4e2a-9f9e-fb2f65cad87a button.colab-df-convert');\n",
              "        buttonEl.style.display =\n",
              "          google.colab.kernel.accessAllowed ? 'block' : 'none';\n",
              "\n",
              "        async function convertToInteractive(key) {\n",
              "          const element = document.querySelector('#df-11d01ef5-cd3a-4e2a-9f9e-fb2f65cad87a');\n",
              "          const dataTable =\n",
              "            await google.colab.kernel.invokeFunction('convertToInteractive',\n",
              "                                                     [key], {});\n",
              "          if (!dataTable) return;\n",
              "\n",
              "          const docLinkHtml = 'Like what you see? Visit the ' +\n",
              "            '<a target=\"_blank\" href=https://colab.research.google.com/notebooks/data_table.ipynb>data table notebook</a>'\n",
              "            + ' to learn more about interactive tables.';\n",
              "          element.innerHTML = '';\n",
              "          dataTable['output_type'] = 'display_data';\n",
              "          await google.colab.output.renderOutput(dataTable, element);\n",
              "          const docLink = document.createElement('div');\n",
              "          docLink.innerHTML = docLinkHtml;\n",
              "          element.appendChild(docLink);\n",
              "        }\n",
              "      </script>\n",
              "    </div>\n",
              "  </div>\n",
              "  "
            ]
          },
          "metadata": {},
          "execution_count": 25
        }
      ]
    },
    {
      "cell_type": "code",
      "source": [
        "df.info()"
      ],
      "metadata": {
        "colab": {
          "base_uri": "https://localhost:8080/"
        },
        "id": "-qKxeK6lk19p",
        "outputId": "e84e6c71-62f0-4d60-a7d9-51862c86483e"
      },
      "execution_count": null,
      "outputs": [
        {
          "output_type": "stream",
          "name": "stdout",
          "text": [
            "<class 'pandas.core.frame.DataFrame'>\n",
            "Int64Index: 2237 entries, 5524 to 9405\n",
            "Data columns (total 30 columns):\n",
            " #   Column                   Non-Null Count  Dtype         \n",
            "---  ------                   --------------  -----         \n",
            " 0   ano_nascimento           2237 non-null   int64         \n",
            " 1   escolaridade             2237 non-null   object        \n",
            " 2   estado_civil             2237 non-null   object        \n",
            " 3   renda                    2213 non-null   float64       \n",
            " 4   qtde_de_criancas         2237 non-null   int64         \n",
            " 5   qtde_de_adolescentes     2237 non-null   int64         \n",
            " 6   data_cadastro            2237 non-null   datetime64[ns]\n",
            " 7   diasdaultimacompra       2237 non-null   int64         \n",
            " 8   gasto_com_vinho          2237 non-null   int64         \n",
            " 9   gasto_com_frutas         2237 non-null   int64         \n",
            " 10  gasto_com_carne          2237 non-null   int64         \n",
            " 11  gasto_com_peixe          2237 non-null   int64         \n",
            " 12  gasto_com_doces          2237 non-null   int64         \n",
            " 13  gasto_com_goldp          2237 non-null   int64         \n",
            " 14  qtde_compras_desc        2237 non-null   int64         \n",
            " 15  qtde_compras_internet    2237 non-null   int64         \n",
            " 16  qtde_compras_catalogo    2237 non-null   int64         \n",
            " 17  qtde_comprasna_loja      2237 non-null   int64         \n",
            " 18  qtde_visita_site_mensal  2237 non-null   int64         \n",
            " 19  Campanha3                2237 non-null   int64         \n",
            " 20  Campanha4                2237 non-null   int64         \n",
            " 21  Campanha5                2237 non-null   int64         \n",
            " 22  Campanha1                2237 non-null   int64         \n",
            " 23  Campanha2                2237 non-null   int64         \n",
            " 24  reclamacoes              2237 non-null   int64         \n",
            " 25  Z_CostContact            2237 non-null   int64         \n",
            " 26  Z_Revenue                2237 non-null   int64         \n",
            " 27  Response                 2237 non-null   int64         \n",
            " 28  nfilhos                  2237 non-null   int64         \n",
            " 29  idade                    2237 non-null   int64         \n",
            "dtypes: datetime64[ns](1), float64(1), int64(26), object(2)\n",
            "memory usage: 606.3+ KB\n"
          ]
        }
      ]
    },
    {
      "cell_type": "code",
      "source": [
        "dfbackup = df.copy()"
      ],
      "metadata": {
        "id": "920gYBnUzSAj"
      },
      "execution_count": null,
      "outputs": []
    },
    {
      "cell_type": "code",
      "source": [
        "df = dfbackup"
      ],
      "metadata": {
        "id": "lYQsiOx3x13T"
      },
      "execution_count": null,
      "outputs": []
    },
    {
      "cell_type": "markdown",
      "source": [
        "## Traçando perfil de clientes"
      ],
      "metadata": {
        "id": "3a3UqmffvyK8"
      }
    },
    {
      "cell_type": "code",
      "source": [
        "#Criando coluna Idade \n",
        "df['idade'] = 2020 - df['ano_nascimento']\n",
        "filtroidade = ((df.ano_nascimento > 1933) & (df.ano_nascimento < 1999))\n",
        "df = df.loc[filtroidade]"
      ],
      "metadata": {
        "id": "9ojY5FRjM8UE"
      },
      "execution_count": null,
      "outputs": []
    },
    {
      "cell_type": "code",
      "source": [
        "# Gerando uma nova coluna com a quantidade de filhos totais\n",
        "df['nfilhos'] = df['qtde_de_criancas'] + df['qtde_de_adolescentes']"
      ],
      "metadata": {
        "colab": {
          "base_uri": "https://localhost:8080/"
        },
        "id": "nhg08JJFxsLV",
        "outputId": "533e7555-4cdf-4a57-a08e-c34e3b6f6638"
      },
      "execution_count": null,
      "outputs": [
        {
          "output_type": "stream",
          "name": "stderr",
          "text": [
            "<ipython-input-59-1a4769d60128>:2: SettingWithCopyWarning: \n",
            "A value is trying to be set on a copy of a slice from a DataFrame.\n",
            "Try using .loc[row_indexer,col_indexer] = value instead\n",
            "\n",
            "See the caveats in the documentation: https://pandas.pydata.org/pandas-docs/stable/user_guide/indexing.html#returning-a-view-versus-a-copy\n",
            "  df['nfilhos'] = df['qtde_de_criancas'] + df['qtde_de_adolescentes']\n"
          ]
        }
      ]
    },
    {
      "cell_type": "code",
      "source": [
        "df.groupby('idade').size().sort_values(ascending=False).plot.bar(figsize=(12,8),xlabel='IDADE DOS CLIENTES',ylabel='NUMERO DE PESSOAS', title = 'TOTAL DE CLIENTES POR IDADE' )"
      ],
      "metadata": {
        "colab": {
          "base_uri": "https://localhost:8080/",
          "height": 533
        },
        "id": "08icLX__MSBN",
        "outputId": "c9b4c774-e111-4f0d-e00b-ed56161e185b"
      },
      "execution_count": null,
      "outputs": [
        {
          "output_type": "execute_result",
          "data": {
            "text/plain": [
              "<AxesSubplot:title={'center':'TOTAL DE CLIENTES POR IDADE'}, xlabel='IDADE DOS CLIENTES', ylabel='NUMERO DE PESSOAS'>"
            ]
          },
          "metadata": {},
          "execution_count": 97
        },
        {
          "output_type": "display_data",
          "data": {
            "text/plain": [
              "<Figure size 864x576 with 1 Axes>"
            ],
            "image/png": "[encoded data removed]"
          },
          "metadata": {
            "needs_background": "light"
          }
        }
      ]
    },
    {
      "cell_type": "code",
      "source": [
        "#Criando um novo df para Verificar o Total Gastos com os Tipos de Produtos\n",
        "dfgastos = df.loc[:,'gasto_com_vinho':'gasto_com_goldp']"
      ],
      "metadata": {
        "id": "msMYSiRN7VYr"
      },
      "execution_count": null,
      "outputs": []
    },
    {
      "cell_type": "code",
      "source": [
        "dfgastos"
      ],
      "metadata": {
        "id": "6X8xrB-S1lh5",
        "colab": {
          "base_uri": "https://localhost:8080/",
          "height": 455
        },
        "outputId": "1957c82c-adc3-4189-cc4a-71947bca614e"
      },
      "execution_count": null,
      "outputs": [
        {
          "output_type": "execute_result",
          "data": {
            "text/plain": [
              "       gasto_com_vinho  gasto_com_frutas  gasto_com_carne  gasto_com_peixe  \\\n",
              "ID                                                                           \n",
              "5524               635                88              546              172   \n",
              "2174                11                 1                6                2   \n",
              "4141               426                49              127              111   \n",
              "6182                11                 4               20               10   \n",
              "5324               173                43              118               46   \n",
              "...                ...               ...              ...              ...   \n",
              "10870              709                43              182               42   \n",
              "4001               406                 0               30                0   \n",
              "7270               908                48              217               32   \n",
              "8235               428                30              214               80   \n",
              "9405                84                 3               61                2   \n",
              "\n",
              "       gasto_com_doces  gasto_com_goldp  \n",
              "ID                                       \n",
              "5524                88               88  \n",
              "2174                 1                6  \n",
              "4141                21               42  \n",
              "6182                 3                5  \n",
              "5324                27               15  \n",
              "...                ...              ...  \n",
              "10870              118              247  \n",
              "4001                 0                8  \n",
              "7270                12               24  \n",
              "8235                30               61  \n",
              "9405                 1               21  \n",
              "\n",
              "[2237 rows x 6 columns]"
            ],
            "text/html": [
              "\n",
              "  <div id=\"df-58bc0130-17b0-4fbc-a5c1-c6e8d5ceb4c7\">\n",
              "    <div class=\"colab-df-container\">\n",
              "      <div>\n",
              "<style scoped>\n",
              "    .dataframe tbody tr th:only-of-type {\n",
              "        vertical-align: middle;\n",
              "    }\n",
              "\n",
              "    .dataframe tbody tr th {\n",
              "        vertical-align: top;\n",
              "    }\n",
              "\n",
              "    .dataframe thead th {\n",
              "        text-align: right;\n",
              "    }\n",
              "</style>\n",
              "<table border=\"1\" class=\"dataframe\">\n",
              "  <thead>\n",
              "    <tr style=\"text-align: right;\">\n",
              "      <th></th>\n",
              "      <th>gasto_com_vinho</th>\n",
              "      <th>gasto_com_frutas</th>\n",
              "      <th>gasto_com_carne</th>\n",
              "      <th>gasto_com_peixe</th>\n",
              "      <th>gasto_com_doces</th>\n",
              "      <th>gasto_com_goldp</th>\n",
              "    </tr>\n",
              "    <tr>\n",
              "      <th>ID</th>\n",
              "      <th></th>\n",
              "      <th></th>\n",
              "      <th></th>\n",
              "      <th></th>\n",
              "      <th></th>\n",
              "      <th></th>\n",
              "    </tr>\n",
              "  </thead>\n",
              "  <tbody>\n",
              "    <tr>\n",
              "      <th>5524</th>\n",
              "      <td>635</td>\n",
              "      <td>88</td>\n",
              "      <td>546</td>\n",
              "      <td>172</td>\n",
              "      <td>88</td>\n",
              "      <td>88</td>\n",
              "    </tr>\n",
              "    <tr>\n",
              "      <th>2174</th>\n",
              "      <td>11</td>\n",
              "      <td>1</td>\n",
              "      <td>6</td>\n",
              "      <td>2</td>\n",
              "      <td>1</td>\n",
              "      <td>6</td>\n",
              "    </tr>\n",
              "    <tr>\n",
              "      <th>4141</th>\n",
              "      <td>426</td>\n",
              "      <td>49</td>\n",
              "      <td>127</td>\n",
              "      <td>111</td>\n",
              "      <td>21</td>\n",
              "      <td>42</td>\n",
              "    </tr>\n",
              "    <tr>\n",
              "      <th>6182</th>\n",
              "      <td>11</td>\n",
              "      <td>4</td>\n",
              "      <td>20</td>\n",
              "      <td>10</td>\n",
              "      <td>3</td>\n",
              "      <td>5</td>\n",
              "    </tr>\n",
              "    <tr>\n",
              "      <th>5324</th>\n",
              "      <td>173</td>\n",
              "      <td>43</td>\n",
              "      <td>118</td>\n",
              "      <td>46</td>\n",
              "      <td>27</td>\n",
              "      <td>15</td>\n",
              "    </tr>\n",
              "    <tr>\n",
              "      <th>...</th>\n",
              "      <td>...</td>\n",
              "      <td>...</td>\n",
              "      <td>...</td>\n",
              "      <td>...</td>\n",
              "      <td>...</td>\n",
              "      <td>...</td>\n",
              "    </tr>\n",
              "    <tr>\n",
              "      <th>10870</th>\n",
              "      <td>709</td>\n",
              "      <td>43</td>\n",
              "      <td>182</td>\n",
              "      <td>42</td>\n",
              "      <td>118</td>\n",
              "      <td>247</td>\n",
              "    </tr>\n",
              "    <tr>\n",
              "      <th>4001</th>\n",
              "      <td>406</td>\n",
              "      <td>0</td>\n",
              "      <td>30</td>\n",
              "      <td>0</td>\n",
              "      <td>0</td>\n",
              "      <td>8</td>\n",
              "    </tr>\n",
              "    <tr>\n",
              "      <th>7270</th>\n",
              "      <td>908</td>\n",
              "      <td>48</td>\n",
              "      <td>217</td>\n",
              "      <td>32</td>\n",
              "      <td>12</td>\n",
              "      <td>24</td>\n",
              "    </tr>\n",
              "    <tr>\n",
              "      <th>8235</th>\n",
              "      <td>428</td>\n",
              "      <td>30</td>\n",
              "      <td>214</td>\n",
              "      <td>80</td>\n",
              "      <td>30</td>\n",
              "      <td>61</td>\n",
              "    </tr>\n",
              "    <tr>\n",
              "      <th>9405</th>\n",
              "      <td>84</td>\n",
              "      <td>3</td>\n",
              "      <td>61</td>\n",
              "      <td>2</td>\n",
              "      <td>1</td>\n",
              "      <td>21</td>\n",
              "    </tr>\n",
              "  </tbody>\n",
              "</table>\n",
              "<p>2237 rows × 6 columns</p>\n",
              "</div>\n",
              "      <button class=\"colab-df-convert\" onclick=\"convertToInteractive('df-58bc0130-17b0-4fbc-a5c1-c6e8d5ceb4c7')\"\n",
              "              title=\"Convert this dataframe to an interactive table.\"\n",
              "              style=\"display:none;\">\n",
              "        \n",
              "  <svg xmlns=\"http://www.w3.org/2000/svg\" height=\"24px\"viewBox=\"0 0 24 24\"\n",
              "       width=\"24px\">\n",
              "    <path d=\"M0 0h24v24H0V0z\" fill=\"none\"/>\n",
              "    <path d=\"M18.56 5.44l.94 2.06.94-2.06 2.06-.94-2.06-.94-.94-2.06-.94 2.06-2.06.94zm-11 1L8.5 8.5l.94-2.06 2.06-.94-2.06-.94L8.5 2.5l-.94 2.06-2.06.94zm10 10l.94 2.06.94-2.06 2.06-.94-2.06-.94-.94-2.06-.94 2.06-2.06.94z\"/><path d=\"M17.41 7.96l-1.37-1.37c-.4-.4-.92-.59-1.43-.59-.52 0-1.04.2-1.43.59L10.3 9.45l-7.72 7.72c-.78.78-.78 2.05 0 2.83L4 21.41c.39.39.9.59 1.41.59.51 0 1.02-.2 1.41-.59l7.78-7.78 2.81-2.81c.8-.78.8-2.07 0-2.86zM5.41 20L4 18.59l7.72-7.72 1.47 1.35L5.41 20z\"/>\n",
              "  </svg>\n",
              "      </button>\n",
              "      \n",
              "  <style>\n",
              "    .colab-df-container {\n",
              "      display:flex;\n",
              "      flex-wrap:wrap;\n",
              "      gap: 12px;\n",
              "    }\n",
              "\n",
              "    .colab-df-convert {\n",
              "      background-color: #E8F0FE;\n",
              "      border: none;\n",
              "      border-radius: 50%;\n",
              "      cursor: pointer;\n",
              "      display: none;\n",
              "      fill: #1967D2;\n",
              "      height: 32px;\n",
              "      padding: 0 0 0 0;\n",
              "      width: 32px;\n",
              "    }\n",
              "\n",
              "    .colab-df-convert:hover {\n",
              "      background-color: #E2EBFA;\n",
              "      box-shadow: 0px 1px 2px rgba(60, 64, 67, 0.3), 0px 1px 3px 1px rgba(60, 64, 67, 0.15);\n",
              "      fill: #174EA6;\n",
              "    }\n",
              "\n",
              "    [theme=dark] .colab-df-convert {\n",
              "      background-color: #3B4455;\n",
              "      fill: #D2E3FC;\n",
              "    }\n",
              "\n",
              "    [theme=dark] .colab-df-convert:hover {\n",
              "      background-color: #434B5C;\n",
              "      box-shadow: 0px 1px 3px 1px rgba(0, 0, 0, 0.15);\n",
              "      filter: drop-shadow(0px 1px 2px rgba(0, 0, 0, 0.3));\n",
              "      fill: #FFFFFF;\n",
              "    }\n",
              "  </style>\n",
              "\n",
              "      <script>\n",
              "        const buttonEl =\n",
              "          document.querySelector('#df-58bc0130-17b0-4fbc-a5c1-c6e8d5ceb4c7 button.colab-df-convert');\n",
              "        buttonEl.style.display =\n",
              "          google.colab.kernel.accessAllowed ? 'block' : 'none';\n",
              "\n",
              "        async function convertToInteractive(key) {\n",
              "          const element = document.querySelector('#df-58bc0130-17b0-4fbc-a5c1-c6e8d5ceb4c7');\n",
              "          const dataTable =\n",
              "            await google.colab.kernel.invokeFunction('convertToInteractive',\n",
              "                                                     [key], {});\n",
              "          if (!dataTable) return;\n",
              "\n",
              "          const docLinkHtml = 'Like what you see? Visit the ' +\n",
              "            '<a target=\"_blank\" href=https://colab.research.google.com/notebooks/data_table.ipynb>data table notebook</a>'\n",
              "            + ' to learn more about interactive tables.';\n",
              "          element.innerHTML = '';\n",
              "          dataTable['output_type'] = 'display_data';\n",
              "          await google.colab.output.renderOutput(dataTable, element);\n",
              "          const docLink = document.createElement('div');\n",
              "          docLink.innerHTML = docLinkHtml;\n",
              "          element.appendChild(docLink);\n",
              "        }\n",
              "      </script>\n",
              "    </div>\n",
              "  </div>\n",
              "  "
            ]
          },
          "metadata": {},
          "execution_count": 72
        }
      ]
    },
    {
      "cell_type": "code",
      "source": [
        "dfgastos.sum()"
      ],
      "metadata": {
        "id": "HkgU8eE31pv3",
        "colab": {
          "base_uri": "https://localhost:8080/"
        },
        "outputId": "3c401098-8904-4c4d-bb99-2ee992b48360"
      },
      "execution_count": null,
      "outputs": [
        {
          "output_type": "execute_result",
          "data": {
            "text/plain": [
              "gasto_com_vinho     680816\n",
              "gasto_com_frutas     58917\n",
              "gasto_com_carne     373968\n",
              "gasto_com_peixe      84057\n",
              "gasto_com_doces      60621\n",
              "gasto_com_goldp      98609\n",
              "dtype: int64"
            ]
          },
          "metadata": {},
          "execution_count": 32
        }
      ]
    },
    {
      "cell_type": "code",
      "source": [
        "dfgastos.mean()"
      ],
      "metadata": {
        "id": "0GLRzlfk1xyg",
        "colab": {
          "base_uri": "https://localhost:8080/"
        },
        "outputId": "6baa306a-bcf7-43c4-8534-269bb65e03d3"
      },
      "execution_count": null,
      "outputs": [
        {
          "output_type": "execute_result",
          "data": {
            "text/plain": [
              "gasto_com_vinho     303.995530\n",
              "gasto_com_frutas     26.270451\n",
              "gasto_com_carne     166.916853\n",
              "gasto_com_peixe      37.523022\n",
              "gasto_com_doces      27.068842\n",
              "gasto_com_goldp      43.968708\n",
              "dtype: float64"
            ]
          },
          "metadata": {},
          "execution_count": 30
        }
      ]
    },
    {
      "cell_type": "code",
      "source": [
        "dfgastos.max()"
      ],
      "metadata": {
        "id": "qtFW_FyO15j5",
        "colab": {
          "base_uri": "https://localhost:8080/"
        },
        "outputId": "49e351a4-cdb5-4fa1-f2f9-235c521c27b3"
      },
      "execution_count": null,
      "outputs": [
        {
          "output_type": "execute_result",
          "data": {
            "text/plain": [
              "gasto_com_vinho     1493\n",
              "gasto_com_frutas     199\n",
              "gasto_com_carne     1725\n",
              "gasto_com_peixe      259\n",
              "gasto_com_doces      263\n",
              "gasto_com_goldp      362\n",
              "dtype: int64"
            ]
          },
          "metadata": {},
          "execution_count": 34
        }
      ]
    },
    {
      "cell_type": "code",
      "source": [
        "#Verificando o total de gastos por clientes em cada categoria\n",
        "dfgastos.sum().sort_values(ascending=False).plot.bar(figsize=(12,8),xlabel='Tipos de Gastos', ylabel='Valor Gasto', title = 'TOTAL DE GASTOS')"
      ],
      "metadata": {
        "id": "zeYA1wHP17hf",
        "colab": {
          "base_uri": "https://localhost:8080/",
          "height": 608
        },
        "outputId": "fd8b5d07-4609-40e7-d93d-47bb8ff0813d"
      },
      "execution_count": null,
      "outputs": [
        {
          "output_type": "execute_result",
          "data": {
            "text/plain": [
              "<AxesSubplot:title={'center':'TOTAL DE GASTOS'}, xlabel='Tipos de Gastos', ylabel='Valor Gasto'>"
            ]
          },
          "metadata": {},
          "execution_count": 96
        },
        {
          "output_type": "display_data",
          "data": {
            "text/plain": [
              "<Figure size 864x576 with 1 Axes>"
            ],
            "image/png": "[encoded data removed]"
          },
          "metadata": {
            "needs_background": "light"
          }
        }
      ]
    },
    {
      "cell_type": "code",
      "source": [
        "# Criando filtro para as 3 idades que tem mais entradas de dados\n",
        "filtro44anos = (df['idade'] == 44)"
      ],
      "metadata": {
        "id": "gpt8ihjvNcjh"
      },
      "execution_count": null,
      "outputs": []
    },
    {
      "cell_type": "code",
      "source": [
        "filtro49anos = (df['idade'] == 49)"
      ],
      "metadata": {
        "id": "tyCpy6sn4waA"
      },
      "execution_count": null,
      "outputs": []
    },
    {
      "cell_type": "code",
      "source": [
        "filtro45anos = (df['idade'] == 45)"
      ],
      "metadata": {
        "id": "NiqqB51w4r73"
      },
      "execution_count": null,
      "outputs": []
    },
    {
      "cell_type": "code",
      "source": [
        "# A partir dos filtros criados vamos gerar um novo DF\n",
        "dffltidade = df.loc[filtro44anos | filtro49anos | filtro45anos]"
      ],
      "metadata": {
        "id": "bYq5jrggG04v"
      },
      "execution_count": null,
      "outputs": []
    },
    {
      "cell_type": "code",
      "source": [
        "dffltidade"
      ],
      "metadata": {
        "colab": {
          "base_uri": "https://localhost:8080/",
          "height": 536
        },
        "id": "Kfve8rKDpH5P",
        "outputId": "04fcdab7-8abf-4721-9500-d771a4bef950"
      },
      "execution_count": null,
      "outputs": [
        {
          "output_type": "execute_result",
          "data": {
            "text/plain": [
              "       ano_nascimento        escolaridade estado_civil    renda  \\\n",
              "ID                                                                \n",
              "965              1971           Graduação   Divorciado  55635.0   \n",
              "387              1976  Ensino Fundamental       Casado   7500.0   \n",
              "2404             1976           Graduação       Casado  53359.0   \n",
              "10755            1976       Segundo Ciclo       Casado  23718.0   \n",
              "2139             1975            Mestrado       Casado   7500.0   \n",
              "...               ...                 ...          ...      ...   \n",
              "1772             1975                 PhD       Casado  79174.0   \n",
              "4377             1971           Graduação       Casado  52914.0   \n",
              "2656             1971           Graduação   Divorciado  40851.0   \n",
              "9014             1975           Graduação       Casado  37085.0   \n",
              "9303             1976           Graduação       Casado   5305.0   \n",
              "\n",
              "       qtde_de_criancas  qtde_de_adolescentes data_cadastro  \\\n",
              "ID                                                            \n",
              "965                   0                     1    2012-11-13   \n",
              "387                   0                     0    2012-11-13   \n",
              "2404                  1                     1    2013-05-27   \n",
              "10755                 1                     0    2013-02-09   \n",
              "2139                  1                     0    2013-02-10   \n",
              "...                 ...                   ...           ...   \n",
              "1772                  0                     0    2013-11-01   \n",
              "4377                  0                     1    2013-07-01   \n",
              "2656                  1                     1    2013-02-21   \n",
              "9014                  1                     1    2014-06-26   \n",
              "9303                  0                     1    2013-07-30   \n",
              "\n",
              "       diasdaultimacompra  gasto_com_vinho  gasto_com_frutas  gasto_com_carne  \\\n",
              "ID                                                                              \n",
              "965                    34              235                65              164   \n",
              "387                    59                6                16               11   \n",
              "2404                    4              173                 4               30   \n",
              "10755                  76                6                 3               14   \n",
              "2139                   19                3                 1               10   \n",
              "...                   ...              ...               ...              ...   \n",
              "1772                    2             1074                37              518   \n",
              "4377                   32              254                10               44   \n",
              "2656                   63               23                 1                7   \n",
              "9014                   65               39                 1               16   \n",
              "9303                   12               12                 4                7   \n",
              "\n",
              "       gasto_com_peixe  gasto_com_doces  gasto_com_goldp  qtde_compras_desc  \\\n",
              "ID                                                                            \n",
              "965                 50               49               27                  4   \n",
              "387                 11                1               16                  1   \n",
              "2404                 3                6               41                  4   \n",
              "10755               15                7               36                  3   \n",
              "2139                 3                2               12                  3   \n",
              "...                ...              ...              ...                ...   \n",
              "1772               193               92              129                  1   \n",
              "4377                30               10              227                  2   \n",
              "2656                 0                4               24                  1   \n",
              "9014                 2                0                3                  4   \n",
              "9303                 1                3                5                  0   \n",
              "\n",
              "       qtde_compras_internet  qtde_compras_catalogo  qtde_comprasna_loja  \\\n",
              "ID                                                                         \n",
              "965                        7                      3                    7   \n",
              "387                        2                      0                    3   \n",
              "2404                       5                      1                    4   \n",
              "10755                      3                      1                    2   \n",
              "2139                       2                      0                    3   \n",
              "...                      ...                    ...                  ...   \n",
              "1772                       5                      6                    7   \n",
              "4377                       7                      3                    3   \n",
              "2656                       1                      1                    2   \n",
              "9014                       3                      0                    3   \n",
              "9303                       1                      0                    0   \n",
              "\n",
              "       qtde_visita_site_mensal  Campanha3  Campanha4  Campanha5  Campanha1  \\\n",
              "ID                                                                           \n",
              "965                          6          0          0          0          0   \n",
              "387                          8          0          0          0          0   \n",
              "2404                         7          0          0          0          0   \n",
              "10755                        7          0          0          0          0   \n",
              "2139                         5          0          0          0          0   \n",
              "...                        ...        ...        ...        ...        ...   \n",
              "1772                         2          0          0          1          1   \n",
              "4377                         7          1          0          0          0   \n",
              "2656                         7          0          0          0          0   \n",
              "9014                         8          0          0          0          0   \n",
              "9303                        13          0          0          0          0   \n",
              "\n",
              "       Campanha2  reclamacoes  Z_CostContact  Z_Revenue  Response  idade  \\\n",
              "ID                                                                         \n",
              "965            0            0              3         11         0     49   \n",
              "387            0            0              3         11         0     44   \n",
              "2404           0            0              3         11         0     44   \n",
              "10755          0            0              3         11         0     44   \n",
              "2139           0            0              3         11         0     45   \n",
              "...          ...          ...            ...        ...       ...    ...   \n",
              "1772           0            0              3         11         1     45   \n",
              "4377           0            0              3         11         0     49   \n",
              "2656           0            0              3         11         0     49   \n",
              "9014           0            0              3         11         0     45   \n",
              "9303           0            0              3         11         0     44   \n",
              "\n",
              "       nfilhos  \n",
              "ID              \n",
              "965          1  \n",
              "387          0  \n",
              "2404         2  \n",
              "10755        1  \n",
              "2139         1  \n",
              "...        ...  \n",
              "1772         0  \n",
              "4377         1  \n",
              "2656         2  \n",
              "9014         2  \n",
              "9303         1  \n",
              "\n",
              "[259 rows x 30 columns]"
            ],
            "text/html": [
              "\n",
              "  <div id=\"df-8a175b09-da68-4104-9223-43c1a33c4f28\">\n",
              "    <div class=\"colab-df-container\">\n",
              "      <div>\n",
              "<style scoped>\n",
              "    .dataframe tbody tr th:only-of-type {\n",
              "        vertical-align: middle;\n",
              "    }\n",
              "\n",
              "    .dataframe tbody tr th {\n",
              "        vertical-align: top;\n",
              "    }\n",
              "\n",
              "    .dataframe thead th {\n",
              "        text-align: right;\n",
              "    }\n",
              "</style>\n",
              "<table border=\"1\" class=\"dataframe\">\n",
              "  <thead>\n",
              "    <tr style=\"text-align: right;\">\n",
              "      <th></th>\n",
              "      <th>ano_nascimento</th>\n",
              "      <th>escolaridade</th>\n",
              "      <th>estado_civil</th>\n",
              "      <th>renda</th>\n",
              "      <th>qtde_de_criancas</th>\n",
              "      <th>qtde_de_adolescentes</th>\n",
              "      <th>data_cadastro</th>\n",
              "      <th>diasdaultimacompra</th>\n",
              "      <th>gasto_com_vinho</th>\n",
              "      <th>gasto_com_frutas</th>\n",
              "      <th>gasto_com_carne</th>\n",
              "      <th>gasto_com_peixe</th>\n",
              "      <th>gasto_com_doces</th>\n",
              "      <th>gasto_com_goldp</th>\n",
              "      <th>qtde_compras_desc</th>\n",
              "      <th>qtde_compras_internet</th>\n",
              "      <th>qtde_compras_catalogo</th>\n",
              "      <th>qtde_comprasna_loja</th>\n",
              "      <th>qtde_visita_site_mensal</th>\n",
              "      <th>Campanha3</th>\n",
              "      <th>Campanha4</th>\n",
              "      <th>Campanha5</th>\n",
              "      <th>Campanha1</th>\n",
              "      <th>Campanha2</th>\n",
              "      <th>reclamacoes</th>\n",
              "      <th>Z_CostContact</th>\n",
              "      <th>Z_Revenue</th>\n",
              "      <th>Response</th>\n",
              "      <th>idade</th>\n",
              "      <th>nfilhos</th>\n",
              "    </tr>\n",
              "    <tr>\n",
              "      <th>ID</th>\n",
              "      <th></th>\n",
              "      <th></th>\n",
              "      <th></th>\n",
              "      <th></th>\n",
              "      <th></th>\n",
              "      <th></th>\n",
              "      <th></th>\n",
              "      <th></th>\n",
              "      <th></th>\n",
              "      <th></th>\n",
              "      <th></th>\n",
              "      <th></th>\n",
              "      <th></th>\n",
              "      <th></th>\n",
              "      <th></th>\n",
              "      <th></th>\n",
              "      <th></th>\n",
              "      <th></th>\n",
              "      <th></th>\n",
              "      <th></th>\n",
              "      <th></th>\n",
              "      <th></th>\n",
              "      <th></th>\n",
              "      <th></th>\n",
              "      <th></th>\n",
              "      <th></th>\n",
              "      <th></th>\n",
              "      <th></th>\n",
              "      <th></th>\n",
              "      <th></th>\n",
              "    </tr>\n",
              "  </thead>\n",
              "  <tbody>\n",
              "    <tr>\n",
              "      <th>965</th>\n",
              "      <td>1971</td>\n",
              "      <td>Graduação</td>\n",
              "      <td>Divorciado</td>\n",
              "      <td>55635.0</td>\n",
              "      <td>0</td>\n",
              "      <td>1</td>\n",
              "      <td>2012-11-13</td>\n",
              "      <td>34</td>\n",
              "      <td>235</td>\n",
              "      <td>65</td>\n",
              "      <td>164</td>\n",
              "      <td>50</td>\n",
              "      <td>49</td>\n",
              "      <td>27</td>\n",
              "      <td>4</td>\n",
              "      <td>7</td>\n",
              "      <td>3</td>\n",
              "      <td>7</td>\n",
              "      <td>6</td>\n",
              "      <td>0</td>\n",
              "      <td>0</td>\n",
              "      <td>0</td>\n",
              "      <td>0</td>\n",
              "      <td>0</td>\n",
              "      <td>0</td>\n",
              "      <td>3</td>\n",
              "      <td>11</td>\n",
              "      <td>0</td>\n",
              "      <td>49</td>\n",
              "      <td>1</td>\n",
              "    </tr>\n",
              "    <tr>\n",
              "      <th>387</th>\n",
              "      <td>1976</td>\n",
              "      <td>Ensino Fundamental</td>\n",
              "      <td>Casado</td>\n",
              "      <td>7500.0</td>\n",
              "      <td>0</td>\n",
              "      <td>0</td>\n",
              "      <td>2012-11-13</td>\n",
              "      <td>59</td>\n",
              "      <td>6</td>\n",
              "      <td>16</td>\n",
              "      <td>11</td>\n",
              "      <td>11</td>\n",
              "      <td>1</td>\n",
              "      <td>16</td>\n",
              "      <td>1</td>\n",
              "      <td>2</td>\n",
              "      <td>0</td>\n",
              "      <td>3</td>\n",
              "      <td>8</td>\n",
              "      <td>0</td>\n",
              "      <td>0</td>\n",
              "      <td>0</td>\n",
              "      <td>0</td>\n",
              "      <td>0</td>\n",
              "      <td>0</td>\n",
              "      <td>3</td>\n",
              "      <td>11</td>\n",
              "      <td>0</td>\n",
              "      <td>44</td>\n",
              "      <td>0</td>\n",
              "    </tr>\n",
              "    <tr>\n",
              "      <th>2404</th>\n",
              "      <td>1976</td>\n",
              "      <td>Graduação</td>\n",
              "      <td>Casado</td>\n",
              "      <td>53359.0</td>\n",
              "      <td>1</td>\n",
              "      <td>1</td>\n",
              "      <td>2013-05-27</td>\n",
              "      <td>4</td>\n",
              "      <td>173</td>\n",
              "      <td>4</td>\n",
              "      <td>30</td>\n",
              "      <td>3</td>\n",
              "      <td>6</td>\n",
              "      <td>41</td>\n",
              "      <td>4</td>\n",
              "      <td>5</td>\n",
              "      <td>1</td>\n",
              "      <td>4</td>\n",
              "      <td>7</td>\n",
              "      <td>0</td>\n",
              "      <td>0</td>\n",
              "      <td>0</td>\n",
              "      <td>0</td>\n",
              "      <td>0</td>\n",
              "      <td>0</td>\n",
              "      <td>3</td>\n",
              "      <td>11</td>\n",
              "      <td>0</td>\n",
              "      <td>44</td>\n",
              "      <td>2</td>\n",
              "    </tr>\n",
              "    <tr>\n",
              "      <th>10755</th>\n",
              "      <td>1976</td>\n",
              "      <td>Segundo Ciclo</td>\n",
              "      <td>Casado</td>\n",
              "      <td>23718.0</td>\n",
              "      <td>1</td>\n",
              "      <td>0</td>\n",
              "      <td>2013-02-09</td>\n",
              "      <td>76</td>\n",
              "      <td>6</td>\n",
              "      <td>3</td>\n",
              "      <td>14</td>\n",
              "      <td>15</td>\n",
              "      <td>7</td>\n",
              "      <td>36</td>\n",
              "      <td>3</td>\n",
              "      <td>3</td>\n",
              "      <td>1</td>\n",
              "      <td>2</td>\n",
              "      <td>7</td>\n",
              "      <td>0</td>\n",
              "      <td>0</td>\n",
              "      <td>0</td>\n",
              "      <td>0</td>\n",
              "      <td>0</td>\n",
              "      <td>0</td>\n",
              "      <td>3</td>\n",
              "      <td>11</td>\n",
              "      <td>0</td>\n",
              "      <td>44</td>\n",
              "      <td>1</td>\n",
              "    </tr>\n",
              "    <tr>\n",
              "      <th>2139</th>\n",
              "      <td>1975</td>\n",
              "      <td>Mestrado</td>\n",
              "      <td>Casado</td>\n",
              "      <td>7500.0</td>\n",
              "      <td>1</td>\n",
              "      <td>0</td>\n",
              "      <td>2013-02-10</td>\n",
              "      <td>19</td>\n",
              "      <td>3</td>\n",
              "      <td>1</td>\n",
              "      <td>10</td>\n",
              "      <td>3</td>\n",
              "      <td>2</td>\n",
              "      <td>12</td>\n",
              "      <td>3</td>\n",
              "      <td>2</td>\n",
              "      <td>0</td>\n",
              "      <td>3</td>\n",
              "      <td>5</td>\n",
              "      <td>0</td>\n",
              "      <td>0</td>\n",
              "      <td>0</td>\n",
              "      <td>0</td>\n",
              "      <td>0</td>\n",
              "      <td>0</td>\n",
              "      <td>3</td>\n",
              "      <td>11</td>\n",
              "      <td>0</td>\n",
              "      <td>45</td>\n",
              "      <td>1</td>\n",
              "    </tr>\n",
              "    <tr>\n",
              "      <th>...</th>\n",
              "      <td>...</td>\n",
              "      <td>...</td>\n",
              "      <td>...</td>\n",
              "      <td>...</td>\n",
              "      <td>...</td>\n",
              "      <td>...</td>\n",
              "      <td>...</td>\n",
              "      <td>...</td>\n",
              "      <td>...</td>\n",
              "      <td>...</td>\n",
              "      <td>...</td>\n",
              "      <td>...</td>\n",
              "      <td>...</td>\n",
              "      <td>...</td>\n",
              "      <td>...</td>\n",
              "      <td>...</td>\n",
              "      <td>...</td>\n",
              "      <td>...</td>\n",
              "      <td>...</td>\n",
              "      <td>...</td>\n",
              "      <td>...</td>\n",
              "      <td>...</td>\n",
              "      <td>...</td>\n",
              "      <td>...</td>\n",
              "      <td>...</td>\n",
              "      <td>...</td>\n",
              "      <td>...</td>\n",
              "      <td>...</td>\n",
              "      <td>...</td>\n",
              "      <td>...</td>\n",
              "    </tr>\n",
              "    <tr>\n",
              "      <th>1772</th>\n",
              "      <td>1975</td>\n",
              "      <td>PhD</td>\n",
              "      <td>Casado</td>\n",
              "      <td>79174.0</td>\n",
              "      <td>0</td>\n",
              "      <td>0</td>\n",
              "      <td>2013-11-01</td>\n",
              "      <td>2</td>\n",
              "      <td>1074</td>\n",
              "      <td>37</td>\n",
              "      <td>518</td>\n",
              "      <td>193</td>\n",
              "      <td>92</td>\n",
              "      <td>129</td>\n",
              "      <td>1</td>\n",
              "      <td>5</td>\n",
              "      <td>6</td>\n",
              "      <td>7</td>\n",
              "      <td>2</td>\n",
              "      <td>0</td>\n",
              "      <td>0</td>\n",
              "      <td>1</td>\n",
              "      <td>1</td>\n",
              "      <td>0</td>\n",
              "      <td>0</td>\n",
              "      <td>3</td>\n",
              "      <td>11</td>\n",
              "      <td>1</td>\n",
              "      <td>45</td>\n",
              "      <td>0</td>\n",
              "    </tr>\n",
              "    <tr>\n",
              "      <th>4377</th>\n",
              "      <td>1971</td>\n",
              "      <td>Graduação</td>\n",
              "      <td>Casado</td>\n",
              "      <td>52914.0</td>\n",
              "      <td>0</td>\n",
              "      <td>1</td>\n",
              "      <td>2013-07-01</td>\n",
              "      <td>32</td>\n",
              "      <td>254</td>\n",
              "      <td>10</td>\n",
              "      <td>44</td>\n",
              "      <td>30</td>\n",
              "      <td>10</td>\n",
              "      <td>227</td>\n",
              "      <td>2</td>\n",
              "      <td>7</td>\n",
              "      <td>3</td>\n",
              "      <td>3</td>\n",
              "      <td>7</td>\n",
              "      <td>1</td>\n",
              "      <td>0</td>\n",
              "      <td>0</td>\n",
              "      <td>0</td>\n",
              "      <td>0</td>\n",
              "      <td>0</td>\n",
              "      <td>3</td>\n",
              "      <td>11</td>\n",
              "      <td>0</td>\n",
              "      <td>49</td>\n",
              "      <td>1</td>\n",
              "    </tr>\n",
              "    <tr>\n",
              "      <th>2656</th>\n",
              "      <td>1971</td>\n",
              "      <td>Graduação</td>\n",
              "      <td>Divorciado</td>\n",
              "      <td>40851.0</td>\n",
              "      <td>1</td>\n",
              "      <td>1</td>\n",
              "      <td>2013-02-21</td>\n",
              "      <td>63</td>\n",
              "      <td>23</td>\n",
              "      <td>1</td>\n",
              "      <td>7</td>\n",
              "      <td>0</td>\n",
              "      <td>4</td>\n",
              "      <td>24</td>\n",
              "      <td>1</td>\n",
              "      <td>1</td>\n",
              "      <td>1</td>\n",
              "      <td>2</td>\n",
              "      <td>7</td>\n",
              "      <td>0</td>\n",
              "      <td>0</td>\n",
              "      <td>0</td>\n",
              "      <td>0</td>\n",
              "      <td>0</td>\n",
              "      <td>0</td>\n",
              "      <td>3</td>\n",
              "      <td>11</td>\n",
              "      <td>0</td>\n",
              "      <td>49</td>\n",
              "      <td>2</td>\n",
              "    </tr>\n",
              "    <tr>\n",
              "      <th>9014</th>\n",
              "      <td>1975</td>\n",
              "      <td>Graduação</td>\n",
              "      <td>Casado</td>\n",
              "      <td>37085.0</td>\n",
              "      <td>1</td>\n",
              "      <td>1</td>\n",
              "      <td>2014-06-26</td>\n",
              "      <td>65</td>\n",
              "      <td>39</td>\n",
              "      <td>1</td>\n",
              "      <td>16</td>\n",
              "      <td>2</td>\n",
              "      <td>0</td>\n",
              "      <td>3</td>\n",
              "      <td>4</td>\n",
              "      <td>3</td>\n",
              "      <td>0</td>\n",
              "      <td>3</td>\n",
              "      <td>8</td>\n",
              "      <td>0</td>\n",
              "      <td>0</td>\n",
              "      <td>0</td>\n",
              "      <td>0</td>\n",
              "      <td>0</td>\n",
              "      <td>0</td>\n",
              "      <td>3</td>\n",
              "      <td>11</td>\n",
              "      <td>0</td>\n",
              "      <td>45</td>\n",
              "      <td>2</td>\n",
              "    </tr>\n",
              "    <tr>\n",
              "      <th>9303</th>\n",
              "      <td>1976</td>\n",
              "      <td>Graduação</td>\n",
              "      <td>Casado</td>\n",
              "      <td>5305.0</td>\n",
              "      <td>0</td>\n",
              "      <td>1</td>\n",
              "      <td>2013-07-30</td>\n",
              "      <td>12</td>\n",
              "      <td>12</td>\n",
              "      <td>4</td>\n",
              "      <td>7</td>\n",
              "      <td>1</td>\n",
              "      <td>3</td>\n",
              "      <td>5</td>\n",
              "      <td>0</td>\n",
              "      <td>1</td>\n",
              "      <td>0</td>\n",
              "      <td>0</td>\n",
              "      <td>13</td>\n",
              "      <td>0</td>\n",
              "      <td>0</td>\n",
              "      <td>0</td>\n",
              "      <td>0</td>\n",
              "      <td>0</td>\n",
              "      <td>0</td>\n",
              "      <td>3</td>\n",
              "      <td>11</td>\n",
              "      <td>0</td>\n",
              "      <td>44</td>\n",
              "      <td>1</td>\n",
              "    </tr>\n",
              "  </tbody>\n",
              "</table>\n",
              "<p>259 rows × 30 columns</p>\n",
              "</div>\n",
              "      <button class=\"colab-df-convert\" onclick=\"convertToInteractive('df-8a175b09-da68-4104-9223-43c1a33c4f28')\"\n",
              "              title=\"Convert this dataframe to an interactive table.\"\n",
              "              style=\"display:none;\">\n",
              "        \n",
              "  <svg xmlns=\"http://www.w3.org/2000/svg\" height=\"24px\"viewBox=\"0 0 24 24\"\n",
              "       width=\"24px\">\n",
              "    <path d=\"M0 0h24v24H0V0z\" fill=\"none\"/>\n",
              "    <path d=\"M18.56 5.44l.94 2.06.94-2.06 2.06-.94-2.06-.94-.94-2.06-.94 2.06-2.06.94zm-11 1L8.5 8.5l.94-2.06 2.06-.94-2.06-.94L8.5 2.5l-.94 2.06-2.06.94zm10 10l.94 2.06.94-2.06 2.06-.94-2.06-.94-.94-2.06-.94 2.06-2.06.94z\"/><path d=\"M17.41 7.96l-1.37-1.37c-.4-.4-.92-.59-1.43-.59-.52 0-1.04.2-1.43.59L10.3 9.45l-7.72 7.72c-.78.78-.78 2.05 0 2.83L4 21.41c.39.39.9.59 1.41.59.51 0 1.02-.2 1.41-.59l7.78-7.78 2.81-2.81c.8-.78.8-2.07 0-2.86zM5.41 20L4 18.59l7.72-7.72 1.47 1.35L5.41 20z\"/>\n",
              "  </svg>\n",
              "      </button>\n",
              "      \n",
              "  <style>\n",
              "    .colab-df-container {\n",
              "      display:flex;\n",
              "      flex-wrap:wrap;\n",
              "      gap: 12px;\n",
              "    }\n",
              "\n",
              "    .colab-df-convert {\n",
              "      background-color: #E8F0FE;\n",
              "      border: none;\n",
              "      border-radius: 50%;\n",
              "      cursor: pointer;\n",
              "      display: none;\n",
              "      fill: #1967D2;\n",
              "      height: 32px;\n",
              "      padding: 0 0 0 0;\n",
              "      width: 32px;\n",
              "    }\n",
              "\n",
              "    .colab-df-convert:hover {\n",
              "      background-color: #E2EBFA;\n",
              "      box-shadow: 0px 1px 2px rgba(60, 64, 67, 0.3), 0px 1px 3px 1px rgba(60, 64, 67, 0.15);\n",
              "      fill: #174EA6;\n",
              "    }\n",
              "\n",
              "    [theme=dark] .colab-df-convert {\n",
              "      background-color: #3B4455;\n",
              "      fill: #D2E3FC;\n",
              "    }\n",
              "\n",
              "    [theme=dark] .colab-df-convert:hover {\n",
              "      background-color: #434B5C;\n",
              "      box-shadow: 0px 1px 3px 1px rgba(0, 0, 0, 0.15);\n",
              "      filter: drop-shadow(0px 1px 2px rgba(0, 0, 0, 0.3));\n",
              "      fill: #FFFFFF;\n",
              "    }\n",
              "  </style>\n",
              "\n",
              "      <script>\n",
              "        const buttonEl =\n",
              "          document.querySelector('#df-8a175b09-da68-4104-9223-43c1a33c4f28 button.colab-df-convert');\n",
              "        buttonEl.style.display =\n",
              "          google.colab.kernel.accessAllowed ? 'block' : 'none';\n",
              "\n",
              "        async function convertToInteractive(key) {\n",
              "          const element = document.querySelector('#df-8a175b09-da68-4104-9223-43c1a33c4f28');\n",
              "          const dataTable =\n",
              "            await google.colab.kernel.invokeFunction('convertToInteractive',\n",
              "                                                     [key], {});\n",
              "          if (!dataTable) return;\n",
              "\n",
              "          const docLinkHtml = 'Like what you see? Visit the ' +\n",
              "            '<a target=\"_blank\" href=https://colab.research.google.com/notebooks/data_table.ipynb>data table notebook</a>'\n",
              "            + ' to learn more about interactive tables.';\n",
              "          element.innerHTML = '';\n",
              "          dataTable['output_type'] = 'display_data';\n",
              "          await google.colab.output.renderOutput(dataTable, element);\n",
              "          const docLink = document.createElement('div');\n",
              "          docLink.innerHTML = docLinkHtml;\n",
              "          element.appendChild(docLink);\n",
              "        }\n",
              "      </script>\n",
              "    </div>\n",
              "  </div>\n",
              "  "
            ]
          },
          "metadata": {},
          "execution_count": 62
        }
      ]
    },
    {
      "cell_type": "code",
      "source": [
        "# E a partir do DF criado vamos criar um novo só com a parte de gastos \n",
        "dfgastos2 = dffltidade.loc[:,'gasto_com_vinho':'gasto_com_goldp']"
      ],
      "metadata": {
        "id": "KdtabtBIHSoK"
      },
      "execution_count": null,
      "outputs": []
    },
    {
      "cell_type": "code",
      "source": [
        "dfgastos2.sum()"
      ],
      "metadata": {
        "colab": {
          "base_uri": "https://localhost:8080/"
        },
        "id": "YPSMyhCLHwrK",
        "outputId": "97cd2799-976e-47f0-d954-3f0b57996596"
      },
      "execution_count": null,
      "outputs": [
        {
          "output_type": "execute_result",
          "data": {
            "text/plain": [
              "gasto_com_vinho     71452\n",
              "gasto_com_frutas     6293\n",
              "gasto_com_carne     34013\n",
              "gasto_com_peixe      9208\n",
              "gasto_com_doces      6833\n",
              "gasto_com_goldp      9611\n",
              "dtype: int64"
            ]
          },
          "metadata": {},
          "execution_count": 74
        }
      ]
    },
    {
      "cell_type": "code",
      "source": [
        "dfgastos2.mean()"
      ],
      "metadata": {
        "colab": {
          "base_uri": "https://localhost:8080/"
        },
        "id": "HvwirnZWH1qr",
        "outputId": "283601d8-4559-4061-fa17-0539f192d1ab"
      },
      "execution_count": null,
      "outputs": [
        {
          "output_type": "execute_result",
          "data": {
            "text/plain": [
              "gasto_com_vinho     275.876448\n",
              "gasto_com_frutas     24.297297\n",
              "gasto_com_carne     131.324324\n",
              "gasto_com_peixe      35.552124\n",
              "gasto_com_doces      26.382239\n",
              "gasto_com_goldp      37.108108\n",
              "dtype: float64"
            ]
          },
          "metadata": {},
          "execution_count": 75
        }
      ]
    },
    {
      "cell_type": "code",
      "source": [
        "dfgastos2.max()"
      ],
      "metadata": {
        "colab": {
          "base_uri": "https://localhost:8080/"
        },
        "id": "82RFEB8jH6ud",
        "outputId": "2e83eb5a-be8b-42b4-ccbc-9b8692c4e132"
      },
      "execution_count": null,
      "outputs": [
        {
          "output_type": "execute_result",
          "data": {
            "text/plain": [
              "gasto_com_vinho     1486\n",
              "gasto_com_frutas     197\n",
              "gasto_com_carne      961\n",
              "gasto_com_peixe      250\n",
              "gasto_com_doces      194\n",
              "gasto_com_goldp      232\n",
              "dtype: int64"
            ]
          },
          "metadata": {},
          "execution_count": 76
        }
      ]
    },
    {
      "cell_type": "code",
      "source": [
        "# Verificação do maior gastos dos clientes de 45, 44 e 49 anos\n",
        "dfgastos2.sum().sort_values(ascending=False).plot.bar(figsize=(12,8),xlabel='Tipos de Gastos',ylabel='Valor Gasto', title = 'TOTAL DE GASTOS')"
      ],
      "metadata": {
        "colab": {
          "base_uri": "https://localhost:8080/",
          "height": 608
        },
        "id": "grrjVINEH86q",
        "outputId": "5c087f59-f38a-4e36-a0ac-77f2c6f18aaa"
      },
      "execution_count": null,
      "outputs": [
        {
          "output_type": "execute_result",
          "data": {
            "text/plain": [
              "<AxesSubplot:title={'center':'TOTAL DE GASTOS'}, xlabel='Tipos de Gastos', ylabel='Valor Gasto'>"
            ]
          },
          "metadata": {},
          "execution_count": 95
        },
        {
          "output_type": "display_data",
          "data": {
            "text/plain": [
              "<Figure size 864x576 with 1 Axes>"
            ],
            "image/png": "[encoded data removed]"
          },
          "metadata": {
            "needs_background": "light"
          }
        }
      ]
    },
    {
      "cell_type": "code",
      "source": [
        "# Criando um novo DF para checar como esse perfil prefere fazer as compras\n",
        "dftcompra = dffltidade.loc[:,'qtde_compras_internet':'qtde_comprasna_loja']"
      ],
      "metadata": {
        "id": "eOGBCDCZHH8j"
      },
      "execution_count": null,
      "outputs": []
    },
    {
      "cell_type": "code",
      "source": [
        "dftcompra.sum()"
      ],
      "metadata": {
        "colab": {
          "base_uri": "https://localhost:8080/"
        },
        "id": "P6asbFFLoYiH",
        "outputId": "035f5f9d-c3a2-43d7-895a-de821436bcd6"
      },
      "execution_count": null,
      "outputs": [
        {
          "output_type": "execute_result",
          "data": {
            "text/plain": [
              "qtde_compras_internet    1001\n",
              "qtde_compras_catalogo     602\n",
              "qtde_comprasna_loja      1429\n",
              "dtype: int64"
            ]
          },
          "metadata": {},
          "execution_count": 47
        }
      ]
    },
    {
      "cell_type": "code",
      "source": [
        "#Checando por gráfico com a soma de vezes total das formas de compra\n",
        "dftcompra.sum().sort_values(ascending=False).plot.bar(figsize=(12,8),xlabel='Modo que fez a Compra',ylabel='Quantidade de Compras', title = 'PREFERENCIA DA FORMA DE FAZER AS COMPRAS')"
      ],
      "metadata": {
        "colab": {
          "base_uri": "https://localhost:8080/",
          "height": 638
        },
        "id": "zMNQVQbRpTFp",
        "outputId": "0cc68969-9276-4589-b21f-aac4b249e216"
      },
      "execution_count": null,
      "outputs": [
        {
          "output_type": "execute_result",
          "data": {
            "text/plain": [
              "<AxesSubplot:title={'center':'PREFERENCIA DA FORMA DE FAZER AS COMPRAS'}, xlabel='Modo que fez a Compra', ylabel='Quantidade de Compras'>"
            ]
          },
          "metadata": {},
          "execution_count": 51
        },
        {
          "output_type": "display_data",
          "data": {
            "text/plain": [
              "<Figure size 864x576 with 1 Axes>"
            ],
            "image/png": "[encoded data removed]"
          },
          "metadata": {
            "needs_background": "light"
          }
        }
      ]
    },
    {
      "cell_type": "code",
      "source": [
        "#Checando numéricamente e por gráfico o agrupamento por escolaridade do perfil traçado\n",
        "dffltidade.groupby('escolaridade').size()"
      ],
      "metadata": {
        "colab": {
          "base_uri": "https://localhost:8080/"
        },
        "id": "aKTddUQ3wdeB",
        "outputId": "e60ba4d3-b276-481f-ca86-41f72c142b3a"
      },
      "execution_count": null,
      "outputs": [
        {
          "output_type": "execute_result",
          "data": {
            "text/plain": [
              "escolaridade\n",
              "Ensino Fundamental      3\n",
              "Graduação             126\n",
              "Mestrado               53\n",
              "PhD                    50\n",
              "Segundo Ciclo          27\n",
              "dtype: int64"
            ]
          },
          "metadata": {},
          "execution_count": 54
        }
      ]
    },
    {
      "cell_type": "code",
      "source": [
        "dffltidade.groupby('escolaridade').size().sort_values(ascending=False).plot.bar(figsize=(12,8),xlabel='Escolaridade',ylabel='Pessoas de 44,45 e 49 anos', title = 'GRAU DE ESCOLARIDADE DO PERFIL')"
      ],
      "metadata": {
        "colab": {
          "base_uri": "https://localhost:8080/",
          "height": 622
        },
        "id": "v4WPZe3NxU7L",
        "outputId": "3f544537-b6a3-49c3-8786-28a81a3f7793"
      },
      "execution_count": null,
      "outputs": [
        {
          "output_type": "execute_result",
          "data": {
            "text/plain": [
              "<AxesSubplot:title={'center':'GRAU DE ESCOLARIDADE DO PERFIL'}, xlabel='Escolaridade', ylabel='Pessoas de 44,45 e 49 anos'>"
            ]
          },
          "metadata": {},
          "execution_count": 66
        },
        {
          "output_type": "display_data",
          "data": {
            "text/plain": [
              "<Figure size 864x576 with 1 Axes>"
            ],
            "image/png": "[encoded data removed]"
          },
          "metadata": {
            "needs_background": "light"
          }
        }
      ]
    },
    {
      "cell_type": "code",
      "source": [
        "#Checando numéricamente e por gráfico o agrupamento por número de filhos do perfil traçado\n",
        "dffltidade.groupby('nfilhos').size()"
      ],
      "metadata": {
        "colab": {
          "base_uri": "https://localhost:8080/"
        },
        "id": "jI3D0cbAxZz1",
        "outputId": "8e116521-cbbd-44de-dce8-9fa3766d4c5e"
      },
      "execution_count": null,
      "outputs": [
        {
          "output_type": "execute_result",
          "data": {
            "text/plain": [
              "nfilhos\n",
              "0     39\n",
              "1    156\n",
              "2     63\n",
              "3      1\n",
              "dtype: int64"
            ]
          },
          "metadata": {},
          "execution_count": 63
        }
      ]
    },
    {
      "cell_type": "code",
      "source": [
        "dffltidade.groupby('nfilhos').size().sort_values(ascending=False).plot.bar(figsize=(12,8),xlabel='Número de filhos',ylabel='Pessoas de 44,45 e 49 anos', title = 'QUANTIDADE DE FILHOS NO TOTAL REFERENTE AO PERFIL')"
      ],
      "metadata": {
        "colab": {
          "base_uri": "https://localhost:8080/",
          "height": 526
        },
        "id": "MW0rieCvz2-Y",
        "outputId": "a4609368-c7cc-4a98-f916-bdd8b5852570"
      },
      "execution_count": null,
      "outputs": [
        {
          "output_type": "execute_result",
          "data": {
            "text/plain": [
              "<AxesSubplot:title={'center':'QUANTIDADE DE FILHOS NO TOTAL REFERENTE AO PERFIL'}, xlabel='Número de filhos', ylabel='Pessoas de 44,45 e 49 anos'>"
            ]
          },
          "metadata": {},
          "execution_count": 67
        },
        {
          "output_type": "display_data",
          "data": {
            "text/plain": [
              "<Figure size 864x576 with 1 Axes>"
            ],
            "image/png": "[encoded data removed]"
          },
          "metadata": {
            "needs_background": "light"
          }
        }
      ]
    },
    {
      "cell_type": "code",
      "source": [
        "#Checando numéricamente e por gráfico o agrupamento por estado civil do perfil traçado\n",
        "dffltidade.groupby('estado_civil').size()"
      ],
      "metadata": {
        "colab": {
          "base_uri": "https://localhost:8080/"
        },
        "id": "l5818YIJyI-J",
        "outputId": "d8fea358-24cf-4db5-cf30-f6aa35828c78"
      },
      "execution_count": null,
      "outputs": [
        {
          "output_type": "execute_result",
          "data": {
            "text/plain": [
              "estado_civil\n",
              "Casado           100\n",
              "Divorciado        37\n",
              "Solteiro          48\n",
              "União Estável     67\n",
              "Viuvo              7\n",
              "dtype: int64"
            ]
          },
          "metadata": {},
          "execution_count": 64
        }
      ]
    },
    {
      "cell_type": "code",
      "source": [
        "dffltidade.groupby('estado_civil').size().sort_values(ascending=False).plot.bar(figsize=(12,8),xlabel='Estado Civil',ylabel='Pessoas de 44,45 e 49 anos', title = 'ESTADO CIVIL REFERENTE AO PERFIL')"
      ],
      "metadata": {
        "colab": {
          "base_uri": "https://localhost:8080/",
          "height": 588
        },
        "id": "B5wU_zzU0oq7",
        "outputId": "e464c659-57c5-4d92-b959-a2fd0fcafae8"
      },
      "execution_count": null,
      "outputs": [
        {
          "output_type": "execute_result",
          "data": {
            "text/plain": [
              "<AxesSubplot:title={'center':'ESTADO CIVIL REFERENTE AO PERFIL'}, xlabel='Estado Civil', ylabel='Pessoas de 44,45 e 49 anos'>"
            ]
          },
          "metadata": {},
          "execution_count": 69
        },
        {
          "output_type": "display_data",
          "data": {
            "text/plain": [
              "<Figure size 864x576 with 1 Axes>"
            ],
            "image/png": "[encoded data removed]"
          },
          "metadata": {
            "needs_background": "light"
          }
        }
      ]
    },
    {
      "cell_type": "markdown",
      "source": [
        "###Conclusão 1"
      ],
      "metadata": {
        "id": "_LF0k_weqgTk"
      }
    },
    {
      "cell_type": "markdown",
      "source": [
        "Percebemos que o perfil das pessoas que tem as 3 maiores entradas de dados é a seguinte:\n",
        "\n",
        "1. Tem 44,45 e 49 anos\n",
        "2. A Maioria estava casada em 2020\n",
        "3. Seu maior gasto é com vinho\n",
        "4. Preferem fazer a compra diretamente na loja\n",
        "5. A Maioria tem 1 filho\n",
        "6. A Maioria Possuí Gradução\n",
        "\n",
        "\n",
        "Com essas informações podemos criar melhores campanhas de marketing para esse perfil"
      ],
      "metadata": {
        "id": "fbgcBZcmqlKc"
      }
    },
    {
      "cell_type": "code",
      "source": [
        "#Verificando Estado Civil\n",
        "df.groupby('estado_civil')"
      ],
      "metadata": {
        "colab": {
          "base_uri": "https://localhost:8080/"
        },
        "id": "YoydezUCSESm",
        "outputId": "6387f412-2634-47a7-c7b7-88a54f36720e"
      },
      "execution_count": null,
      "outputs": [
        {
          "output_type": "execute_result",
          "data": {
            "text/plain": [
              "estado_civil\n",
              "Absurd             2\n",
              "Casado           864\n",
              "Divorciado       231\n",
              "Solteiro         479\n",
              "Sozinho            3\n",
              "União Estável    579\n",
              "Viuvo             77\n",
              "YOLO               2\n",
              "dtype: int64"
            ]
          },
          "metadata": {},
          "execution_count": 176
        }
      ]
    },
    {
      "cell_type": "code",
      "source": [
        "df.groupby(['estado_civil'],dropna=False).size().sort_values(ascending=False).plot.bar(figsize=(12,8),xlabel='ESTADO CIVIL',ylabel='NÚMERO DE PESSOAS', title = 'ESTADO CIVIL ')"
      ],
      "metadata": {
        "colab": {
          "base_uri": "https://localhost:8080/",
          "height": 588
        },
        "id": "325yvzsGvqcN",
        "outputId": "96e25701-596b-4d77-a833-ab897ee1448a"
      },
      "execution_count": null,
      "outputs": [
        {
          "output_type": "execute_result",
          "data": {
            "text/plain": [
              "<AxesSubplot:title={'center':'ESTADO CIVIL '}, xlabel='ESTADO CIVIL', ylabel='NÚMERO DE PESSOAS'>"
            ]
          },
          "metadata": {},
          "execution_count": 94
        },
        {
          "output_type": "display_data",
          "data": {
            "text/plain": [
              "<Figure size 864x576 with 1 Axes>"
            ],
            "image/png": "[encoded data removed]"
          },
          "metadata": {
            "needs_background": "light"
          }
        }
      ]
    },
    {
      "cell_type": "code",
      "source": [
        "# Gerando uma nova coluna com a quantidade de filhos totais\n",
        "df['nfilhos'] = df['qtde_de_criancas'] + df['qtde_de_adolescentes']"
      ],
      "metadata": {
        "id": "d6PXoc7vzEyt"
      },
      "execution_count": null,
      "outputs": []
    },
    {
      "cell_type": "code",
      "source": [
        "# Análisando a relação da entrada de dados com a quantidade de filhos\n",
        "df.groupby('nfilhos').size().sort_values(ascending=False)"
      ],
      "metadata": {
        "colab": {
          "base_uri": "https://localhost:8080/"
        },
        "id": "oaDSEXAcEr6M",
        "outputId": "0542a103-c9a5-455e-c499-d8a57aefd67e"
      },
      "execution_count": null,
      "outputs": [
        {
          "output_type": "execute_result",
          "data": {
            "text/plain": [
              "nfilhos\n",
              "1    1128\n",
              "0     638\n",
              "2     421\n",
              "3      53\n",
              "dtype: int64"
            ]
          },
          "metadata": {},
          "execution_count": 45
        }
      ]
    },
    {
      "cell_type": "code",
      "source": [
        "df.groupby('nfilhos').size().sort_values(ascending=False).plot.bar(figsize=(12,8),xlabel='Quantidade de filhos',ylabel='Clientes', title = 'TOTAL DE FILHOS')"
      ],
      "metadata": {
        "colab": {
          "base_uri": "https://localhost:8080/",
          "height": 526
        },
        "id": "KupVsVN5FVtF",
        "outputId": "c2111ceb-bf2b-47d7-938e-bd8b35b3d084"
      },
      "execution_count": null,
      "outputs": [
        {
          "output_type": "execute_result",
          "data": {
            "text/plain": [
              "<AxesSubplot:title={'center':'TOTAL DE FILHOS'}, xlabel='Quantidade de filhos', ylabel='Clientes'>"
            ]
          },
          "metadata": {},
          "execution_count": 93
        },
        {
          "output_type": "display_data",
          "data": {
            "text/plain": [
              "<Figure size 864x576 with 1 Axes>"
            ],
            "image/png": "[encoded data removed]"
          },
          "metadata": {
            "needs_background": "light"
          }
        }
      ]
    },
    {
      "cell_type": "code",
      "source": [
        "# Análise da relação entre escolaridade e Renda\n",
        "df.groupby('escolaridade')['renda'].max().sort_values(ascending=False)"
      ],
      "metadata": {
        "colab": {
          "base_uri": "https://localhost:8080/"
        },
        "outputId": "37f65e23-1f0f-4d89-ac5f-345e09588884",
        "id": "ZXX5KNWFqvAr"
      },
      "execution_count": null,
      "outputs": [
        {
          "output_type": "execute_result",
          "data": {
            "text/plain": [
              "escolaridade\n",
              "Graduação             666666.0\n",
              "PhD                   162397.0\n",
              "Mestrado              157733.0\n",
              "Segundo Ciclo          96547.0\n",
              "Ensino Fundamental     34445.0\n",
              "Name: renda, dtype: float64"
            ]
          },
          "metadata": {},
          "execution_count": 73
        }
      ]
    },
    {
      "cell_type": "code",
      "source": [
        "df.groupby('escolaridade')['renda'].mean().sort_values(ascending=False)"
      ],
      "metadata": {
        "colab": {
          "base_uri": "https://localhost:8080/"
        },
        "id": "9f9jC1I5F3WL",
        "outputId": "d0848e59-ae5d-4ffb-e895-0c61861ab1bd"
      },
      "execution_count": null,
      "outputs": [
        {
          "output_type": "execute_result",
          "data": {
            "text/plain": [
              "escolaridade\n",
              "PhD                   56145.313929\n",
              "Mestrado              52917.534247\n",
              "Graduação             52720.373656\n",
              "Segundo Ciclo         47633.190000\n",
              "Ensino Fundamental    20306.259259\n",
              "Name: renda, dtype: float64"
            ]
          },
          "metadata": {},
          "execution_count": 48
        }
      ]
    },
    {
      "cell_type": "code",
      "source": [
        "df.groupby('escolaridade')['renda'].mean().sort_values(ascending=False).plot.bar(figsize=(12,8),xlabel='ESCOLARIDADE',ylabel='Media Renda', title = 'ESCOLARIDADE x RENDA')"
      ],
      "metadata": {
        "colab": {
          "base_uri": "https://localhost:8080/",
          "height": 622
        },
        "id": "omR4dB86F8CH",
        "outputId": "3723c353-641e-4878-df0b-09c52dc81476"
      },
      "execution_count": null,
      "outputs": [
        {
          "output_type": "execute_result",
          "data": {
            "text/plain": [
              "<AxesSubplot:title={'center':'ESCOLARIDADE x RENDA'}, xlabel='ESCOLARIDADE', ylabel='Media Renda'>"
            ]
          },
          "metadata": {},
          "execution_count": 92
        },
        {
          "output_type": "display_data",
          "data": {
            "text/plain": [
              "<Figure size 864x576 with 1 Axes>"
            ],
            "image/png": "[encoded data removed]"
          },
          "metadata": {
            "needs_background": "light"
          }
        }
      ]
    },
    {
      "cell_type": "code",
      "source": [
        "#Analisando a relação entre número de filhos e o gasto com vinho que é o maior gasto geral\n",
        "df.groupby('nfilhos')['gasto_com_vinho'].sum().sort_values(ascending=False)"
      ],
      "metadata": {
        "colab": {
          "base_uri": "https://localhost:8080/"
        },
        "id": "EXQlNXYAmpNu",
        "outputId": "5c896d49-51c8-4b8c-be28-0f896474adf1"
      },
      "execution_count": null,
      "outputs": [
        {
          "output_type": "execute_result",
          "data": {
            "text/plain": [
              "nfilhos\n",
              "0    310901\n",
              "1    301222\n",
              "2     59610\n",
              "3      9083\n",
              "Name: gasto_com_vinho, dtype: int64"
            ]
          },
          "metadata": {},
          "execution_count": 51
        }
      ]
    },
    {
      "cell_type": "code",
      "source": [
        "df.groupby('nfilhos')['gasto_com_vinho'].sum().sort_values(ascending=False).plot.bar(figsize=(12,8),xlabel='QUANTIDADE DE FILHOS',ylabel='Valor Gasto', title = 'TOTAL GASTO COM VINHO')"
      ],
      "metadata": {
        "id": "DTNcwgHQ2vJB",
        "colab": {
          "base_uri": "https://localhost:8080/",
          "height": 526
        },
        "outputId": "ca13af9f-e8bb-4187-bdd2-b7da48d34c27"
      },
      "execution_count": null,
      "outputs": [
        {
          "output_type": "execute_result",
          "data": {
            "text/plain": [
              "<AxesSubplot:title={'center':'TOTAL GASTO COM VINHO'}, xlabel='QUANTIDADE DE FILHOS', ylabel='Valor Gasto'>"
            ]
          },
          "metadata": {},
          "execution_count": 91
        },
        {
          "output_type": "display_data",
          "data": {
            "text/plain": [
              "<Figure size 864x576 with 1 Axes>"
            ],
            "image/png": "[encoded data removed]"
          },
          "metadata": {
            "needs_background": "light"
          }
        }
      ]
    },
    {
      "cell_type": "markdown",
      "source": [
        "### Conclusão 2"
      ],
      "metadata": {
        "id": "Sh33jtcbvOHp"
      }
    },
    {
      "cell_type": "markdown",
      "source": [
        "Podemos perceber que pessoas com até 1 filho consomem muito mais vinho do que as que tem mais de 1 filho"
      ],
      "metadata": {
        "id": "wN4hELjpvS2e"
      }
    },
    {
      "cell_type": "code",
      "source": [
        "#Criando um DF Separado para análise das campanhas\n",
        "dfcampanha = df.loc[:,'Campanha4':'Campanha2']"
      ],
      "metadata": {
        "id": "jiVvz4RNJJ55"
      },
      "execution_count": null,
      "outputs": []
    },
    {
      "cell_type": "code",
      "source": [
        "dfcampanha"
      ],
      "metadata": {
        "colab": {
          "base_uri": "https://localhost:8080/",
          "height": 455
        },
        "id": "eBQDn5aIJqd3",
        "outputId": "08e9ef44-4cf7-4694-8979-2a0c60384249"
      },
      "execution_count": null,
      "outputs": [
        {
          "output_type": "execute_result",
          "data": {
            "text/plain": [
              "       Campanha4  Campanha5  Campanha1  Campanha2\n",
              "ID                                               \n",
              "5524           0          0          0          0\n",
              "2174           0          0          0          0\n",
              "4141           0          0          0          0\n",
              "6182           0          0          0          0\n",
              "5324           0          0          0          0\n",
              "...          ...        ...        ...        ...\n",
              "10870          0          0          0          0\n",
              "4001           0          0          1          0\n",
              "7270           1          0          0          0\n",
              "8235           0          0          0          0\n",
              "9405           0          0          0          0\n",
              "\n",
              "[2237 rows x 4 columns]"
            ],
            "text/html": [
              "\n",
              "  <div id=\"df-15b13387-141c-4928-9861-f1134e66fdbe\">\n",
              "    <div class=\"colab-df-container\">\n",
              "      <div>\n",
              "<style scoped>\n",
              "    .dataframe tbody tr th:only-of-type {\n",
              "        vertical-align: middle;\n",
              "    }\n",
              "\n",
              "    .dataframe tbody tr th {\n",
              "        vertical-align: top;\n",
              "    }\n",
              "\n",
              "    .dataframe thead th {\n",
              "        text-align: right;\n",
              "    }\n",
              "</style>\n",
              "<table border=\"1\" class=\"dataframe\">\n",
              "  <thead>\n",
              "    <tr style=\"text-align: right;\">\n",
              "      <th></th>\n",
              "      <th>Campanha4</th>\n",
              "      <th>Campanha5</th>\n",
              "      <th>Campanha1</th>\n",
              "      <th>Campanha2</th>\n",
              "    </tr>\n",
              "    <tr>\n",
              "      <th>ID</th>\n",
              "      <th></th>\n",
              "      <th></th>\n",
              "      <th></th>\n",
              "      <th></th>\n",
              "    </tr>\n",
              "  </thead>\n",
              "  <tbody>\n",
              "    <tr>\n",
              "      <th>5524</th>\n",
              "      <td>0</td>\n",
              "      <td>0</td>\n",
              "      <td>0</td>\n",
              "      <td>0</td>\n",
              "    </tr>\n",
              "    <tr>\n",
              "      <th>2174</th>\n",
              "      <td>0</td>\n",
              "      <td>0</td>\n",
              "      <td>0</td>\n",
              "      <td>0</td>\n",
              "    </tr>\n",
              "    <tr>\n",
              "      <th>4141</th>\n",
              "      <td>0</td>\n",
              "      <td>0</td>\n",
              "      <td>0</td>\n",
              "      <td>0</td>\n",
              "    </tr>\n",
              "    <tr>\n",
              "      <th>6182</th>\n",
              "      <td>0</td>\n",
              "      <td>0</td>\n",
              "      <td>0</td>\n",
              "      <td>0</td>\n",
              "    </tr>\n",
              "    <tr>\n",
              "      <th>5324</th>\n",
              "      <td>0</td>\n",
              "      <td>0</td>\n",
              "      <td>0</td>\n",
              "      <td>0</td>\n",
              "    </tr>\n",
              "    <tr>\n",
              "      <th>...</th>\n",
              "      <td>...</td>\n",
              "      <td>...</td>\n",
              "      <td>...</td>\n",
              "      <td>...</td>\n",
              "    </tr>\n",
              "    <tr>\n",
              "      <th>10870</th>\n",
              "      <td>0</td>\n",
              "      <td>0</td>\n",
              "      <td>0</td>\n",
              "      <td>0</td>\n",
              "    </tr>\n",
              "    <tr>\n",
              "      <th>4001</th>\n",
              "      <td>0</td>\n",
              "      <td>0</td>\n",
              "      <td>1</td>\n",
              "      <td>0</td>\n",
              "    </tr>\n",
              "    <tr>\n",
              "      <th>7270</th>\n",
              "      <td>1</td>\n",
              "      <td>0</td>\n",
              "      <td>0</td>\n",
              "      <td>0</td>\n",
              "    </tr>\n",
              "    <tr>\n",
              "      <th>8235</th>\n",
              "      <td>0</td>\n",
              "      <td>0</td>\n",
              "      <td>0</td>\n",
              "      <td>0</td>\n",
              "    </tr>\n",
              "    <tr>\n",
              "      <th>9405</th>\n",
              "      <td>0</td>\n",
              "      <td>0</td>\n",
              "      <td>0</td>\n",
              "      <td>0</td>\n",
              "    </tr>\n",
              "  </tbody>\n",
              "</table>\n",
              "<p>2237 rows × 4 columns</p>\n",
              "</div>\n",
              "      <button class=\"colab-df-convert\" onclick=\"convertToInteractive('df-15b13387-141c-4928-9861-f1134e66fdbe')\"\n",
              "              title=\"Convert this dataframe to an interactive table.\"\n",
              "              style=\"display:none;\">\n",
              "        \n",
              "  <svg xmlns=\"http://www.w3.org/2000/svg\" height=\"24px\"viewBox=\"0 0 24 24\"\n",
              "       width=\"24px\">\n",
              "    <path d=\"M0 0h24v24H0V0z\" fill=\"none\"/>\n",
              "    <path d=\"M18.56 5.44l.94 2.06.94-2.06 2.06-.94-2.06-.94-.94-2.06-.94 2.06-2.06.94zm-11 1L8.5 8.5l.94-2.06 2.06-.94-2.06-.94L8.5 2.5l-.94 2.06-2.06.94zm10 10l.94 2.06.94-2.06 2.06-.94-2.06-.94-.94-2.06-.94 2.06-2.06.94z\"/><path d=\"M17.41 7.96l-1.37-1.37c-.4-.4-.92-.59-1.43-.59-.52 0-1.04.2-1.43.59L10.3 9.45l-7.72 7.72c-.78.78-.78 2.05 0 2.83L4 21.41c.39.39.9.59 1.41.59.51 0 1.02-.2 1.41-.59l7.78-7.78 2.81-2.81c.8-.78.8-2.07 0-2.86zM5.41 20L4 18.59l7.72-7.72 1.47 1.35L5.41 20z\"/>\n",
              "  </svg>\n",
              "      </button>\n",
              "      \n",
              "  <style>\n",
              "    .colab-df-container {\n",
              "      display:flex;\n",
              "      flex-wrap:wrap;\n",
              "      gap: 12px;\n",
              "    }\n",
              "\n",
              "    .colab-df-convert {\n",
              "      background-color: #E8F0FE;\n",
              "      border: none;\n",
              "      border-radius: 50%;\n",
              "      cursor: pointer;\n",
              "      display: none;\n",
              "      fill: #1967D2;\n",
              "      height: 32px;\n",
              "      padding: 0 0 0 0;\n",
              "      width: 32px;\n",
              "    }\n",
              "\n",
              "    .colab-df-convert:hover {\n",
              "      background-color: #E2EBFA;\n",
              "      box-shadow: 0px 1px 2px rgba(60, 64, 67, 0.3), 0px 1px 3px 1px rgba(60, 64, 67, 0.15);\n",
              "      fill: #174EA6;\n",
              "    }\n",
              "\n",
              "    [theme=dark] .colab-df-convert {\n",
              "      background-color: #3B4455;\n",
              "      fill: #D2E3FC;\n",
              "    }\n",
              "\n",
              "    [theme=dark] .colab-df-convert:hover {\n",
              "      background-color: #434B5C;\n",
              "      box-shadow: 0px 1px 3px 1px rgba(0, 0, 0, 0.15);\n",
              "      filter: drop-shadow(0px 1px 2px rgba(0, 0, 0, 0.3));\n",
              "      fill: #FFFFFF;\n",
              "    }\n",
              "  </style>\n",
              "\n",
              "      <script>\n",
              "        const buttonEl =\n",
              "          document.querySelector('#df-15b13387-141c-4928-9861-f1134e66fdbe button.colab-df-convert');\n",
              "        buttonEl.style.display =\n",
              "          google.colab.kernel.accessAllowed ? 'block' : 'none';\n",
              "\n",
              "        async function convertToInteractive(key) {\n",
              "          const element = document.querySelector('#df-15b13387-141c-4928-9861-f1134e66fdbe');\n",
              "          const dataTable =\n",
              "            await google.colab.kernel.invokeFunction('convertToInteractive',\n",
              "                                                     [key], {});\n",
              "          if (!dataTable) return;\n",
              "\n",
              "          const docLinkHtml = 'Like what you see? Visit the ' +\n",
              "            '<a target=\"_blank\" href=https://colab.research.google.com/notebooks/data_table.ipynb>data table notebook</a>'\n",
              "            + ' to learn more about interactive tables.';\n",
              "          element.innerHTML = '';\n",
              "          dataTable['output_type'] = 'display_data';\n",
              "          await google.colab.output.renderOutput(dataTable, element);\n",
              "          const docLink = document.createElement('div');\n",
              "          docLink.innerHTML = docLinkHtml;\n",
              "          element.appendChild(docLink);\n",
              "        }\n",
              "      </script>\n",
              "    </div>\n",
              "  </div>\n",
              "  "
            ]
          },
          "metadata": {},
          "execution_count": 81
        }
      ]
    },
    {
      "cell_type": "code",
      "source": [
        "# Verficando o sucesso de cada campanha\n",
        "dfcampanha.sum()"
      ],
      "metadata": {
        "colab": {
          "base_uri": "https://localhost:8080/"
        },
        "outputId": "a64327fb-c64b-4703-8de7-070126192b47",
        "id": "wYQiCTzGJJ56"
      },
      "execution_count": null,
      "outputs": [
        {
          "output_type": "execute_result",
          "data": {
            "text/plain": [
              "Campanha4    167\n",
              "Campanha5    162\n",
              "Campanha1    144\n",
              "Campanha2     30\n",
              "dtype: int64"
            ]
          },
          "metadata": {},
          "execution_count": 82
        }
      ]
    },
    {
      "cell_type": "code",
      "source": [
        "dfcampanha.sum().sort_values(ascending=False).plot.bar(figsize=(12,8),xlabel='Campanha',ylabel='Total de Clientes que aderiram', title='ADESÃO DE CAMPANHA')"
      ],
      "metadata": {
        "colab": {
          "base_uri": "https://localhost:8080/",
          "height": 580
        },
        "id": "V6vPXyBLJ1TS",
        "outputId": "273ac824-7047-452b-93a0-a6876612a751"
      },
      "execution_count": null,
      "outputs": [
        {
          "output_type": "execute_result",
          "data": {
            "text/plain": [
              "<AxesSubplot:title={'center':'ADESÃO DE CAMPANHA'}, xlabel='Campanha', ylabel='Total de Clientes que aderiram'>"
            ]
          },
          "metadata": {},
          "execution_count": 88
        },
        {
          "output_type": "display_data",
          "data": {
            "text/plain": [
              "<Figure size 864x576 with 1 Axes>"
            ],
            "image/png": "[encoded data removed]"
          },
          "metadata": {
            "needs_background": "light"
          }
        }
      ]
    },
    {
      "cell_type": "markdown",
      "source": [
        "### Conclusão 3"
      ],
      "metadata": {
        "id": "Ef0_EMmLv3f_"
      }
    },
    {
      "cell_type": "markdown",
      "source": [
        "Podemos perceber que nenhuma das campanhas tiveram uma boa aceitação porém entre elas as melhores foram a 4 e 5"
      ],
      "metadata": {
        "id": "vX0_Gkhvv9RY"
      }
    }
  ]
}