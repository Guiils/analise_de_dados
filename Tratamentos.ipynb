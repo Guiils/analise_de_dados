{
  "nbformat": 4,
  "nbformat_minor": 0,
  "metadata": {
    "colab": {
      "provenance": [],
      "authorship_tag": "ABX9TyOSwknKNvaTv6AMkJQmInf0",
      "include_colab_link": true
    },
    "kernelspec": {
      "name": "python3",
      "display_name": "Python 3"
    },
    "language_info": {
      "name": "python"
    }
  },
  "cells": [
    {
      "cell_type": "markdown",
      "metadata": {
        "id": "view-in-github",
        "colab_type": "text"
      },
      "source": [
        "<a href=\"https://colab.research.google.com/github/Guiils/analise_de_dados/blob/main/Tratamentos.ipynb\" target=\"_parent\"><img src=\"https://colab.research.google.com/assets/colab-badge.svg\" alt=\"Open In Colab\"/></a>"
      ]
    },
    {
      "cell_type": "code",
      "execution_count": null,
      "metadata": {
        "id": "SIQ20kOg4iI5"
      },
      "outputs": [],
      "source": [
        "pip install pymongo"
      ]
    },
    {
      "cell_type": "code",
      "source": [
        "pip install gcsfs"
      ],
      "metadata": {
        "id": "WtCCRym_60vk"
      },
      "execution_count": null,
      "outputs": []
    },
    {
      "cell_type": "code",
      "source": [
        "pip install pandera"
      ],
      "metadata": {
        "id": "LPPiPsztAG0z"
      },
      "execution_count": null,
      "outputs": []
    },
    {
      "cell_type": "code",
      "source": [
        "import pymongo\n",
        "from pymongo import MongoClient"
      ],
      "metadata": {
        "id": "wxNP2uEx44rU"
      },
      "execution_count": null,
      "outputs": []
    },
    {
      "cell_type": "code",
      "source": [
        "import pandera as pa"
      ],
      "metadata": {
        "id": "ycAPxGuFALvD"
      },
      "execution_count": null,
      "outputs": []
    },
    {
      "cell_type": "code",
      "source": [
        "import pandas as pd\n",
        "import numpy as np\n",
        "import os\n",
        "from google.cloud import storage"
      ],
      "metadata": {
        "id": "ZyhyN8rB6-h4"
      },
      "execution_count": null,
      "outputs": []
    },
    {
      "cell_type": "code",
      "source": [
        "#Conector MongoDB Atlas\n",
        "uri = \"mongodb+srv://clusterad1.zicdsgn.mongodb.net/?authSource=%24external&authMechanism=MONGODB-X509&retryWrites=true&w=majority\"\n",
        "client = MongoClient(uri,tls=True,tlsCertificateKeyFile='/content/X509-cert-4581822443265424952.pem')\n",
        "\n",
        "db = client['cenipa']\n",
        "colecao = db['tratados']"
      ],
      "metadata": {
        "id": "UcnApTAI5ckM"
      },
      "execution_count": null,
      "outputs": []
    },
    {
      "cell_type": "code",
      "source": [
        "serviceAccount = '/content/advance-airline-377819-1bf613aac07c.json'\n",
        "os.environ['GOOGLE_APPLICATION_CREDENTIALS'] = serviceAccount"
      ],
      "metadata": {
        "id": "ieBfVw5N6sVQ"
      },
      "execution_count": null,
      "outputs": []
    },
    {
      "cell_type": "code",
      "source": [
        "client = storage.Client()\n",
        "bucket = client.get_bucket('ad1-bucket')\n",
        "bucket.blob('ocorrenciass.csv')\n",
        "path = 'gs://ad1-bucket/brutos/ocorrenciass.csv'"
      ],
      "metadata": {
        "id": "1eHUnD427H5k"
      },
      "execution_count": null,
      "outputs": []
    },
    {
      "cell_type": "markdown",
      "source": [
        "##Cenipa"
      ],
      "metadata": {
        "id": "AAAGfuZ0IBEk"
      }
    },
    {
      "cell_type": "markdown",
      "source": [
        "bruto"
      ],
      "metadata": {
        "id": "lbh2eT9aeB8S"
      }
    },
    {
      "cell_type": "code",
      "source": [
        "df = pd.read_csv(path,sep=';',encoding='ISO-8859-1',parse_dates=['ocorrencia_dia'],dayfirst=True)"
      ],
      "metadata": {
        "id": "-bnoQOF57ORY"
      },
      "execution_count": null,
      "outputs": []
    },
    {
      "cell_type": "code",
      "source": [
        "db = client['bruto']\n",
        "colecaocenipa = db['cenipa']\n",
        "colecaocenipa.count_documents({})"
      ],
      "metadata": {
        "colab": {
          "base_uri": "https://localhost:8080/"
        },
        "id": "kXqZup817hIa",
        "outputId": "9467d99a-e772-482c-c34f-08e73e6dd3b7"
      },
      "execution_count": null,
      "outputs": [
        {
          "output_type": "execute_result",
          "data": {
            "text/plain": [
              "6769"
            ]
          },
          "metadata": {},
          "execution_count": 79
        }
      ]
    },
    {
      "cell_type": "code",
      "source": [
        "df_dict = df.to_dict(\"records\")\n",
        "\n",
        "colecaocenipa.insert_many(df_dict)"
      ],
      "metadata": {
        "colab": {
          "base_uri": "https://localhost:8080/"
        },
        "id": "g5SgMv5D8ASZ",
        "outputId": "560c62a8-fc1d-4a30-b6f3-3739c558ba2a"
      },
      "execution_count": null,
      "outputs": [
        {
          "output_type": "execute_result",
          "data": {
            "text/plain": [
              "<pymongo.results.InsertManyResult at 0x7f97686e0160>"
            ]
          },
          "metadata": {},
          "execution_count": 49
        }
      ]
    },
    {
      "cell_type": "code",
      "source": [
        "dfback = df.copy()"
      ],
      "metadata": {
        "id": "0q2ZAe2e88z0"
      },
      "execution_count": null,
      "outputs": []
    },
    {
      "cell_type": "markdown",
      "source": [
        "tratado"
      ],
      "metadata": {
        "id": "8c-D_8ZHeALE"
      }
    },
    {
      "cell_type": "code",
      "source": [
        "# Drop de colunas identicas ( codigo_ocorrencia1 , codigo_ocorrencia2,codigo_ocorrencia3 , codigo_ocorrencia4)\n",
        "df.drop(['codigo_ocorrencia1','codigo_ocorrencia2','codigo_ocorrencia3','codigo_ocorrencia4'],axis=1,inplace=True)\n",
        "# Drop de colunas com problemas e/ou não utilizadas na analise\n",
        "df.drop(['ocorrencia_latitude','ocorrencia_longitude','investigacao_aeronave_liberada','investigacao_status','divulgacao_relatorio_numero','divulgacao_relatorio_publicado','divulgacao_dia_publicacao'],axis=1,inplace=True)"
      ],
      "metadata": {
        "id": "9zV5Y-jJ9nTp"
      },
      "execution_count": null,
      "outputs": []
    },
    {
      "cell_type": "code",
      "source": [
        "#Renomeando colunas\n",
        "df.rename(columns={'ocorrencia_classificacao':'classificacao','ocorrencia_cidade':'cidade','ocorrencia_uf':'uf','ocorrencia_pais':'pais'},inplace=True)\n",
        "df.rename(columns={'ocorrencia_aerodromo':'aerodromo','ocorrencia_dia':'data','ocorrencia_hora':'horario','total_aeronaves_envolvidas':'n_aeronaves','ocorrencia_saida_pista':'saida_pista'},inplace=True)"
      ],
      "metadata": {
        "id": "MKywkLs491LF"
      },
      "execution_count": null,
      "outputs": []
    },
    {
      "cell_type": "code",
      "source": [
        "df.replace(['***','**NI'],pd.NA,inplace=True)"
      ],
      "metadata": {
        "id": "UhOHoEmV95c9"
      },
      "execution_count": null,
      "outputs": []
    },
    {
      "cell_type": "code",
      "source": [
        "df.replace(pd.NA,np.NaN,inplace=True)"
      ],
      "metadata": {
        "id": "_fkYrKrv97T9"
      },
      "execution_count": null,
      "outputs": []
    },
    {
      "cell_type": "code",
      "source": [
        "#Converter coluna data para string\n",
        "df['data'] = df['data'].astype(str)"
      ],
      "metadata": {
        "id": "7dffPfk__zv7"
      },
      "execution_count": null,
      "outputs": []
    },
    {
      "cell_type": "code",
      "source": [
        "#Criar coluna periodo (data + horario)\n",
        "df['periodo'] = pd.to_datetime(df['data']+' '+df['horario'])"
      ],
      "metadata": {
        "id": "zUAYvazy_28W"
      },
      "execution_count": null,
      "outputs": []
    },
    {
      "cell_type": "code",
      "source": [
        "#Criação do schema pandera\n",
        "\n",
        "schema = pa.DataFrameSchema(\n",
        "    columns = {\n",
        "        'codigo_ocorrencia':pa.Column(pa.Int),\n",
        "        'classificacao':pa.Column(pa.String),\n",
        "        'cidade':pa.Column(pa.String),\n",
        "        'uf':pa.Column(pa.String,pa.Check.str_length(2,2),nullable=True),\n",
        "        'pais':pa.Column(pa.String),\n",
        "        'aerodromo':pa.Column(pa.String,pa.Check.str_length(4,4),nullable=True),\n",
        "        'data':pa.Column(pa.DateTime),\n",
        "        'horario':pa.Column(pa.String,pa.Check.str_matches(r'^([0-1]?[0-9]|[2][0-3]):([0-5][0-9]):([0-5][0-9])?$'),nullable=True),\n",
        "        'total_recomendacoes':pa.Column(pa.Int),\n",
        "        'n_aeronaves':pa.Column(pa.Int),\n",
        "        'saida_pista':pa.Column(pa.String,pa.Check.str_length(3,3)),\n",
        "    }\n",
        ")\n",
        "\n",
        "schema2 = pa.DataFrameSchema(\n",
        "    columns = {\n",
        "        'codigo_ocorrencia':pa.Column(pa.Int),\n",
        "        'classificacao':pa.Column(pa.String),\n",
        "        'cidade':pa.Column(pa.String),\n",
        "        'uf':pa.Column(pa.String,pa.Check.str_length(2,2),nullable=True),\n",
        "        'pais':pa.Column(pa.String),\n",
        "        'aerodromo':pa.Column(pa.String,pa.Check.str_length(4,4),nullable=True),\n",
        "        'total_recomendacoes':pa.Column(pa.Int),\n",
        "        'n_aeronaves':pa.Column(pa.Int),\n",
        "        'saida_pista':pa.Column(pa.String,pa.Check.str_length(3,3)),\n",
        "        'periodo':pa.Column(pa.DateTime,nullable=True),\n",
        "    }\n",
        ")"
      ],
      "metadata": {
        "id": "3pUdfRBn_9dZ"
      },
      "execution_count": null,
      "outputs": []
    },
    {
      "cell_type": "code",
      "source": [
        "df.drop(['data','horario'],axis=1,inplace=True)"
      ],
      "metadata": {
        "id": "mxW1xZcqAc01"
      },
      "execution_count": null,
      "outputs": []
    },
    {
      "cell_type": "code",
      "source": [
        "df['periodo'] = df['periodo'].astype(str)"
      ],
      "metadata": {
        "id": "IxZWXW-mBPxZ"
      },
      "execution_count": null,
      "outputs": []
    },
    {
      "cell_type": "code",
      "source": [
        "db = client['tratado']\n",
        "colecaocenipa2 = db['cenipa']\n"
      ],
      "metadata": {
        "id": "6JL5nLlmBaZ4"
      },
      "execution_count": null,
      "outputs": []
    },
    {
      "cell_type": "code",
      "source": [
        "df_dict2 = df.to_dict(\"records\")\n",
        "\n",
        "colecaocenipa2.insert_many(df_dict2)"
      ],
      "metadata": {
        "colab": {
          "base_uri": "https://localhost:8080/"
        },
        "id": "7o7DsVYWBr5c",
        "outputId": "95a997c8-6b7c-4e1f-bbc3-d14b8a609fda"
      },
      "execution_count": null,
      "outputs": [
        {
          "output_type": "execute_result",
          "data": {
            "text/plain": [
              "<pymongo.results.InsertManyResult at 0x7f97734c3d90>"
            ]
          },
          "metadata": {},
          "execution_count": 89
        }
      ]
    },
    {
      "cell_type": "markdown",
      "source": [
        "## Airbnb"
      ],
      "metadata": {
        "id": "ie3CYrqLHgaa"
      }
    },
    {
      "cell_type": "markdown",
      "source": [
        "Brutos"
      ],
      "metadata": {
        "id": "73Q-0oABXcgD"
      }
    },
    {
      "cell_type": "code",
      "source": [
        "path2 = 'gs://ad1-bucket/brutos/amsterdam_weekdays.csv'"
      ],
      "metadata": {
        "id": "Jxe73A-fHkNq"
      },
      "execution_count": null,
      "outputs": []
    },
    {
      "cell_type": "code",
      "source": [
        "df2 = pd.read_csv(path2)"
      ],
      "metadata": {
        "id": "zzp6bw9FV5o7"
      },
      "execution_count": null,
      "outputs": []
    },
    {
      "cell_type": "code",
      "source": [
        "db = client['bruto']\n",
        "colecaoairbnb = db['airbnb']"
      ],
      "metadata": {
        "id": "UbvEpUqaWPEw"
      },
      "execution_count": null,
      "outputs": []
    },
    {
      "cell_type": "code",
      "source": [
        "df2_dict = df2.to_dict(\"records\")\n",
        "\n",
        "colecaoairbnb.insert_many(df2_dict)"
      ],
      "metadata": {
        "colab": {
          "base_uri": "https://localhost:8080/"
        },
        "id": "vUMU4dA3Wbyk",
        "outputId": "653972b1-c10a-4347-cce4-09dcf416e5b8"
      },
      "execution_count": null,
      "outputs": [
        {
          "output_type": "execute_result",
          "data": {
            "text/plain": [
              "<pymongo.results.InsertManyResult at 0x7f97717a7fd0>"
            ]
          },
          "metadata": {},
          "execution_count": 77
        }
      ]
    },
    {
      "cell_type": "markdown",
      "source": [
        "Tratados"
      ],
      "metadata": {
        "id": "rwUzjoPsXgAF"
      }
    },
    {
      "cell_type": "code",
      "source": [
        "df2.drop(['Unnamed: 0'], axis=1, inplace = True)"
      ],
      "metadata": {
        "id": "HBG1-nCtXiNL"
      },
      "execution_count": null,
      "outputs": []
    },
    {
      "cell_type": "code",
      "source": [
        "df2.rename(columns={'room_type':'tipo', 'room_shared':'compartilhado','room_private':'privado','person_capacity':'p_capacidade','host_is_superhost':'superhost','cleanliness_rating':'nota_limpeza','guest_satisfaction_overall':'media_satisfacao','bedrooms':'quartos'}, inplace=True)"
      ],
      "metadata": {
        "id": "TIj6x9F0Xve4"
      },
      "execution_count": null,
      "outputs": []
    },
    {
      "cell_type": "code",
      "source": [
        "df2.loc[df2.tipo == 'Private room', ['tipo']] = 'Quarto Privado'\n",
        "df2.loc[df2.tipo == 'Entire home/apt', ['tipo']] = 'Casa/apt Inteiro'\n",
        "df2.loc[df2.tipo == 'Shared room', ['tipo']] = 'Quarto Compartilhado'"
      ],
      "metadata": {
        "id": "v2Q3b5dbbXdg"
      },
      "execution_count": null,
      "outputs": []
    },
    {
      "cell_type": "code",
      "source": [
        "df2"
      ],
      "metadata": {
        "colab": {
          "base_uri": "https://localhost:8080/",
          "height": 661
        },
        "id": "81Q7EKfwbRRh",
        "outputId": "51e63d04-4a2d-45ec-e74a-5d7aefe65a51"
      },
      "execution_count": null,
      "outputs": [
        {
          "output_type": "execute_result",
          "data": {
            "text/plain": [
              "          realSum                  tipo  compartilhado  privado  p_capacidade  \\\n",
              "0      194.033698        Quarto Privado          False     True           2.0   \n",
              "1      344.245776        Quarto Privado          False     True           4.0   \n",
              "2      264.101422        Quarto Privado          False     True           2.0   \n",
              "3      433.529398        Quarto Privado          False     True           4.0   \n",
              "4      485.552926        Quarto Privado          False     True           2.0   \n",
              "...           ...                   ...            ...      ...           ...   \n",
              "1098  2486.115342      Casa/apt Inteiro          False    False           2.0   \n",
              "1099   233.637194        Quarto Privado          False     True           2.0   \n",
              "1100   317.062311        Quarto Privado          False     True           2.0   \n",
              "1101  1812.855904      Casa/apt Inteiro          False    False           4.0   \n",
              "1102   258.008577  Quarto Compartilhado           True    False           2.0   \n",
              "\n",
              "      superhost  multi  biz  nota_limpeza  media_satisfacao  quartos  \\\n",
              "0         False      1    0          10.0              93.0        1   \n",
              "1         False      0    0           8.0              85.0        1   \n",
              "2         False      0    1           9.0              87.0        1   \n",
              "3         False      0    1           9.0              90.0        2   \n",
              "4          True      0    0          10.0              98.0        1   \n",
              "...         ...    ...  ...           ...               ...      ...   \n",
              "1098      False      0    0          10.0             100.0        1   \n",
              "1099      False      1    0          10.0              90.0        1   \n",
              "1100      False      1    0          10.0              92.0        1   \n",
              "1101      False      0    0           8.0              84.0        5   \n",
              "1102      False      0    0           8.0              90.0        1   \n",
              "\n",
              "          dist  metro_dist  attr_index  attr_index_norm  rest_index  \\\n",
              "0     5.022964    2.539380   78.690379         4.166708   98.253896   \n",
              "1     0.488389    0.239404  631.176378        33.421209  837.280757   \n",
              "2     5.748312    3.651621   75.275877         3.985908   95.386955   \n",
              "3     0.384862    0.439876  493.272534        26.119108  875.033098   \n",
              "4     0.544738    0.318693  552.830324        29.272733  815.305740   \n",
              "...        ...         ...         ...              ...         ...   \n",
              "1098  2.375833    1.436054  181.198355         9.594573  225.304203   \n",
              "1099  4.719736    0.322263  108.024880         5.719989  134.775277   \n",
              "1100  0.598355    0.751993  440.476515        23.323524  625.947562   \n",
              "1101  1.943020    0.388532  257.948105        13.658524  336.589237   \n",
              "1102  0.280204    0.516217  533.962653        28.273677  807.492307   \n",
              "\n",
              "      rest_index_norm      lng       lat  \n",
              "0            6.846473  4.90569  52.41772  \n",
              "1           58.342928  4.90005  52.37432  \n",
              "2            6.646700  4.97512  52.36103  \n",
              "3           60.973565  4.89417  52.37663  \n",
              "4           56.811677  4.90051  52.37508  \n",
              "...               ...      ...       ...  \n",
              "1098        15.699521  4.85869  52.37677  \n",
              "1099         9.391335  4.83611  52.34910  \n",
              "1100        43.616927  4.88897  52.37798  \n",
              "1101        23.454022  4.90688  52.35794  \n",
              "1102        56.267226  4.89295  52.37575  \n",
              "\n",
              "[1103 rows x 19 columns]"
            ],
            "text/html": [
              "\n",
              "  <div id=\"df-4be3a527-8e80-4eed-a7ce-1496a17ff973\">\n",
              "    <div class=\"colab-df-container\">\n",
              "      <div>\n",
              "<style scoped>\n",
              "    .dataframe tbody tr th:only-of-type {\n",
              "        vertical-align: middle;\n",
              "    }\n",
              "\n",
              "    .dataframe tbody tr th {\n",
              "        vertical-align: top;\n",
              "    }\n",
              "\n",
              "    .dataframe thead th {\n",
              "        text-align: right;\n",
              "    }\n",
              "</style>\n",
              "<table border=\"1\" class=\"dataframe\">\n",
              "  <thead>\n",
              "    <tr style=\"text-align: right;\">\n",
              "      <th></th>\n",
              "      <th>realSum</th>\n",
              "      <th>tipo</th>\n",
              "      <th>compartilhado</th>\n",
              "      <th>privado</th>\n",
              "      <th>p_capacidade</th>\n",
              "      <th>superhost</th>\n",
              "      <th>multi</th>\n",
              "      <th>biz</th>\n",
              "      <th>nota_limpeza</th>\n",
              "      <th>media_satisfacao</th>\n",
              "      <th>quartos</th>\n",
              "      <th>dist</th>\n",
              "      <th>metro_dist</th>\n",
              "      <th>attr_index</th>\n",
              "      <th>attr_index_norm</th>\n",
              "      <th>rest_index</th>\n",
              "      <th>rest_index_norm</th>\n",
              "      <th>lng</th>\n",
              "      <th>lat</th>\n",
              "    </tr>\n",
              "  </thead>\n",
              "  <tbody>\n",
              "    <tr>\n",
              "      <th>0</th>\n",
              "      <td>194.033698</td>\n",
              "      <td>Quarto Privado</td>\n",
              "      <td>False</td>\n",
              "      <td>True</td>\n",
              "      <td>2.0</td>\n",
              "      <td>False</td>\n",
              "      <td>1</td>\n",
              "      <td>0</td>\n",
              "      <td>10.0</td>\n",
              "      <td>93.0</td>\n",
              "      <td>1</td>\n",
              "      <td>5.022964</td>\n",
              "      <td>2.539380</td>\n",
              "      <td>78.690379</td>\n",
              "      <td>4.166708</td>\n",
              "      <td>98.253896</td>\n",
              "      <td>6.846473</td>\n",
              "      <td>4.90569</td>\n",
              "      <td>52.41772</td>\n",
              "    </tr>\n",
              "    <tr>\n",
              "      <th>1</th>\n",
              "      <td>344.245776</td>\n",
              "      <td>Quarto Privado</td>\n",
              "      <td>False</td>\n",
              "      <td>True</td>\n",
              "      <td>4.0</td>\n",
              "      <td>False</td>\n",
              "      <td>0</td>\n",
              "      <td>0</td>\n",
              "      <td>8.0</td>\n",
              "      <td>85.0</td>\n",
              "      <td>1</td>\n",
              "      <td>0.488389</td>\n",
              "      <td>0.239404</td>\n",
              "      <td>631.176378</td>\n",
              "      <td>33.421209</td>\n",
              "      <td>837.280757</td>\n",
              "      <td>58.342928</td>\n",
              "      <td>4.90005</td>\n",
              "      <td>52.37432</td>\n",
              "    </tr>\n",
              "    <tr>\n",
              "      <th>2</th>\n",
              "      <td>264.101422</td>\n",
              "      <td>Quarto Privado</td>\n",
              "      <td>False</td>\n",
              "      <td>True</td>\n",
              "      <td>2.0</td>\n",
              "      <td>False</td>\n",
              "      <td>0</td>\n",
              "      <td>1</td>\n",
              "      <td>9.0</td>\n",
              "      <td>87.0</td>\n",
              "      <td>1</td>\n",
              "      <td>5.748312</td>\n",
              "      <td>3.651621</td>\n",
              "      <td>75.275877</td>\n",
              "      <td>3.985908</td>\n",
              "      <td>95.386955</td>\n",
              "      <td>6.646700</td>\n",
              "      <td>4.97512</td>\n",
              "      <td>52.36103</td>\n",
              "    </tr>\n",
              "    <tr>\n",
              "      <th>3</th>\n",
              "      <td>433.529398</td>\n",
              "      <td>Quarto Privado</td>\n",
              "      <td>False</td>\n",
              "      <td>True</td>\n",
              "      <td>4.0</td>\n",
              "      <td>False</td>\n",
              "      <td>0</td>\n",
              "      <td>1</td>\n",
              "      <td>9.0</td>\n",
              "      <td>90.0</td>\n",
              "      <td>2</td>\n",
              "      <td>0.384862</td>\n",
              "      <td>0.439876</td>\n",
              "      <td>493.272534</td>\n",
              "      <td>26.119108</td>\n",
              "      <td>875.033098</td>\n",
              "      <td>60.973565</td>\n",
              "      <td>4.89417</td>\n",
              "      <td>52.37663</td>\n",
              "    </tr>\n",
              "    <tr>\n",
              "      <th>4</th>\n",
              "      <td>485.552926</td>\n",
              "      <td>Quarto Privado</td>\n",
              "      <td>False</td>\n",
              "      <td>True</td>\n",
              "      <td>2.0</td>\n",
              "      <td>True</td>\n",
              "      <td>0</td>\n",
              "      <td>0</td>\n",
              "      <td>10.0</td>\n",
              "      <td>98.0</td>\n",
              "      <td>1</td>\n",
              "      <td>0.544738</td>\n",
              "      <td>0.318693</td>\n",
              "      <td>552.830324</td>\n",
              "      <td>29.272733</td>\n",
              "      <td>815.305740</td>\n",
              "      <td>56.811677</td>\n",
              "      <td>4.90051</td>\n",
              "      <td>52.37508</td>\n",
              "    </tr>\n",
              "    <tr>\n",
              "      <th>...</th>\n",
              "      <td>...</td>\n",
              "      <td>...</td>\n",
              "      <td>...</td>\n",
              "      <td>...</td>\n",
              "      <td>...</td>\n",
              "      <td>...</td>\n",
              "      <td>...</td>\n",
              "      <td>...</td>\n",
              "      <td>...</td>\n",
              "      <td>...</td>\n",
              "      <td>...</td>\n",
              "      <td>...</td>\n",
              "      <td>...</td>\n",
              "      <td>...</td>\n",
              "      <td>...</td>\n",
              "      <td>...</td>\n",
              "      <td>...</td>\n",
              "      <td>...</td>\n",
              "      <td>...</td>\n",
              "    </tr>\n",
              "    <tr>\n",
              "      <th>1098</th>\n",
              "      <td>2486.115342</td>\n",
              "      <td>Casa/apt Inteiro</td>\n",
              "      <td>False</td>\n",
              "      <td>False</td>\n",
              "      <td>2.0</td>\n",
              "      <td>False</td>\n",
              "      <td>0</td>\n",
              "      <td>0</td>\n",
              "      <td>10.0</td>\n",
              "      <td>100.0</td>\n",
              "      <td>1</td>\n",
              "      <td>2.375833</td>\n",
              "      <td>1.436054</td>\n",
              "      <td>181.198355</td>\n",
              "      <td>9.594573</td>\n",
              "      <td>225.304203</td>\n",
              "      <td>15.699521</td>\n",
              "      <td>4.85869</td>\n",
              "      <td>52.37677</td>\n",
              "    </tr>\n",
              "    <tr>\n",
              "      <th>1099</th>\n",
              "      <td>233.637194</td>\n",
              "      <td>Quarto Privado</td>\n",
              "      <td>False</td>\n",
              "      <td>True</td>\n",
              "      <td>2.0</td>\n",
              "      <td>False</td>\n",
              "      <td>1</td>\n",
              "      <td>0</td>\n",
              "      <td>10.0</td>\n",
              "      <td>90.0</td>\n",
              "      <td>1</td>\n",
              "      <td>4.719736</td>\n",
              "      <td>0.322263</td>\n",
              "      <td>108.024880</td>\n",
              "      <td>5.719989</td>\n",
              "      <td>134.775277</td>\n",
              "      <td>9.391335</td>\n",
              "      <td>4.83611</td>\n",
              "      <td>52.34910</td>\n",
              "    </tr>\n",
              "    <tr>\n",
              "      <th>1100</th>\n",
              "      <td>317.062311</td>\n",
              "      <td>Quarto Privado</td>\n",
              "      <td>False</td>\n",
              "      <td>True</td>\n",
              "      <td>2.0</td>\n",
              "      <td>False</td>\n",
              "      <td>1</td>\n",
              "      <td>0</td>\n",
              "      <td>10.0</td>\n",
              "      <td>92.0</td>\n",
              "      <td>1</td>\n",
              "      <td>0.598355</td>\n",
              "      <td>0.751993</td>\n",
              "      <td>440.476515</td>\n",
              "      <td>23.323524</td>\n",
              "      <td>625.947562</td>\n",
              "      <td>43.616927</td>\n",
              "      <td>4.88897</td>\n",
              "      <td>52.37798</td>\n",
              "    </tr>\n",
              "    <tr>\n",
              "      <th>1101</th>\n",
              "      <td>1812.855904</td>\n",
              "      <td>Casa/apt Inteiro</td>\n",
              "      <td>False</td>\n",
              "      <td>False</td>\n",
              "      <td>4.0</td>\n",
              "      <td>False</td>\n",
              "      <td>0</td>\n",
              "      <td>0</td>\n",
              "      <td>8.0</td>\n",
              "      <td>84.0</td>\n",
              "      <td>5</td>\n",
              "      <td>1.943020</td>\n",
              "      <td>0.388532</td>\n",
              "      <td>257.948105</td>\n",
              "      <td>13.658524</td>\n",
              "      <td>336.589237</td>\n",
              "      <td>23.454022</td>\n",
              "      <td>4.90688</td>\n",
              "      <td>52.35794</td>\n",
              "    </tr>\n",
              "    <tr>\n",
              "      <th>1102</th>\n",
              "      <td>258.008577</td>\n",
              "      <td>Quarto Compartilhado</td>\n",
              "      <td>True</td>\n",
              "      <td>False</td>\n",
              "      <td>2.0</td>\n",
              "      <td>False</td>\n",
              "      <td>0</td>\n",
              "      <td>0</td>\n",
              "      <td>8.0</td>\n",
              "      <td>90.0</td>\n",
              "      <td>1</td>\n",
              "      <td>0.280204</td>\n",
              "      <td>0.516217</td>\n",
              "      <td>533.962653</td>\n",
              "      <td>28.273677</td>\n",
              "      <td>807.492307</td>\n",
              "      <td>56.267226</td>\n",
              "      <td>4.89295</td>\n",
              "      <td>52.37575</td>\n",
              "    </tr>\n",
              "  </tbody>\n",
              "</table>\n",
              "<p>1103 rows × 19 columns</p>\n",
              "</div>\n",
              "      <button class=\"colab-df-convert\" onclick=\"convertToInteractive('df-4be3a527-8e80-4eed-a7ce-1496a17ff973')\"\n",
              "              title=\"Convert this dataframe to an interactive table.\"\n",
              "              style=\"display:none;\">\n",
              "        \n",
              "  <svg xmlns=\"http://www.w3.org/2000/svg\" height=\"24px\"viewBox=\"0 0 24 24\"\n",
              "       width=\"24px\">\n",
              "    <path d=\"M0 0h24v24H0V0z\" fill=\"none\"/>\n",
              "    <path d=\"M18.56 5.44l.94 2.06.94-2.06 2.06-.94-2.06-.94-.94-2.06-.94 2.06-2.06.94zm-11 1L8.5 8.5l.94-2.06 2.06-.94-2.06-.94L8.5 2.5l-.94 2.06-2.06.94zm10 10l.94 2.06.94-2.06 2.06-.94-2.06-.94-.94-2.06-.94 2.06-2.06.94z\"/><path d=\"M17.41 7.96l-1.37-1.37c-.4-.4-.92-.59-1.43-.59-.52 0-1.04.2-1.43.59L10.3 9.45l-7.72 7.72c-.78.78-.78 2.05 0 2.83L4 21.41c.39.39.9.59 1.41.59.51 0 1.02-.2 1.41-.59l7.78-7.78 2.81-2.81c.8-.78.8-2.07 0-2.86zM5.41 20L4 18.59l7.72-7.72 1.47 1.35L5.41 20z\"/>\n",
              "  </svg>\n",
              "      </button>\n",
              "      \n",
              "  <style>\n",
              "    .colab-df-container {\n",
              "      display:flex;\n",
              "      flex-wrap:wrap;\n",
              "      gap: 12px;\n",
              "    }\n",
              "\n",
              "    .colab-df-convert {\n",
              "      background-color: #E8F0FE;\n",
              "      border: none;\n",
              "      border-radius: 50%;\n",
              "      cursor: pointer;\n",
              "      display: none;\n",
              "      fill: #1967D2;\n",
              "      height: 32px;\n",
              "      padding: 0 0 0 0;\n",
              "      width: 32px;\n",
              "    }\n",
              "\n",
              "    .colab-df-convert:hover {\n",
              "      background-color: #E2EBFA;\n",
              "      box-shadow: 0px 1px 2px rgba(60, 64, 67, 0.3), 0px 1px 3px 1px rgba(60, 64, 67, 0.15);\n",
              "      fill: #174EA6;\n",
              "    }\n",
              "\n",
              "    [theme=dark] .colab-df-convert {\n",
              "      background-color: #3B4455;\n",
              "      fill: #D2E3FC;\n",
              "    }\n",
              "\n",
              "    [theme=dark] .colab-df-convert:hover {\n",
              "      background-color: #434B5C;\n",
              "      box-shadow: 0px 1px 3px 1px rgba(0, 0, 0, 0.15);\n",
              "      filter: drop-shadow(0px 1px 2px rgba(0, 0, 0, 0.3));\n",
              "      fill: #FFFFFF;\n",
              "    }\n",
              "  </style>\n",
              "\n",
              "      <script>\n",
              "        const buttonEl =\n",
              "          document.querySelector('#df-4be3a527-8e80-4eed-a7ce-1496a17ff973 button.colab-df-convert');\n",
              "        buttonEl.style.display =\n",
              "          google.colab.kernel.accessAllowed ? 'block' : 'none';\n",
              "\n",
              "        async function convertToInteractive(key) {\n",
              "          const element = document.querySelector('#df-4be3a527-8e80-4eed-a7ce-1496a17ff973');\n",
              "          const dataTable =\n",
              "            await google.colab.kernel.invokeFunction('convertToInteractive',\n",
              "                                                     [key], {});\n",
              "          if (!dataTable) return;\n",
              "\n",
              "          const docLinkHtml = 'Like what you see? Visit the ' +\n",
              "            '<a target=\"_blank\" href=https://colab.research.google.com/notebooks/data_table.ipynb>data table notebook</a>'\n",
              "            + ' to learn more about interactive tables.';\n",
              "          element.innerHTML = '';\n",
              "          dataTable['output_type'] = 'display_data';\n",
              "          await google.colab.output.renderOutput(dataTable, element);\n",
              "          const docLink = document.createElement('div');\n",
              "          docLink.innerHTML = docLinkHtml;\n",
              "          element.appendChild(docLink);\n",
              "        }\n",
              "      </script>\n",
              "    </div>\n",
              "  </div>\n",
              "  "
            ]
          },
          "metadata": {},
          "execution_count": 71
        }
      ]
    },
    {
      "cell_type": "code",
      "source": [
        "db = client['tratado']\n",
        "colecaoairbnb = db['airbnb']"
      ],
      "metadata": {
        "id": "vA6WEzlVb78q"
      },
      "execution_count": null,
      "outputs": []
    },
    {
      "cell_type": "code",
      "source": [
        "df2_dict = df2.to_dict('records')\n",
        "\n",
        "colecaoairbnb.insert_many(df2_dict)"
      ],
      "metadata": {
        "colab": {
          "base_uri": "https://localhost:8080/"
        },
        "id": "HmHJN4Oab_3p",
        "outputId": "9f2b71e3-d964-46aa-9c9d-2b93c7d69087"
      },
      "execution_count": null,
      "outputs": [
        {
          "output_type": "execute_result",
          "data": {
            "text/plain": [
              "<pymongo.results.InsertManyResult at 0x7f9766d21cd0>"
            ]
          },
          "metadata": {},
          "execution_count": 73
        }
      ]
    },
    {
      "cell_type": "markdown",
      "source": [
        "## Alesp"
      ],
      "metadata": {
        "id": "OxIPb1eHeRKQ"
      }
    },
    {
      "cell_type": "markdown",
      "source": [
        "Bruto"
      ],
      "metadata": {
        "id": "j2QQIwYleVLP"
      }
    },
    {
      "cell_type": "code",
      "source": [
        "path3 = 'gs://ad1-bucket/brutos/depsp.csv'"
      ],
      "metadata": {
        "id": "QS1aRipweUaT"
      },
      "execution_count": null,
      "outputs": []
    },
    {
      "cell_type": "code",
      "source": [
        "dfalesp = pd.read_csv(path3)"
      ],
      "metadata": {
        "colab": {
          "base_uri": "https://localhost:8080/"
        },
        "id": "QH2uDNk0emeM",
        "outputId": "8a955a79-274d-45cf-80ae-519de7b6d2ba"
      },
      "execution_count": null,
      "outputs": [
        {
          "output_type": "stream",
          "name": "stderr",
          "text": [
            "/usr/local/lib/python3.9/dist-packages/IPython/core/interactiveshell.py:3326: DtypeWarning: Columns (4) have mixed types.Specify dtype option on import or set low_memory=False.\n",
            "  exec(code_obj, self.user_global_ns, self.user_ns)\n"
          ]
        }
      ]
    },
    {
      "cell_type": "code",
      "source": [
        "db = client['bruto']\n",
        "colecaoalesp = db['alesp']"
      ],
      "metadata": {
        "id": "ne3OVk5heyEO"
      },
      "execution_count": null,
      "outputs": []
    },
    {
      "cell_type": "code",
      "source": [
        "dfalesp_dict = dfalesp.to_dict('records')\n",
        "\n",
        "colecaoalesp.insert_many(dfalesp_dict)"
      ],
      "metadata": {
        "colab": {
          "base_uri": "https://localhost:8080/"
        },
        "id": "-Zj0OwPqe8S4",
        "outputId": "4c366d61-4279-44c4-80b9-1a22f9fbceae"
      },
      "execution_count": null,
      "outputs": [
        {
          "output_type": "execute_result",
          "data": {
            "text/plain": [
              "<pymongo.results.InsertManyResult at 0x7f9764f294c0>"
            ]
          },
          "metadata": {},
          "execution_count": 94
        }
      ]
    },
    {
      "cell_type": "markdown",
      "source": [
        "tratado"
      ],
      "metadata": {
        "id": "KnwMQ2UJiYjj"
      }
    },
    {
      "cell_type": "code",
      "source": [
        "dfalesp"
      ],
      "metadata": {
        "colab": {
          "base_uri": "https://localhost:8080/",
          "height": 424
        },
        "id": "wwEdgjY7icWa",
        "outputId": "1ae6ccde-3501-4c23-8bc0-a5eb47c05850"
      },
      "execution_count": null,
      "outputs": [
        {
          "output_type": "execute_result",
          "data": {
            "text/plain": [
              "         Ano  Matricula  Mes    Valor              CNPJ            Deputado  \\\n",
              "0       2015     300257    3   200.00    71806251000106  ABELARDO CAMARINHA   \n",
              "1       2015     300257    3   295.40    68064740000125  ABELARDO CAMARINHA   \n",
              "2       2015     300257    3  2850.00       22145388877  ABELARDO CAMARINHA   \n",
              "3       2015     300257    4   100.00    10915883000113  ABELARDO CAMARINHA   \n",
              "4       2015     300257    4   195.01    71806251000106  ABELARDO CAMARINHA   \n",
              "...      ...        ...  ...      ...               ...                 ...   \n",
              "542390  2007     300441    3   120.00   6306675000140.0       ÍTALO CARDOSO   \n",
              "542391  2007     300441    3  2096.80  52204617000122.0       ÍTALO CARDOSO   \n",
              "542392  2007     300441    3    13.48  62925474000282.0       ÍTALO CARDOSO   \n",
              "542393  2007     300441    3    38.08  66747577000170.0       ÍTALO CARDOSO   \n",
              "542394  2007     300441    3  2994.00   7047000000196.0       ÍTALO CARDOSO   \n",
              "\n",
              "                                                     Tipo  \\\n",
              "0                        A - COMBUSTÍVEIS E LUBRIFICANTES   \n",
              "1       E - MATERIAIS DE ESCRITÓRIO E OUTROS MATERIAIS...   \n",
              "2                                             N - MORADIA   \n",
              "3                        A - COMBUSTÍVEIS E LUBRIFICANTES   \n",
              "4                        A - COMBUSTÍVEIS E LUBRIFICANTES   \n",
              "...                                                   ...   \n",
              "542390  I - HOSPEDAGEM, ALIMENTAÇÃO E DESPESAS DE LOCO...   \n",
              "542391  I - HOSPEDAGEM, ALIMENTAÇÃO E DESPESAS DE LOCO...   \n",
              "542392  I - HOSPEDAGEM, ALIMENTAÇÃO E DESPESAS DE LOCO...   \n",
              "542393  I - HOSPEDAGEM, ALIMENTAÇÃO E DESPESAS DE LOCO...   \n",
              "542394                        J - SERVIÇOS DE COMUNICAÇÃO   \n",
              "\n",
              "                                       Fornecedor  \n",
              "0                AUTO POSTO DE SERVIÇOS MARV LTDA  \n",
              "1                       PAPER FACE COMERCIAL LTDA  \n",
              "2                       LARA SERVINO VARGAS ABREU  \n",
              "3                   CENTRO AUTOMOTIVO TOP 23 LTDA  \n",
              "4                AUTO POSTO DE SERVIÇOS MARV LTDA  \n",
              "...                                           ...  \n",
              "542390                        OPTEI EXPRESS LTDA.  \n",
              "542391                   CHURRASCARIA JANDA LTDA.  \n",
              "542392  ASSOCIAÇÃO FUNC.ASSEMB.LEG. EST.SÃO PAULO  \n",
              "542393              IBIZA EUROPEIA ALIMENTOS LTDA  \n",
              "542394         ECT-EMP.BRAS.CORREIOS E TELEGRAFOS  \n",
              "\n",
              "[542395 rows x 8 columns]"
            ],
            "text/html": [
              "\n",
              "  <div id=\"df-95106b7a-dff5-4d95-98c7-220aff621e37\">\n",
              "    <div class=\"colab-df-container\">\n",
              "      <div>\n",
              "<style scoped>\n",
              "    .dataframe tbody tr th:only-of-type {\n",
              "        vertical-align: middle;\n",
              "    }\n",
              "\n",
              "    .dataframe tbody tr th {\n",
              "        vertical-align: top;\n",
              "    }\n",
              "\n",
              "    .dataframe thead th {\n",
              "        text-align: right;\n",
              "    }\n",
              "</style>\n",
              "<table border=\"1\" class=\"dataframe\">\n",
              "  <thead>\n",
              "    <tr style=\"text-align: right;\">\n",
              "      <th></th>\n",
              "      <th>Ano</th>\n",
              "      <th>Matricula</th>\n",
              "      <th>Mes</th>\n",
              "      <th>Valor</th>\n",
              "      <th>CNPJ</th>\n",
              "      <th>Deputado</th>\n",
              "      <th>Tipo</th>\n",
              "      <th>Fornecedor</th>\n",
              "    </tr>\n",
              "  </thead>\n",
              "  <tbody>\n",
              "    <tr>\n",
              "      <th>0</th>\n",
              "      <td>2015</td>\n",
              "      <td>300257</td>\n",
              "      <td>3</td>\n",
              "      <td>200.00</td>\n",
              "      <td>71806251000106</td>\n",
              "      <td>ABELARDO CAMARINHA</td>\n",
              "      <td>A - COMBUSTÍVEIS E LUBRIFICANTES</td>\n",
              "      <td>AUTO POSTO DE SERVIÇOS MARV LTDA</td>\n",
              "    </tr>\n",
              "    <tr>\n",
              "      <th>1</th>\n",
              "      <td>2015</td>\n",
              "      <td>300257</td>\n",
              "      <td>3</td>\n",
              "      <td>295.40</td>\n",
              "      <td>68064740000125</td>\n",
              "      <td>ABELARDO CAMARINHA</td>\n",
              "      <td>E - MATERIAIS DE ESCRITÓRIO E OUTROS MATERIAIS...</td>\n",
              "      <td>PAPER FACE COMERCIAL LTDA</td>\n",
              "    </tr>\n",
              "    <tr>\n",
              "      <th>2</th>\n",
              "      <td>2015</td>\n",
              "      <td>300257</td>\n",
              "      <td>3</td>\n",
              "      <td>2850.00</td>\n",
              "      <td>22145388877</td>\n",
              "      <td>ABELARDO CAMARINHA</td>\n",
              "      <td>N - MORADIA</td>\n",
              "      <td>LARA SERVINO VARGAS ABREU</td>\n",
              "    </tr>\n",
              "    <tr>\n",
              "      <th>3</th>\n",
              "      <td>2015</td>\n",
              "      <td>300257</td>\n",
              "      <td>4</td>\n",
              "      <td>100.00</td>\n",
              "      <td>10915883000113</td>\n",
              "      <td>ABELARDO CAMARINHA</td>\n",
              "      <td>A - COMBUSTÍVEIS E LUBRIFICANTES</td>\n",
              "      <td>CENTRO AUTOMOTIVO TOP 23 LTDA</td>\n",
              "    </tr>\n",
              "    <tr>\n",
              "      <th>4</th>\n",
              "      <td>2015</td>\n",
              "      <td>300257</td>\n",
              "      <td>4</td>\n",
              "      <td>195.01</td>\n",
              "      <td>71806251000106</td>\n",
              "      <td>ABELARDO CAMARINHA</td>\n",
              "      <td>A - COMBUSTÍVEIS E LUBRIFICANTES</td>\n",
              "      <td>AUTO POSTO DE SERVIÇOS MARV LTDA</td>\n",
              "    </tr>\n",
              "    <tr>\n",
              "      <th>...</th>\n",
              "      <td>...</td>\n",
              "      <td>...</td>\n",
              "      <td>...</td>\n",
              "      <td>...</td>\n",
              "      <td>...</td>\n",
              "      <td>...</td>\n",
              "      <td>...</td>\n",
              "      <td>...</td>\n",
              "    </tr>\n",
              "    <tr>\n",
              "      <th>542390</th>\n",
              "      <td>2007</td>\n",
              "      <td>300441</td>\n",
              "      <td>3</td>\n",
              "      <td>120.00</td>\n",
              "      <td>6306675000140.0</td>\n",
              "      <td>ÍTALO CARDOSO</td>\n",
              "      <td>I - HOSPEDAGEM, ALIMENTAÇÃO E DESPESAS DE LOCO...</td>\n",
              "      <td>OPTEI EXPRESS LTDA.</td>\n",
              "    </tr>\n",
              "    <tr>\n",
              "      <th>542391</th>\n",
              "      <td>2007</td>\n",
              "      <td>300441</td>\n",
              "      <td>3</td>\n",
              "      <td>2096.80</td>\n",
              "      <td>52204617000122.0</td>\n",
              "      <td>ÍTALO CARDOSO</td>\n",
              "      <td>I - HOSPEDAGEM, ALIMENTAÇÃO E DESPESAS DE LOCO...</td>\n",
              "      <td>CHURRASCARIA JANDA LTDA.</td>\n",
              "    </tr>\n",
              "    <tr>\n",
              "      <th>542392</th>\n",
              "      <td>2007</td>\n",
              "      <td>300441</td>\n",
              "      <td>3</td>\n",
              "      <td>13.48</td>\n",
              "      <td>62925474000282.0</td>\n",
              "      <td>ÍTALO CARDOSO</td>\n",
              "      <td>I - HOSPEDAGEM, ALIMENTAÇÃO E DESPESAS DE LOCO...</td>\n",
              "      <td>ASSOCIAÇÃO FUNC.ASSEMB.LEG. EST.SÃO PAULO</td>\n",
              "    </tr>\n",
              "    <tr>\n",
              "      <th>542393</th>\n",
              "      <td>2007</td>\n",
              "      <td>300441</td>\n",
              "      <td>3</td>\n",
              "      <td>38.08</td>\n",
              "      <td>66747577000170.0</td>\n",
              "      <td>ÍTALO CARDOSO</td>\n",
              "      <td>I - HOSPEDAGEM, ALIMENTAÇÃO E DESPESAS DE LOCO...</td>\n",
              "      <td>IBIZA EUROPEIA ALIMENTOS LTDA</td>\n",
              "    </tr>\n",
              "    <tr>\n",
              "      <th>542394</th>\n",
              "      <td>2007</td>\n",
              "      <td>300441</td>\n",
              "      <td>3</td>\n",
              "      <td>2994.00</td>\n",
              "      <td>7047000000196.0</td>\n",
              "      <td>ÍTALO CARDOSO</td>\n",
              "      <td>J - SERVIÇOS DE COMUNICAÇÃO</td>\n",
              "      <td>ECT-EMP.BRAS.CORREIOS E TELEGRAFOS</td>\n",
              "    </tr>\n",
              "  </tbody>\n",
              "</table>\n",
              "<p>542395 rows × 8 columns</p>\n",
              "</div>\n",
              "      <button class=\"colab-df-convert\" onclick=\"convertToInteractive('df-95106b7a-dff5-4d95-98c7-220aff621e37')\"\n",
              "              title=\"Convert this dataframe to an interactive table.\"\n",
              "              style=\"display:none;\">\n",
              "        \n",
              "  <svg xmlns=\"http://www.w3.org/2000/svg\" height=\"24px\"viewBox=\"0 0 24 24\"\n",
              "       width=\"24px\">\n",
              "    <path d=\"M0 0h24v24H0V0z\" fill=\"none\"/>\n",
              "    <path d=\"M18.56 5.44l.94 2.06.94-2.06 2.06-.94-2.06-.94-.94-2.06-.94 2.06-2.06.94zm-11 1L8.5 8.5l.94-2.06 2.06-.94-2.06-.94L8.5 2.5l-.94 2.06-2.06.94zm10 10l.94 2.06.94-2.06 2.06-.94-2.06-.94-.94-2.06-.94 2.06-2.06.94z\"/><path d=\"M17.41 7.96l-1.37-1.37c-.4-.4-.92-.59-1.43-.59-.52 0-1.04.2-1.43.59L10.3 9.45l-7.72 7.72c-.78.78-.78 2.05 0 2.83L4 21.41c.39.39.9.59 1.41.59.51 0 1.02-.2 1.41-.59l7.78-7.78 2.81-2.81c.8-.78.8-2.07 0-2.86zM5.41 20L4 18.59l7.72-7.72 1.47 1.35L5.41 20z\"/>\n",
              "  </svg>\n",
              "      </button>\n",
              "      \n",
              "  <style>\n",
              "    .colab-df-container {\n",
              "      display:flex;\n",
              "      flex-wrap:wrap;\n",
              "      gap: 12px;\n",
              "    }\n",
              "\n",
              "    .colab-df-convert {\n",
              "      background-color: #E8F0FE;\n",
              "      border: none;\n",
              "      border-radius: 50%;\n",
              "      cursor: pointer;\n",
              "      display: none;\n",
              "      fill: #1967D2;\n",
              "      height: 32px;\n",
              "      padding: 0 0 0 0;\n",
              "      width: 32px;\n",
              "    }\n",
              "\n",
              "    .colab-df-convert:hover {\n",
              "      background-color: #E2EBFA;\n",
              "      box-shadow: 0px 1px 2px rgba(60, 64, 67, 0.3), 0px 1px 3px 1px rgba(60, 64, 67, 0.15);\n",
              "      fill: #174EA6;\n",
              "    }\n",
              "\n",
              "    [theme=dark] .colab-df-convert {\n",
              "      background-color: #3B4455;\n",
              "      fill: #D2E3FC;\n",
              "    }\n",
              "\n",
              "    [theme=dark] .colab-df-convert:hover {\n",
              "      background-color: #434B5C;\n",
              "      box-shadow: 0px 1px 3px 1px rgba(0, 0, 0, 0.15);\n",
              "      filter: drop-shadow(0px 1px 2px rgba(0, 0, 0, 0.3));\n",
              "      fill: #FFFFFF;\n",
              "    }\n",
              "  </style>\n",
              "\n",
              "      <script>\n",
              "        const buttonEl =\n",
              "          document.querySelector('#df-95106b7a-dff5-4d95-98c7-220aff621e37 button.colab-df-convert');\n",
              "        buttonEl.style.display =\n",
              "          google.colab.kernel.accessAllowed ? 'block' : 'none';\n",
              "\n",
              "        async function convertToInteractive(key) {\n",
              "          const element = document.querySelector('#df-95106b7a-dff5-4d95-98c7-220aff621e37');\n",
              "          const dataTable =\n",
              "            await google.colab.kernel.invokeFunction('convertToInteractive',\n",
              "                                                     [key], {});\n",
              "          if (!dataTable) return;\n",
              "\n",
              "          const docLinkHtml = 'Like what you see? Visit the ' +\n",
              "            '<a target=\"_blank\" href=https://colab.research.google.com/notebooks/data_table.ipynb>data table notebook</a>'\n",
              "            + ' to learn more about interactive tables.';\n",
              "          element.innerHTML = '';\n",
              "          dataTable['output_type'] = 'display_data';\n",
              "          await google.colab.output.renderOutput(dataTable, element);\n",
              "          const docLink = document.createElement('div');\n",
              "          docLink.innerHTML = docLinkHtml;\n",
              "          element.appendChild(docLink);\n",
              "        }\n",
              "      </script>\n",
              "    </div>\n",
              "  </div>\n",
              "  "
            ]
          },
          "metadata": {},
          "execution_count": 192
        }
      ]
    },
    {
      "cell_type": "code",
      "source": [
        "dfalesp['Fornecedor'].value_counts().head(20)"
      ],
      "metadata": {
        "colab": {
          "base_uri": "https://localhost:8080/"
        },
        "id": "YdCLEsEemtD0",
        "outputId": "e158361a-cdf0-4621-f0cb-ed1d843e0653"
      },
      "execution_count": null,
      "outputs": [
        {
          "output_type": "execute_result",
          "data": {
            "text/plain": [
              "PEDÁGIO                                                     7689\n",
              "TAXI                                                        3415\n",
              "TELEFONICA BRASIL S.A.                                      2903\n",
              "CLARO S/A                                                   2468\n",
              "TELEFONICA BRASIL S.A                                       2304\n",
              "NEXTEL TELECOMUNICAÇÕES LTDA                                2156\n",
              "VIVO                                                        1974\n",
              "SABESP                                                      1948\n",
              "VIVO S.A.                                                   1938\n",
              "TELEFÔNICA BRASIL S.A.                                      1847\n",
              "TELEFONICA                                                  1786\n",
              "COMPANHIA PAULISTA DE FORÇA E LUZ                           1688\n",
              "TELEFONICA BRASIL S/A                                       1630\n",
              "WAGNER HUBERT EPP                                           1570\n",
              "TELESP CELULAR S/A                                          1493\n",
              "UNIDAS VEÍCULOS ESPECIAIS S.A.                              1403\n",
              "TELEFONICA BRASIL SA                                        1282\n",
              "NET SERVIÇOS DE COMUNICAÇÃO S/A                             1162\n",
              "CLARO S.A.                                                  1156\n",
              "ELETROPAULO METROPOLITANA ELETRICIDADE DE SÃO PAULO S.A.    1141\n",
              "Name: Fornecedor, dtype: int64"
            ]
          },
          "metadata": {},
          "execution_count": 193
        }
      ]
    },
    {
      "cell_type": "code",
      "source": [
        "dfalesp.loc[dfalesp['Fornecedor'].str.endswith('GIO')]"
      ],
      "metadata": {
        "colab": {
          "base_uri": "https://localhost:8080/",
          "height": 424
        },
        "id": "Ml7mA6K6vUNU",
        "outputId": "bcc4b7da-1eb1-4765-ff91-2508470ff185"
      },
      "execution_count": null,
      "outputs": [
        {
          "output_type": "execute_result",
          "data": {
            "text/plain": [
              "         Ano  Matricula  Mes  Valor CNPJ         Deputado  \\\n",
              "855     2003     300439    3  192.6  NaN  ADILSON BARROSO   \n",
              "882     2003     300439    4  104.8  NaN  ADILSON BARROSO   \n",
              "920     2003     300439    5  154.8  NaN  ADILSON BARROSO   \n",
              "960     2003     300439    6   12.2  NaN  ADILSON BARROSO   \n",
              "1017    2003     300439    8    7.4  NaN  ADILSON BARROSO   \n",
              "...      ...        ...  ...    ...  ...              ...   \n",
              "542223  2006     300441   10   80.6  NaN    ÍTALO CARDOSO   \n",
              "542262  2006     300441   11   19.7  NaN    ÍTALO CARDOSO   \n",
              "542299  2006     300441   12   63.2  NaN    ÍTALO CARDOSO   \n",
              "542326  2007     300441    1   14.6  NaN    ÍTALO CARDOSO   \n",
              "542380  2007     300441    3   12.7  NaN    ÍTALO CARDOSO   \n",
              "\n",
              "                                                     Tipo Fornecedor  \n",
              "855     C - MATERIAIS E SERVIÇOS DE MANUT E CONSERV DE...    PEDÁGIO  \n",
              "882     C - MATERIAIS E SERVIÇOS DE MANUT E CONSERV DE...    PEDÁGIO  \n",
              "920     C - MATERIAIS E SERVIÇOS DE MANUT E CONSERV DE...    PEDÁGIO  \n",
              "960     C - MATERIAIS E SERVIÇOS DE MANUT E CONSERV DE...    PEDÁGIO  \n",
              "1017    C - MATERIAIS E SERVIÇOS DE MANUT E CONSERV DE...    PEDÁGIO  \n",
              "...                                                   ...        ...  \n",
              "542223  C - MATERIAIS E SERVIÇOS DE MANUT E CONSERV DE...    PEDÁGIO  \n",
              "542262  C - MATERIAIS E SERVIÇOS DE MANUT E CONSERV DE...    PEDÁGIO  \n",
              "542299  C - MATERIAIS E SERVIÇOS DE MANUT E CONSERV DE...    PEDÁGIO  \n",
              "542326  C - MATERIAIS E SERVIÇOS DE MANUT E CONSERV DE...    PEDÁGIO  \n",
              "542380  C - MATERIAIS E SERVIÇOS DE MANUT E CONSERV DE...    PEDÁGIO  \n",
              "\n",
              "[7914 rows x 8 columns]"
            ],
            "text/html": [
              "\n",
              "  <div id=\"df-70bcc8b7-020a-4e69-8d64-e2d59a53d4a4\">\n",
              "    <div class=\"colab-df-container\">\n",
              "      <div>\n",
              "<style scoped>\n",
              "    .dataframe tbody tr th:only-of-type {\n",
              "        vertical-align: middle;\n",
              "    }\n",
              "\n",
              "    .dataframe tbody tr th {\n",
              "        vertical-align: top;\n",
              "    }\n",
              "\n",
              "    .dataframe thead th {\n",
              "        text-align: right;\n",
              "    }\n",
              "</style>\n",
              "<table border=\"1\" class=\"dataframe\">\n",
              "  <thead>\n",
              "    <tr style=\"text-align: right;\">\n",
              "      <th></th>\n",
              "      <th>Ano</th>\n",
              "      <th>Matricula</th>\n",
              "      <th>Mes</th>\n",
              "      <th>Valor</th>\n",
              "      <th>CNPJ</th>\n",
              "      <th>Deputado</th>\n",
              "      <th>Tipo</th>\n",
              "      <th>Fornecedor</th>\n",
              "    </tr>\n",
              "  </thead>\n",
              "  <tbody>\n",
              "    <tr>\n",
              "      <th>855</th>\n",
              "      <td>2003</td>\n",
              "      <td>300439</td>\n",
              "      <td>3</td>\n",
              "      <td>192.6</td>\n",
              "      <td>NaN</td>\n",
              "      <td>ADILSON BARROSO</td>\n",
              "      <td>C - MATERIAIS E SERVIÇOS DE MANUT E CONSERV DE...</td>\n",
              "      <td>PEDÁGIO</td>\n",
              "    </tr>\n",
              "    <tr>\n",
              "      <th>882</th>\n",
              "      <td>2003</td>\n",
              "      <td>300439</td>\n",
              "      <td>4</td>\n",
              "      <td>104.8</td>\n",
              "      <td>NaN</td>\n",
              "      <td>ADILSON BARROSO</td>\n",
              "      <td>C - MATERIAIS E SERVIÇOS DE MANUT E CONSERV DE...</td>\n",
              "      <td>PEDÁGIO</td>\n",
              "    </tr>\n",
              "    <tr>\n",
              "      <th>920</th>\n",
              "      <td>2003</td>\n",
              "      <td>300439</td>\n",
              "      <td>5</td>\n",
              "      <td>154.8</td>\n",
              "      <td>NaN</td>\n",
              "      <td>ADILSON BARROSO</td>\n",
              "      <td>C - MATERIAIS E SERVIÇOS DE MANUT E CONSERV DE...</td>\n",
              "      <td>PEDÁGIO</td>\n",
              "    </tr>\n",
              "    <tr>\n",
              "      <th>960</th>\n",
              "      <td>2003</td>\n",
              "      <td>300439</td>\n",
              "      <td>6</td>\n",
              "      <td>12.2</td>\n",
              "      <td>NaN</td>\n",
              "      <td>ADILSON BARROSO</td>\n",
              "      <td>C - MATERIAIS E SERVIÇOS DE MANUT E CONSERV DE...</td>\n",
              "      <td>PEDÁGIO</td>\n",
              "    </tr>\n",
              "    <tr>\n",
              "      <th>1017</th>\n",
              "      <td>2003</td>\n",
              "      <td>300439</td>\n",
              "      <td>8</td>\n",
              "      <td>7.4</td>\n",
              "      <td>NaN</td>\n",
              "      <td>ADILSON BARROSO</td>\n",
              "      <td>C - MATERIAIS E SERVIÇOS DE MANUT E CONSERV DE...</td>\n",
              "      <td>PEDÁGIO</td>\n",
              "    </tr>\n",
              "    <tr>\n",
              "      <th>...</th>\n",
              "      <td>...</td>\n",
              "      <td>...</td>\n",
              "      <td>...</td>\n",
              "      <td>...</td>\n",
              "      <td>...</td>\n",
              "      <td>...</td>\n",
              "      <td>...</td>\n",
              "      <td>...</td>\n",
              "    </tr>\n",
              "    <tr>\n",
              "      <th>542223</th>\n",
              "      <td>2006</td>\n",
              "      <td>300441</td>\n",
              "      <td>10</td>\n",
              "      <td>80.6</td>\n",
              "      <td>NaN</td>\n",
              "      <td>ÍTALO CARDOSO</td>\n",
              "      <td>C - MATERIAIS E SERVIÇOS DE MANUT E CONSERV DE...</td>\n",
              "      <td>PEDÁGIO</td>\n",
              "    </tr>\n",
              "    <tr>\n",
              "      <th>542262</th>\n",
              "      <td>2006</td>\n",
              "      <td>300441</td>\n",
              "      <td>11</td>\n",
              "      <td>19.7</td>\n",
              "      <td>NaN</td>\n",
              "      <td>ÍTALO CARDOSO</td>\n",
              "      <td>C - MATERIAIS E SERVIÇOS DE MANUT E CONSERV DE...</td>\n",
              "      <td>PEDÁGIO</td>\n",
              "    </tr>\n",
              "    <tr>\n",
              "      <th>542299</th>\n",
              "      <td>2006</td>\n",
              "      <td>300441</td>\n",
              "      <td>12</td>\n",
              "      <td>63.2</td>\n",
              "      <td>NaN</td>\n",
              "      <td>ÍTALO CARDOSO</td>\n",
              "      <td>C - MATERIAIS E SERVIÇOS DE MANUT E CONSERV DE...</td>\n",
              "      <td>PEDÁGIO</td>\n",
              "    </tr>\n",
              "    <tr>\n",
              "      <th>542326</th>\n",
              "      <td>2007</td>\n",
              "      <td>300441</td>\n",
              "      <td>1</td>\n",
              "      <td>14.6</td>\n",
              "      <td>NaN</td>\n",
              "      <td>ÍTALO CARDOSO</td>\n",
              "      <td>C - MATERIAIS E SERVIÇOS DE MANUT E CONSERV DE...</td>\n",
              "      <td>PEDÁGIO</td>\n",
              "    </tr>\n",
              "    <tr>\n",
              "      <th>542380</th>\n",
              "      <td>2007</td>\n",
              "      <td>300441</td>\n",
              "      <td>3</td>\n",
              "      <td>12.7</td>\n",
              "      <td>NaN</td>\n",
              "      <td>ÍTALO CARDOSO</td>\n",
              "      <td>C - MATERIAIS E SERVIÇOS DE MANUT E CONSERV DE...</td>\n",
              "      <td>PEDÁGIO</td>\n",
              "    </tr>\n",
              "  </tbody>\n",
              "</table>\n",
              "<p>7914 rows × 8 columns</p>\n",
              "</div>\n",
              "      <button class=\"colab-df-convert\" onclick=\"convertToInteractive('df-70bcc8b7-020a-4e69-8d64-e2d59a53d4a4')\"\n",
              "              title=\"Convert this dataframe to an interactive table.\"\n",
              "              style=\"display:none;\">\n",
              "        \n",
              "  <svg xmlns=\"http://www.w3.org/2000/svg\" height=\"24px\"viewBox=\"0 0 24 24\"\n",
              "       width=\"24px\">\n",
              "    <path d=\"M0 0h24v24H0V0z\" fill=\"none\"/>\n",
              "    <path d=\"M18.56 5.44l.94 2.06.94-2.06 2.06-.94-2.06-.94-.94-2.06-.94 2.06-2.06.94zm-11 1L8.5 8.5l.94-2.06 2.06-.94-2.06-.94L8.5 2.5l-.94 2.06-2.06.94zm10 10l.94 2.06.94-2.06 2.06-.94-2.06-.94-.94-2.06-.94 2.06-2.06.94z\"/><path d=\"M17.41 7.96l-1.37-1.37c-.4-.4-.92-.59-1.43-.59-.52 0-1.04.2-1.43.59L10.3 9.45l-7.72 7.72c-.78.78-.78 2.05 0 2.83L4 21.41c.39.39.9.59 1.41.59.51 0 1.02-.2 1.41-.59l7.78-7.78 2.81-2.81c.8-.78.8-2.07 0-2.86zM5.41 20L4 18.59l7.72-7.72 1.47 1.35L5.41 20z\"/>\n",
              "  </svg>\n",
              "      </button>\n",
              "      \n",
              "  <style>\n",
              "    .colab-df-container {\n",
              "      display:flex;\n",
              "      flex-wrap:wrap;\n",
              "      gap: 12px;\n",
              "    }\n",
              "\n",
              "    .colab-df-convert {\n",
              "      background-color: #E8F0FE;\n",
              "      border: none;\n",
              "      border-radius: 50%;\n",
              "      cursor: pointer;\n",
              "      display: none;\n",
              "      fill: #1967D2;\n",
              "      height: 32px;\n",
              "      padding: 0 0 0 0;\n",
              "      width: 32px;\n",
              "    }\n",
              "\n",
              "    .colab-df-convert:hover {\n",
              "      background-color: #E2EBFA;\n",
              "      box-shadow: 0px 1px 2px rgba(60, 64, 67, 0.3), 0px 1px 3px 1px rgba(60, 64, 67, 0.15);\n",
              "      fill: #174EA6;\n",
              "    }\n",
              "\n",
              "    [theme=dark] .colab-df-convert {\n",
              "      background-color: #3B4455;\n",
              "      fill: #D2E3FC;\n",
              "    }\n",
              "\n",
              "    [theme=dark] .colab-df-convert:hover {\n",
              "      background-color: #434B5C;\n",
              "      box-shadow: 0px 1px 3px 1px rgba(0, 0, 0, 0.15);\n",
              "      filter: drop-shadow(0px 1px 2px rgba(0, 0, 0, 0.3));\n",
              "      fill: #FFFFFF;\n",
              "    }\n",
              "  </style>\n",
              "\n",
              "      <script>\n",
              "        const buttonEl =\n",
              "          document.querySelector('#df-70bcc8b7-020a-4e69-8d64-e2d59a53d4a4 button.colab-df-convert');\n",
              "        buttonEl.style.display =\n",
              "          google.colab.kernel.accessAllowed ? 'block' : 'none';\n",
              "\n",
              "        async function convertToInteractive(key) {\n",
              "          const element = document.querySelector('#df-70bcc8b7-020a-4e69-8d64-e2d59a53d4a4');\n",
              "          const dataTable =\n",
              "            await google.colab.kernel.invokeFunction('convertToInteractive',\n",
              "                                                     [key], {});\n",
              "          if (!dataTable) return;\n",
              "\n",
              "          const docLinkHtml = 'Like what you see? Visit the ' +\n",
              "            '<a target=\"_blank\" href=https://colab.research.google.com/notebooks/data_table.ipynb>data table notebook</a>'\n",
              "            + ' to learn more about interactive tables.';\n",
              "          element.innerHTML = '';\n",
              "          dataTable['output_type'] = 'display_data';\n",
              "          await google.colab.output.renderOutput(dataTable, element);\n",
              "          const docLink = document.createElement('div');\n",
              "          docLink.innerHTML = docLinkHtml;\n",
              "          element.appendChild(docLink);\n",
              "        }\n",
              "      </script>\n",
              "    </div>\n",
              "  </div>\n",
              "  "
            ]
          },
          "metadata": {},
          "execution_count": 194
        }
      ]
    },
    {
      "cell_type": "code",
      "source": [
        "dfalespbackup = dfalesp.copy()"
      ],
      "metadata": {
        "id": "hGB0wRxz1aN0"
      },
      "execution_count": null,
      "outputs": []
    },
    {
      "cell_type": "code",
      "source": [
        "dfalesp = dfalespbackup.copy()"
      ],
      "metadata": {
        "id": "HBRR5vlsAGaA"
      },
      "execution_count": null,
      "outputs": []
    },
    {
      "cell_type": "code",
      "source": [
        "dfalesp['Fornecedor'] = dfalesp['Fornecedor'].replace({'^PED.*GIO$': 'PEDÁGIO'}, regex=True)"
      ],
      "metadata": {
        "id": "q-7mtl1G1UHd"
      },
      "execution_count": null,
      "outputs": []
    },
    {
      "cell_type": "code",
      "source": [
        "dfalesp['Fornecedor'].value_counts().head(20)"
      ],
      "metadata": {
        "colab": {
          "base_uri": "https://localhost:8080/"
        },
        "id": "AARatcjg2voN",
        "outputId": "6c1a93b1-e8d1-4bcb-e81e-4cf54f31f33e"
      },
      "execution_count": null,
      "outputs": [
        {
          "output_type": "execute_result",
          "data": {
            "text/plain": [
              "TELEFONICA BRASIL S.A                                       13730\n",
              "KALUNGA COM. E IND. GRÁFICA LTDA                             9318\n",
              "PEDÁGIO                                                      7689\n",
              "VIVO S.A                                                     4913\n",
              "CLARO S.A                                                    4566\n",
              "TAXI                                                         3415\n",
              "TELESP CELULAR S/A                                           2899\n",
              "NEXTEL TELECOMUNICAÇÕES LTDA                                 2156\n",
              "SABESP                                                       1948\n",
              "COMPANHIA PAULISTA DE FORÇA E LUZ                            1688\n",
              "WAGNER HUBERT EPP                                            1570\n",
              "UNIDAS VEÍCULOS ESPECIAIS S.A.                               1403\n",
              "NET SERVIÇOS DE COMUNICAÇÃO S/A                              1162\n",
              "ELETROPAULO METROPOLITANA ELETRICIDADE DE SÃO PAULO S.A.     1141\n",
              "TERRA NETWORKS BRASIL S/A                                    1122\n",
              "UOL                                                          1118\n",
              "COMPANHIA PIRATININGA DE FORÇA E LUZ                         1114\n",
              "CIA BRASILEIRA DE DISTRIBUIÇÃO                               1058\n",
              "ELETROPAULO                                                   969\n",
              "ECT - EMP. BRAS. DE CORREIOS E TELEGRAFOS                     963\n",
              "Name: Fornecedor, dtype: int64"
            ]
          },
          "metadata": {},
          "execution_count": 242
        }
      ]
    },
    {
      "cell_type": "code",
      "source": [
        "substitui = (dfalesp['Fornecedor'].str.startswith('TELEF')) & (dfalesp['Fornecedor'].str.endswith('BRASIL S.A.'))\n",
        "substitui2 = (dfalesp['Fornecedor'].str.startswith('TELEF')) & (dfalesp['Fornecedor'].str.endswith('NICA'))\n",
        "substitui3 =(dfalesp['Fornecedor'].str.startswith('TELEF')) & (dfalesp['Fornecedor'].str.endswith('BRASIL SA'))\n",
        "substitui4 = (dfalesp['Fornecedor'].str.startswith('TELEF')) & (dfalesp['Fornecedor'].str.endswith('BRASIL S/A'))\n",
        "substitui5 = (dfalesp['Fornecedor'] == 'VIVO')\n",
        "substitui6 = (dfalesp['Fornecedor'] == 'VIVO S.A.')\n",
        "substitui7 = (dfalesp['Fornecedor'] == 'CLARO S/A')\n",
        "substitui8 = (dfalesp['Fornecedor'] == 'CLARO S.A.' )\n",
        "substitui9 =(dfalesp['Fornecedor'] == 'TELEFÔNICA BRASIL S.A')\n",
        "substitui10 =(dfalesp['Fornecedor'] == 'VIVO S/A')\n",
        "substitui11 =(dfalesp['Fornecedor'].str.startswith('TELESP'))\n",
        "substitui12 = (dfalesp['Fornecedor'].str.startswith('KALUNGA'))"
      ],
      "metadata": {
        "id": "UnzWz2jW23we"
      },
      "execution_count": null,
      "outputs": []
    },
    {
      "cell_type": "code",
      "source": [
        "dfalesp.loc[substitui, 'Fornecedor'] = 'TELEFONICA BRASIL S.A'"
      ],
      "metadata": {
        "id": "dKU1X8P84U6a"
      },
      "execution_count": null,
      "outputs": []
    },
    {
      "cell_type": "code",
      "source": [
        "dfalesp.loc[substitui2, 'Fornecedor'] = 'TELEFONICA BRASIL S.A'"
      ],
      "metadata": {
        "id": "UL1qk73L6jrs"
      },
      "execution_count": null,
      "outputs": []
    },
    {
      "cell_type": "code",
      "source": [
        "dfalesp.loc[substitui3, 'Fornecedor'] = 'TELEFONICA BRASIL S.A'"
      ],
      "metadata": {
        "id": "RjRPNq3C65bA"
      },
      "execution_count": null,
      "outputs": []
    },
    {
      "cell_type": "code",
      "source": [
        "dfalesp.loc[substitui4, 'Fornecedor'] = 'TELEFONICA BRASIL S.A'"
      ],
      "metadata": {
        "id": "cfHPtSff7Nnu"
      },
      "execution_count": null,
      "outputs": []
    },
    {
      "cell_type": "code",
      "source": [
        "dfalesp.loc[substitui5, 'Fornecedor'] = 'VIVO S.A'"
      ],
      "metadata": {
        "id": "NhuqcCbo7ncb"
      },
      "execution_count": null,
      "outputs": []
    },
    {
      "cell_type": "code",
      "source": [
        "dfalesp.loc[substitui6, 'Fornecedor'] = 'VIVO S.A'"
      ],
      "metadata": {
        "id": "29-wm_q-7765"
      },
      "execution_count": null,
      "outputs": []
    },
    {
      "cell_type": "code",
      "source": [
        "dfalesp.loc[substitui7, 'Fornecedor'] = 'CLARO S.A'"
      ],
      "metadata": {
        "id": "GimqPl1f8Obx"
      },
      "execution_count": null,
      "outputs": []
    },
    {
      "cell_type": "code",
      "source": [
        "dfalesp.loc[substitui8, 'Fornecedor'] = 'CLARO S.A'"
      ],
      "metadata": {
        "id": "ZBAqcT3O8OZ0"
      },
      "execution_count": null,
      "outputs": []
    },
    {
      "cell_type": "code",
      "source": [
        "dfalesp.loc[substitui9, 'Fornecedor'] = 'TELEFONICA BRASIL S.A'"
      ],
      "metadata": {
        "id": "nduFY5p4-vX8"
      },
      "execution_count": null,
      "outputs": []
    },
    {
      "cell_type": "code",
      "source": [
        "dfalesp.loc[substitui10, 'Fornecedor'] = 'VIVO S.A'"
      ],
      "metadata": {
        "id": "HUbpiPcV-vqv"
      },
      "execution_count": null,
      "outputs": []
    },
    {
      "cell_type": "code",
      "source": [
        "dfalesp.loc[substitui11, 'Fornecedor'] = 'TELESP CELULAR S/A'"
      ],
      "metadata": {
        "id": "DG6Etd5O-wKa"
      },
      "execution_count": null,
      "outputs": []
    },
    {
      "cell_type": "code",
      "source": [
        "dfalesp.loc[substitui12,'Fornecedor'] = 'KALUNGA COM. E IND. GRÁFICA LTDA'"
      ],
      "metadata": {
        "id": "Uf5JF2c8_bE3"
      },
      "execution_count": null,
      "outputs": []
    },
    {
      "cell_type": "code",
      "source": [
        "db = client['tratado']\n",
        "colecaoalesp = db['alesp']"
      ],
      "metadata": {
        "id": "fSRWG1n1Aime"
      },
      "execution_count": null,
      "outputs": []
    },
    {
      "cell_type": "code",
      "source": [
        "dfalesp_dict2 = dfalesp.to_dict('records')\n",
        "\n",
        "colecaoalesp.insert_many(dfalesp_dict2)"
      ],
      "metadata": {
        "colab": {
          "base_uri": "https://localhost:8080/"
        },
        "id": "J-gxAXfeBEU8",
        "outputId": "faa3b860-bbf1-404e-b696-0ee6a09ab37a"
      },
      "execution_count": null,
      "outputs": [
        {
          "output_type": "execute_result",
          "data": {
            "text/plain": [
              "<pymongo.results.InsertManyResult at 0x7f975ff27280>"
            ]
          },
          "metadata": {},
          "execution_count": 245
        }
      ]
    }
  ]
}