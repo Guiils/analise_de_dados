{
  "cells": [
    {
      "cell_type": "markdown",
      "metadata": {
        "id": "view-in-github",
        "colab_type": "text"
      },
      "source": [
        "<a href=\"https://colab.research.google.com/github/Guiils/analise_de_dados/blob/main/tratamento_clima_mensal.ipynb\" target=\"_parent\"><img src=\"https://colab.research.google.com/assets/colab-badge.svg\" alt=\"Open In Colab\"/></a>"
      ]
    },
    {
      "cell_type": "markdown",
      "metadata": {
        "id": "pKz7Yjln-p1M"
      },
      "source": [
        "##Preparação de bibliotecas"
      ]
    },
    {
      "cell_type": "code",
      "execution_count": null,
      "metadata": {
        "colab": {
          "background_save": true
        },
        "id": "TAQmuKWOuLA9"
      },
      "outputs": [],
      "source": [
        "pip install pyspark"
      ]
    },
    {
      "cell_type": "code",
      "execution_count": null,
      "metadata": {
        "colab": {
          "background_save": true
        },
        "id": "I50GuCAPdP9f"
      },
      "outputs": [],
      "source": [
        "pip install gcsfs"
      ]
    },
    {
      "cell_type": "code",
      "execution_count": null,
      "metadata": {
        "id": "LVaxGBaTKNur"
      },
      "outputs": [],
      "source": [
        "pip install pandera"
      ]
    },
    {
      "cell_type": "code",
      "execution_count": null,
      "metadata": {
        "colab": {
          "background_save": true
        },
        "id": "FNmV03jpuv6q"
      },
      "outputs": [],
      "source": [
        "\n",
        "from pyspark.sql import SparkSession\n",
        "import pyspark.sql.functions as F\n",
        "from pyspark.sql.functions import isnull\n",
        "from pyspark.sql.types import FloatType, DoubleType, StructType, StructField, StringType, IntegerType\n",
        "from google.cloud import storage\n",
        "import os\n",
        "import pandera as pa\n",
        "import pandas as pd\n",
        "import numpy as np\n",
        "import matplotlib.pyplot as plt\n",
        "import seaborn as sns\n",
        "import warnings\n",
        "warnings.filterwarnings('ignore')"
      ]
    },
    {
      "cell_type": "markdown",
      "metadata": {
        "id": "cnD7n-ee8MQu"
      },
      "source": [
        "##Conexões com GCP e Spark"
      ]
    },
    {
      "cell_type": "code",
      "execution_count": null,
      "metadata": {
        "colab": {
          "background_save": true
        },
        "id": "LC472qZZby-4"
      },
      "outputs": [],
      "source": [
        "#CONFIGURANDO DA CHAVE DE SEGURANCA (Enviada com o projeto)\n",
        "\n",
        "serviceAccount = '/content/loyal-optics-377819-ebe367c145ff.json'\n",
        "os.environ['GOOGLE_APPLICATION_CREDENTIALS'] = serviceAccount"
      ]
    },
    {
      "cell_type": "code",
      "execution_count": null,
      "metadata": {
        "colab": {
          "background_save": true
        },
        "id": "17ymt9YhcEoB"
      },
      "outputs": [],
      "source": [
        "#Configurações Google Cloud Storage\n",
        "client = storage.Client()\n",
        "bucket = client.get_bucket('tcc_soulcode_g3')"
      ]
    },
    {
      "cell_type": "code",
      "execution_count": null,
      "metadata": {
        "colab": {
          "background_save": true
        },
        "id": "MKIl-g6JxWqR"
      },
      "outputs": [],
      "source": [
        "#configurar a variavel de ambiente (sessão) Pyspark\n",
        "spark = (SparkSession.builder\n",
        "                     .master('local[3]')\n",
        "                     .appName('tratramento_clima_mensal')\n",
        "                     .config('spark.ui.port', '4050')\n",
        "                     .config(\"spark.jars\", 'https://storage.googleapis.com/hadoop-lib/gcs/gcs-connector-hadoop2-latest.jar')\n",
        "                     .getOrCreate()\n",
        ")"
      ]
    },
    {
      "cell_type": "code",
      "execution_count": null,
      "metadata": {
        "colab": {
          "base_uri": "https://localhost:8080/",
          "height": 219
        },
        "id": "D9MCoRxMxsIe",
        "outputId": "82914319-8338-4614-e852-643f029548a4"
      },
      "outputs": [
        {
          "data": {
            "text/html": [
              "\n",
              "            <div>\n",
              "                <p><b>SparkSession - in-memory</b></p>\n",
              "                \n",
              "        <div>\n",
              "            <p><b>SparkContext</b></p>\n",
              "\n",
              "            <p><a href=\"http://d7f504fa13ae:4050\">Spark UI</a></p>\n",
              "\n",
              "            <dl>\n",
              "              <dt>Version</dt>\n",
              "                <dd><code>v3.4.0</code></dd>\n",
              "              <dt>Master</dt>\n",
              "                <dd><code>local[3]</code></dd>\n",
              "              <dt>AppName</dt>\n",
              "                <dd><code>tratramento_clima_mensal</code></dd>\n",
              "            </dl>\n",
              "        </div>\n",
              "        \n",
              "            </div>\n",
              "        "
            ],
            "text/plain": [
              "<pyspark.sql.session.SparkSession at 0x7ff7462ecc10>"
            ]
          },
          "execution_count": 7,
          "metadata": {},
          "output_type": "execute_result"
        }
      ],
      "source": [
        "spark"
      ]
    },
    {
      "cell_type": "markdown",
      "metadata": {
        "id": "LalC2iNj_FvE"
      },
      "source": [
        "##Extraindo data frame da Cloud"
      ]
    },
    {
      "cell_type": "code",
      "execution_count": null,
      "metadata": {
        "id": "X6xkpUhJl-sF"
      },
      "outputs": [],
      "source": [
        "\n",
        "schema = StructType([\n",
        "    StructField(\"Data Medicao\", StringType(), True),\n",
        "    StructField(\"NUMERO DE DIAS COM PRECIPITACAO PLUV - MENSAL (AUT)(numero)\", StringType(), True),\n",
        "    StructField(\"PRECIPITACAO TOTAL - MENSAL (AUT)(mm)\", StringType(), True),\n",
        "    StructField(\"TEMPERATURA MEDIA - MENSAL (AUT)(°C)\", StringType(), True),\n",
        "    StructField(\"VENTO - VELOCIDADE MAXIMA MENSAL (AUT)(Km/h)\", StringType(), True),\n",
        "    StructField(\"VENTO - VELOCIDADE MEDIA MENSAL (AUT)(Km/h)\", StringType(), True),\n",
        "    StructField(\"MUNICIPIO\", StringType(), True),\n",
        "    StructField(\"LATITUDE\", StringType(), True),\n",
        "    StructField(\"LONGITUDE\", StringType(), True)\n",
        "])\n",
        "\n",
        "path = 'gs://tcc_soulcode_g3/brutos_clima_mensal/sul/dados_A899_M_2010-01-01_2022-12-31.csv'"
      ]
    },
    {
      "cell_type": "code",
      "execution_count": null,
      "metadata": {
        "id": "Rlk_-lc3vhbp"
      },
      "outputs": [],
      "source": [
        "#Importando dataframe do GCP\n",
        "df = (\n",
        "         spark.read\n",
        "         .format('csv')\n",
        "         .option('delimiter', ';') \n",
        "         .option('header', 'false')\n",
        "         .schema(schema)\n",
        "         .option('encoding', 'utf-8')\n",
        "         .option('inferschema', 'true')\n",
        "         .load(path)\n",
        ")\n"
      ]
    },
    {
      "cell_type": "markdown",
      "metadata": {
        "id": "4Hi3-SrI9qSm"
      },
      "source": [
        "##Analise exploratória"
      ]
    },
    {
      "cell_type": "code",
      "execution_count": null,
      "metadata": {
        "colab": {
          "base_uri": "https://localhost:8080/"
        },
        "id": "jQ6Vv27Ppxjs",
        "outputId": "a42e4db1-aab0-442f-b9b2-5fbca823cdd6"
      },
      "outputs": [
        {
          "name": "stdout",
          "output_type": "stream",
          "text": [
            "+---------------------------------------------+-----------------------------------------------------------+-------------------------------------+------------------------------------+--------------------------------------------+-------------------------------------------+---------+--------+---------+\n",
            "|Data Medicao                                 |NUMERO DE DIAS COM PRECIPITACAO PLUV - MENSAL (AUT)(numero)|PRECIPITACAO TOTAL - MENSAL (AUT)(mm)|TEMPERATURA MEDIA - MENSAL (AUT)(°C)|VENTO - VELOCIDADE MAXIMA MENSAL (AUT)(Km/h)|VENTO - VELOCIDADE MEDIA MENSAL (AUT)(Km/h)|MUNICIPIO|LATITUDE|LONGITUDE|\n",
            "+---------------------------------------------+-----------------------------------------------------------+-------------------------------------+------------------------------------+--------------------------------------------+-------------------------------------------+---------+--------+---------+\n",
            "|Nome: Santa Vitoria do Palmar - Barra do Chui|null                                                       |null                                 |null                                |null                                        |null                                       |null     |null    |null     |\n",
            "|Codigo Estacao: A899                         |null                                                       |null                                 |null                                |null                                        |null                                       |null     |null    |null     |\n",
            "|Latitude: -33.74222221                       |null                                                       |null                                 |null                                |null                                        |null                                       |null     |null    |null     |\n",
            "|Longitude: -53.37222221                      |null                                                       |null                                 |null                                |null                                        |null                                       |null     |null    |null     |\n",
            "|Altitude: 7.41                               |null                                                       |null                                 |null                                |null                                        |null                                       |null     |null    |null     |\n",
            "|Situacao: Operante                           |null                                                       |null                                 |null                                |null                                        |null                                       |null     |null    |null     |\n",
            "|Data Inicial: 2010-01-01                     |null                                                       |null                                 |null                                |null                                        |null                                       |null     |null    |null     |\n",
            "|Data Final: 2022-12-31                       |null                                                       |null                                 |null                                |null                                        |null                                       |null     |null    |null     |\n",
            "|Periodicidade da Medicao: Mensal             |null                                                       |null                                 |null                                |null                                        |null                                       |null     |null    |null     |\n",
            "|Data Medicao                                 |NUMERO DE DIAS COM PRECIP. PLUV, MENSAL (AUT)(número)      |PRECIPITACAO TOTAL, MENSAL (AUT)(mm) |TEMPERATURA MEDIA, MENSAL (AUT)(°C) |VENTO, VELOCIDADE MAXIMA MENSAL (AUT)(m/s)  |VENTO, VELOCIDADE MEDIA MENSAL (AUT)(m/s)  |null     |null    |null     |\n",
            "|2010-01-31                                   |9                                                          |38,6                                 |22,997043                           |12,6                                        |2,914944                                   |null     |null    |null     |\n",
            "|2010-02-28                                   |17                                                         |281,6                                |23,551786                           |0                                           |0                                          |null     |null    |null     |\n",
            "|2010-03-31                                   |8                                                          |156,2                                |21,974462                           |0                                           |0                                          |null     |null    |null     |\n",
            "|2010-04-30                                   |14                                                         |77                                   |18,785694                           |0                                           |0                                          |null     |null    |null     |\n",
            "|2010-05-31                                   |14                                                         |72,6                                 |16,715591                           |0                                           |0                                          |null     |null    |null     |\n",
            "|2010-06-30                                   |12                                                         |70,6                                 |13,094306                           |0                                           |0                                          |null     |null    |null     |\n",
            "|2010-07-31                                   |19                                                         |175,8                                |11,463172                           |0                                           |0                                          |null     |null    |null     |\n",
            "|2010-08-31                                   |11                                                         |40,4                                 |11,808901                           |0                                           |0                                          |null     |null    |null     |\n",
            "|2010-09-30                                   |15                                                         |116                                  |14,16503                            |0                                           |0                                          |null     |null    |null     |\n",
            "|2010-10-31                                   |6                                                          |13,6                                 |15,522937                           |13,6                                        |,715194                                    |null     |null    |null     |\n",
            "+---------------------------------------------+-----------------------------------------------------------+-------------------------------------+------------------------------------+--------------------------------------------+-------------------------------------------+---------+--------+---------+\n",
            "only showing top 20 rows\n",
            "\n"
          ]
        }
      ],
      "source": [
        "df.show(truncate = False)"
      ]
    },
    {
      "cell_type": "code",
      "execution_count": null,
      "metadata": {
        "id": "U-40-g2qBXNx"
      },
      "outputs": [],
      "source": [
        "df_back = df"
      ]
    },
    {
      "cell_type": "code",
      "execution_count": null,
      "metadata": {
        "id": "6RpUip7U8KNk"
      },
      "outputs": [],
      "source": [
        "df = df_back"
      ]
    },
    {
      "cell_type": "markdown",
      "metadata": {
        "id": "x_Pd4GVtXLIc"
      },
      "source": [
        "##Tratamento"
      ]
    },
    {
      "cell_type": "code",
      "execution_count": null,
      "metadata": {
        "colab": {
          "base_uri": "https://localhost:8080/"
        },
        "id": "lfW6Whdj8atN",
        "outputId": "66351e3a-d503-4dd6-9137-0c43fb1bb041"
      },
      "outputs": [
        {
          "name": "stdout",
          "output_type": "stream",
          "text": [
            "Santa Vitoria do Palmar - Barra do Chui -33.74222221 -53.37222221\n"
          ]
        }
      ],
      "source": [
        "for i in range(4):\n",
        "  if i == 1:\n",
        "    pass\n",
        "  linha = df.collect()[i]\n",
        "  coluna_separador = linha[\"Data Medicao\"].split(\": \")\n",
        "  if i == 0:\n",
        "    municipio = coluna_separador[1]\n",
        "  if i == 2:\n",
        "    latitude = coluna_separador[1]\n",
        "  if i == 3:\n",
        "    longitude = coluna_separador[1]\n",
        "\n",
        "print(municipio, latitude, longitude)\n",
        "\n"
      ]
    },
    {
      "cell_type": "code",
      "execution_count": null,
      "metadata": {
        "id": "GsvtnWwE_Sgn"
      },
      "outputs": [],
      "source": [
        "df = df.withColumn('MUNICIPIO', F.lit(municipio))\n",
        "df = df.withColumn('LATITUDE', F.lit(latitude))\n",
        "df = df.withColumn('LONGITUDE', F.lit(longitude))"
      ]
    },
    {
      "cell_type": "code",
      "execution_count": null,
      "metadata": {
        "colab": {
          "base_uri": "https://localhost:8080/"
        },
        "id": "M7gjlyzrDiJF",
        "outputId": "ce521e9f-6afa-4955-f731-0e82037e914b"
      },
      "outputs": [
        {
          "name": "stdout",
          "output_type": "stream",
          "text": [
            "+--------------------+-----------------------------------------------------------+-------------------------------------+------------------------------------+--------------------------------------------+-------------------------------------------+--------------------+------------+------------+\n",
            "|        Data Medicao|NUMERO DE DIAS COM PRECIPITACAO PLUV - MENSAL (AUT)(numero)|PRECIPITACAO TOTAL - MENSAL (AUT)(mm)|TEMPERATURA MEDIA - MENSAL (AUT)(°C)|VENTO - VELOCIDADE MAXIMA MENSAL (AUT)(Km/h)|VENTO - VELOCIDADE MEDIA MENSAL (AUT)(Km/h)|           MUNICIPIO|    LATITUDE|   LONGITUDE|\n",
            "+--------------------+-----------------------------------------------------------+-------------------------------------+------------------------------------+--------------------------------------------+-------------------------------------------+--------------------+------------+------------+\n",
            "|Nome: Santa Vitor...|                                                       null|                                 null|                                null|                                        null|                                       null|Santa Vitoria do ...|-33.74222221|-53.37222221|\n",
            "|Codigo Estacao: A899|                                                       null|                                 null|                                null|                                        null|                                       null|Santa Vitoria do ...|-33.74222221|-53.37222221|\n",
            "|Latitude: -33.742...|                                                       null|                                 null|                                null|                                        null|                                       null|Santa Vitoria do ...|-33.74222221|-53.37222221|\n",
            "|Longitude: -53.37...|                                                       null|                                 null|                                null|                                        null|                                       null|Santa Vitoria do ...|-33.74222221|-53.37222221|\n",
            "|      Altitude: 7.41|                                                       null|                                 null|                                null|                                        null|                                       null|Santa Vitoria do ...|-33.74222221|-53.37222221|\n",
            "|  Situacao: Operante|                                                       null|                                 null|                                null|                                        null|                                       null|Santa Vitoria do ...|-33.74222221|-53.37222221|\n",
            "|Data Inicial: 201...|                                                       null|                                 null|                                null|                                        null|                                       null|Santa Vitoria do ...|-33.74222221|-53.37222221|\n",
            "|Data Final: 2022-...|                                                       null|                                 null|                                null|                                        null|                                       null|Santa Vitoria do ...|-33.74222221|-53.37222221|\n",
            "|Periodicidade da ...|                                                       null|                                 null|                                null|                                        null|                                       null|Santa Vitoria do ...|-33.74222221|-53.37222221|\n",
            "|        Data Medicao|                                       NUMERO DE DIAS CO...|                 PRECIPITACAO TOTA...|                TEMPERATURA MEDIA...|                        VENTO, VELOCIDADE...|                       VENTO, VELOCIDADE...|Santa Vitoria do ...|-33.74222221|-53.37222221|\n",
            "|          2010-01-31|                                                          9|                                 38,6|                           22,997043|                                        12,6|                                   2,914944|Santa Vitoria do ...|-33.74222221|-53.37222221|\n",
            "|          2010-02-28|                                                         17|                                281,6|                           23,551786|                                           0|                                          0|Santa Vitoria do ...|-33.74222221|-53.37222221|\n",
            "|          2010-03-31|                                                          8|                                156,2|                           21,974462|                                           0|                                          0|Santa Vitoria do ...|-33.74222221|-53.37222221|\n",
            "|          2010-04-30|                                                         14|                                   77|                           18,785694|                                           0|                                          0|Santa Vitoria do ...|-33.74222221|-53.37222221|\n",
            "|          2010-05-31|                                                         14|                                 72,6|                           16,715591|                                           0|                                          0|Santa Vitoria do ...|-33.74222221|-53.37222221|\n",
            "|          2010-06-30|                                                         12|                                 70,6|                           13,094306|                                           0|                                          0|Santa Vitoria do ...|-33.74222221|-53.37222221|\n",
            "|          2010-07-31|                                                         19|                                175,8|                           11,463172|                                           0|                                          0|Santa Vitoria do ...|-33.74222221|-53.37222221|\n",
            "|          2010-08-31|                                                         11|                                 40,4|                           11,808901|                                           0|                                          0|Santa Vitoria do ...|-33.74222221|-53.37222221|\n",
            "|          2010-09-30|                                                         15|                                  116|                            14,16503|                                           0|                                          0|Santa Vitoria do ...|-33.74222221|-53.37222221|\n",
            "|          2010-10-31|                                                          6|                                 13,6|                           15,522937|                                        13,6|                                    ,715194|Santa Vitoria do ...|-33.74222221|-53.37222221|\n",
            "+--------------------+-----------------------------------------------------------+-------------------------------------+------------------------------------+--------------------------------------------+-------------------------------------------+--------------------+------------+------------+\n",
            "only showing top 20 rows\n",
            "\n"
          ]
        }
      ],
      "source": [
        "df.show()"
      ]
    },
    {
      "cell_type": "code",
      "execution_count": null,
      "metadata": {
        "id": "f6fn5PpjED2U"
      },
      "outputs": [],
      "source": [
        "df = df.subtract(df.limit(10))"
      ]
    },
    {
      "cell_type": "code",
      "execution_count": null,
      "metadata": {
        "colab": {
          "base_uri": "https://localhost:8080/"
        },
        "id": "RpAUrnU5pR9F",
        "outputId": "342cf5b7-c99a-4f9a-ad2a-525f5c0bbbea"
      },
      "outputs": [
        {
          "name": "stdout",
          "output_type": "stream",
          "text": [
            "+------------+-----------------------------------------------------------+-------------------------------------+------------------------------------+--------------------------------------------+-------------------------------------------+--------------------+------------+------------+\n",
            "|Data Medicao|NUMERO DE DIAS COM PRECIPITACAO PLUV - MENSAL (AUT)(numero)|PRECIPITACAO TOTAL - MENSAL (AUT)(mm)|TEMPERATURA MEDIA - MENSAL (AUT)(°C)|VENTO - VELOCIDADE MAXIMA MENSAL (AUT)(Km/h)|VENTO - VELOCIDADE MEDIA MENSAL (AUT)(Km/h)|           MUNICIPIO|    LATITUDE|   LONGITUDE|\n",
            "+------------+-----------------------------------------------------------+-------------------------------------+------------------------------------+--------------------------------------------+-------------------------------------------+--------------------+------------+------------+\n",
            "|  2018-04-30|                                                          7|                                   83|                             21,6425|                                        12,5|                                   4,258889|Santa Vitoria do ...|-33.74222221|-53.37222221|\n",
            "|  2014-01-31|                                                         16|                                206,2|                           23,541667|                                          19|                                   5,121102|Santa Vitoria do ...|-33.74222221|-53.37222221|\n",
            "|  2017-05-31|                                                         15|                                  127|                           16,534005|                                        12,7|                                    4,64785|Santa Vitoria do ...|-33.74222221|-53.37222221|\n",
            "|  2017-01-31|                                                         11|                                 77,4|                           22,610887|                                        13,4|                                   4,840188|Santa Vitoria do ...|-33.74222221|-53.37222221|\n",
            "|  2014-07-31|                                                         12|                                 97,6|                           12,874194|                                        16,4|                                   4,724194|Santa Vitoria do ...|-33.74222221|-53.37222221|\n",
            "|  2011-01-31|                                                         13|                                 55,2|                              23,325|                                         9,7|                                   4,457661|Santa Vitoria do ...|-33.74222221|-53.37222221|\n",
            "|  2015-11-30|                                                         10|                                 60,8|                           17,838472|                                        14,6|                                   5,692778|Santa Vitoria do ...|-33.74222221|-53.37222221|\n",
            "|  2020-10-31|                                                         17|                                   47|                           15,183333|                                        15,9|                                   6,183333|Santa Vitoria do ...|-33.74222221|-53.37222221|\n",
            "|  2011-12-31|                                                         13|                                 41,8|                           20,482661|                                        13,8|                                   5,998925|Santa Vitoria do ...|-33.74222221|-53.37222221|\n",
            "|  2013-07-31|                                                         18|                                 77,2|                           10,803495|                                          15|                                   4,273253|Santa Vitoria do ...|-33.74222221|-53.37222221|\n",
            "|  2017-07-31|                                                         10|                                 71,4|                           14,107661|                                        10,3|                                   4,379032|Santa Vitoria do ...|-33.74222221|-53.37222221|\n",
            "|  2013-09-30|                                                         17|                                236,4|                           14,104861|                                        15,3|                                    5,94625|Santa Vitoria do ...|-33.74222221|-53.37222221|\n",
            "|  2022-05-31|                                                       null|                                 null|                                null|                                        null|                                       null|Santa Vitoria do ...|-33.74222221|-53.37222221|\n",
            "|  2013-11-30|                                                         13|                                121,8|                           18,494444|                                        13,3|                                   5,617083|Santa Vitoria do ...|-33.74222221|-53.37222221|\n",
            "|  2016-04-30|                                                         23|                                348,6|                           18,936944|                                        17,8|                                   5,622778|Santa Vitoria do ...|-33.74222221|-53.37222221|\n",
            "|  2016-07-31|                                                         18|                                161,8|                           11,418414|                                          15|                                   4,400672|Santa Vitoria do ...|-33.74222221|-53.37222221|\n",
            "|  2017-12-31|                                                       null|                                 null|                           21,433333|                                        19,3|                                   5,818683|Santa Vitoria do ...|-33.74222221|-53.37222221|\n",
            "|  2020-12-31|                                                          7|                                 43,8|                           21,109677|                                        13,8|                                   5,890188|Santa Vitoria do ...|-33.74222221|-53.37222221|\n",
            "|  2016-12-31|                                                         15|                                149,4|                           20,892608|                                        15,4|                                   4,855107|Santa Vitoria do ...|-33.74222221|-53.37222221|\n",
            "|  2018-08-31|                                                         19|                                134,8|                           11,815323|                                        17,1|                                   4,881183|Santa Vitoria do ...|-33.74222221|-53.37222221|\n",
            "+------------+-----------------------------------------------------------+-------------------------------------+------------------------------------+--------------------------------------------+-------------------------------------------+--------------------+------------+------------+\n",
            "only showing top 20 rows\n",
            "\n"
          ]
        }
      ],
      "source": [
        "df.show()"
      ]
    },
    {
      "cell_type": "code",
      "execution_count": null,
      "metadata": {
        "id": "292xxFA1TE9G"
      },
      "outputs": [],
      "source": [
        "for coluna in df.columns:\n",
        "    # Verificar se a coluna é do tipo string\n",
        "  if df.schema[coluna].dataType == StringType():\n",
        "    # Substituir todas as ocorrências de \",\" por \".\"\n",
        "    df = df.withColumn(coluna, F.regexp_replace(F.col(coluna), \",\", \".\"))\n",
        "    df = df.withColumn(coluna, F.regexp_replace(F.col(coluna), r'^\\.', '0.'))"
      ]
    },
    {
      "cell_type": "code",
      "execution_count": null,
      "metadata": {
        "colab": {
          "base_uri": "https://localhost:8080/"
        },
        "id": "yWTciqud3Pjw",
        "outputId": "e962315c-86e9-4b42-eef4-bad140a63899"
      },
      "outputs": [
        {
          "name": "stdout",
          "output_type": "stream",
          "text": [
            "+------------+-----------------------------------------------------------+-------------------------------------+------------------------------------+--------------------------------------------+-------------------------------------------+--------------------+------------+------------+\n",
            "|Data Medicao|NUMERO DE DIAS COM PRECIPITACAO PLUV - MENSAL (AUT)(numero)|PRECIPITACAO TOTAL - MENSAL (AUT)(mm)|TEMPERATURA MEDIA - MENSAL (AUT)(°C)|VENTO - VELOCIDADE MAXIMA MENSAL (AUT)(Km/h)|VENTO - VELOCIDADE MEDIA MENSAL (AUT)(Km/h)|           MUNICIPIO|    LATITUDE|   LONGITUDE|\n",
            "+------------+-----------------------------------------------------------+-------------------------------------+------------------------------------+--------------------------------------------+-------------------------------------------+--------------------+------------+------------+\n",
            "|  2018-04-30|                                                          7|                                   83|                             21.6425|                                        12.5|                                   4.258889|Santa Vitoria do ...|-33.74222221|-53.37222221|\n",
            "|  2014-01-31|                                                         16|                                206.2|                           23.541667|                                          19|                                   5.121102|Santa Vitoria do ...|-33.74222221|-53.37222221|\n",
            "|  2017-05-31|                                                         15|                                  127|                           16.534005|                                        12.7|                                    4.64785|Santa Vitoria do ...|-33.74222221|-53.37222221|\n",
            "|  2017-01-31|                                                         11|                                 77.4|                           22.610887|                                        13.4|                                   4.840188|Santa Vitoria do ...|-33.74222221|-53.37222221|\n",
            "|  2014-07-31|                                                         12|                                 97.6|                           12.874194|                                        16.4|                                   4.724194|Santa Vitoria do ...|-33.74222221|-53.37222221|\n",
            "|  2011-01-31|                                                         13|                                 55.2|                              23.325|                                         9.7|                                   4.457661|Santa Vitoria do ...|-33.74222221|-53.37222221|\n",
            "|  2015-11-30|                                                         10|                                 60.8|                           17.838472|                                        14.6|                                   5.692778|Santa Vitoria do ...|-33.74222221|-53.37222221|\n",
            "|  2020-10-31|                                                         17|                                   47|                           15.183333|                                        15.9|                                   6.183333|Santa Vitoria do ...|-33.74222221|-53.37222221|\n",
            "|  2011-12-31|                                                         13|                                 41.8|                           20.482661|                                        13.8|                                   5.998925|Santa Vitoria do ...|-33.74222221|-53.37222221|\n",
            "|  2013-07-31|                                                         18|                                 77.2|                           10.803495|                                          15|                                   4.273253|Santa Vitoria do ...|-33.74222221|-53.37222221|\n",
            "|  2017-07-31|                                                         10|                                 71.4|                           14.107661|                                        10.3|                                   4.379032|Santa Vitoria do ...|-33.74222221|-53.37222221|\n",
            "|  2013-09-30|                                                         17|                                236.4|                           14.104861|                                        15.3|                                    5.94625|Santa Vitoria do ...|-33.74222221|-53.37222221|\n",
            "|  2022-05-31|                                                       null|                                 null|                                null|                                        null|                                       null|Santa Vitoria do ...|-33.74222221|-53.37222221|\n",
            "|  2013-11-30|                                                         13|                                121.8|                           18.494444|                                        13.3|                                   5.617083|Santa Vitoria do ...|-33.74222221|-53.37222221|\n",
            "|  2016-04-30|                                                         23|                                348.6|                           18.936944|                                        17.8|                                   5.622778|Santa Vitoria do ...|-33.74222221|-53.37222221|\n",
            "|  2016-07-31|                                                         18|                                161.8|                           11.418414|                                          15|                                   4.400672|Santa Vitoria do ...|-33.74222221|-53.37222221|\n",
            "|  2017-12-31|                                                       null|                                 null|                           21.433333|                                        19.3|                                   5.818683|Santa Vitoria do ...|-33.74222221|-53.37222221|\n",
            "|  2020-12-31|                                                          7|                                 43.8|                           21.109677|                                        13.8|                                   5.890188|Santa Vitoria do ...|-33.74222221|-53.37222221|\n",
            "|  2016-12-31|                                                         15|                                149.4|                           20.892608|                                        15.4|                                   4.855107|Santa Vitoria do ...|-33.74222221|-53.37222221|\n",
            "|  2018-08-31|                                                         19|                                134.8|                           11.815323|                                        17.1|                                   4.881183|Santa Vitoria do ...|-33.74222221|-53.37222221|\n",
            "+------------+-----------------------------------------------------------+-------------------------------------+------------------------------------+--------------------------------------------+-------------------------------------------+--------------------+------------+------------+\n",
            "only showing top 20 rows\n",
            "\n"
          ]
        }
      ],
      "source": [
        "df.show()"
      ]
    },
    {
      "cell_type": "code",
      "execution_count": null,
      "metadata": {
        "colab": {
          "base_uri": "https://localhost:8080/"
        },
        "id": "uifmZN3s2h6-",
        "outputId": "f646c1ff-9b19-4df0-a799-ef256f53ac27"
      },
      "outputs": [
        {
          "name": "stdout",
          "output_type": "stream",
          "text": [
            "Existem 0 valores nulos na coluna Data Medicao.\n",
            "Existem 0 valores nulos na coluna NUMERO DE DIAS COM PRECIPITACAO PLUV - MENSAL (AUT)(numero).\n",
            "Existem 0 valores nulos na coluna PRECIPITACAO TOTAL - MENSAL (AUT)(mm).\n",
            "Existem 0 valores nulos na coluna TEMPERATURA MEDIA - MENSAL (AUT)(°C).\n",
            "Existem 0 valores nulos na coluna VENTO - VELOCIDADE MAXIMA MENSAL (AUT)(Km/h).\n",
            "Existem 0 valores nulos na coluna VENTO - VELOCIDADE MEDIA MENSAL (AUT)(Km/h).\n",
            "Existem 0 valores nulos na coluna MUNICIPIO.\n",
            "Existem 0 valores nulos na coluna LATITUDE.\n",
            "Existem 0 valores nulos na coluna LONGITUDE.\n"
          ]
        }
      ],
      "source": [
        "#Checando valores nulos nas colunas\n",
        "\n",
        "for coluna in df.columns:\n",
        "  nulos = df.filter(isnull(coluna)).count()\n",
        "  print(f\"Existem {nulos} valores nulos na coluna {coluna}.\")"
      ]
    },
    {
      "cell_type": "code",
      "execution_count": null,
      "metadata": {
        "id": "LL0ppSOuXUim"
      },
      "outputs": [],
      "source": [
        "lista_colunas_double = ['NUMERO DE DIAS COM PRECIPITACAO PLUV - MENSAL (AUT)(numero)','PRECIPITACAO TOTAL - MENSAL (AUT)(mm)','TEMPERATURA MEDIA - MENSAL (AUT)(°C)','VENTO - VELOCIDADE MAXIMA MENSAL (AUT)(Km/h)','VENTO - VELOCIDADE MEDIA MENSAL (AUT)(Km/h)']\n",
        "lista_km = ['VENTO - VELOCIDADE MAXIMA MENSAL (AUT)(Km/h)','VENTO - VELOCIDADE MEDIA MENSAL (AUT)(Km/h)']\n",
        "lista_int = ['NUMERO DE DIAS COM PRECIPITACAO PLUV - MENSAL (AUT)(numero)']\n",
        "\n",
        "for coluna in df.columns:\n",
        "  if coluna in lista_colunas_double:\n",
        "    df = df.withColumn(coluna, F.col(coluna).cast(DoubleType()))\n",
        "  if coluna in lista_km:\n",
        "    df = df.withColumn(coluna, F.col(coluna) * 3.6)\n",
        "  if coluna in lista_int:\n",
        "    df = df.withColumn(coluna, F.col(coluna).cast(IntegerType()))   \n",
        "    "
      ]
    },
    {
      "cell_type": "code",
      "execution_count": null,
      "metadata": {
        "colab": {
          "base_uri": "https://localhost:8080/"
        },
        "id": "fAfjrQjSTX2u",
        "outputId": "7f242806-fe92-447c-99fe-ad57a75bcdd2"
      },
      "outputs": [
        {
          "name": "stdout",
          "output_type": "stream",
          "text": [
            "root\n",
            " |-- Data Medicao: string (nullable = true)\n",
            " |-- NUMERO DE DIAS COM PRECIPITACAO PLUV - MENSAL (AUT)(numero): integer (nullable = true)\n",
            " |-- PRECIPITACAO TOTAL - MENSAL (AUT)(mm): double (nullable = true)\n",
            " |-- TEMPERATURA MEDIA - MENSAL (AUT)(°C): double (nullable = true)\n",
            " |-- VENTO - VELOCIDADE MAXIMA MENSAL (AUT)(Km/h): double (nullable = true)\n",
            " |-- VENTO - VELOCIDADE MEDIA MENSAL (AUT)(Km/h): double (nullable = true)\n",
            " |-- MUNICIPIO: string (nullable = false)\n",
            " |-- LATITUDE: string (nullable = false)\n",
            " |-- LONGITUDE: string (nullable = false)\n",
            "\n"
          ]
        }
      ],
      "source": [
        "df.printSchema()"
      ]
    },
    {
      "cell_type": "code",
      "execution_count": null,
      "metadata": {
        "id": "EiaTFBFmuaZG"
      },
      "outputs": [],
      "source": [
        "# Dropando as colunas de latitude e longitude já que criamos a de coordenada com os dados juntos\n",
        "df = df.withColumn('COORDENADA',F.concat_ws(', ',F.col('LATITUDE'),F.col('LONGITUDE'))).drop('LATITUDE', 'LONGITUDE')"
      ]
    },
    {
      "cell_type": "code",
      "execution_count": null,
      "metadata": {
        "id": "UUi0ItgqxJoR"
      },
      "outputs": [],
      "source": [
        "df_tratado = df.withColumn('Data Medicao', F.to_date(F.col('Data Medicao'), 'yyyy-MM-dd'))"
      ]
    },
    {
      "cell_type": "code",
      "execution_count": null,
      "metadata": {
        "colab": {
          "base_uri": "https://localhost:8080/"
        },
        "id": "y2JY-MRqdFJO",
        "outputId": "b7b786af-a706-41bf-9b84-ccc78021a75a"
      },
      "outputs": [
        {
          "name": "stdout",
          "output_type": "stream",
          "text": [
            "root\n",
            " |-- Data Medicao: date (nullable = true)\n",
            " |-- NUMERO DE DIAS COM PRECIPITACAO PLUV - MENSAL (AUT)(numero): integer (nullable = true)\n",
            " |-- PRECIPITACAO TOTAL - MENSAL (AUT)(mm): double (nullable = true)\n",
            " |-- TEMPERATURA MEDIA - MENSAL (AUT)(°C): double (nullable = true)\n",
            " |-- VENTO - VELOCIDADE MAXIMA MENSAL (AUT)(Km/h): double (nullable = true)\n",
            " |-- VENTO - VELOCIDADE MEDIA MENSAL (AUT)(Km/h): double (nullable = true)\n",
            " |-- MUNICIPIO: string (nullable = false)\n",
            " |-- COORDENADA: string (nullable = false)\n",
            "\n"
          ]
        }
      ],
      "source": [
        "df_tratado.printSchema()"
      ]
    },
    {
      "cell_type": "code",
      "execution_count": null,
      "metadata": {
        "colab": {
          "base_uri": "https://localhost:8080/"
        },
        "id": "Nz8Ay4dFDTp-",
        "outputId": "7eeda1c9-1c9c-4fe5-860a-709b307dc650"
      },
      "outputs": [
        {
          "name": "stdout",
          "output_type": "stream",
          "text": [
            "+------------+-----------------------------------------------------------+-------------------------------------+------------------------------------+--------------------------------------------+-------------------------------------------+--------------------+--------------------+\n",
            "|Data Medicao|NUMERO DE DIAS COM PRECIPITACAO PLUV - MENSAL (AUT)(numero)|PRECIPITACAO TOTAL - MENSAL (AUT)(mm)|TEMPERATURA MEDIA - MENSAL (AUT)(°C)|VENTO - VELOCIDADE MAXIMA MENSAL (AUT)(Km/h)|VENTO - VELOCIDADE MEDIA MENSAL (AUT)(Km/h)|           MUNICIPIO|          COORDENADA|\n",
            "+------------+-----------------------------------------------------------+-------------------------------------+------------------------------------+--------------------------------------------+-------------------------------------------+--------------------+--------------------+\n",
            "|  2018-04-30|                                                          7|                                 83.0|                             21.6425|                                        45.0|                                 15.3320004|Santa Vitoria do ...|-33.74222221, -53...|\n",
            "|  2014-01-31|                                                         16|                                206.2|                           23.541667|                                        68.4|                                 18.4359672|Santa Vitoria do ...|-33.74222221, -53...|\n",
            "|  2017-05-31|                                                         15|                                127.0|                           16.534005|                                       45.72|                                   16.73226|Santa Vitoria do ...|-33.74222221, -53...|\n",
            "|  2017-01-31|                                                         11|                                 77.4|                           22.610887|                                       48.24|                                 17.4246768|Santa Vitoria do ...|-33.74222221, -53...|\n",
            "|  2014-07-31|                                                         12|                                 97.6|                           12.874194|                                       59.04|                                 17.0070984|Santa Vitoria do ...|-33.74222221, -53...|\n",
            "|  2011-01-31|                                                         13|                                 55.2|                              23.325|                                       34.92|                                 16.0475796|Santa Vitoria do ...|-33.74222221, -53...|\n",
            "|  2015-11-30|                                                         10|                                 60.8|                           17.838472|                                       52.56|                                 20.4940008|Santa Vitoria do ...|-33.74222221, -53...|\n",
            "|  2020-10-31|                                                         17|                                 47.0|                           15.183333|                                       57.24|                                 22.2599988|Santa Vitoria do ...|-33.74222221, -53...|\n",
            "|  2011-12-31|                                                         13|                                 41.8|                           20.482661|                           49.68000000000001|                                   21.59613|Santa Vitoria do ...|-33.74222221, -53...|\n",
            "|  2013-07-31|                                                         18|                                 77.2|                           10.803495|                                        54.0|                         15.383710800000001|Santa Vitoria do ...|-33.74222221, -53...|\n",
            "|  2017-07-31|                                                         10|                                 71.4|                           14.107661|                          37.080000000000005|                         15.764515199999998|Santa Vitoria do ...|-33.74222221, -53...|\n",
            "|  2013-09-30|                                                         17|                                236.4|                           14.104861|                          55.080000000000005|                                    21.4065|Santa Vitoria do ...|-33.74222221, -53...|\n",
            "|  2022-05-31|                                                       null|                                 null|                                null|                                        null|                                       null|Santa Vitoria do ...|-33.74222221, -53...|\n",
            "|  2013-11-30|                                                         13|                                121.8|                           18.494444|                                       47.88|                                 20.2214988|Santa Vitoria do ...|-33.74222221, -53...|\n",
            "|  2016-04-30|                                                         23|                                348.6|                           18.936944|                                       64.08|                         20.242000800000003|Santa Vitoria do ...|-33.74222221, -53...|\n",
            "|  2016-07-31|                                                         18|                                161.8|                           11.418414|                                        54.0|                                 15.8424192|Santa Vitoria do ...|-33.74222221, -53...|\n",
            "|  2017-12-31|                                                       null|                                 null|                           21.433333|                                       69.48|                                 20.9472588|Santa Vitoria do ...|-33.74222221, -53...|\n",
            "|  2020-12-31|                                                          7|                                 43.8|                           21.109677|                           49.68000000000001|                                 21.2046768|Santa Vitoria do ...|-33.74222221, -53...|\n",
            "|  2016-12-31|                                                         15|                                149.4|                           20.892608|                          55.440000000000005|                                 17.4783852|Santa Vitoria do ...|-33.74222221, -53...|\n",
            "|  2018-08-31|                                                         19|                                134.8|                           11.815323|                           61.56000000000001|                                 17.5722588|Santa Vitoria do ...|-33.74222221, -53...|\n",
            "+------------+-----------------------------------------------------------+-------------------------------------+------------------------------------+--------------------------------------------+-------------------------------------------+--------------------+--------------------+\n",
            "only showing top 20 rows\n",
            "\n"
          ]
        }
      ],
      "source": [
        "df_tratado.show()"
      ]
    },
    {
      "cell_type": "markdown",
      "metadata": {
        "id": "v9S_fiS797_r"
      },
      "source": [
        "Checando os Valores de cada coluna"
      ]
    },
    {
      "cell_type": "code",
      "execution_count": null,
      "metadata": {
        "colab": {
          "base_uri": "https://localhost:8080/"
        },
        "id": "etDgPQm_pOOx",
        "outputId": "f93edb51-301c-4ff4-8462-deff46db0f44"
      },
      "outputs": [
        {
          "name": "stdout",
          "output_type": "stream",
          "text": [
            "Total de Registros Duplicados = 0\n"
          ]
        }
      ],
      "source": [
        "total = df_tratado.count() - df_tratado.dropDuplicates().count()\n",
        "print(f'Total de Registros Duplicados = {total}')"
      ]
    },
    {
      "cell_type": "code",
      "execution_count": null,
      "metadata": {
        "colab": {
          "base_uri": "https://localhost:8080/"
        },
        "id": "e1J4eEPXqxJ4",
        "outputId": "a65ecd10-bfee-4ea8-a067-e3942229bbaa"
      },
      "outputs": [
        {
          "name": "stdout",
          "output_type": "stream",
          "text": [
            "Existem 0 valores nulos na coluna Data Medicao.\n",
            "Existem 21 valores nulos na coluna NUMERO DE DIAS COM PRECIPITACAO PLUV - MENSAL (AUT)(numero).\n",
            "Existem 29 valores nulos na coluna PRECIPITACAO TOTAL - MENSAL (AUT)(mm).\n",
            "Existem 18 valores nulos na coluna TEMPERATURA MEDIA - MENSAL (AUT)(°C).\n",
            "Existem 17 valores nulos na coluna VENTO - VELOCIDADE MAXIMA MENSAL (AUT)(Km/h).\n",
            "Existem 20 valores nulos na coluna VENTO - VELOCIDADE MEDIA MENSAL (AUT)(Km/h).\n",
            "Existem 0 valores nulos na coluna MUNICIPIO.\n",
            "Existem 0 valores nulos na coluna COORDENADA.\n"
          ]
        }
      ],
      "source": [
        "#Checando valores nulos nas colunas \n",
        "\n",
        "for coluna in df_tratado.columns:\n",
        "  nulos = df_tratado.filter(isnull(coluna)).count()\n",
        "  print(f\"Existem {nulos} valores nulos na coluna {coluna}.\")"
      ]
    },
    {
      "cell_type": "code",
      "execution_count": null,
      "metadata": {
        "colab": {
          "base_uri": "https://localhost:8080/"
        },
        "id": "X9bFyb4eHpOs",
        "outputId": "f0127281-9bbf-4ecc-d9f7-180ff43e50c8"
      },
      "outputs": [
        {
          "name": "stdout",
          "output_type": "stream",
          "text": [
            "root\n",
            " |-- Data Medicao: date (nullable = true)\n",
            " |-- NUMERO DE DIAS COM PRECIPITACAO PLUV - MENSAL (AUT)(numero): integer (nullable = true)\n",
            " |-- PRECIPITACAO TOTAL - MENSAL (AUT)(mm): double (nullable = true)\n",
            " |-- TEMPERATURA MEDIA - MENSAL (AUT)(°C): double (nullable = true)\n",
            " |-- VENTO - VELOCIDADE MAXIMA MENSAL (AUT)(Km/h): double (nullable = true)\n",
            " |-- VENTO - VELOCIDADE MEDIA MENSAL (AUT)(Km/h): double (nullable = true)\n",
            " |-- MUNICIPIO: string (nullable = false)\n",
            " |-- COORDENADA: string (nullable = false)\n",
            "\n"
          ]
        }
      ],
      "source": [
        "df_tratado.printSchema()"
      ]
    },
    {
      "cell_type": "markdown",
      "metadata": {
        "id": "u2dqDLFAKkL8"
      },
      "source": [
        "## Validação de dados"
      ]
    },
    {
      "cell_type": "code",
      "execution_count": null,
      "metadata": {
        "id": "TsHIOSreIHI1"
      },
      "outputs": [],
      "source": [
        "#Criação do schema pandera\n",
        "\n",
        "schema = pa.DataFrameSchema(\n",
        "    columns = {\n",
        "        'Data Medicao':pa.Column(pa.DateTime),\n",
        "        'NUMERO DE DIAS COM PRECIPITACAO PLUV - MENSAL (AUT)(numero)':pa.Column(pa.Int),\n",
        "        'PRECIPITACAO TOTAL - MENSAL (AUT)(mm)':pa.Column(pa.Float),\n",
        "        'TEMPERATURA MEDIA - MENSAL (AUT)(°C)':pa.Column(pa.Float),\n",
        "        'VENTO - VELOCIDADE MAXIMA MENSAL (AUT)(Km/h)':pa.Column(pa.Float),\n",
        "        'MUNICIPIO':pa.Column(pa.String),\n",
        "        'COORDENADA\t':pa.Column(pa.String)\n",
        "  }\n",
        ")"
      ]
    },
    {
      "cell_type": "markdown",
      "metadata": {
        "id": "GLgI_Jgesw8B"
      },
      "source": [
        "##Tratamento de null"
      ]
    },
    {
      "cell_type": "markdown",
      "metadata": {
        "id": "ntidgIVrpRNd"
      },
      "source": [
        "Tratamento PRECIPITACAO TOTAL - MENSAL (AUT)(mm)"
      ]
    },
    {
      "cell_type": "code",
      "execution_count": null,
      "metadata": {
        "colab": {
          "base_uri": "https://localhost:8080/"
        },
        "id": "Cmm3_u20J6BZ",
        "outputId": "64afe7f0-7315-49bc-b949-efcdc6c23478"
      },
      "outputs": [
        {
          "name": "stdout",
          "output_type": "stream",
          "text": [
            "+------------+-----------------------------------------------------------+-------------------------------------+------------------------------------+--------------------------------------------+-------------------------------------------+--------------------+--------------------+\n",
            "|Data Medicao|NUMERO DE DIAS COM PRECIPITACAO PLUV - MENSAL (AUT)(numero)|PRECIPITACAO TOTAL - MENSAL (AUT)(mm)|TEMPERATURA MEDIA - MENSAL (AUT)(°C)|VENTO - VELOCIDADE MAXIMA MENSAL (AUT)(Km/h)|VENTO - VELOCIDADE MEDIA MENSAL (AUT)(Km/h)|           MUNICIPIO|          COORDENADA|\n",
            "+------------+-----------------------------------------------------------+-------------------------------------+------------------------------------+--------------------------------------------+-------------------------------------------+--------------------+--------------------+\n",
            "|  2022-05-31|                                                       null|                                 null|                                null|                                        null|                                       null|Santa Vitoria do ...|-33.74222221, -53...|\n",
            "|  2017-12-31|                                                       null|                                 null|                           21.433333|                                       69.48|                                 20.9472588|Santa Vitoria do ...|-33.74222221, -53...|\n",
            "|  2022-01-31|                                                       null|                                 null|                                null|                                        null|                                       null|Santa Vitoria do ...|-33.74222221, -53...|\n",
            "|  2018-02-28|                                                       null|                                 null|                            22.51131|                                       42.84|                                  18.114642|Santa Vitoria do ...|-33.74222221, -53...|\n",
            "|  2013-02-28|                                                       null|                                 null|                           22.757143|                                       72.72|                                 21.3380352|Santa Vitoria do ...|-33.74222221, -53...|\n",
            "|  2018-01-31|                                                       null|                                 null|                           23.239651|                                        52.2|                                 19.3679028|Santa Vitoria do ...|-33.74222221, -53...|\n",
            "|  2017-11-30|                                                       null|                                 null|                           18.020417|                                        57.6|                                 20.5575012|Santa Vitoria do ...|-33.74222221, -53...|\n",
            "|  2022-04-30|                                                       null|                                 null|                                null|                                        null|                                       null|Santa Vitoria do ...|-33.74222221, -53...|\n",
            "|  2018-03-31|                                                       null|                                 null|                           20.508065|                                       52.56|                                 17.1798372|Santa Vitoria do ...|-33.74222221, -53...|\n",
            "|  2021-09-30|                                                         10|                                 null|                           14.755682|                                       50.04|                                       null|Santa Vitoria do ...|-33.74222221, -53...|\n",
            "|  2022-06-30|                                                       null|                                 null|                                null|                                        null|                                       null|Santa Vitoria do ...|-33.74222221, -53...|\n",
            "|  2012-03-31|                                                       null|                                 null|                                null|                                        null|                                       null|Santa Vitoria do ...|-33.74222221, -53...|\n",
            "|  2014-11-30|                                                       null|                                 null|                                null|                                        null|                                       null|Santa Vitoria do ...|-33.74222221, -53...|\n",
            "|  2012-02-29|                                                       null|                                 null|                                null|                                        null|                                       null|Santa Vitoria do ...|-33.74222221, -53...|\n",
            "|  2017-10-31|                                                       null|                                 null|                           17.049059|                                       52.56|                                 20.8979028|Santa Vitoria do ...|-33.74222221, -53...|\n",
            "|  2022-03-31|                                                       null|                                 null|                                null|                                        null|                                       null|Santa Vitoria do ...|-33.74222221, -53...|\n",
            "|  2014-10-31|                                                          1|                                 null|                                null|                                       45.36|                                       null|Santa Vitoria do ...|-33.74222221, -53...|\n",
            "|  2022-08-31|                                                         11|                                 null|                           12.335187|                                        54.0|                                 16.2731268|Santa Vitoria do ...|-33.74222221, -53...|\n",
            "|  2021-12-31|                                                       null|                                 null|                                null|                                        null|                                       null|Santa Vitoria do ...|-33.74222221, -53...|\n",
            "|  2021-10-31|                                                       null|                                 null|                                null|                                        null|                                       null|Santa Vitoria do ...|-33.74222221, -53...|\n",
            "+------------+-----------------------------------------------------------+-------------------------------------+------------------------------------+--------------------------------------------+-------------------------------------------+--------------------+--------------------+\n",
            "only showing top 20 rows\n",
            "\n"
          ]
        }
      ],
      "source": [
        "df_tratado.filter(isnull('PRECIPITACAO TOTAL - MENSAL (AUT)(mm)')).show()"
      ]
    },
    {
      "cell_type": "code",
      "execution_count": null,
      "metadata": {
        "id": "yZIHafoThpB4"
      },
      "outputs": [],
      "source": [
        "meses = [1,2,3,4,5,6,7,8,9,10,11,12]\n",
        "precipitacao_normal = [115.9,\t141.8,\t107.2,\t111.1,\t117.1,\t107.7,\t112.7,\t117.4,\t128.7,\t120.2,\t99.4,\t103.2]\n",
        "medtemp_normal = [23.5,\t23.2,\t21.9,\t19,\t15.6,\t13.1,\t12.3,\t13.8,\t15.3,\t17.9,\t20.1,\t22.2]\n",
        "medvent_normal = [1.7,\tNone,\t1.6,\t1.6,\t1.6,\t1.8,\t1.8,\t1.9,\t2,\t1.9,\t1.9,\t1.8]"
      ]
    },
    {
      "cell_type": "code",
      "execution_count": null,
      "metadata": {
        "id": "EUGWXU2JiGYd"
      },
      "outputs": [],
      "source": [
        "col_substituindo = \"PRECIPITACAO TOTAL - MENSAL (AUT)(mm)\"\n",
        "for i in range(len(meses)):\n",
        "  mes_da_troca = meses[i]\n",
        "  normal = precipitacao_normal[i]\n",
        "\n",
        "  df_tratado = df_tratado.withColumn(col_substituindo, F.when\\\n",
        "                                    ((F.month(\"Data Medicao\") == mes_da_troca) & (F.col(col_substituindo).isNull()), normal).otherwise(F.col(col_substituindo)))"
      ]
    },
    {
      "cell_type": "markdown",
      "metadata": {
        "id": "6tkLoDiYol32"
      },
      "source": [
        "Tratamento TEMPERATURA MEDIA - MENSAL (AUT)(°C)"
      ]
    },
    {
      "cell_type": "code",
      "execution_count": null,
      "metadata": {
        "colab": {
          "base_uri": "https://localhost:8080/"
        },
        "id": "TYPOJZjJohsk",
        "outputId": "bf716c42-eb8c-41f2-877b-46a051829adb"
      },
      "outputs": [
        {
          "name": "stdout",
          "output_type": "stream",
          "text": [
            "+------------+-----------------------------------------------------------+-------------------------------------+------------------------------------+--------------------------------------------+-------------------------------------------+--------------------+--------------------+\n",
            "|Data Medicao|NUMERO DE DIAS COM PRECIPITACAO PLUV - MENSAL (AUT)(numero)|PRECIPITACAO TOTAL - MENSAL (AUT)(mm)|TEMPERATURA MEDIA - MENSAL (AUT)(°C)|VENTO - VELOCIDADE MAXIMA MENSAL (AUT)(Km/h)|VENTO - VELOCIDADE MEDIA MENSAL (AUT)(Km/h)|           MUNICIPIO|          COORDENADA|\n",
            "+------------+-----------------------------------------------------------+-------------------------------------+------------------------------------+--------------------------------------------+-------------------------------------------+--------------------+--------------------+\n",
            "|  2022-05-31|                                                       null|                                117.1|                                null|                                        null|                                       null|Santa Vitoria do ...|-33.74222221, -53...|\n",
            "|  2022-01-31|                                                       null|                                115.9|                                null|                                        null|                                       null|Santa Vitoria do ...|-33.74222221, -53...|\n",
            "|  2022-04-30|                                                       null|                                111.1|                                null|                                        null|                                       null|Santa Vitoria do ...|-33.74222221, -53...|\n",
            "|  2022-06-30|                                                       null|                                107.7|                                null|                                        null|                                       null|Santa Vitoria do ...|-33.74222221, -53...|\n",
            "|  2012-03-31|                                                       null|                                107.2|                                null|                                        null|                                       null|Santa Vitoria do ...|-33.74222221, -53...|\n",
            "|  2014-11-30|                                                       null|                                 99.4|                                null|                                        null|                                       null|Santa Vitoria do ...|-33.74222221, -53...|\n",
            "|  2012-02-29|                                                       null|                                141.8|                                null|                                        null|                                       null|Santa Vitoria do ...|-33.74222221, -53...|\n",
            "|  2022-03-31|                                                       null|                                107.2|                                null|                                        null|                                       null|Santa Vitoria do ...|-33.74222221, -53...|\n",
            "|  2014-10-31|                                                          1|                                120.2|                                null|                                       45.36|                                       null|Santa Vitoria do ...|-33.74222221, -53...|\n",
            "|  2021-12-31|                                                       null|                                103.2|                                null|                                        null|                                       null|Santa Vitoria do ...|-33.74222221, -53...|\n",
            "|  2021-10-31|                                                       null|                                120.2|                                null|                                        null|                                       null|Santa Vitoria do ...|-33.74222221, -53...|\n",
            "|  2015-04-30|                                                       null|                                111.1|                                null|                                        null|                                       null|Santa Vitoria do ...|-33.74222221, -53...|\n",
            "|  2021-11-30|                                                       null|                                 99.4|                                null|                                        null|                                       null|Santa Vitoria do ...|-33.74222221, -53...|\n",
            "|  2015-03-31|                                                          2|                                107.2|                                null|                                        null|                                       null|Santa Vitoria do ...|-33.74222221, -53...|\n",
            "|  2022-02-28|                                                       null|                                141.8|                                null|                                        null|                                       null|Santa Vitoria do ...|-33.74222221, -53...|\n",
            "|  2012-04-30|                                                          4|                                111.1|                                null|                                        null|                                       null|Santa Vitoria do ...|-33.74222221, -53...|\n",
            "|  2019-05-31|                                                       null|                                117.1|                                null|                                        null|                                       null|Santa Vitoria do ...|-33.74222221, -53...|\n",
            "|  2019-06-30|                                                          5|                                107.7|                                null|                                        null|                                       null|Santa Vitoria do ...|-33.74222221, -53...|\n",
            "+------------+-----------------------------------------------------------+-------------------------------------+------------------------------------+--------------------------------------------+-------------------------------------------+--------------------+--------------------+\n",
            "\n"
          ]
        }
      ],
      "source": [
        "df_tratado.filter(isnull('TEMPERATURA MEDIA - MENSAL (AUT)(°C)')).show()"
      ]
    },
    {
      "cell_type": "code",
      "execution_count": null,
      "metadata": {
        "id": "AQuMsTreohsl"
      },
      "outputs": [],
      "source": [
        "col_substituindo = \"TEMPERATURA MEDIA - MENSAL (AUT)(°C)\"\n",
        "for i in range(len(meses)):\n",
        "  mes_da_troca = meses[i]\n",
        "  normal = medtemp_normal[i]\n",
        "\n",
        "  df_tratado = df_tratado.withColumn(col_substituindo, F.when((F.month(\"Data Medicao\") == mes_da_troca) & (F.col(col_substituindo).isNull()), normal).otherwise(F.col(col_substituindo)))\n"
      ]
    },
    {
      "cell_type": "markdown",
      "metadata": {
        "id": "GHWobpkspZmq"
      },
      "source": [
        "Tratamento VENTO - VELOCIDADE MEDIA MENSAL (AUT)(Km/h)"
      ]
    },
    {
      "cell_type": "code",
      "execution_count": null,
      "metadata": {
        "colab": {
          "base_uri": "https://localhost:8080/"
        },
        "id": "TPI1Pp1NojPG",
        "outputId": "8f68533a-f790-42b0-e31e-568efee53a95"
      },
      "outputs": [
        {
          "name": "stdout",
          "output_type": "stream",
          "text": [
            "+------------+-----------------------------------------------------------+-------------------------------------+------------------------------------+--------------------------------------------+-------------------------------------------+--------------------+--------------------+\n",
            "|Data Medicao|NUMERO DE DIAS COM PRECIPITACAO PLUV - MENSAL (AUT)(numero)|PRECIPITACAO TOTAL - MENSAL (AUT)(mm)|TEMPERATURA MEDIA - MENSAL (AUT)(°C)|VENTO - VELOCIDADE MAXIMA MENSAL (AUT)(Km/h)|VENTO - VELOCIDADE MEDIA MENSAL (AUT)(Km/h)|           MUNICIPIO|          COORDENADA|\n",
            "+------------+-----------------------------------------------------------+-------------------------------------+------------------------------------+--------------------------------------------+-------------------------------------------+--------------------+--------------------+\n",
            "|  2022-05-31|                                                       null|                                117.1|                                15.6|                                        null|                                       null|Santa Vitoria do ...|-33.74222221, -53...|\n",
            "|  2022-01-31|                                                       null|                                115.9|                                23.5|                                        null|                                       null|Santa Vitoria do ...|-33.74222221, -53...|\n",
            "|  2022-04-30|                                                       null|                                111.1|                                19.0|                                        null|                                       null|Santa Vitoria do ...|-33.74222221, -53...|\n",
            "|  2021-09-30|                                                         10|                                128.7|                           14.755682|                                       50.04|                                       null|Santa Vitoria do ...|-33.74222221, -53...|\n",
            "|  2022-06-30|                                                       null|                                107.7|                                13.1|                                        null|                                       null|Santa Vitoria do ...|-33.74222221, -53...|\n",
            "|  2012-03-31|                                                       null|                                107.2|                                21.9|                                        null|                                       null|Santa Vitoria do ...|-33.74222221, -53...|\n",
            "|  2014-11-30|                                                       null|                                 99.4|                                20.1|                                        null|                                       null|Santa Vitoria do ...|-33.74222221, -53...|\n",
            "|  2012-02-29|                                                       null|                                141.8|                                23.2|                                        null|                                       null|Santa Vitoria do ...|-33.74222221, -53...|\n",
            "|  2022-03-31|                                                       null|                                107.2|                                21.9|                                        null|                                       null|Santa Vitoria do ...|-33.74222221, -53...|\n",
            "|  2014-10-31|                                                          1|                                120.2|                                17.9|                                       45.36|                                       null|Santa Vitoria do ...|-33.74222221, -53...|\n",
            "|  2021-12-31|                                                       null|                                103.2|                                22.2|                                        null|                                       null|Santa Vitoria do ...|-33.74222221, -53...|\n",
            "|  2021-10-31|                                                       null|                                120.2|                                17.9|                                        null|                                       null|Santa Vitoria do ...|-33.74222221, -53...|\n",
            "|  2015-04-30|                                                       null|                                111.1|                                19.0|                                        null|                                       null|Santa Vitoria do ...|-33.74222221, -53...|\n",
            "|  2021-11-30|                                                       null|                                 99.4|                                20.1|                                        null|                                       null|Santa Vitoria do ...|-33.74222221, -53...|\n",
            "|  2015-03-31|                                                          2|                                107.2|                                21.9|                                        null|                                       null|Santa Vitoria do ...|-33.74222221, -53...|\n",
            "|  2019-04-30|                                                          4|                                111.1|                           20.062516|                          55.080000000000005|                                       null|Santa Vitoria do ...|-33.74222221, -53...|\n",
            "|  2022-02-28|                                                       null|                                141.8|                                23.2|                                        null|                                       null|Santa Vitoria do ...|-33.74222221, -53...|\n",
            "|  2012-04-30|                                                          4|                                111.1|                                19.0|                                        null|                                       null|Santa Vitoria do ...|-33.74222221, -53...|\n",
            "|  2019-05-31|                                                       null|                                117.1|                                15.6|                                        null|                                       null|Santa Vitoria do ...|-33.74222221, -53...|\n",
            "|  2019-06-30|                                                          5|                                107.7|                                13.1|                                        null|                                       null|Santa Vitoria do ...|-33.74222221, -53...|\n",
            "+------------+-----------------------------------------------------------+-------------------------------------+------------------------------------+--------------------------------------------+-------------------------------------------+--------------------+--------------------+\n",
            "\n"
          ]
        }
      ],
      "source": [
        "df_tratado.filter(isnull('VENTO - VELOCIDADE MEDIA MENSAL (AUT)(Km/h)')).show()"
      ]
    },
    {
      "cell_type": "code",
      "execution_count": null,
      "metadata": {
        "id": "VU-jQ7F1ojPG"
      },
      "outputs": [],
      "source": [
        "col_substituindo = \"VENTO - VELOCIDADE MEDIA MENSAL (AUT)(Km/h)\"\n",
        "for i in range(len(meses)):\n",
        "  if medvent_normal == None:\n",
        "    pass\n",
        "    mes_da_troca = meses[i]\n",
        "    normal = (medvent_normal[i] * 3.6)\n",
        "\n",
        "    df_tratado = df_tratado.withColumn(col_substituindo, F.when((F.month(\"Data Medicao\") == mes_da_troca) & (F.col(col_substituindo).isNull()), normal).otherwise(F.col(col_substituindo)))\n"
      ]
    },
    {
      "cell_type": "code",
      "execution_count": null,
      "metadata": {
        "id": "3BXbM7oDH-99"
      },
      "outputs": [],
      "source": []
    },
    {
      "cell_type": "markdown",
      "metadata": {
        "id": "08B1oqBg3yKw"
      },
      "source": [
        "##Load (Subindo df tratado para GCP)"
      ]
    },
    {
      "cell_type": "code",
      "execution_count": null,
      "metadata": {
        "id": "bu_goxN53xex"
      },
      "outputs": [],
      "source": [
        "df_salvar = df_tratado.toPandas()"
      ]
    },
    {
      "cell_type": "code",
      "execution_count": null,
      "metadata": {
        "id": "H3nMwLM_B8a5"
      },
      "outputs": [],
      "source": [
        "gcs_path = 'gs://tcc_soulcode_g3/tratados_clima_mensal/sul/dados_A899_M_2010-01-01_2022-12-31_tratado.csv'\n",
        "df_salvar.to_csv(gcs_path, sep = ';', index = False)"
      ]
    }
  ],
  "metadata": {
    "colab": {
      "provenance": [],
      "include_colab_link": true
    },
    "kernelspec": {
      "display_name": "Python 3",
      "name": "python3"
    },
    "language_info": {
      "name": "python"
    }
  },
  "nbformat": 4,
  "nbformat_minor": 0
}