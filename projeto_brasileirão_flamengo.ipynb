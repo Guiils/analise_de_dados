{
  "nbformat": 4,
  "nbformat_minor": 0,
  "metadata": {
    "colab": {
      "provenance": [],
      "authorship_tag": "ABX9TyNP8Hi0GV1ZNI7/YaIYRrnh",
      "include_colab_link": true
    },
    "kernelspec": {
      "name": "python3",
      "display_name": "Python 3"
    },
    "language_info": {
      "name": "python"
    }
  },
  "cells": [
    {
      "cell_type": "markdown",
      "metadata": {
        "id": "view-in-github",
        "colab_type": "text"
      },
      "source": [
        "<a href=\"https://colab.research.google.com/github/Guiils/analise_de_dados/blob/main/projeto_brasileir%C3%A3o_flamengo.ipynb\" target=\"_parent\"><img src=\"https://colab.research.google.com/assets/colab-badge.svg\" alt=\"Open In Colab\"/></a>"
      ]
    },
    {
      "cell_type": "markdown",
      "metadata": {
        "id": "pKz7Yjln-p1M"
      },
      "source": [
        "##Preparação de bibliotecas"
      ]
    },
    {
      "cell_type": "code",
      "execution_count": null,
      "metadata": {
        "id": "TAQmuKWOuLA9",
        "colab": {
          "base_uri": "https://localhost:8080/"
        },
        "outputId": "1a03e4d3-abf1-476e-a75c-677565fc52be"
      },
      "outputs": [
        {
          "output_type": "stream",
          "name": "stdout",
          "text": [
            "Looking in indexes: https://pypi.org/simple, https://us-python.pkg.dev/colab-wheels/public/simple/\n",
            "Collecting pyspark\n",
            "  Downloading pyspark-3.4.0.tar.gz (310.8 MB)\n",
            "\u001b[2K     \u001b[90m━━━━━━━━━━━━━━━━━━━━━━━━━━━━━━━━━━━━━━━\u001b[0m \u001b[32m310.8/310.8 MB\u001b[0m \u001b[31m2.6 MB/s\u001b[0m eta \u001b[36m0:00:00\u001b[0m\n",
            "\u001b[?25h  Preparing metadata (setup.py) ... \u001b[?25l\u001b[?25hdone\n",
            "Requirement already satisfied: py4j==0.10.9.7 in /usr/local/lib/python3.10/dist-packages (from pyspark) (0.10.9.7)\n",
            "Building wheels for collected packages: pyspark\n",
            "  Building wheel for pyspark (setup.py) ... \u001b[?25l\u001b[?25hdone\n",
            "  Created wheel for pyspark: filename=pyspark-3.4.0-py2.py3-none-any.whl size=311317130 sha256=7976f59dd6c432b497612875cdd0dd35e842861ec646dc4e77e7a9f778293219\n",
            "  Stored in directory: /root/.cache/pip/wheels/7b/1b/4b/3363a1d04368e7ff0d408e57ff57966fcdf00583774e761327\n",
            "Successfully built pyspark\n",
            "Installing collected packages: pyspark\n",
            "Successfully installed pyspark-3.4.0\n"
          ]
        }
      ],
      "source": [
        "pip install pyspark"
      ]
    },
    {
      "cell_type": "code",
      "execution_count": null,
      "metadata": {
        "id": "I50GuCAPdP9f",
        "colab": {
          "base_uri": "https://localhost:8080/"
        },
        "outputId": "d68f4950-0120-4881-a410-a7292a71837e"
      },
      "outputs": [
        {
          "output_type": "stream",
          "name": "stdout",
          "text": [
            "Looking in indexes: https://pypi.org/simple, https://us-python.pkg.dev/colab-wheels/public/simple/\n",
            "Collecting gcsfs\n",
            "  Downloading gcsfs-2023.5.0-py2.py3-none-any.whl (26 kB)\n",
            "Collecting aiohttp!=4.0.0a0,!=4.0.0a1 (from gcsfs)\n",
            "  Downloading aiohttp-3.8.4-cp310-cp310-manylinux_2_17_x86_64.manylinux2014_x86_64.whl (1.0 MB)\n",
            "\u001b[2K     \u001b[90m━━━━━━━━━━━━━━━━━━━━━━━━━━━━━━━━━━━━━━━━\u001b[0m \u001b[32m1.0/1.0 MB\u001b[0m \u001b[31m33.7 MB/s\u001b[0m eta \u001b[36m0:00:00\u001b[0m\n",
            "\u001b[?25hRequirement already satisfied: decorator>4.1.2 in /usr/local/lib/python3.10/dist-packages (from gcsfs) (4.4.2)\n",
            "Collecting fsspec==2023.5.0 (from gcsfs)\n",
            "  Downloading fsspec-2023.5.0-py3-none-any.whl (160 kB)\n",
            "\u001b[2K     \u001b[90m━━━━━━━━━━━━━━━━━━━━━━━━━━━━━━━━━━━━━━\u001b[0m \u001b[32m160.1/160.1 kB\u001b[0m \u001b[31m15.3 MB/s\u001b[0m eta \u001b[36m0:00:00\u001b[0m\n",
            "\u001b[?25hRequirement already satisfied: google-auth>=1.2 in /usr/local/lib/python3.10/dist-packages (from gcsfs) (2.17.3)\n",
            "Requirement already satisfied: google-auth-oauthlib in /usr/local/lib/python3.10/dist-packages (from gcsfs) (1.0.0)\n",
            "Requirement already satisfied: google-cloud-storage in /usr/local/lib/python3.10/dist-packages (from gcsfs) (2.8.0)\n",
            "Requirement already satisfied: requests in /usr/local/lib/python3.10/dist-packages (from gcsfs) (2.27.1)\n",
            "Requirement already satisfied: attrs>=17.3.0 in /usr/local/lib/python3.10/dist-packages (from aiohttp!=4.0.0a0,!=4.0.0a1->gcsfs) (23.1.0)\n",
            "Requirement already satisfied: charset-normalizer<4.0,>=2.0 in /usr/local/lib/python3.10/dist-packages (from aiohttp!=4.0.0a0,!=4.0.0a1->gcsfs) (2.0.12)\n",
            "Collecting multidict<7.0,>=4.5 (from aiohttp!=4.0.0a0,!=4.0.0a1->gcsfs)\n",
            "  Downloading multidict-6.0.4-cp310-cp310-manylinux_2_17_x86_64.manylinux2014_x86_64.whl (114 kB)\n",
            "\u001b[2K     \u001b[90m━━━━━━━━━━━━━━━━━━━━━━━━━━━━━━━━━━━━━━\u001b[0m \u001b[32m114.5/114.5 kB\u001b[0m \u001b[31m14.6 MB/s\u001b[0m eta \u001b[36m0:00:00\u001b[0m\n",
            "\u001b[?25hCollecting async-timeout<5.0,>=4.0.0a3 (from aiohttp!=4.0.0a0,!=4.0.0a1->gcsfs)\n",
            "  Downloading async_timeout-4.0.2-py3-none-any.whl (5.8 kB)\n",
            "Collecting yarl<2.0,>=1.0 (from aiohttp!=4.0.0a0,!=4.0.0a1->gcsfs)\n",
            "  Downloading yarl-1.9.2-cp310-cp310-manylinux_2_17_x86_64.manylinux2014_x86_64.whl (268 kB)\n",
            "\u001b[2K     \u001b[90m━━━━━━━━━━━━━━━━━━━━━━━━━━━━━━━━━━━━━━\u001b[0m \u001b[32m268.8/268.8 kB\u001b[0m \u001b[31m14.1 MB/s\u001b[0m eta \u001b[36m0:00:00\u001b[0m\n",
            "\u001b[?25hCollecting frozenlist>=1.1.1 (from aiohttp!=4.0.0a0,!=4.0.0a1->gcsfs)\n",
            "  Downloading frozenlist-1.3.3-cp310-cp310-manylinux_2_5_x86_64.manylinux1_x86_64.manylinux_2_17_x86_64.manylinux2014_x86_64.whl (149 kB)\n",
            "\u001b[2K     \u001b[90m━━━━━━━━━━━━━━━━━━━━━━━━━━━━━━━━━━━━━━━\u001b[0m \u001b[32m149.6/149.6 kB\u001b[0m \u001b[31m7.7 MB/s\u001b[0m eta \u001b[36m0:00:00\u001b[0m\n",
            "\u001b[?25hCollecting aiosignal>=1.1.2 (from aiohttp!=4.0.0a0,!=4.0.0a1->gcsfs)\n",
            "  Downloading aiosignal-1.3.1-py3-none-any.whl (7.6 kB)\n",
            "Requirement already satisfied: cachetools<6.0,>=2.0.0 in /usr/local/lib/python3.10/dist-packages (from google-auth>=1.2->gcsfs) (5.3.0)\n",
            "Requirement already satisfied: pyasn1-modules>=0.2.1 in /usr/local/lib/python3.10/dist-packages (from google-auth>=1.2->gcsfs) (0.3.0)\n",
            "Requirement already satisfied: six>=1.9.0 in /usr/local/lib/python3.10/dist-packages (from google-auth>=1.2->gcsfs) (1.16.0)\n",
            "Requirement already satisfied: rsa<5,>=3.1.4 in /usr/local/lib/python3.10/dist-packages (from google-auth>=1.2->gcsfs) (4.9)\n",
            "Requirement already satisfied: requests-oauthlib>=0.7.0 in /usr/local/lib/python3.10/dist-packages (from google-auth-oauthlib->gcsfs) (1.3.1)\n",
            "Requirement already satisfied: google-api-core!=2.0.*,!=2.1.*,!=2.2.*,!=2.3.0,<3.0.0dev,>=1.31.5 in /usr/local/lib/python3.10/dist-packages (from google-cloud-storage->gcsfs) (2.11.0)\n",
            "Requirement already satisfied: google-cloud-core<3.0dev,>=2.3.0 in /usr/local/lib/python3.10/dist-packages (from google-cloud-storage->gcsfs) (2.3.2)\n",
            "Requirement already satisfied: google-resumable-media>=2.3.2 in /usr/local/lib/python3.10/dist-packages (from google-cloud-storage->gcsfs) (2.5.0)\n",
            "Requirement already satisfied: urllib3<1.27,>=1.21.1 in /usr/local/lib/python3.10/dist-packages (from requests->gcsfs) (1.26.15)\n",
            "Requirement already satisfied: certifi>=2017.4.17 in /usr/local/lib/python3.10/dist-packages (from requests->gcsfs) (2022.12.7)\n",
            "Requirement already satisfied: idna<4,>=2.5 in /usr/local/lib/python3.10/dist-packages (from requests->gcsfs) (3.4)\n",
            "Requirement already satisfied: googleapis-common-protos<2.0dev,>=1.56.2 in /usr/local/lib/python3.10/dist-packages (from google-api-core!=2.0.*,!=2.1.*,!=2.2.*,!=2.3.0,<3.0.0dev,>=1.31.5->google-cloud-storage->gcsfs) (1.59.0)\n",
            "Requirement already satisfied: protobuf!=3.20.0,!=3.20.1,!=4.21.0,!=4.21.1,!=4.21.2,!=4.21.3,!=4.21.4,!=4.21.5,<5.0.0dev,>=3.19.5 in /usr/local/lib/python3.10/dist-packages (from google-api-core!=2.0.*,!=2.1.*,!=2.2.*,!=2.3.0,<3.0.0dev,>=1.31.5->google-cloud-storage->gcsfs) (3.20.3)\n",
            "Requirement already satisfied: google-crc32c<2.0dev,>=1.0 in /usr/local/lib/python3.10/dist-packages (from google-resumable-media>=2.3.2->google-cloud-storage->gcsfs) (1.5.0)\n",
            "Requirement already satisfied: pyasn1<0.6.0,>=0.4.6 in /usr/local/lib/python3.10/dist-packages (from pyasn1-modules>=0.2.1->google-auth>=1.2->gcsfs) (0.5.0)\n",
            "Requirement already satisfied: oauthlib>=3.0.0 in /usr/local/lib/python3.10/dist-packages (from requests-oauthlib>=0.7.0->google-auth-oauthlib->gcsfs) (3.2.2)\n",
            "Installing collected packages: multidict, fsspec, frozenlist, async-timeout, yarl, aiosignal, aiohttp, gcsfs\n",
            "  Attempting uninstall: fsspec\n",
            "    Found existing installation: fsspec 2023.4.0\n",
            "    Uninstalling fsspec-2023.4.0:\n",
            "      Successfully uninstalled fsspec-2023.4.0\n",
            "Successfully installed aiohttp-3.8.4 aiosignal-1.3.1 async-timeout-4.0.2 frozenlist-1.3.3 fsspec-2023.5.0 gcsfs-2023.5.0 multidict-6.0.4 yarl-1.9.2\n"
          ]
        }
      ],
      "source": [
        "pip install gcsfs"
      ]
    },
    {
      "cell_type": "code",
      "execution_count": null,
      "metadata": {
        "id": "FNmV03jpuv6q"
      },
      "outputs": [],
      "source": [
        "\n",
        "from pyspark.sql import SparkSession\n",
        "import pyspark.sql.functions as F\n",
        "from pyspark.sql.functions import isnull\n",
        "from pyspark.sql.types import TimestampType, DateType, FloatType, DoubleType, StructType, StructField, StringType, IntegerType\n",
        "from google.cloud import storage\n",
        "import os\n",
        "import pandas as pd\n",
        "import numpy as np\n",
        "import matplotlib.pyplot as plt\n",
        "import seaborn as sns\n",
        "import warnings\n",
        "warnings.filterwarnings('ignore')"
      ]
    },
    {
      "cell_type": "markdown",
      "metadata": {
        "id": "cnD7n-ee8MQu"
      },
      "source": [
        "##Conexões com GCP e Spark"
      ]
    },
    {
      "cell_type": "code",
      "source": [
        "from google.colab import drive\n",
        "drive.mount('/content/drive')"
      ],
      "metadata": {
        "colab": {
          "base_uri": "https://localhost:8080/"
        },
        "id": "mEqyApwO6p5E",
        "outputId": "9fab3d43-e254-4417-9730-1c080ec35646"
      },
      "execution_count": null,
      "outputs": [
        {
          "output_type": "stream",
          "name": "stdout",
          "text": [
            "Mounted at /content/drive\n"
          ]
        }
      ]
    },
    {
      "cell_type": "code",
      "execution_count": null,
      "metadata": {
        "id": "LC472qZZby-4"
      },
      "outputs": [],
      "source": [
        "#CONFIGURANDO DA CHAVE DE SEGURANCA (Enviada com o projeto)\n",
        "\n",
        "serviceAccount = '/content/brasileirao-analises-64875f22fe87.json'\n",
        "os.environ['GOOGLE_APPLICATION_CREDENTIALS'] = serviceAccount"
      ]
    },
    {
      "cell_type": "code",
      "execution_count": null,
      "metadata": {
        "id": "17ymt9YhcEoB"
      },
      "outputs": [],
      "source": [
        "path_jogos = '/content/drive/MyDrive/Projeto Braileirao/brutos/campeonato-brasileiro-full.csv'\n",
        "path_estatisticas = '/content/drive/MyDrive/Projeto Braileirao/brutos/campeonato-brasileiro-estatisticas-full.csv'"
      ]
    },
    {
      "cell_type": "code",
      "execution_count": null,
      "metadata": {
        "id": "MKIl-g6JxWqR"
      },
      "outputs": [],
      "source": [
        "#configurar a variavel de ambiente (sessão) Pyspark\n",
        "spark = (SparkSession.builder\n",
        "                     .master('local')\n",
        "                     .appName('analises_brasileirao')\n",
        "                     .config('spark.ui.port', '4050')\n",
        "                     .config(\"spark.jars\", 'https://storage.googleapis.com/hadoop-lib/gcs/gcs-connector-hadoop2-latest.jar')\n",
        "                     .getOrCreate()\n",
        ")"
      ]
    },
    {
      "cell_type": "code",
      "execution_count": null,
      "metadata": {
        "colab": {
          "base_uri": "https://localhost:8080/",
          "height": 219
        },
        "id": "D9MCoRxMxsIe",
        "outputId": "e99ddaa0-2096-41e1-d340-f94d3e3b9521"
      },
      "outputs": [
        {
          "output_type": "execute_result",
          "data": {
            "text/plain": [
              "<pyspark.sql.session.SparkSession at 0x7f6ba6a17a60>"
            ],
            "text/html": [
              "\n",
              "            <div>\n",
              "                <p><b>SparkSession - in-memory</b></p>\n",
              "                \n",
              "        <div>\n",
              "            <p><b>SparkContext</b></p>\n",
              "\n",
              "            <p><a href=\"http://a9d9881eeae2:4050\">Spark UI</a></p>\n",
              "\n",
              "            <dl>\n",
              "              <dt>Version</dt>\n",
              "                <dd><code>v3.4.0</code></dd>\n",
              "              <dt>Master</dt>\n",
              "                <dd><code>local</code></dd>\n",
              "              <dt>AppName</dt>\n",
              "                <dd><code>analises_brasileirao</code></dd>\n",
              "            </dl>\n",
              "        </div>\n",
              "        \n",
              "            </div>\n",
              "        "
            ]
          },
          "metadata": {},
          "execution_count": 8
        }
      ],
      "source": [
        "spark"
      ]
    },
    {
      "cell_type": "markdown",
      "metadata": {
        "id": "LalC2iNj_FvE"
      },
      "source": [
        "##Extraindo data frame da Cloud"
      ]
    },
    {
      "cell_type": "code",
      "execution_count": null,
      "metadata": {
        "id": "Rlk_-lc3vhbp"
      },
      "outputs": [],
      "source": [
        "#Importando dataframe do GCP\n",
        "df_jogos = (\n",
        "         spark.read\n",
        "         .format('csv')\n",
        "         .option('delimiter', ',') \n",
        "         .option('header', 'true')\n",
        "         .option('encoding', 'utf-8')\n",
        "         .option('inferschema', 'true')\n",
        "         .load(path_jogos)\n",
        ")\n"
      ]
    },
    {
      "cell_type": "code",
      "source": [
        "df_estatisticas = (\n",
        "         spark.read\n",
        "         .format('csv')\n",
        "         .option('delimiter', ',') \n",
        "         .option('header', 'true')\n",
        "         .option('encoding', 'utf-8')\n",
        "         .option('inferschema', 'true')\n",
        "         .load(path_estatisticas)\n",
        ")"
      ],
      "metadata": {
        "id": "4ThDHdthu64V"
      },
      "execution_count": null,
      "outputs": []
    },
    {
      "cell_type": "markdown",
      "metadata": {
        "id": "4Hi3-SrI9qSm"
      },
      "source": [
        "##Analise exploratória"
      ]
    },
    {
      "cell_type": "markdown",
      "source": [
        "Analise df_jogos"
      ],
      "metadata": {
        "id": "FZUgnAEVpbam"
      }
    },
    {
      "cell_type": "code",
      "execution_count": null,
      "metadata": {
        "id": "jQ6Vv27Ppxjs",
        "colab": {
          "base_uri": "https://localhost:8080/"
        },
        "outputId": "176bcaa2-20f2-48a0-cb6e-0dd7c57dd7ff"
      },
      "outputs": [
        {
          "output_type": "stream",
          "name": "stdout",
          "text": [
            "+---+------+---------+-------------------+-------------+-------------+-----------------+------------------+----------------+-----------------+-------------+------------------+---------------+----------------+---------------+----------------+\n",
            "|ID |rodata|data     |hora               |mandante     |visitante    |formacao_mandante|formacao_visitante|tecnico_mandante|tecnico_visitante|vencedor     |arena             |mandante_Placar|visitante_Placar|mandante_Estado|visitante_Estado|\n",
            "+---+------+---------+-------------------+-------------+-------------+-----------------+------------------+----------------+-----------------+-------------+------------------+---------------+----------------+---------------+----------------+\n",
            "|1  |1     |29/3/2003|2023-05-18 16:00:00|Guarani      |Vasco        |null             |null              |null            |null             |Guarani      | Brinco de Ouro   |4              |2               |SP             |RJ              |\n",
            "|2  |1     |29/3/2003|2023-05-18 16:00:00|Athletico-PR |Gremio       |null             |null              |null            |null             |Athletico-PR | Arena da Baixada |2              |0               |PR             |RS              |\n",
            "|3  |1     |30/3/2003|2023-05-18 16:00:00|Flamengo     |Coritiba     |null             |null              |null            |null             |-            | Maracanã         |1              |1               |RJ             |PR              |\n",
            "|4  |1     |30/3/2003|2023-05-18 16:00:00|Goias        |Paysandu     |null             |null              |null            |null             |-            | Serra Dourada    |2              |2               |GO             |PA              |\n",
            "|5  |1     |30/3/2003|2023-05-18 16:00:00|Internacional|Ponte Preta  |null             |null              |null            |null             |-            | Beira Rio        |1              |1               |RS             |SP              |\n",
            "|6  |1     |30/3/2003|2023-05-18 16:00:00|Criciuma     |Fluminense   |null             |null              |null            |null             |Criciuma     | Heriberto Hulse  |2              |0               |SC             |RJ              |\n",
            "|7  |1     |30/3/2003|2023-05-18 16:00:00|Juventude    |Sao Paulo    |null             |null              |null            |null             |-            | Alfredo Jaconi   |2              |2               |RS             |SP              |\n",
            "|8  |1     |30/3/2003|2023-05-18 16:00:00|Fortaleza    |Bahia        |null             |null              |null            |null             |-            | Castelão         |0              |0               |CE             |BA              |\n",
            "|9  |1     |30/3/2003|2023-05-18 16:00:00|Cruzeiro     |Sao Caetano  |null             |null              |null            |null             |-            | Mineirão         |2              |2               |MG             |SP              |\n",
            "|10 |1     |30/3/2003|2023-05-18 16:00:00|Vitoria      |Figueirense  |null             |null              |null            |null             |-            | Barradão         |1              |1               |BA             |SC              |\n",
            "|11 |1     |30/3/2003|2023-05-18 18:00:00|Santos       |Parana       |null             |null              |null            |null             |-            | Vila Belmiro     |2              |2               |SP             |PR              |\n",
            "|12 |1     |30/3/2003|2023-05-18 18:00:00|Corinthians  |Atletico-MG  |null             |null              |null            |null             |Atletico-MG  | Pacaembu         |0              |3               |SP             |MG              |\n",
            "|13 |2     |5/4/2003 |2023-05-18 16:00:00|Fluminense   |Fortaleza    |null             |null              |null            |null             |-            | Maracanã         |1              |1               |RJ             |CE              |\n",
            "|14 |2     |5/4/2003 |2023-05-18 16:00:00|Atletico-MG  |Santos       |null             |null              |null            |null             |-            | Mineirão         |0              |0               |MG             |SP              |\n",
            "|15 |2     |5/4/2003 |2023-05-18 16:00:00|Coritiba     |Internacional|null             |null              |null            |null             |Internacional| Couto Pereira    |0              |1               |PR             |RS              |\n",
            "|16 |2     |5/4/2003 |2023-05-18 18:00:00|Gremio       |Guarani      |null             |null              |null            |null             |Gremio       | Olímpico         |3              |1               |RS             |SP              |\n",
            "|17 |2     |6/4/2003 |2023-05-18 16:00:00|Bahia        |Flamengo     |null             |null              |null            |null             |Flamengo     | Fonte Nova       |1              |2               |BA             |RJ              |\n",
            "|18 |2     |6/4/2003 |2023-05-18 16:00:00|Figueirense  |Corinthians  |null             |null              |null            |null             |-            | Orlando Scarpelli|3              |3               |SC             |SP              |\n",
            "|19 |2     |6/4/2003 |2023-05-18 16:00:00|Paysandu     |Vitoria      |null             |null              |null            |null             |Vitoria      | Mangueirão       |1              |2               |PA             |BA              |\n",
            "|20 |2     |6/4/2003 |2023-05-18 16:00:00|Ponte Preta  |Juventude    |null             |null              |null            |null             |Ponte Preta  | Moisés Lucarelli |1              |0               |SP             |RS              |\n",
            "+---+------+---------+-------------------+-------------+-------------+-----------------+------------------+----------------+-----------------+-------------+------------------+---------------+----------------+---------------+----------------+\n",
            "only showing top 20 rows\n",
            "\n"
          ]
        }
      ],
      "source": [
        "df_jogos.show(truncate = False)"
      ]
    },
    {
      "cell_type": "code",
      "source": [
        "df_jogos.select(F.col('mandante')).distinct().count()"
      ],
      "metadata": {
        "id": "NXLl-nDeps1L",
        "colab": {
          "base_uri": "https://localhost:8080/"
        },
        "outputId": "c1f7608e-9a19-490e-bc7a-274dff3d7054"
      },
      "execution_count": null,
      "outputs": [
        {
          "output_type": "execute_result",
          "data": {
            "text/plain": [
              "45"
            ]
          },
          "metadata": {},
          "execution_count": 12
        }
      ]
    },
    {
      "cell_type": "code",
      "source": [
        "df_jogos.select(F.col('mandante')).distinct().orderBy(F.col('mandante')).show(100)"
      ],
      "metadata": {
        "id": "HolGo5IjzlMe",
        "colab": {
          "base_uri": "https://localhost:8080/"
        },
        "outputId": "09d575f5-a2cd-4ce9-ad98-83ccf4a7864f"
      },
      "execution_count": null,
      "outputs": [
        {
          "output_type": "stream",
          "name": "stdout",
          "text": [
            "+---------------+\n",
            "|       mandante|\n",
            "+---------------+\n",
            "|     America-MG|\n",
            "|     America-RN|\n",
            "|   Athletico-PR|\n",
            "|    Atletico-GO|\n",
            "|    Atletico-MG|\n",
            "|           Avai|\n",
            "|          Bahia|\n",
            "|        Barueri|\n",
            "|    Botafogo-RJ|\n",
            "|     Bragantino|\n",
            "|    Brasiliense|\n",
            "|            CSA|\n",
            "|          Ceara|\n",
            "|    Chapecoense|\n",
            "|    Corinthians|\n",
            "|       Coritiba|\n",
            "|       Criciuma|\n",
            "|       Cruzeiro|\n",
            "|         Cuiaba|\n",
            "|    Figueirense|\n",
            "|       Flamengo|\n",
            "|     Fluminense|\n",
            "|      Fortaleza|\n",
            "|          Goias|\n",
            "|         Gremio|\n",
            "|Gremio Prudente|\n",
            "|        Guarani|\n",
            "|  Internacional|\n",
            "|       Ipatinga|\n",
            "|      Joinville|\n",
            "|      Juventude|\n",
            "|        Nautico|\n",
            "|      Palmeiras|\n",
            "|         Parana|\n",
            "|       Paysandu|\n",
            "|    Ponte Preta|\n",
            "|     Portuguesa|\n",
            "|     Santa Cruz|\n",
            "|    Santo Andre|\n",
            "|         Santos|\n",
            "|    Sao Caetano|\n",
            "|      Sao Paulo|\n",
            "|          Sport|\n",
            "|          Vasco|\n",
            "|        Vitoria|\n",
            "+---------------+\n",
            "\n"
          ]
        }
      ]
    },
    {
      "cell_type": "code",
      "source": [
        "df_jogos.select(F.col('visitante')).distinct().count()"
      ],
      "metadata": {
        "id": "jZzZdF_cpziL",
        "colab": {
          "base_uri": "https://localhost:8080/"
        },
        "outputId": "941f7fc2-3345-43a2-c5f1-f644c4af905b"
      },
      "execution_count": null,
      "outputs": [
        {
          "output_type": "execute_result",
          "data": {
            "text/plain": [
              "45"
            ]
          },
          "metadata": {},
          "execution_count": 14
        }
      ]
    },
    {
      "cell_type": "code",
      "source": [
        "df_jogos.select(F.col('visitante')).distinct().orderBy(F.col('visitante')).show(100)"
      ],
      "metadata": {
        "id": "WGSv4LzkpgCr",
        "colab": {
          "base_uri": "https://localhost:8080/"
        },
        "outputId": "0417eb46-2c84-40eb-fe28-19d248a059c1"
      },
      "execution_count": null,
      "outputs": [
        {
          "output_type": "stream",
          "name": "stdout",
          "text": [
            "+---------------+\n",
            "|      visitante|\n",
            "+---------------+\n",
            "|     America-MG|\n",
            "|     America-RN|\n",
            "|   Athletico-PR|\n",
            "|    Atletico-GO|\n",
            "|    Atletico-MG|\n",
            "|           Avai|\n",
            "|          Bahia|\n",
            "|        Barueri|\n",
            "|    Botafogo-RJ|\n",
            "|     Bragantino|\n",
            "|    Brasiliense|\n",
            "|            CSA|\n",
            "|          Ceara|\n",
            "|    Chapecoense|\n",
            "|    Corinthians|\n",
            "|       Coritiba|\n",
            "|       Criciuma|\n",
            "|       Cruzeiro|\n",
            "|         Cuiaba|\n",
            "|    Figueirense|\n",
            "|       Flamengo|\n",
            "|     Fluminense|\n",
            "|      Fortaleza|\n",
            "|          Goias|\n",
            "|         Gremio|\n",
            "|Gremio Prudente|\n",
            "|        Guarani|\n",
            "|  Internacional|\n",
            "|       Ipatinga|\n",
            "|      Joinville|\n",
            "|      Juventude|\n",
            "|        Nautico|\n",
            "|      Palmeiras|\n",
            "|         Parana|\n",
            "|       Paysandu|\n",
            "|    Ponte Preta|\n",
            "|     Portuguesa|\n",
            "|     Santa Cruz|\n",
            "|    Santo Andre|\n",
            "|         Santos|\n",
            "|    Sao Caetano|\n",
            "|      Sao Paulo|\n",
            "|          Sport|\n",
            "|          Vasco|\n",
            "|        Vitoria|\n",
            "+---------------+\n",
            "\n"
          ]
        }
      ]
    },
    {
      "cell_type": "code",
      "source": [
        "df_jogos.select(F.col('formacao_mandante')).distinct().orderBy(F.col('formacao_mandante')).show(100)"
      ],
      "metadata": {
        "id": "5m1WmxJep4gV",
        "colab": {
          "base_uri": "https://localhost:8080/"
        },
        "outputId": "6938fa96-a57c-4bbc-974a-596d88aeff59"
      },
      "execution_count": null,
      "outputs": [
        {
          "output_type": "stream",
          "name": "stdout",
          "text": [
            "+-----------------+\n",
            "|formacao_mandante|\n",
            "+-----------------+\n",
            "|             null|\n",
            "|          3-1-4-2|\n",
            "|          3-2-4-1|\n",
            "|          3-4-1-2|\n",
            "|          3-4-2-1|\n",
            "|            3-4-3|\n",
            "|          3-5-1-1|\n",
            "|            3-5-2|\n",
            "|        4-1-2-1-2|\n",
            "|          4-1-3-2|\n",
            "|          4-1-4-1|\n",
            "|          4-2-2-2|\n",
            "|          4-2-3-1|\n",
            "|          4-2-4-0|\n",
            "|          4-3-1-2|\n",
            "|          4-3-2-1|\n",
            "|            4-3-3|\n",
            "|          4-4-1-1|\n",
            "|            4-4-2|\n",
            "|            4-5-1|\n",
            "|            5-3-2|\n",
            "|            5-4-1|\n",
            "+-----------------+\n",
            "\n"
          ]
        }
      ]
    },
    {
      "cell_type": "code",
      "source": [
        "df_jogos.select(F.col('vencedor')).distinct().orderBy(F.col('vencedor')).show(100)"
      ],
      "metadata": {
        "id": "N4hI4cditt1Q",
        "colab": {
          "base_uri": "https://localhost:8080/"
        },
        "outputId": "0ee193b3-dfc3-481f-f645-fd2bd613dcf5"
      },
      "execution_count": null,
      "outputs": [
        {
          "output_type": "stream",
          "name": "stdout",
          "text": [
            "+---------------+\n",
            "|       vencedor|\n",
            "+---------------+\n",
            "|              -|\n",
            "|     America-MG|\n",
            "|     America-RN|\n",
            "|   Athletico-PR|\n",
            "|    Atletico-GO|\n",
            "|    Atletico-MG|\n",
            "|           Avai|\n",
            "|          Bahia|\n",
            "|        Barueri|\n",
            "|    Botafogo-RJ|\n",
            "|     Bragantino|\n",
            "|    Brasiliense|\n",
            "|            CSA|\n",
            "|          Ceara|\n",
            "|    Chapecoense|\n",
            "|    Corinthians|\n",
            "|       Coritiba|\n",
            "|       Criciuma|\n",
            "|       Cruzeiro|\n",
            "|         Cuiaba|\n",
            "|    Figueirense|\n",
            "|       Flamengo|\n",
            "|     Fluminense|\n",
            "|      Fortaleza|\n",
            "|          Goias|\n",
            "|         Gremio|\n",
            "|Gremio Prudente|\n",
            "|        Guarani|\n",
            "|  Internacional|\n",
            "|       Ipatinga|\n",
            "|      Joinville|\n",
            "|      Juventude|\n",
            "|        Nautico|\n",
            "|      Palmeiras|\n",
            "|         Parana|\n",
            "|       Paysandu|\n",
            "|    Ponte Preta|\n",
            "|     Portuguesa|\n",
            "|     Santa Cruz|\n",
            "|    Santo Andre|\n",
            "|         Santos|\n",
            "|    Sao Caetano|\n",
            "|      Sao Paulo|\n",
            "|          Sport|\n",
            "|          Vasco|\n",
            "|        Vitoria|\n",
            "+---------------+\n",
            "\n"
          ]
        }
      ]
    },
    {
      "cell_type": "code",
      "source": [
        "df_jogos.select(F.col('mandante_Estado')).distinct().orderBy(F.col('mandante_Estado')).show(200, truncate = False)"
      ],
      "metadata": {
        "id": "iAvdDGC9wLNL",
        "colab": {
          "base_uri": "https://localhost:8080/"
        },
        "outputId": "6e40aadb-b8b6-47e4-acb4-d18fc772128f"
      },
      "execution_count": null,
      "outputs": [
        {
          "output_type": "stream",
          "name": "stdout",
          "text": [
            "+---------------+\n",
            "|mandante_Estado|\n",
            "+---------------+\n",
            "|AL             |\n",
            "|BA             |\n",
            "|CE             |\n",
            "|DF             |\n",
            "|GO             |\n",
            "|MG             |\n",
            "|MT             |\n",
            "|PA             |\n",
            "|PE             |\n",
            "|PR             |\n",
            "|RJ             |\n",
            "|RN             |\n",
            "|RS             |\n",
            "|SC             |\n",
            "|SP             |\n",
            "+---------------+\n",
            "\n"
          ]
        }
      ]
    },
    {
      "cell_type": "code",
      "source": [
        "df_jogos.select(F.col('visitante_Estado')).distinct().orderBy(F.col('visitante_Estado')).show(200, truncate = False)"
      ],
      "metadata": {
        "id": "sDrnZtMaxFgK",
        "colab": {
          "base_uri": "https://localhost:8080/"
        },
        "outputId": "0f838932-36ce-4d1e-b35d-46dbfba5c9a9"
      },
      "execution_count": null,
      "outputs": [
        {
          "output_type": "stream",
          "name": "stdout",
          "text": [
            "+----------------+\n",
            "|visitante_Estado|\n",
            "+----------------+\n",
            "|AL              |\n",
            "|BA              |\n",
            "|CE              |\n",
            "|DF              |\n",
            "|GO              |\n",
            "|MG              |\n",
            "|MT              |\n",
            "|PA              |\n",
            "|PE              |\n",
            "|PR              |\n",
            "|RJ              |\n",
            "|RN              |\n",
            "|RS              |\n",
            "|SC              |\n",
            "|SP              |\n",
            "+----------------+\n",
            "\n"
          ]
        }
      ]
    },
    {
      "cell_type": "code",
      "source": [
        "df_jogos.printSchema()"
      ],
      "metadata": {
        "id": "-J0G3IZL2fTx",
        "colab": {
          "base_uri": "https://localhost:8080/"
        },
        "outputId": "bba3c76d-22e1-4c70-c530-18f49eb18edf"
      },
      "execution_count": null,
      "outputs": [
        {
          "output_type": "stream",
          "name": "stdout",
          "text": [
            "root\n",
            " |-- ID: integer (nullable = true)\n",
            " |-- rodata: integer (nullable = true)\n",
            " |-- data: string (nullable = true)\n",
            " |-- hora: timestamp (nullable = true)\n",
            " |-- mandante: string (nullable = true)\n",
            " |-- visitante: string (nullable = true)\n",
            " |-- formacao_mandante: string (nullable = true)\n",
            " |-- formacao_visitante: string (nullable = true)\n",
            " |-- tecnico_mandante: string (nullable = true)\n",
            " |-- tecnico_visitante: string (nullable = true)\n",
            " |-- vencedor: string (nullable = true)\n",
            " |-- arena: string (nullable = true)\n",
            " |-- mandante_Placar: integer (nullable = true)\n",
            " |-- visitante_Placar: integer (nullable = true)\n",
            " |-- mandante_Estado: string (nullable = true)\n",
            " |-- visitante_Estado: string (nullable = true)\n",
            "\n"
          ]
        }
      ]
    },
    {
      "cell_type": "code",
      "source": [
        "df_backup = df_jogos"
      ],
      "metadata": {
        "id": "DxuCNkJy537-"
      },
      "execution_count": null,
      "outputs": []
    },
    {
      "cell_type": "code",
      "source": [
        "df_jogos = df_backup"
      ],
      "metadata": {
        "id": "RARISwLgAHxC"
      },
      "execution_count": null,
      "outputs": []
    },
    {
      "cell_type": "code",
      "source": [
        "df_jogos = df_jogos.drop('arena', 'hora', 'formacao_mandante', 'formacao_visitante', 'tecnico_mandante', 'tecnico_visitante')"
      ],
      "metadata": {
        "id": "y34Cxb769hDl"
      },
      "execution_count": null,
      "outputs": []
    },
    {
      "cell_type": "code",
      "source": [
        "df_jogos = df_jogos.withColumn('data', F.date_format(F.to_date('data', 'd/M/yyyy'), 'dd/MM/yyyy'))"
      ],
      "metadata": {
        "id": "0PPegWIBBMjX"
      },
      "execution_count": null,
      "outputs": []
    },
    {
      "cell_type": "code",
      "source": [
        "df_jogos.show()"
      ],
      "metadata": {
        "id": "AUFI4IUc4IMT",
        "colab": {
          "base_uri": "https://localhost:8080/"
        },
        "outputId": "8787f408-8e61-4edb-8241-2348c738da8c"
      },
      "execution_count": null,
      "outputs": [
        {
          "output_type": "stream",
          "name": "stdout",
          "text": [
            "+---+------+----------+-------------+-------------+-------------+---------------+----------------+---------------+----------------+\n",
            "| ID|rodata|      data|     mandante|    visitante|     vencedor|mandante_Placar|visitante_Placar|mandante_Estado|visitante_Estado|\n",
            "+---+------+----------+-------------+-------------+-------------+---------------+----------------+---------------+----------------+\n",
            "|  1|     1|29/03/2003|      Guarani|        Vasco|      Guarani|              4|               2|             SP|              RJ|\n",
            "|  2|     1|29/03/2003| Athletico-PR|       Gremio| Athletico-PR|              2|               0|             PR|              RS|\n",
            "|  3|     1|30/03/2003|     Flamengo|     Coritiba|            -|              1|               1|             RJ|              PR|\n",
            "|  4|     1|30/03/2003|        Goias|     Paysandu|            -|              2|               2|             GO|              PA|\n",
            "|  5|     1|30/03/2003|Internacional|  Ponte Preta|            -|              1|               1|             RS|              SP|\n",
            "|  6|     1|30/03/2003|     Criciuma|   Fluminense|     Criciuma|              2|               0|             SC|              RJ|\n",
            "|  7|     1|30/03/2003|    Juventude|    Sao Paulo|            -|              2|               2|             RS|              SP|\n",
            "|  8|     1|30/03/2003|    Fortaleza|        Bahia|            -|              0|               0|             CE|              BA|\n",
            "|  9|     1|30/03/2003|     Cruzeiro|  Sao Caetano|            -|              2|               2|             MG|              SP|\n",
            "| 10|     1|30/03/2003|      Vitoria|  Figueirense|            -|              1|               1|             BA|              SC|\n",
            "| 11|     1|30/03/2003|       Santos|       Parana|            -|              2|               2|             SP|              PR|\n",
            "| 12|     1|30/03/2003|  Corinthians|  Atletico-MG|  Atletico-MG|              0|               3|             SP|              MG|\n",
            "| 13|     2|05/04/2003|   Fluminense|    Fortaleza|            -|              1|               1|             RJ|              CE|\n",
            "| 14|     2|05/04/2003|  Atletico-MG|       Santos|            -|              0|               0|             MG|              SP|\n",
            "| 15|     2|05/04/2003|     Coritiba|Internacional|Internacional|              0|               1|             PR|              RS|\n",
            "| 16|     2|05/04/2003|       Gremio|      Guarani|       Gremio|              3|               1|             RS|              SP|\n",
            "| 17|     2|06/04/2003|        Bahia|     Flamengo|     Flamengo|              1|               2|             BA|              RJ|\n",
            "| 18|     2|06/04/2003|  Figueirense|  Corinthians|            -|              3|               3|             SC|              SP|\n",
            "| 19|     2|06/04/2003|     Paysandu|      Vitoria|      Vitoria|              1|               2|             PA|              BA|\n",
            "| 20|     2|06/04/2003|  Ponte Preta|    Juventude|  Ponte Preta|              1|               0|             SP|              RS|\n",
            "+---+------+----------+-------------+-------------+-------------+---------------+----------------+---------------+----------------+\n",
            "only showing top 20 rows\n",
            "\n"
          ]
        }
      ]
    },
    {
      "cell_type": "code",
      "source": [
        "df_jogos = df_jogos.withColumn(\"data\", F.to_date(\"data\", \"dd/MM/yyyy\"))\n",
        "df_jogos = df_jogos.withColumn(\"data\", df_jogos[\"data\"].cast(DateType()))"
      ],
      "metadata": {
        "id": "UfphVROTDfLl"
      },
      "execution_count": null,
      "outputs": []
    },
    {
      "cell_type": "code",
      "source": [
        "df_jogos.printSchema()"
      ],
      "metadata": {
        "id": "lpf0t8msC0oN",
        "colab": {
          "base_uri": "https://localhost:8080/"
        },
        "outputId": "21b98c1d-ae3e-4d66-ba5e-d321303e7d26"
      },
      "execution_count": null,
      "outputs": [
        {
          "output_type": "stream",
          "name": "stdout",
          "text": [
            "root\n",
            " |-- ID: integer (nullable = true)\n",
            " |-- rodata: integer (nullable = true)\n",
            " |-- data: date (nullable = true)\n",
            " |-- mandante: string (nullable = true)\n",
            " |-- visitante: string (nullable = true)\n",
            " |-- vencedor: string (nullable = true)\n",
            " |-- mandante_Placar: integer (nullable = true)\n",
            " |-- visitante_Placar: integer (nullable = true)\n",
            " |-- mandante_Estado: string (nullable = true)\n",
            " |-- visitante_Estado: string (nullable = true)\n",
            "\n"
          ]
        }
      ]
    },
    {
      "cell_type": "markdown",
      "source": [
        "Quantidade de clubes que participavam do Brasileirão por ano:\n",
        "\n",
        "|2003| - 24\\\n",
        "|2004| - 24\\\n",
        "|2005| - 22\\\n",
        "|2006| - 20\\\n",
        "|2007| - 20\\\n",
        "|2008| - 20\\\n",
        "|2009| - 20\\\n",
        "|2010| - 20\\\n",
        "|2011| - 20\\\n",
        "|2012| - 20\\\n",
        "|2013| - 20\\\n",
        "|2014| - 20\\\n",
        "|2015| - 20\\\n",
        "|2016| - 20\\\n",
        "|2017| - 20\\\n",
        "|2018| - 20\\\n",
        "|2019| - 20\\\n",
        "|2020| - 20\\\n",
        "|2021| - 20\\\n",
        "|2022| - 20\n",
        "\n",
        "Portanto irei desconsiderar os anos de 2003,2004 e 2005 por terem um formato diferente do atual."
      ],
      "metadata": {
        "id": "C0HNfFO-Ju9w"
      }
    },
    {
      "cell_type": "code",
      "source": [
        "df_jogos = df_jogos.filter((F.year('data') != 2003) & (F.year('data') != 2004) & (F.year('data') != 2005))"
      ],
      "metadata": {
        "id": "5b7iWYWQMxTI"
      },
      "execution_count": null,
      "outputs": []
    },
    {
      "cell_type": "code",
      "source": [
        "nulos = []\n",
        "for coluna in df_jogos.columns:\n",
        "    null_count = df_jogos.where(F.col(coluna).isNull()).count()\n",
        "    nulos.append((coluna, null_count))\n",
        "\n",
        "# Exibir a quantidade de valores nulos em cada coluna\n",
        "for coluna, null_count in nulos:\n",
        "    print(f\"A coluna {coluna} possui {null_count} valores nulos.\")"
      ],
      "metadata": {
        "id": "canIRaUFNWkX",
        "colab": {
          "base_uri": "https://localhost:8080/"
        },
        "outputId": "641bd8f4-5467-4888-b91f-ccb8cb31365d"
      },
      "execution_count": null,
      "outputs": [
        {
          "output_type": "stream",
          "name": "stdout",
          "text": [
            "A coluna ID possui 0 valores nulos.\n",
            "A coluna rodata possui 0 valores nulos.\n",
            "A coluna data possui 0 valores nulos.\n",
            "A coluna mandante possui 0 valores nulos.\n",
            "A coluna visitante possui 0 valores nulos.\n",
            "A coluna vencedor possui 0 valores nulos.\n",
            "A coluna mandante_Placar possui 0 valores nulos.\n",
            "A coluna visitante_Placar possui 0 valores nulos.\n",
            "A coluna mandante_Estado possui 0 valores nulos.\n",
            "A coluna visitante_Estado possui 0 valores nulos.\n"
          ]
        }
      ]
    },
    {
      "cell_type": "code",
      "source": [
        "df_jogos.select(F.year(F.col('data')).alias('ano')).groupBy('ano').count().orderBy('ano').show()"
      ],
      "metadata": {
        "id": "6yJW9iSOHJjy",
        "colab": {
          "base_uri": "https://localhost:8080/"
        },
        "outputId": "41d17aaf-ec28-4d2e-d5b0-38dbd9b60d85"
      },
      "execution_count": null,
      "outputs": [
        {
          "output_type": "stream",
          "name": "stdout",
          "text": [
            "+----+-----+\n",
            "| ano|count|\n",
            "+----+-----+\n",
            "|2006|  380|\n",
            "|2007|  380|\n",
            "|2008|  380|\n",
            "|2009|  380|\n",
            "|2010|  380|\n",
            "|2011|  380|\n",
            "|2012|  380|\n",
            "|2013|  380|\n",
            "|2014|  380|\n",
            "|2015|  380|\n",
            "|2016|  379|\n",
            "|2017|  380|\n",
            "|2018|  380|\n",
            "|2019|  380|\n",
            "|2020|  268|\n",
            "|2021|  492|\n",
            "|2022|  380|\n",
            "+----+-----+\n",
            "\n"
          ]
        }
      ]
    },
    {
      "cell_type": "code",
      "source": [
        "df_jogos.show()"
      ],
      "metadata": {
        "id": "Luaymf_XPM28",
        "colab": {
          "base_uri": "https://localhost:8080/"
        },
        "outputId": "440e158f-e421-46db-b3fd-6a4576c076d8"
      },
      "execution_count": null,
      "outputs": [
        {
          "output_type": "stream",
          "name": "stdout",
          "text": [
            "+----+------+----------+-------------+-------------+-------------+---------------+----------------+---------------+----------------+\n",
            "|  ID|rodata|      data|     mandante|    visitante|     vencedor|mandante_Placar|visitante_Placar|mandante_Estado|visitante_Estado|\n",
            "+----+------+----------+-------------+-------------+-------------+---------------+----------------+---------------+----------------+\n",
            "|1567|     1|2006-04-15|    Juventude|       Parana|    Juventude|              1|               0|             RS|              PR|\n",
            "|1568|     1|2006-04-15|        Vasco|Internacional|            -|              1|               1|             RJ|              RS|\n",
            "|1569|     1|2006-04-16|    Sao Paulo|     Flamengo|    Sao Paulo|              1|               0|             SP|              RJ|\n",
            "|1570|     1|2006-04-16|       Gremio|  Corinthians|       Gremio|              2|               0|             RS|              SP|\n",
            "|1571|     1|2006-04-16|  Botafogo-RJ|    Fortaleza|  Botafogo-RJ|              1|               0|             RJ|              CE|\n",
            "|1572|     1|2006-04-16|  Sao Caetano|     Cruzeiro|  Sao Caetano|              2|               1|             SP|              MG|\n",
            "|1573|     1|2006-04-16|    Palmeiras|  Ponte Preta|  Ponte Preta|              2|               3|             SP|              SP|\n",
            "|1574|     1|2006-04-16|   Santa Cruz|  Figueirense|            -|              0|               0|             PE|              SC|\n",
            "|1575|     1|2006-04-16| Athletico-PR|   Fluminense|   Fluminense|              1|               2|             PR|              RJ|\n",
            "|1576|     1|2006-04-16|        Goias|       Santos|            -|              0|               0|             GO|              SP|\n",
            "|1577|     2|2006-04-22|  Corinthians|  Sao Caetano|  Corinthians|              3|               0|             SP|              SP|\n",
            "|1578|     2|2006-04-22|   Fluminense|        Goias|   Fluminense|              1|               0|             RJ|              GO|\n",
            "|1579|     2|2006-04-22|  Figueirense|    Palmeiras|  Figueirense|              6|               1|             SC|              SP|\n",
            "|1580|     2|2006-04-23|Internacional|   Santa Cruz|Internacional|              1|               0|             RS|              PE|\n",
            "|1581|     2|2006-04-23|       Santos| Athletico-PR|       Santos|              2|               0|             SP|              PR|\n",
            "|1582|     2|2006-04-23|  Ponte Preta|        Vasco|        Vasco|              1|               2|             SP|              RJ|\n",
            "|1583|     2|2006-04-23|     Flamengo|    Juventude|     Flamengo|              3|               1|             RJ|              RS|\n",
            "|1584|     2|2006-04-23|     Cruzeiro|       Gremio|     Cruzeiro|              3|               1|             MG|              RS|\n",
            "|1585|     2|2006-04-23|       Parana|  Botafogo-RJ|            -|              0|               0|             PR|              RJ|\n",
            "|1586|     2|2006-04-23|    Fortaleza|    Sao Paulo|    Fortaleza|              1|               0|             CE|              SP|\n",
            "+----+------+----------+-------------+-------------+-------------+---------------+----------------+---------------+----------------+\n",
            "only showing top 20 rows\n",
            "\n"
          ]
        }
      ]
    },
    {
      "cell_type": "code",
      "source": [
        "df_jogos.select(F.col('vencedor')).groupBy('vencedor').count().orderBy(F.desc('count')).show()"
      ],
      "metadata": {
        "id": "FCnMNqL6ShZ7",
        "colab": {
          "base_uri": "https://localhost:8080/"
        },
        "outputId": "e778bace-456a-4232-d318-de2cffd9ed69"
      },
      "execution_count": null,
      "outputs": [
        {
          "output_type": "stream",
          "name": "stdout",
          "text": [
            "+-------------+-----+\n",
            "|     vencedor|count|\n",
            "+-------------+-----+\n",
            "|            -| 1738|\n",
            "|     Flamengo|  290|\n",
            "|    Sao Paulo|  289|\n",
            "|       Gremio|  273|\n",
            "|    Palmeiras|  267|\n",
            "|  Atletico-MG|  264|\n",
            "|       Santos|  261|\n",
            "|Internacional|  261|\n",
            "|   Fluminense|  256|\n",
            "|  Corinthians|  255|\n",
            "| Athletico-PR|  235|\n",
            "|     Cruzeiro|  229|\n",
            "|  Botafogo-RJ|  201|\n",
            "|        Vasco|  155|\n",
            "|        Goias|  139|\n",
            "|     Coritiba|  132|\n",
            "|        Sport|  131|\n",
            "|        Bahia|  103|\n",
            "|      Vitoria|   95|\n",
            "|  Figueirense|   94|\n",
            "+-------------+-----+\n",
            "only showing top 20 rows\n",
            "\n"
          ]
        }
      ]
    },
    {
      "cell_type": "code",
      "source": [
        "#Primeira rodada do ano de 2015 que é onde começam a ter dados estatísticos\n",
        "df_jogos.filter(df_jogos.ID == 4987).show()"
      ],
      "metadata": {
        "id": "G-RwMZapa-DX",
        "colab": {
          "base_uri": "https://localhost:8080/"
        },
        "outputId": "5009d300-af02-4825-abe3-90adf0bac8c5"
      },
      "execution_count": null,
      "outputs": [
        {
          "output_type": "stream",
          "name": "stdout",
          "text": [
            "+----+------+----------+-----------+---------+-----------+---------------+----------------+---------------+----------------+\n",
            "|  ID|rodata|      data|   mandante|visitante|   vencedor|mandante_Placar|visitante_Placar|mandante_Estado|visitante_Estado|\n",
            "+----+------+----------+-----------+---------+-----------+---------------+----------------+---------------+----------------+\n",
            "|4987|     1|2015-05-09|Chapecoense| Coritiba|Chapecoense|              2|               1|             SC|              PR|\n",
            "+----+------+----------+-----------+---------+-----------+---------------+----------------+---------------+----------------+\n",
            "\n"
          ]
        }
      ]
    },
    {
      "cell_type": "markdown",
      "source": [
        "Analise do df_estatisticas"
      ],
      "metadata": {
        "id": "qJcdgifupObH"
      }
    },
    {
      "cell_type": "markdown",
      "source": [
        "Só existem dados estatísticos das partidas a partir de 2015"
      ],
      "metadata": {
        "id": "cEJeovKIb33u"
      }
    },
    {
      "cell_type": "code",
      "source": [
        "df_estatisticas = df_estatisticas.filter(df_estatisticas.partida_id >= 4987)\n",
        "df_estatisticas = df_estatisticas.drop('precisao_passes', 'chutes_no_alvo')"
      ],
      "metadata": {
        "id": "AVVb_hR8ZpRz"
      },
      "execution_count": null,
      "outputs": []
    },
    {
      "cell_type": "code",
      "source": [
        "df_estatisticas.show(truncate = False)"
      ],
      "metadata": {
        "id": "uRLWzB58wep9",
        "colab": {
          "base_uri": "https://localhost:8080/"
        },
        "outputId": "09d327a2-62c9-4f6b-eef6-5e10890d98ae"
      },
      "execution_count": null,
      "outputs": [
        {
          "output_type": "stream",
          "name": "stdout",
          "text": [
            "+----------+------+-------------+------+-------------+------+------+--------------+---------------+------------+----------+\n",
            "|partida_id|rodata|clube        |chutes|posse_de_bola|passes|faltas|cartao_amarelo|cartao_vermelho|impedimentos|escanteios|\n",
            "+----------+------+-------------+------+-------------+------+------+--------------+---------------+------------+----------+\n",
            "|4987      |1     |Chapecoense  |13    |45%          |326   |20    |2             |0              |3           |3         |\n",
            "|4987      |1     |Coritiba     |16    |55%          |388   |21    |2             |0              |0           |5         |\n",
            "|4988      |1     |Palmeiras    |17    |50%          |406   |20    |2             |0              |2           |11        |\n",
            "|4988      |1     |Atletico-MG  |10    |50%          |426   |14    |4             |0              |4           |2         |\n",
            "|4989      |1     |Fluminense   |26    |74%          |702   |9     |2             |0              |1           |5         |\n",
            "|4989      |1     |Joinville    |3     |26%          |250   |14    |0             |1              |1           |3         |\n",
            "|4990      |1     |Gremio       |11    |45%          |401   |17    |3             |0              |2           |5         |\n",
            "|4990      |1     |Ponte Preta  |17    |55%          |473   |21    |4             |1              |0           |10        |\n",
            "|4991      |1     |Athletico-PR |10    |39%          |335   |17    |1             |0              |1           |2         |\n",
            "|4991      |1     |Internacional|17    |61%          |502   |17    |2             |0              |1           |11        |\n",
            "|4992      |1     |Sao Paulo    |19    |54%          |502   |17    |2             |0              |1           |4         |\n",
            "|4992      |1     |Flamengo     |12    |46%          |430   |12    |1             |0              |6           |6         |\n",
            "|4993      |1     |Cruzeiro     |13    |56%          |487   |17    |3             |0              |4           |2         |\n",
            "|4993      |1     |Corinthians  |11    |44%          |391   |15    |1             |0              |2           |4         |\n",
            "|4994      |1     |Sport        |17    |54%          |449   |17    |1             |0              |0           |7         |\n",
            "|4994      |1     |Figueirense  |7     |46%          |391   |14    |2             |1              |3           |1         |\n",
            "|4995      |1     |Avai         |16    |51%          |462   |10    |2             |0              |2           |4         |\n",
            "|4995      |1     |Santos       |8     |49%          |452   |11    |1             |1              |2           |3         |\n",
            "|4996      |1     |Vasco        |11    |62%          |439   |16    |3             |0              |0           |4         |\n",
            "|4996      |1     |Goias        |5     |38%          |279   |27    |5             |0              |2           |2         |\n",
            "+----------+------+-------------+------+-------------+------+------+--------------+---------------+------------+----------+\n",
            "only showing top 20 rows\n",
            "\n"
          ]
        }
      ]
    },
    {
      "cell_type": "code",
      "source": [
        "nulos = []\n",
        "for coluna in df_estatisticas.columns:\n",
        "    null_count = df_estatisticas.where(F.col(coluna).isNull()).count()\n",
        "    nulos.append((coluna, null_count))\n",
        "\n",
        "# Exibir a quantidade de valores nulos em cada coluna\n",
        "for coluna, null_count in nulos:\n",
        "    print(f\"A coluna {coluna} possui {null_count} valores nulos.\")"
      ],
      "metadata": {
        "id": "-QweiYLdYwWs",
        "colab": {
          "base_uri": "https://localhost:8080/"
        },
        "outputId": "2f891d2b-a021-4905-d0b5-9627db5019be"
      },
      "execution_count": null,
      "outputs": [
        {
          "output_type": "stream",
          "name": "stdout",
          "text": [
            "A coluna partida_id possui 0 valores nulos.\n",
            "A coluna rodata possui 0 valores nulos.\n",
            "A coluna clube possui 0 valores nulos.\n",
            "A coluna chutes possui 0 valores nulos.\n",
            "A coluna posse_de_bola possui 0 valores nulos.\n",
            "A coluna passes possui 0 valores nulos.\n",
            "A coluna faltas possui 0 valores nulos.\n",
            "A coluna cartao_amarelo possui 0 valores nulos.\n",
            "A coluna cartao_vermelho possui 0 valores nulos.\n",
            "A coluna impedimentos possui 0 valores nulos.\n",
            "A coluna escanteios possui 0 valores nulos.\n"
          ]
        }
      ]
    },
    {
      "cell_type": "code",
      "source": [
        "df_estatisticas.printSchema()"
      ],
      "metadata": {
        "id": "1sbFXghPxVtQ",
        "colab": {
          "base_uri": "https://localhost:8080/"
        },
        "outputId": "a854940f-81de-4072-af50-185b811cfb0e"
      },
      "execution_count": null,
      "outputs": [
        {
          "output_type": "stream",
          "name": "stdout",
          "text": [
            "root\n",
            " |-- partida_id: integer (nullable = true)\n",
            " |-- rodata: integer (nullable = true)\n",
            " |-- clube: string (nullable = true)\n",
            " |-- chutes: integer (nullable = true)\n",
            " |-- posse_de_bola: string (nullable = true)\n",
            " |-- passes: integer (nullable = true)\n",
            " |-- faltas: integer (nullable = true)\n",
            " |-- cartao_amarelo: integer (nullable = true)\n",
            " |-- cartao_vermelho: integer (nullable = true)\n",
            " |-- impedimentos: integer (nullable = true)\n",
            " |-- escanteios: integer (nullable = true)\n",
            "\n"
          ]
        }
      ]
    },
    {
      "cell_type": "markdown",
      "source": [
        "## Join dos jogos com as estatisticas"
      ],
      "metadata": {
        "id": "xdKYTmZHklSI"
      }
    },
    {
      "cell_type": "code",
      "source": [
        "df_completo = df_jogos.join(df_estatisticas, df_jogos.ID == df_estatisticas.partida_id, 'inner')"
      ],
      "metadata": {
        "id": "E1X44DOTkj9N"
      },
      "execution_count": null,
      "outputs": []
    },
    {
      "cell_type": "code",
      "source": [
        "df_completo.show()"
      ],
      "metadata": {
        "colab": {
          "base_uri": "https://localhost:8080/"
        },
        "id": "WhFpPUQ0k9Mn",
        "outputId": "1383e127-4f68-413d-9b35-24c245fb48b1"
      },
      "execution_count": null,
      "outputs": [
        {
          "output_type": "stream",
          "name": "stdout",
          "text": [
            "+----+------+----------+------------+-------------+------------+---------------+----------------+---------------+----------------+----------+------+-------------+------+-------------+------+------+--------------+---------------+------------+----------+\n",
            "|  ID|rodata|      data|    mandante|    visitante|    vencedor|mandante_Placar|visitante_Placar|mandante_Estado|visitante_Estado|partida_id|rodata|        clube|chutes|posse_de_bola|passes|faltas|cartao_amarelo|cartao_vermelho|impedimentos|escanteios|\n",
            "+----+------+----------+------------+-------------+------------+---------------+----------------+---------------+----------------+----------+------+-------------+------+-------------+------+------+--------------+---------------+------------+----------+\n",
            "|4987|     1|2015-05-09| Chapecoense|     Coritiba| Chapecoense|              2|               1|             SC|              PR|      4987|     1|  Chapecoense|    13|          45%|   326|    20|             2|              0|           3|         3|\n",
            "|4987|     1|2015-05-09| Chapecoense|     Coritiba| Chapecoense|              2|               1|             SC|              PR|      4987|     1|     Coritiba|    16|          55%|   388|    21|             2|              0|           0|         5|\n",
            "|4988|     1|2015-05-09|   Palmeiras|  Atletico-MG|           -|              2|               2|             SP|              MG|      4988|     1|    Palmeiras|    17|          50%|   406|    20|             2|              0|           2|        11|\n",
            "|4988|     1|2015-05-09|   Palmeiras|  Atletico-MG|           -|              2|               2|             SP|              MG|      4988|     1|  Atletico-MG|    10|          50%|   426|    14|             4|              0|           4|         2|\n",
            "|4989|     1|2015-05-09|  Fluminense|    Joinville|  Fluminense|              1|               0|             RJ|              SC|      4989|     1|   Fluminense|    26|          74%|   702|     9|             2|              0|           1|         5|\n",
            "|4989|     1|2015-05-09|  Fluminense|    Joinville|  Fluminense|              1|               0|             RJ|              SC|      4989|     1|    Joinville|     3|          26%|   250|    14|             0|              1|           1|         3|\n",
            "|4990|     1|2015-05-10|      Gremio|  Ponte Preta|           -|              3|               3|             RS|              SP|      4990|     1|       Gremio|    11|          45%|   401|    17|             3|              0|           2|         5|\n",
            "|4990|     1|2015-05-10|      Gremio|  Ponte Preta|           -|              3|               3|             RS|              SP|      4990|     1|  Ponte Preta|    17|          55%|   473|    21|             4|              1|           0|        10|\n",
            "|4991|     1|2015-05-10|Athletico-PR|Internacional|Athletico-PR|              3|               0|             PR|              RS|      4991|     1| Athletico-PR|    10|          39%|   335|    17|             1|              0|           1|         2|\n",
            "|4991|     1|2015-05-10|Athletico-PR|Internacional|Athletico-PR|              3|               0|             PR|              RS|      4991|     1|Internacional|    17|          61%|   502|    17|             2|              0|           1|        11|\n",
            "|4992|     1|2015-05-10|   Sao Paulo|     Flamengo|   Sao Paulo|              2|               1|             SP|              RJ|      4992|     1|    Sao Paulo|    19|          54%|   502|    17|             2|              0|           1|         4|\n",
            "|4992|     1|2015-05-10|   Sao Paulo|     Flamengo|   Sao Paulo|              2|               1|             SP|              RJ|      4992|     1|     Flamengo|    12|          46%|   430|    12|             1|              0|           6|         6|\n",
            "|4993|     1|2015-05-10|    Cruzeiro|  Corinthians| Corinthians|              0|               1|             MG|              SP|      4993|     1|     Cruzeiro|    13|          56%|   487|    17|             3|              0|           4|         2|\n",
            "|4993|     1|2015-05-10|    Cruzeiro|  Corinthians| Corinthians|              0|               1|             MG|              SP|      4993|     1|  Corinthians|    11|          44%|   391|    15|             1|              0|           2|         4|\n",
            "|4994|     1|2015-05-10|       Sport|  Figueirense|       Sport|              4|               1|             PE|              SC|      4994|     1|        Sport|    17|          54%|   449|    17|             1|              0|           0|         7|\n",
            "|4994|     1|2015-05-10|       Sport|  Figueirense|       Sport|              4|               1|             PE|              SC|      4994|     1|  Figueirense|     7|          46%|   391|    14|             2|              1|           3|         1|\n",
            "|4995|     1|2015-05-10|        Avai|       Santos|           -|              1|               1|             SC|              SP|      4995|     1|         Avai|    16|          51%|   462|    10|             2|              0|           2|         4|\n",
            "|4995|     1|2015-05-10|        Avai|       Santos|           -|              1|               1|             SC|              SP|      4995|     1|       Santos|     8|          49%|   452|    11|             1|              1|           2|         3|\n",
            "|4996|     1|2015-05-10|       Vasco|        Goias|           -|              0|               0|             RJ|              GO|      4996|     1|        Vasco|    11|          62%|   439|    16|             3|              0|           0|         4|\n",
            "|4996|     1|2015-05-10|       Vasco|        Goias|           -|              0|               0|             RJ|              GO|      4996|     1|        Goias|     5|          38%|   279|    27|             5|              0|           2|         2|\n",
            "+----+------+----------+------------+-------------+------------+---------------+----------------+---------------+----------------+----------+------+-------------+------+-------------+------+------+--------------+---------------+------------+----------+\n",
            "only showing top 20 rows\n",
            "\n"
          ]
        }
      ]
    },
    {
      "cell_type": "code",
      "source": [
        "df_completo.count()"
      ],
      "metadata": {
        "colab": {
          "base_uri": "https://localhost:8080/"
        },
        "id": "yrEPVTHMnqU6",
        "outputId": "430ce120-44dc-4a9d-fd0d-3d88de8d5e41"
      },
      "execution_count": null,
      "outputs": [
        {
          "output_type": "execute_result",
          "data": {
            "text/plain": [
              "6078"
            ]
          },
          "metadata": {},
          "execution_count": 40
        }
      ]
    },
    {
      "cell_type": "code",
      "source": [
        "df_completo.printSchema()"
      ],
      "metadata": {
        "colab": {
          "base_uri": "https://localhost:8080/"
        },
        "id": "NsAr31NynwiO",
        "outputId": "71f369c3-4799-4fcd-9e7d-62e29cb30cc7"
      },
      "execution_count": null,
      "outputs": [
        {
          "output_type": "stream",
          "name": "stdout",
          "text": [
            "root\n",
            " |-- ID: integer (nullable = true)\n",
            " |-- rodata: integer (nullable = true)\n",
            " |-- data: date (nullable = true)\n",
            " |-- mandante: string (nullable = true)\n",
            " |-- visitante: string (nullable = true)\n",
            " |-- vencedor: string (nullable = true)\n",
            " |-- mandante_Placar: integer (nullable = true)\n",
            " |-- visitante_Placar: integer (nullable = true)\n",
            " |-- mandante_Estado: string (nullable = true)\n",
            " |-- visitante_Estado: string (nullable = true)\n",
            " |-- partida_id: integer (nullable = true)\n",
            " |-- rodata: integer (nullable = true)\n",
            " |-- clube: string (nullable = true)\n",
            " |-- chutes: integer (nullable = true)\n",
            " |-- posse_de_bola: string (nullable = true)\n",
            " |-- passes: integer (nullable = true)\n",
            " |-- faltas: integer (nullable = true)\n",
            " |-- cartao_amarelo: integer (nullable = true)\n",
            " |-- cartao_vermelho: integer (nullable = true)\n",
            " |-- impedimentos: integer (nullable = true)\n",
            " |-- escanteios: integer (nullable = true)\n",
            "\n"
          ]
        }
      ]
    },
    {
      "cell_type": "markdown",
      "source": [
        "##Separando apenas o dataframe para fazer análises direcionadas apenas ao Flamengo"
      ],
      "metadata": {
        "id": "RB6ZJDBblHis"
      }
    },
    {
      "cell_type": "code",
      "source": [
        "df_fla = df_jogos.filter((df_jogos.mandante == 'Flamengo') | (df_jogos.visitante == 'Flamengo'))"
      ],
      "metadata": {
        "id": "OXWln6eOlikL"
      },
      "execution_count": null,
      "outputs": []
    },
    {
      "cell_type": "code",
      "source": [
        "df_fla.show(38)"
      ],
      "metadata": {
        "colab": {
          "base_uri": "https://localhost:8080/"
        },
        "id": "aCszfR3mmwUm",
        "outputId": "84c69631-6f1a-421f-a115-753f401230b7"
      },
      "execution_count": null,
      "outputs": [
        {
          "output_type": "stream",
          "name": "stdout",
          "text": [
            "+----+------+----------+-------------+-------------+-------------+---------------+----------------+---------------+----------------+\n",
            "|  ID|rodata|      data|     mandante|    visitante|     vencedor|mandante_Placar|visitante_Placar|mandante_Estado|visitante_Estado|\n",
            "+----+------+----------+-------------+-------------+-------------+---------------+----------------+---------------+----------------+\n",
            "|1569|     1|2006-04-16|    Sao Paulo|     Flamengo|    Sao Paulo|              1|               0|             SP|              RJ|\n",
            "|1583|     2|2006-04-23|     Flamengo|    Juventude|     Flamengo|              3|               1|             RJ|              RS|\n",
            "|1591|     3|2006-04-30|Internacional|     Flamengo|Internacional|              1|               0|             RS|              RJ|\n",
            "|1604|     4|2006-05-07|     Flamengo|  Botafogo-RJ|     Flamengo|              1|               0|             RJ|              RJ|\n",
            "|1614|     5|2006-05-14|     Flamengo|    Fortaleza|            -|              0|               0|             RJ|              CE|\n",
            "|1622|     6|2006-05-21|     Cruzeiro|     Flamengo|     Cruzeiro|              2|               1|             MG|              RJ|\n",
            "|1633|     7|2006-05-24|     Flamengo|       Santos|            -|              2|               2|             RJ|              SP|\n",
            "|1643|     8|2006-05-28|   Fluminense|     Flamengo|   Fluminense|              1|               0|             RJ|              RJ|\n",
            "|1653|     9|2006-05-31|     Flamengo|    Palmeiras|     Flamengo|              2|               1|             RJ|              SP|\n",
            "|1660|    10|2006-06-04|  Corinthians|     Flamengo|     Flamengo|              0|               2|             SP|              RJ|\n",
            "|1675|    11|2006-07-13|     Flamengo|       Parana|       Parana|              1|               4|             RJ|              PR|\n",
            "|1686|    12|2006-07-16|     Flamengo|        Vasco|        Vasco|              0|               1|             RJ|              RJ|\n",
            "|1693|    13|2006-07-23|   Santa Cruz|     Flamengo|   Santa Cruz|              3|               0|             PE|              RJ|\n",
            "|1703|    14|2006-07-30| Athletico-PR|     Flamengo| Athletico-PR|              1|               0|             PR|              RJ|\n",
            "|1710|    15|2006-08-05|     Flamengo|        Goias|     Flamengo|              1|               0|             RJ|              GO|\n",
            "|1720|    16|2006-08-12|     Flamengo|  Ponte Preta|            -|              0|               0|             RJ|              SP|\n",
            "|1731|    17|2006-08-16|  Figueirense|     Flamengo|            -|              1|               1|             SC|              RJ|\n",
            "|1738|    18|2006-08-19|     Flamengo|       Gremio|     Flamengo|              1|               0|             RJ|              RS|\n",
            "|1753|    19|2006-08-23|  Sao Caetano|     Flamengo|            -|              2|               2|             SP|              RJ|\n",
            "|1760|    20|2006-08-27|     Flamengo|    Sao Paulo|            -|              1|               1|             RJ|              SP|\n",
            "|1771|    21|2006-08-30|    Juventude|     Flamengo|    Juventude|              1|               0|             RS|              RJ|\n",
            "|1778|    22|2006-09-02|     Flamengo|Internacional|Internacional|              1|               2|             RJ|              RS|\n",
            "|1795|    23|2006-09-10|  Botafogo-RJ|     Flamengo|     Flamengo|              0|               2|             RJ|              RJ|\n",
            "|1806|    24|2006-09-17|    Fortaleza|     Flamengo|     Flamengo|              3|               4|             CE|              RJ|\n",
            "|1815|    25|2006-09-21|     Flamengo|     Cruzeiro|     Flamengo|              1|               0|             RJ|              MG|\n",
            "|1819|    26|2006-09-24|       Santos|     Flamengo|       Santos|              3|               0|             SP|              RJ|\n",
            "|1830|    27|2006-10-04|     Flamengo|   Fluminense|     Flamengo|              4|               1|             RJ|              RJ|\n",
            "|1840|    28|2006-10-08|    Palmeiras|     Flamengo|    Palmeiras|              3|               1|             SP|              RJ|\n",
            "|1852|    29|2006-10-15|     Flamengo|  Corinthians|     Flamengo|              3|               0|             RJ|              SP|\n",
            "|1862|    30|2006-10-22|       Parana|     Flamengo|     Flamengo|              0|               2|             PR|              RJ|\n",
            "|1868|    31|2006-10-26|        Vasco|     Flamengo|        Vasco|              3|               1|             RJ|              RJ|\n",
            "|1879|    32|2006-11-01|     Flamengo|   Santa Cruz|            -|              1|               1|             RJ|              PE|\n",
            "|1888|    33|2006-11-04|     Flamengo| Athletico-PR|     Flamengo|              1|               0|             RJ|              PR|\n",
            "|1903|    34|2006-11-08|        Goias|     Flamengo|     Flamengo|              0|               1|             GO|              RJ|\n",
            "|1912|    35|2006-11-12|  Ponte Preta|     Flamengo|  Ponte Preta|              3|               0|             SP|              RJ|\n",
            "|1918|    36|2006-11-18|     Flamengo|  Figueirense|  Figueirense|              0|               2|             RJ|              SC|\n",
            "|1929|    37|2006-11-26|       Gremio|     Flamengo|       Gremio|              3|               0|             RS|              RJ|\n",
            "|1938|    38|2006-12-02|     Flamengo|  Sao Caetano|     Flamengo|              4|               1|             RJ|              SP|\n",
            "+----+------+----------+-------------+-------------+-------------+---------------+----------------+---------------+----------------+\n",
            "only showing top 38 rows\n",
            "\n"
          ]
        }
      ]
    },
    {
      "cell_type": "code",
      "source": [
        "df_fla = df_fla.withColumn('vencedor',\n",
        "                           F.when(df_fla['vencedor'] == 'Flamengo', 'Vitória')\n",
        "                           .when(df_fla['vencedor'] == '-', 'Empate')\n",
        "                           .otherwise('Derrota'))"
      ],
      "metadata": {
        "id": "qCq_W55vtaTf"
      },
      "execution_count": null,
      "outputs": []
    },
    {
      "cell_type": "code",
      "source": [
        "df_fla = df_fla.withColumnRenamed('vencedor', 'situacao_flamengo')"
      ],
      "metadata": {
        "id": "OMnidxK31C9F"
      },
      "execution_count": null,
      "outputs": []
    },
    {
      "cell_type": "code",
      "source": [
        "df_fla.show()"
      ],
      "metadata": {
        "colab": {
          "base_uri": "https://localhost:8080/"
        },
        "id": "4hX0Vg3J0xL3",
        "outputId": "d251d65b-a906-4f1d-995b-93332c6b96a9"
      },
      "execution_count": null,
      "outputs": [
        {
          "output_type": "stream",
          "name": "stdout",
          "text": [
            "+----+------+----------+-------------+-----------+-----------------+---------------+----------------+---------------+----------------+\n",
            "|  ID|rodata|      data|     mandante|  visitante|situacao_flamengo|mandante_Placar|visitante_Placar|mandante_Estado|visitante_Estado|\n",
            "+----+------+----------+-------------+-----------+-----------------+---------------+----------------+---------------+----------------+\n",
            "|1569|     1|2006-04-16|    Sao Paulo|   Flamengo|          Derrota|              1|               0|             SP|              RJ|\n",
            "|1583|     2|2006-04-23|     Flamengo|  Juventude|          Vitória|              3|               1|             RJ|              RS|\n",
            "|1591|     3|2006-04-30|Internacional|   Flamengo|          Derrota|              1|               0|             RS|              RJ|\n",
            "|1604|     4|2006-05-07|     Flamengo|Botafogo-RJ|          Vitória|              1|               0|             RJ|              RJ|\n",
            "|1614|     5|2006-05-14|     Flamengo|  Fortaleza|           Empate|              0|               0|             RJ|              CE|\n",
            "|1622|     6|2006-05-21|     Cruzeiro|   Flamengo|          Derrota|              2|               1|             MG|              RJ|\n",
            "|1633|     7|2006-05-24|     Flamengo|     Santos|           Empate|              2|               2|             RJ|              SP|\n",
            "|1643|     8|2006-05-28|   Fluminense|   Flamengo|          Derrota|              1|               0|             RJ|              RJ|\n",
            "|1653|     9|2006-05-31|     Flamengo|  Palmeiras|          Vitória|              2|               1|             RJ|              SP|\n",
            "|1660|    10|2006-06-04|  Corinthians|   Flamengo|          Vitória|              0|               2|             SP|              RJ|\n",
            "|1675|    11|2006-07-13|     Flamengo|     Parana|          Derrota|              1|               4|             RJ|              PR|\n",
            "|1686|    12|2006-07-16|     Flamengo|      Vasco|          Derrota|              0|               1|             RJ|              RJ|\n",
            "|1693|    13|2006-07-23|   Santa Cruz|   Flamengo|          Derrota|              3|               0|             PE|              RJ|\n",
            "|1703|    14|2006-07-30| Athletico-PR|   Flamengo|          Derrota|              1|               0|             PR|              RJ|\n",
            "|1710|    15|2006-08-05|     Flamengo|      Goias|          Vitória|              1|               0|             RJ|              GO|\n",
            "|1720|    16|2006-08-12|     Flamengo|Ponte Preta|           Empate|              0|               0|             RJ|              SP|\n",
            "|1731|    17|2006-08-16|  Figueirense|   Flamengo|           Empate|              1|               1|             SC|              RJ|\n",
            "|1738|    18|2006-08-19|     Flamengo|     Gremio|          Vitória|              1|               0|             RJ|              RS|\n",
            "|1753|    19|2006-08-23|  Sao Caetano|   Flamengo|           Empate|              2|               2|             SP|              RJ|\n",
            "|1760|    20|2006-08-27|     Flamengo|  Sao Paulo|           Empate|              1|               1|             RJ|              SP|\n",
            "+----+------+----------+-------------+-----------+-----------------+---------------+----------------+---------------+----------------+\n",
            "only showing top 20 rows\n",
            "\n"
          ]
        }
      ]
    },
    {
      "cell_type": "code",
      "source": [
        "df_fla_est = df_estatisticas.filter(df_estatisticas.clube == 'Flamengo')"
      ],
      "metadata": {
        "id": "DYcvkx5-nuNa"
      },
      "execution_count": null,
      "outputs": []
    },
    {
      "cell_type": "code",
      "source": [
        "df_fla_est.show()"
      ],
      "metadata": {
        "colab": {
          "base_uri": "https://localhost:8080/"
        },
        "id": "Ef_tzkCtoH1F",
        "outputId": "c3419a3b-149a-4fce-add1-8bc3819dc14b"
      },
      "execution_count": null,
      "outputs": [
        {
          "output_type": "stream",
          "name": "stdout",
          "text": [
            "+----------+------+--------+------+-------------+------+------+--------------+---------------+------------+----------+\n",
            "|partida_id|rodata|   clube|chutes|posse_de_bola|passes|faltas|cartao_amarelo|cartao_vermelho|impedimentos|escanteios|\n",
            "+----------+------+--------+------+-------------+------+------+--------------+---------------+------------+----------+\n",
            "|      4992|     1|Flamengo|    12|          46%|   430|    12|             1|              0|           6|         6|\n",
            "|      5002|     2|Flamengo|    18|          59%|   492|    10|             2|              0|           6|        13|\n",
            "|      5014|     3|Flamengo|     8|          57%|   443|    17|             6|              0|           7|         2|\n",
            "|      5025|     4|Flamengo|    15|          67%|   475|    24|             5|              1|           1|         8|\n",
            "|      5031|     5|Flamengo|     8|          48%|   378|    17|             3|              0|           1|        10|\n",
            "|      5038|     6|Flamengo|    18|          64%|   437|    13|             1|              0|           2|         5|\n",
            "|      5048|     7|Flamengo|     8|          43%|   380|    14|             3|              1|           2|         2|\n",
            "|      5059|     8|Flamengo|    12|          54%|   504|     8|             0|              0|           1|         4|\n",
            "|      5075|     9|Flamengo|     6|          68%|   535|    10|             0|              0|           7|        10|\n",
            "|      5081|    10|Flamengo|    11|          37%|   337|    11|             2|              0|           4|         3|\n",
            "|      5095|    11|Flamengo|    12|          62%|   549|     9|             3|              0|           4|         8|\n",
            "|      5103|    12|Flamengo|     8|          40%|   385|    19|             2|              0|           5|         2|\n",
            "|      5112|    13|Flamengo|    16|          60%|   535|     7|             0|              0|           7|        13|\n",
            "|      5118|    14|Flamengo|    21|          39%|   323|    12|             1|              0|           1|         7|\n",
            "|      5135|    15|Flamengo|     8|          57%|   448|     6|             1|              0|           1|         4|\n",
            "|      5145|    16|Flamengo|    26|          55%|   443|    17|             4|              0|           2|         9|\n",
            "|      5153|    17|Flamengo|    16|          59%|   457|    16|             4|              0|           0|         4|\n",
            "|      5158|    18|Flamengo|     9|          47%|   390|    10|             2|              0|           1|         7|\n",
            "|      5170|    19|Flamengo|    21|          62%|   466|    15|             2|              0|           4|         6|\n",
            "|      5185|    20|Flamengo|    22|          44%|   277|    25|             4|              0|           2|        10|\n",
            "+----------+------+--------+------+-------------+------+------+--------------+---------------+------------+----------+\n",
            "only showing top 20 rows\n",
            "\n"
          ]
        }
      ]
    },
    {
      "cell_type": "code",
      "source": [
        "df_completo_fla = df_fla.join(df_fla_est, df_fla.ID == df_fla_est.partida_id, 'inner')"
      ],
      "metadata": {
        "id": "_K1hAJezpy2t"
      },
      "execution_count": null,
      "outputs": []
    },
    {
      "cell_type": "code",
      "source": [
        "df_completo_fla = df_completo_fla.drop('ID')"
      ],
      "metadata": {
        "id": "-QmcPIEk2Qlw"
      },
      "execution_count": null,
      "outputs": []
    },
    {
      "cell_type": "code",
      "source": [
        "df_completo_fla.show()"
      ],
      "metadata": {
        "colab": {
          "base_uri": "https://localhost:8080/"
        },
        "id": "5yWEFu2OqAEv",
        "outputId": "deb6cc18-9a1a-484f-f7b0-b4df796f0a04"
      },
      "execution_count": null,
      "outputs": [
        {
          "output_type": "stream",
          "name": "stdout",
          "text": [
            "+------+----------+-------------+------------+-----------------+---------------+----------------+---------------+----------------+----------+------+--------+------+-------------+------+------+--------------+---------------+------------+----------+\n",
            "|rodata|      data|     mandante|   visitante|situacao_flamengo|mandante_Placar|visitante_Placar|mandante_Estado|visitante_Estado|partida_id|rodata|   clube|chutes|posse_de_bola|passes|faltas|cartao_amarelo|cartao_vermelho|impedimentos|escanteios|\n",
            "+------+----------+-------------+------------+-----------------+---------------+----------------+---------------+----------------+----------+------+--------+------+-------------+------+------+--------------+---------------+------------+----------+\n",
            "|     1|2015-05-10|    Sao Paulo|    Flamengo|          Derrota|              2|               1|             SP|              RJ|      4992|     1|Flamengo|    12|          46%|   430|    12|             1|              0|           6|         6|\n",
            "|     2|2015-05-17|     Flamengo|       Sport|           Empate|              2|               2|             RJ|              PE|      5002|     2|Flamengo|    18|          59%|   492|    10|             2|              0|           6|        13|\n",
            "|     3|2015-05-24|         Avai|    Flamengo|          Derrota|              2|               1|             SC|              RJ|      5014|     3|Flamengo|     8|          57%|   443|    17|             6|              0|           7|         2|\n",
            "|     4|2015-05-31|     Flamengo|  Fluminense|          Derrota|              2|               3|             RJ|              RJ|      5025|     4|Flamengo|    15|          67%|   475|    24|             5|              1|           1|         8|\n",
            "|     5|2015-06-03|     Cruzeiro|    Flamengo|          Derrota|              1|               0|             MG|              RJ|      5031|     5|Flamengo|     8|          48%|   378|    17|             3|              0|           1|        10|\n",
            "|     6|2015-06-06|     Flamengo| Chapecoense|          Vitória|              1|               0|             RJ|              SC|      5038|     6|Flamengo|    18|          64%|   437|    13|             1|              0|           2|         5|\n",
            "|     7|2015-06-13|     Coritiba|    Flamengo|          Vitória|              0|               1|             PR|              RJ|      5048|     7|Flamengo|     8|          43%|   380|    14|             3|              1|           2|         2|\n",
            "|     8|2015-06-20|     Flamengo| Atletico-MG|          Derrota|              0|               2|             RJ|              MG|      5059|     8|Flamengo|    12|          54%|   504|     8|             0|              0|           1|         4|\n",
            "|     9|2015-06-28|        Vasco|    Flamengo|          Derrota|              1|               0|             RJ|              RJ|      5075|     9|Flamengo|     6|          68%|   535|    10|             0|              0|           7|        10|\n",
            "|    10|2015-07-01|    Joinville|    Flamengo|          Vitória|              0|               1|             SC|              RJ|      5081|    10|Flamengo|    11|          37%|   337|    11|             2|              0|           4|         3|\n",
            "|    11|2015-07-05|     Flamengo| Figueirense|          Derrota|              1|               2|             RJ|              SC|      5095|    11|Flamengo|    12|          62%|   549|     9|             3|              0|           4|         8|\n",
            "|    12|2015-07-08|Internacional|    Flamengo|          Vitória|              1|               2|             RS|              RJ|      5103|    12|Flamengo|     8|          40%|   385|    19|             2|              0|           5|         2|\n",
            "|    13|2015-07-12|     Flamengo| Corinthians|          Derrota|              0|               3|             RJ|              SP|      5112|    13|Flamengo|    16|          60%|   535|     7|             0|              0|           7|        13|\n",
            "|    14|2015-07-18|     Flamengo|      Gremio|          Vitória|              1|               0|             RJ|              RS|      5118|    14|Flamengo|    21|          39%|   323|    12|             1|              0|           1|         7|\n",
            "|    15|2015-07-26|        Goias|    Flamengo|          Vitória|              0|               1|             GO|              RJ|      5135|    15|Flamengo|     8|          57%|   448|     6|             1|              0|           1|         4|\n",
            "|    16|2015-08-02|     Flamengo|      Santos|           Empate|              2|               2|             RJ|              SP|      5145|    16|Flamengo|    26|          55%|   443|    17|             4|              0|           2|         9|\n",
            "|    17|2015-08-09|  Ponte Preta|    Flamengo|          Derrota|              1|               0|             SP|              RJ|      5153|    17|Flamengo|    16|          59%|   457|    16|             4|              0|           0|         4|\n",
            "|    18|2015-08-12|     Flamengo|Athletico-PR|          Vitória|              3|               2|             RJ|              PR|      5158|    18|Flamengo|     9|          47%|   390|    10|             2|              0|           1|         7|\n",
            "|    19|2015-08-16|    Palmeiras|    Flamengo|          Derrota|              4|               2|             SP|              RJ|      5170|    19|Flamengo|    21|          62%|   466|    15|             2|              0|           4|         6|\n",
            "|    20|2015-08-23|     Flamengo|   Sao Paulo|          Vitória|              2|               1|             RJ|              SP|      5185|    20|Flamengo|    22|          44%|   277|    25|             4|              0|           2|        10|\n",
            "+------+----------+-------------+------------+-----------------+---------------+----------------+---------------+----------------+----------+------+--------+------+-------------+------+------+--------------+---------------+------------+----------+\n",
            "only showing top 20 rows\n",
            "\n"
          ]
        }
      ]
    },
    {
      "cell_type": "markdown",
      "metadata": {
        "id": "08B1oqBg3yKw"
      },
      "source": [
        "##Load (Subindo df tratado para o Drive)\n",
        "\n"
      ]
    },
    {
      "cell_type": "code",
      "execution_count": null,
      "metadata": {
        "id": "bu_goxN53xex"
      },
      "outputs": [],
      "source": [
        "df_salvar = df_completo.toPandas()"
      ]
    },
    {
      "cell_type": "code",
      "execution_count": null,
      "metadata": {
        "id": "H3nMwLM_B8a5"
      },
      "outputs": [],
      "source": [
        "gcs_path = '/content/drive/MyDrive/Projeto Braileirao/tratados/dados_brasileirao_com_estatistica_seppevtratado.csv'\n",
        "gcs_path2 = '/content/drive/MyDrive/Projeto Braileirao/tratados/dados_brasileirao_com_estatistica_sepvirg_tratado.csv'\n",
        "df_salvar.to_csv(gcs_path, sep = ';', index = False)\n",
        "df_salvar.to_csv(gcs_path2, sep = ',', index = False)"
      ]
    },
    {
      "cell_type": "code",
      "source": [
        "df_salvar_jogos = df_jogos.toPandas()\n",
        "df_salvar_est = df_estatisticas.toPandas()"
      ],
      "metadata": {
        "id": "iT0iI0iGm_gJ"
      },
      "execution_count": null,
      "outputs": []
    },
    {
      "cell_type": "code",
      "source": [
        "gcs_path_jogos = '/content/drive/MyDrive/Projeto Braileirao/tratados/dados_jogos_brasileirao_seppevtratado.csv'\n",
        "gcs_path_jogos2 = '/content/drive/MyDrive/Projeto Braileirao/tratados/dados_jogos_brasileirao_sepvirg_tratado.csv'\n",
        "df_salvar_jogos.to_csv(gcs_path_jogos, sep = ';', index = False)\n",
        "df_salvar_jogos.to_csv(gcs_path_jogos2, sep = ',', index = False)"
      ],
      "metadata": {
        "id": "hR6a6EOTnRYs"
      },
      "execution_count": null,
      "outputs": []
    },
    {
      "cell_type": "code",
      "source": [
        "gcs_path_est = '/content/drive/MyDrive/Projeto Braileirao/tratados/dados_estatisticas_brasileirao_seppevtratado.csv'\n",
        "gcs_path_est2 = '/content/drive/MyDrive/Projeto Braileirao/tratados/dados_estatisticas_brasileirao_sepvirg_tratado.csv'\n",
        "df_salvar_est.to_csv(gcs_path_est, sep = ';', index = False)\n",
        "df_salvar_est.to_csv(gcs_path_est2, sep = ',', index = False)"
      ],
      "metadata": {
        "id": "gJ4itwTXn0lk"
      },
      "execution_count": null,
      "outputs": []
    },
    {
      "cell_type": "markdown",
      "source": [
        "##Load dfs só com jogos do Flamengo"
      ],
      "metadata": {
        "id": "8MLcHG2RoVfT"
      }
    },
    {
      "cell_type": "code",
      "source": [
        "df_fla_pd = df_fla.toPandas()\n",
        "df_fla_est_pd = df_fla_est.toPandas()\n",
        "df_completo_fla_pd = df_completo_fla.toPandas()"
      ],
      "metadata": {
        "id": "7Tx-kTVCrKib"
      },
      "execution_count": null,
      "outputs": []
    },
    {
      "cell_type": "code",
      "source": [
        "drive_path = '/content/drive/MyDrive/Projeto Braileirao/tratados/dados_fla_brasileirao_tratado.csv'\n",
        "drive_path2 = '/content/drive/MyDrive/Projeto Braileirao/tratados/dados_fla_brasileirao_estatistica_tratado.csv'\n",
        "drive_path3 = '/content/drive/MyDrive/Projeto Braileirao/tratados/dados_fla_brasileirao_completo_tratado.csv'\n",
        "df_fla_pd.to_csv(drive_path, sep = ';', index = False)\n",
        "df_fla_est_pd.to_csv(drive_path2, sep = ';', index = False)\n",
        "df_completo_fla_pd.to_csv(drive_path3, sep = ';', index = False)"
      ],
      "metadata": {
        "id": "lDDAcG-WoUHz"
      },
      "execution_count": null,
      "outputs": []
    },
    {
      "cell_type": "markdown",
      "source": [
        "Link para visualização do Dashboard feito com as informações do Clube Flamengo:\n",
        "\n",
        "https://app.powerbi.com/view?r=eyJrIjoiNDhlMzA5YWMtZDZjYy00ZjAxLWE0NmMtMzFiMzBiOTk0MTljIiwidCI6IjM1ZWFlNjdjLTY4NDctNDA5Mi1hMDk5LThkMGVhYTM1Nzc3ZiJ9&pageName=ReportSection"
      ],
      "metadata": {
        "id": "v2TM6V-oGji1"
      }
    }
  ]
}