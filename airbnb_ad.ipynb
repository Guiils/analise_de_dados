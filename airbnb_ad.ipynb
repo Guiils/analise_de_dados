{
  "nbformat": 4,
  "nbformat_minor": 0,
  "metadata": {
    "colab": {
      "provenance": [],
      "authorship_tag": "ABX9TyMS+owKbMdtH/DoQImZZLjN",
      "include_colab_link": true
    },
    "kernelspec": {
      "name": "python3",
      "display_name": "Python 3"
    },
    "language_info": {
      "name": "python"
    }
  },
  "cells": [
    {
      "cell_type": "markdown",
      "metadata": {
        "id": "view-in-github",
        "colab_type": "text"
      },
      "source": [
        "<a href=\"https://colab.research.google.com/github/Guiils/analise_de_dados/blob/main/airbnb_ad.ipynb\" target=\"_parent\"><img src=\"https://colab.research.google.com/assets/colab-badge.svg\" alt=\"Open In Colab\"/></a>"
      ]
    },
    {
      "cell_type": "code",
      "execution_count": null,
      "metadata": {
        "id": "_lWqowV4fTd1"
      },
      "outputs": [],
      "source": [
        "pip install gcsfs"
      ]
    },
    {
      "cell_type": "code",
      "source": [
        "import pandas as pd\n",
        "import os\n",
        "from google.cloud import storage\n",
        "import numpy as np"
      ],
      "metadata": {
        "id": "0xhvYtE_f7aV"
      },
      "execution_count": null,
      "outputs": []
    },
    {
      "cell_type": "code",
      "source": [
        "pd.set_option('display.max_columns', 100)"
      ],
      "metadata": {
        "id": "Ei3MNUrAf_G5"
      },
      "execution_count": null,
      "outputs": []
    },
    {
      "cell_type": "code",
      "source": [
        "serviceAccount = '/content/advance-airline-377819-1bf613aac07c.json'\n",
        "os.environ['GOOGLE_APPLICATION_CREDENTIALS'] = serviceAccount"
      ],
      "metadata": {
        "id": "5SRrCVJRgCAs"
      },
      "execution_count": null,
      "outputs": []
    },
    {
      "cell_type": "code",
      "source": [
        "client = storage.Client()\n",
        "bucket = client.get_bucket('ad1-bucket')\n",
        "bucket.blob('amsterdam_weekdays.csv')\n",
        "path = 'gs://ad1-bucket/brutos/amsterdam_weekdays.csv'"
      ],
      "metadata": {
        "id": "Bvo5eAqRgFe0"
      },
      "execution_count": null,
      "outputs": []
    },
    {
      "cell_type": "code",
      "source": [
        "df = pd.read_csv(path)\n",
        "df"
      ],
      "metadata": {
        "colab": {
          "base_uri": "https://localhost:8080/",
          "height": 679
        },
        "id": "WHgyQwExgwWx",
        "outputId": "a55fafa7-33e5-4bc8-b0cb-4d9af9508297"
      },
      "execution_count": null,
      "outputs": [
        {
          "output_type": "execute_result",
          "data": {
            "text/plain": [
              "      Unnamed: 0      realSum        room_type  room_shared  room_private  \\\n",
              "0              0   194.033698     Private room        False          True   \n",
              "1              1   344.245776     Private room        False          True   \n",
              "2              2   264.101422     Private room        False          True   \n",
              "3              3   433.529398     Private room        False          True   \n",
              "4              4   485.552926     Private room        False          True   \n",
              "...          ...          ...              ...          ...           ...   \n",
              "1098        1098  2486.115342  Entire home/apt        False         False   \n",
              "1099        1099   233.637194     Private room        False          True   \n",
              "1100        1100   317.062311     Private room        False          True   \n",
              "1101        1101  1812.855904  Entire home/apt        False         False   \n",
              "1102        1102   258.008577      Shared room         True         False   \n",
              "\n",
              "      person_capacity  host_is_superhost  multi  biz  cleanliness_rating  \\\n",
              "0                 2.0              False      1    0                10.0   \n",
              "1                 4.0              False      0    0                 8.0   \n",
              "2                 2.0              False      0    1                 9.0   \n",
              "3                 4.0              False      0    1                 9.0   \n",
              "4                 2.0               True      0    0                10.0   \n",
              "...               ...                ...    ...  ...                 ...   \n",
              "1098              2.0              False      0    0                10.0   \n",
              "1099              2.0              False      1    0                10.0   \n",
              "1100              2.0              False      1    0                10.0   \n",
              "1101              4.0              False      0    0                 8.0   \n",
              "1102              2.0              False      0    0                 8.0   \n",
              "\n",
              "      guest_satisfaction_overall  bedrooms      dist  metro_dist  attr_index  \\\n",
              "0                           93.0         1  5.022964    2.539380   78.690379   \n",
              "1                           85.0         1  0.488389    0.239404  631.176378   \n",
              "2                           87.0         1  5.748312    3.651621   75.275877   \n",
              "3                           90.0         2  0.384862    0.439876  493.272534   \n",
              "4                           98.0         1  0.544738    0.318693  552.830324   \n",
              "...                          ...       ...       ...         ...         ...   \n",
              "1098                       100.0         1  2.375833    1.436054  181.198355   \n",
              "1099                        90.0         1  4.719736    0.322263  108.024880   \n",
              "1100                        92.0         1  0.598355    0.751993  440.476515   \n",
              "1101                        84.0         5  1.943020    0.388532  257.948105   \n",
              "1102                        90.0         1  0.280204    0.516217  533.962653   \n",
              "\n",
              "      attr_index_norm  rest_index  rest_index_norm      lng       lat  \n",
              "0            4.166708   98.253896         6.846473  4.90569  52.41772  \n",
              "1           33.421209  837.280757        58.342928  4.90005  52.37432  \n",
              "2            3.985908   95.386955         6.646700  4.97512  52.36103  \n",
              "3           26.119108  875.033098        60.973565  4.89417  52.37663  \n",
              "4           29.272733  815.305740        56.811677  4.90051  52.37508  \n",
              "...               ...         ...              ...      ...       ...  \n",
              "1098         9.594573  225.304203        15.699521  4.85869  52.37677  \n",
              "1099         5.719989  134.775277         9.391335  4.83611  52.34910  \n",
              "1100        23.323524  625.947562        43.616927  4.88897  52.37798  \n",
              "1101        13.658524  336.589237        23.454022  4.90688  52.35794  \n",
              "1102        28.273677  807.492307        56.267226  4.89295  52.37575  \n",
              "\n",
              "[1103 rows x 20 columns]"
            ],
            "text/html": [
              "\n",
              "  <div id=\"df-2ff5f14d-0e4d-467f-8701-6f0699bd5c2e\">\n",
              "    <div class=\"colab-df-container\">\n",
              "      <div>\n",
              "<style scoped>\n",
              "    .dataframe tbody tr th:only-of-type {\n",
              "        vertical-align: middle;\n",
              "    }\n",
              "\n",
              "    .dataframe tbody tr th {\n",
              "        vertical-align: top;\n",
              "    }\n",
              "\n",
              "    .dataframe thead th {\n",
              "        text-align: right;\n",
              "    }\n",
              "</style>\n",
              "<table border=\"1\" class=\"dataframe\">\n",
              "  <thead>\n",
              "    <tr style=\"text-align: right;\">\n",
              "      <th></th>\n",
              "      <th>Unnamed: 0</th>\n",
              "      <th>realSum</th>\n",
              "      <th>room_type</th>\n",
              "      <th>room_shared</th>\n",
              "      <th>room_private</th>\n",
              "      <th>person_capacity</th>\n",
              "      <th>host_is_superhost</th>\n",
              "      <th>multi</th>\n",
              "      <th>biz</th>\n",
              "      <th>cleanliness_rating</th>\n",
              "      <th>guest_satisfaction_overall</th>\n",
              "      <th>bedrooms</th>\n",
              "      <th>dist</th>\n",
              "      <th>metro_dist</th>\n",
              "      <th>attr_index</th>\n",
              "      <th>attr_index_norm</th>\n",
              "      <th>rest_index</th>\n",
              "      <th>rest_index_norm</th>\n",
              "      <th>lng</th>\n",
              "      <th>lat</th>\n",
              "    </tr>\n",
              "  </thead>\n",
              "  <tbody>\n",
              "    <tr>\n",
              "      <th>0</th>\n",
              "      <td>0</td>\n",
              "      <td>194.033698</td>\n",
              "      <td>Private room</td>\n",
              "      <td>False</td>\n",
              "      <td>True</td>\n",
              "      <td>2.0</td>\n",
              "      <td>False</td>\n",
              "      <td>1</td>\n",
              "      <td>0</td>\n",
              "      <td>10.0</td>\n",
              "      <td>93.0</td>\n",
              "      <td>1</td>\n",
              "      <td>5.022964</td>\n",
              "      <td>2.539380</td>\n",
              "      <td>78.690379</td>\n",
              "      <td>4.166708</td>\n",
              "      <td>98.253896</td>\n",
              "      <td>6.846473</td>\n",
              "      <td>4.90569</td>\n",
              "      <td>52.41772</td>\n",
              "    </tr>\n",
              "    <tr>\n",
              "      <th>1</th>\n",
              "      <td>1</td>\n",
              "      <td>344.245776</td>\n",
              "      <td>Private room</td>\n",
              "      <td>False</td>\n",
              "      <td>True</td>\n",
              "      <td>4.0</td>\n",
              "      <td>False</td>\n",
              "      <td>0</td>\n",
              "      <td>0</td>\n",
              "      <td>8.0</td>\n",
              "      <td>85.0</td>\n",
              "      <td>1</td>\n",
              "      <td>0.488389</td>\n",
              "      <td>0.239404</td>\n",
              "      <td>631.176378</td>\n",
              "      <td>33.421209</td>\n",
              "      <td>837.280757</td>\n",
              "      <td>58.342928</td>\n",
              "      <td>4.90005</td>\n",
              "      <td>52.37432</td>\n",
              "    </tr>\n",
              "    <tr>\n",
              "      <th>2</th>\n",
              "      <td>2</td>\n",
              "      <td>264.101422</td>\n",
              "      <td>Private room</td>\n",
              "      <td>False</td>\n",
              "      <td>True</td>\n",
              "      <td>2.0</td>\n",
              "      <td>False</td>\n",
              "      <td>0</td>\n",
              "      <td>1</td>\n",
              "      <td>9.0</td>\n",
              "      <td>87.0</td>\n",
              "      <td>1</td>\n",
              "      <td>5.748312</td>\n",
              "      <td>3.651621</td>\n",
              "      <td>75.275877</td>\n",
              "      <td>3.985908</td>\n",
              "      <td>95.386955</td>\n",
              "      <td>6.646700</td>\n",
              "      <td>4.97512</td>\n",
              "      <td>52.36103</td>\n",
              "    </tr>\n",
              "    <tr>\n",
              "      <th>3</th>\n",
              "      <td>3</td>\n",
              "      <td>433.529398</td>\n",
              "      <td>Private room</td>\n",
              "      <td>False</td>\n",
              "      <td>True</td>\n",
              "      <td>4.0</td>\n",
              "      <td>False</td>\n",
              "      <td>0</td>\n",
              "      <td>1</td>\n",
              "      <td>9.0</td>\n",
              "      <td>90.0</td>\n",
              "      <td>2</td>\n",
              "      <td>0.384862</td>\n",
              "      <td>0.439876</td>\n",
              "      <td>493.272534</td>\n",
              "      <td>26.119108</td>\n",
              "      <td>875.033098</td>\n",
              "      <td>60.973565</td>\n",
              "      <td>4.89417</td>\n",
              "      <td>52.37663</td>\n",
              "    </tr>\n",
              "    <tr>\n",
              "      <th>4</th>\n",
              "      <td>4</td>\n",
              "      <td>485.552926</td>\n",
              "      <td>Private room</td>\n",
              "      <td>False</td>\n",
              "      <td>True</td>\n",
              "      <td>2.0</td>\n",
              "      <td>True</td>\n",
              "      <td>0</td>\n",
              "      <td>0</td>\n",
              "      <td>10.0</td>\n",
              "      <td>98.0</td>\n",
              "      <td>1</td>\n",
              "      <td>0.544738</td>\n",
              "      <td>0.318693</td>\n",
              "      <td>552.830324</td>\n",
              "      <td>29.272733</td>\n",
              "      <td>815.305740</td>\n",
              "      <td>56.811677</td>\n",
              "      <td>4.90051</td>\n",
              "      <td>52.37508</td>\n",
              "    </tr>\n",
              "    <tr>\n",
              "      <th>...</th>\n",
              "      <td>...</td>\n",
              "      <td>...</td>\n",
              "      <td>...</td>\n",
              "      <td>...</td>\n",
              "      <td>...</td>\n",
              "      <td>...</td>\n",
              "      <td>...</td>\n",
              "      <td>...</td>\n",
              "      <td>...</td>\n",
              "      <td>...</td>\n",
              "      <td>...</td>\n",
              "      <td>...</td>\n",
              "      <td>...</td>\n",
              "      <td>...</td>\n",
              "      <td>...</td>\n",
              "      <td>...</td>\n",
              "      <td>...</td>\n",
              "      <td>...</td>\n",
              "      <td>...</td>\n",
              "      <td>...</td>\n",
              "    </tr>\n",
              "    <tr>\n",
              "      <th>1098</th>\n",
              "      <td>1098</td>\n",
              "      <td>2486.115342</td>\n",
              "      <td>Entire home/apt</td>\n",
              "      <td>False</td>\n",
              "      <td>False</td>\n",
              "      <td>2.0</td>\n",
              "      <td>False</td>\n",
              "      <td>0</td>\n",
              "      <td>0</td>\n",
              "      <td>10.0</td>\n",
              "      <td>100.0</td>\n",
              "      <td>1</td>\n",
              "      <td>2.375833</td>\n",
              "      <td>1.436054</td>\n",
              "      <td>181.198355</td>\n",
              "      <td>9.594573</td>\n",
              "      <td>225.304203</td>\n",
              "      <td>15.699521</td>\n",
              "      <td>4.85869</td>\n",
              "      <td>52.37677</td>\n",
              "    </tr>\n",
              "    <tr>\n",
              "      <th>1099</th>\n",
              "      <td>1099</td>\n",
              "      <td>233.637194</td>\n",
              "      <td>Private room</td>\n",
              "      <td>False</td>\n",
              "      <td>True</td>\n",
              "      <td>2.0</td>\n",
              "      <td>False</td>\n",
              "      <td>1</td>\n",
              "      <td>0</td>\n",
              "      <td>10.0</td>\n",
              "      <td>90.0</td>\n",
              "      <td>1</td>\n",
              "      <td>4.719736</td>\n",
              "      <td>0.322263</td>\n",
              "      <td>108.024880</td>\n",
              "      <td>5.719989</td>\n",
              "      <td>134.775277</td>\n",
              "      <td>9.391335</td>\n",
              "      <td>4.83611</td>\n",
              "      <td>52.34910</td>\n",
              "    </tr>\n",
              "    <tr>\n",
              "      <th>1100</th>\n",
              "      <td>1100</td>\n",
              "      <td>317.062311</td>\n",
              "      <td>Private room</td>\n",
              "      <td>False</td>\n",
              "      <td>True</td>\n",
              "      <td>2.0</td>\n",
              "      <td>False</td>\n",
              "      <td>1</td>\n",
              "      <td>0</td>\n",
              "      <td>10.0</td>\n",
              "      <td>92.0</td>\n",
              "      <td>1</td>\n",
              "      <td>0.598355</td>\n",
              "      <td>0.751993</td>\n",
              "      <td>440.476515</td>\n",
              "      <td>23.323524</td>\n",
              "      <td>625.947562</td>\n",
              "      <td>43.616927</td>\n",
              "      <td>4.88897</td>\n",
              "      <td>52.37798</td>\n",
              "    </tr>\n",
              "    <tr>\n",
              "      <th>1101</th>\n",
              "      <td>1101</td>\n",
              "      <td>1812.855904</td>\n",
              "      <td>Entire home/apt</td>\n",
              "      <td>False</td>\n",
              "      <td>False</td>\n",
              "      <td>4.0</td>\n",
              "      <td>False</td>\n",
              "      <td>0</td>\n",
              "      <td>0</td>\n",
              "      <td>8.0</td>\n",
              "      <td>84.0</td>\n",
              "      <td>5</td>\n",
              "      <td>1.943020</td>\n",
              "      <td>0.388532</td>\n",
              "      <td>257.948105</td>\n",
              "      <td>13.658524</td>\n",
              "      <td>336.589237</td>\n",
              "      <td>23.454022</td>\n",
              "      <td>4.90688</td>\n",
              "      <td>52.35794</td>\n",
              "    </tr>\n",
              "    <tr>\n",
              "      <th>1102</th>\n",
              "      <td>1102</td>\n",
              "      <td>258.008577</td>\n",
              "      <td>Shared room</td>\n",
              "      <td>True</td>\n",
              "      <td>False</td>\n",
              "      <td>2.0</td>\n",
              "      <td>False</td>\n",
              "      <td>0</td>\n",
              "      <td>0</td>\n",
              "      <td>8.0</td>\n",
              "      <td>90.0</td>\n",
              "      <td>1</td>\n",
              "      <td>0.280204</td>\n",
              "      <td>0.516217</td>\n",
              "      <td>533.962653</td>\n",
              "      <td>28.273677</td>\n",
              "      <td>807.492307</td>\n",
              "      <td>56.267226</td>\n",
              "      <td>4.89295</td>\n",
              "      <td>52.37575</td>\n",
              "    </tr>\n",
              "  </tbody>\n",
              "</table>\n",
              "<p>1103 rows × 20 columns</p>\n",
              "</div>\n",
              "      <button class=\"colab-df-convert\" onclick=\"convertToInteractive('df-2ff5f14d-0e4d-467f-8701-6f0699bd5c2e')\"\n",
              "              title=\"Convert this dataframe to an interactive table.\"\n",
              "              style=\"display:none;\">\n",
              "        \n",
              "  <svg xmlns=\"http://www.w3.org/2000/svg\" height=\"24px\"viewBox=\"0 0 24 24\"\n",
              "       width=\"24px\">\n",
              "    <path d=\"M0 0h24v24H0V0z\" fill=\"none\"/>\n",
              "    <path d=\"M18.56 5.44l.94 2.06.94-2.06 2.06-.94-2.06-.94-.94-2.06-.94 2.06-2.06.94zm-11 1L8.5 8.5l.94-2.06 2.06-.94-2.06-.94L8.5 2.5l-.94 2.06-2.06.94zm10 10l.94 2.06.94-2.06 2.06-.94-2.06-.94-.94-2.06-.94 2.06-2.06.94z\"/><path d=\"M17.41 7.96l-1.37-1.37c-.4-.4-.92-.59-1.43-.59-.52 0-1.04.2-1.43.59L10.3 9.45l-7.72 7.72c-.78.78-.78 2.05 0 2.83L4 21.41c.39.39.9.59 1.41.59.51 0 1.02-.2 1.41-.59l7.78-7.78 2.81-2.81c.8-.78.8-2.07 0-2.86zM5.41 20L4 18.59l7.72-7.72 1.47 1.35L5.41 20z\"/>\n",
              "  </svg>\n",
              "      </button>\n",
              "      \n",
              "  <style>\n",
              "    .colab-df-container {\n",
              "      display:flex;\n",
              "      flex-wrap:wrap;\n",
              "      gap: 12px;\n",
              "    }\n",
              "\n",
              "    .colab-df-convert {\n",
              "      background-color: #E8F0FE;\n",
              "      border: none;\n",
              "      border-radius: 50%;\n",
              "      cursor: pointer;\n",
              "      display: none;\n",
              "      fill: #1967D2;\n",
              "      height: 32px;\n",
              "      padding: 0 0 0 0;\n",
              "      width: 32px;\n",
              "    }\n",
              "\n",
              "    .colab-df-convert:hover {\n",
              "      background-color: #E2EBFA;\n",
              "      box-shadow: 0px 1px 2px rgba(60, 64, 67, 0.3), 0px 1px 3px 1px rgba(60, 64, 67, 0.15);\n",
              "      fill: #174EA6;\n",
              "    }\n",
              "\n",
              "    [theme=dark] .colab-df-convert {\n",
              "      background-color: #3B4455;\n",
              "      fill: #D2E3FC;\n",
              "    }\n",
              "\n",
              "    [theme=dark] .colab-df-convert:hover {\n",
              "      background-color: #434B5C;\n",
              "      box-shadow: 0px 1px 3px 1px rgba(0, 0, 0, 0.15);\n",
              "      filter: drop-shadow(0px 1px 2px rgba(0, 0, 0, 0.3));\n",
              "      fill: #FFFFFF;\n",
              "    }\n",
              "  </style>\n",
              "\n",
              "      <script>\n",
              "        const buttonEl =\n",
              "          document.querySelector('#df-2ff5f14d-0e4d-467f-8701-6f0699bd5c2e button.colab-df-convert');\n",
              "        buttonEl.style.display =\n",
              "          google.colab.kernel.accessAllowed ? 'block' : 'none';\n",
              "\n",
              "        async function convertToInteractive(key) {\n",
              "          const element = document.querySelector('#df-2ff5f14d-0e4d-467f-8701-6f0699bd5c2e');\n",
              "          const dataTable =\n",
              "            await google.colab.kernel.invokeFunction('convertToInteractive',\n",
              "                                                     [key], {});\n",
              "          if (!dataTable) return;\n",
              "\n",
              "          const docLinkHtml = 'Like what you see? Visit the ' +\n",
              "            '<a target=\"_blank\" href=https://colab.research.google.com/notebooks/data_table.ipynb>data table notebook</a>'\n",
              "            + ' to learn more about interactive tables.';\n",
              "          element.innerHTML = '';\n",
              "          dataTable['output_type'] = 'display_data';\n",
              "          await google.colab.output.renderOutput(dataTable, element);\n",
              "          const docLink = document.createElement('div');\n",
              "          docLink.innerHTML = docLinkHtml;\n",
              "          element.appendChild(docLink);\n",
              "        }\n",
              "      </script>\n",
              "    </div>\n",
              "  </div>\n",
              "  "
            ]
          },
          "metadata": {},
          "execution_count": 7
        }
      ]
    },
    {
      "cell_type": "code",
      "source": [
        "dfback = df.copy()"
      ],
      "metadata": {
        "id": "fQWU6vQLj1kX"
      },
      "execution_count": null,
      "outputs": []
    },
    {
      "cell_type": "code",
      "source": [
        "sorted(pd.unique(df['room_type']))"
      ],
      "metadata": {
        "colab": {
          "base_uri": "https://localhost:8080/"
        },
        "id": "wd-QmZ_YkJAu",
        "outputId": "2c5f99af-2f2d-4570-e879-7ecc291b3e6c"
      },
      "execution_count": null,
      "outputs": [
        {
          "output_type": "execute_result",
          "data": {
            "text/plain": [
              "['Entire home/apt', 'Private room', 'Shared room']"
            ]
          },
          "metadata": {},
          "execution_count": 9
        }
      ]
    },
    {
      "cell_type": "code",
      "source": [
        "df.dtypes"
      ],
      "metadata": {
        "colab": {
          "base_uri": "https://localhost:8080/"
        },
        "id": "JBnflPg2nTu0",
        "outputId": "8ff6148c-ac42-467c-f61c-f426c6e21664"
      },
      "execution_count": null,
      "outputs": [
        {
          "output_type": "execute_result",
          "data": {
            "text/plain": [
              "Unnamed: 0                      int64\n",
              "realSum                       float64\n",
              "room_type                      object\n",
              "room_shared                      bool\n",
              "room_private                     bool\n",
              "person_capacity               float64\n",
              "host_is_superhost                bool\n",
              "multi                           int64\n",
              "biz                             int64\n",
              "cleanliness_rating            float64\n",
              "guest_satisfaction_overall    float64\n",
              "bedrooms                        int64\n",
              "dist                          float64\n",
              "metro_dist                    float64\n",
              "attr_index                    float64\n",
              "attr_index_norm               float64\n",
              "rest_index                    float64\n",
              "rest_index_norm               float64\n",
              "lng                           float64\n",
              "lat                           float64\n",
              "dtype: object"
            ]
          },
          "metadata": {},
          "execution_count": 10
        }
      ]
    },
    {
      "cell_type": "code",
      "source": [
        "df.drop(['Unnamed: 0'], axis=1, inplace = True)"
      ],
      "metadata": {
        "id": "Zij4q0u7rMrn"
      },
      "execution_count": null,
      "outputs": []
    },
    {
      "cell_type": "code",
      "source": [
        "df.loc[df.room_type == 'Private room', ['room_type']] = 'quarto privado'\n",
        "df.loc[df.room_type == 'Entire home/apt', ['room_type']] = 'casa/apt inteiro'\n",
        "df.loc[df.room_type == 'Shared room', ['room_type']] = 'quarto compartilhado'\n",
        "df"
      ],
      "metadata": {
        "id": "URVBNENOoDIj"
      },
      "execution_count": null,
      "outputs": []
    },
    {
      "cell_type": "code",
      "source": [
        "df.rename(columns={'room_type':'tipo', 'room_shared':'compartilhado','room_private':'privado','person_capacity':'p_capacidade','host_is_superhost':'superhost','cleanliness_rating':'nota_limpeza','guest_satisfaction_overall':'media_satisfacao','bedrooms':'quartos'}, inplace=True)"
      ],
      "metadata": {
        "id": "sFS9XuIJsEsw"
      },
      "execution_count": null,
      "outputs": []
    },
    {
      "cell_type": "code",
      "source": [
        "dfback2 = df.copy()"
      ],
      "metadata": {
        "id": "Fi1FmUGhtO2G"
      },
      "execution_count": null,
      "outputs": []
    },
    {
      "cell_type": "code",
      "source": [
        "fttiprivado = df.tipo == 'quarto privado'\n",
        "ftticomp = df.tipo == 'quarto compartilhado'\n",
        "ftticasapt = df.tipo == 'casa/apt inteiro'\n",
        "ftcapacidade2 = df.p_capacidade == 2.0\n",
        "ftcapacidade3 = df.p_capacidade == 3.0\n",
        "ftcapacidade4 = df.p_capacidade == 4.0\n",
        "ftcapacidade5 = df.p_capacidade == 5.0\n",
        "ftcapacidade6 = df.p_capacidade == 6.0\n",
        "filtrotipos = df.tipo.isin(['quarto privado','quarto compartilhado','casa/apt inteiro'])\n",
        "filtrostaisfacao = df.media_satisfacao == 100.0\n"
      ],
      "metadata": {
        "id": "rbf9F2tTvVTG"
      },
      "execution_count": null,
      "outputs": []
    },
    {
      "cell_type": "code",
      "source": [
        "dfsatisfacao = df.loc[filtrotipos & filtrostaisfacao]"
      ],
      "metadata": {
        "id": "sCXySaOCyGSw"
      },
      "execution_count": null,
      "outputs": []
    },
    {
      "cell_type": "code",
      "source": [
        "dfsatisfacao.groupby(['tipo']).size().sort_values(ascending=False).plot.bar(ylabel='Quartos com nota máxima')"
      ],
      "metadata": {
        "colab": {
          "base_uri": "https://localhost:8080/",
          "height": 364
        },
        "id": "FuYvwG6VXlVr",
        "outputId": "15640880-0981-4008-df7c-32ac455bcc97"
      },
      "execution_count": null,
      "outputs": [
        {
          "output_type": "execute_result",
          "data": {
            "text/plain": [
              "<AxesSubplot:xlabel='tipo', ylabel='Quartos com nota máxima'>"
            ]
          },
          "metadata": {},
          "execution_count": 17
        },
        {
          "output_type": "display_data",
          "data": {
            "text/plain": [
              "<Figure size 432x288 with 1 Axes>"
            ],
            "image/png": "[encoded data removed]"
          },
          "metadata": {
            "needs_background": "light"
          }
        }
      ]
    },
    {
      "cell_type": "code",
      "source": [
        "df.head(2)"
      ],
      "metadata": {
        "colab": {
          "base_uri": "https://localhost:8080/",
          "height": 211
        },
        "id": "4jutFFUMBJI-",
        "outputId": "b769a310-7584-4425-813e-df71782322f5"
      },
      "execution_count": null,
      "outputs": [
        {
          "output_type": "execute_result",
          "data": {
            "text/plain": [
              "      realSum            tipo  compartilhado  privado  p_capacidade  \\\n",
              "0  194.033698  quarto privado          False     True           2.0   \n",
              "1  344.245776  quarto privado          False     True           4.0   \n",
              "\n",
              "   superhost  multi  biz  nota_limpeza  media_satisfacao  quartos      dist  \\\n",
              "0      False      1    0          10.0              93.0        1  5.022964   \n",
              "1      False      0    0           8.0              85.0        1  0.488389   \n",
              "\n",
              "   metro_dist  attr_index  attr_index_norm  rest_index  rest_index_norm  \\\n",
              "0    2.539380   78.690379         4.166708   98.253896         6.846473   \n",
              "1    0.239404  631.176378        33.421209  837.280757        58.342928   \n",
              "\n",
              "       lng       lat  \n",
              "0  4.90569  52.41772  \n",
              "1  4.90005  52.37432  "
            ],
            "text/html": [
              "\n",
              "  <div id=\"df-2d22dd2a-894d-4792-a25e-487b3fe24387\">\n",
              "    <div class=\"colab-df-container\">\n",
              "      <div>\n",
              "<style scoped>\n",
              "    .dataframe tbody tr th:only-of-type {\n",
              "        vertical-align: middle;\n",
              "    }\n",
              "\n",
              "    .dataframe tbody tr th {\n",
              "        vertical-align: top;\n",
              "    }\n",
              "\n",
              "    .dataframe thead th {\n",
              "        text-align: right;\n",
              "    }\n",
              "</style>\n",
              "<table border=\"1\" class=\"dataframe\">\n",
              "  <thead>\n",
              "    <tr style=\"text-align: right;\">\n",
              "      <th></th>\n",
              "      <th>realSum</th>\n",
              "      <th>tipo</th>\n",
              "      <th>compartilhado</th>\n",
              "      <th>privado</th>\n",
              "      <th>p_capacidade</th>\n",
              "      <th>superhost</th>\n",
              "      <th>multi</th>\n",
              "      <th>biz</th>\n",
              "      <th>nota_limpeza</th>\n",
              "      <th>media_satisfacao</th>\n",
              "      <th>quartos</th>\n",
              "      <th>dist</th>\n",
              "      <th>metro_dist</th>\n",
              "      <th>attr_index</th>\n",
              "      <th>attr_index_norm</th>\n",
              "      <th>rest_index</th>\n",
              "      <th>rest_index_norm</th>\n",
              "      <th>lng</th>\n",
              "      <th>lat</th>\n",
              "    </tr>\n",
              "  </thead>\n",
              "  <tbody>\n",
              "    <tr>\n",
              "      <th>0</th>\n",
              "      <td>194.033698</td>\n",
              "      <td>quarto privado</td>\n",
              "      <td>False</td>\n",
              "      <td>True</td>\n",
              "      <td>2.0</td>\n",
              "      <td>False</td>\n",
              "      <td>1</td>\n",
              "      <td>0</td>\n",
              "      <td>10.0</td>\n",
              "      <td>93.0</td>\n",
              "      <td>1</td>\n",
              "      <td>5.022964</td>\n",
              "      <td>2.539380</td>\n",
              "      <td>78.690379</td>\n",
              "      <td>4.166708</td>\n",
              "      <td>98.253896</td>\n",
              "      <td>6.846473</td>\n",
              "      <td>4.90569</td>\n",
              "      <td>52.41772</td>\n",
              "    </tr>\n",
              "    <tr>\n",
              "      <th>1</th>\n",
              "      <td>344.245776</td>\n",
              "      <td>quarto privado</td>\n",
              "      <td>False</td>\n",
              "      <td>True</td>\n",
              "      <td>4.0</td>\n",
              "      <td>False</td>\n",
              "      <td>0</td>\n",
              "      <td>0</td>\n",
              "      <td>8.0</td>\n",
              "      <td>85.0</td>\n",
              "      <td>1</td>\n",
              "      <td>0.488389</td>\n",
              "      <td>0.239404</td>\n",
              "      <td>631.176378</td>\n",
              "      <td>33.421209</td>\n",
              "      <td>837.280757</td>\n",
              "      <td>58.342928</td>\n",
              "      <td>4.90005</td>\n",
              "      <td>52.37432</td>\n",
              "    </tr>\n",
              "  </tbody>\n",
              "</table>\n",
              "</div>\n",
              "      <button class=\"colab-df-convert\" onclick=\"convertToInteractive('df-2d22dd2a-894d-4792-a25e-487b3fe24387')\"\n",
              "              title=\"Convert this dataframe to an interactive table.\"\n",
              "              style=\"display:none;\">\n",
              "        \n",
              "  <svg xmlns=\"http://www.w3.org/2000/svg\" height=\"24px\"viewBox=\"0 0 24 24\"\n",
              "       width=\"24px\">\n",
              "    <path d=\"M0 0h24v24H0V0z\" fill=\"none\"/>\n",
              "    <path d=\"M18.56 5.44l.94 2.06.94-2.06 2.06-.94-2.06-.94-.94-2.06-.94 2.06-2.06.94zm-11 1L8.5 8.5l.94-2.06 2.06-.94-2.06-.94L8.5 2.5l-.94 2.06-2.06.94zm10 10l.94 2.06.94-2.06 2.06-.94-2.06-.94-.94-2.06-.94 2.06-2.06.94z\"/><path d=\"M17.41 7.96l-1.37-1.37c-.4-.4-.92-.59-1.43-.59-.52 0-1.04.2-1.43.59L10.3 9.45l-7.72 7.72c-.78.78-.78 2.05 0 2.83L4 21.41c.39.39.9.59 1.41.59.51 0 1.02-.2 1.41-.59l7.78-7.78 2.81-2.81c.8-.78.8-2.07 0-2.86zM5.41 20L4 18.59l7.72-7.72 1.47 1.35L5.41 20z\"/>\n",
              "  </svg>\n",
              "      </button>\n",
              "      \n",
              "  <style>\n",
              "    .colab-df-container {\n",
              "      display:flex;\n",
              "      flex-wrap:wrap;\n",
              "      gap: 12px;\n",
              "    }\n",
              "\n",
              "    .colab-df-convert {\n",
              "      background-color: #E8F0FE;\n",
              "      border: none;\n",
              "      border-radius: 50%;\n",
              "      cursor: pointer;\n",
              "      display: none;\n",
              "      fill: #1967D2;\n",
              "      height: 32px;\n",
              "      padding: 0 0 0 0;\n",
              "      width: 32px;\n",
              "    }\n",
              "\n",
              "    .colab-df-convert:hover {\n",
              "      background-color: #E2EBFA;\n",
              "      box-shadow: 0px 1px 2px rgba(60, 64, 67, 0.3), 0px 1px 3px 1px rgba(60, 64, 67, 0.15);\n",
              "      fill: #174EA6;\n",
              "    }\n",
              "\n",
              "    [theme=dark] .colab-df-convert {\n",
              "      background-color: #3B4455;\n",
              "      fill: #D2E3FC;\n",
              "    }\n",
              "\n",
              "    [theme=dark] .colab-df-convert:hover {\n",
              "      background-color: #434B5C;\n",
              "      box-shadow: 0px 1px 3px 1px rgba(0, 0, 0, 0.15);\n",
              "      filter: drop-shadow(0px 1px 2px rgba(0, 0, 0, 0.3));\n",
              "      fill: #FFFFFF;\n",
              "    }\n",
              "  </style>\n",
              "\n",
              "      <script>\n",
              "        const buttonEl =\n",
              "          document.querySelector('#df-2d22dd2a-894d-4792-a25e-487b3fe24387 button.colab-df-convert');\n",
              "        buttonEl.style.display =\n",
              "          google.colab.kernel.accessAllowed ? 'block' : 'none';\n",
              "\n",
              "        async function convertToInteractive(key) {\n",
              "          const element = document.querySelector('#df-2d22dd2a-894d-4792-a25e-487b3fe24387');\n",
              "          const dataTable =\n",
              "            await google.colab.kernel.invokeFunction('convertToInteractive',\n",
              "                                                     [key], {});\n",
              "          if (!dataTable) return;\n",
              "\n",
              "          const docLinkHtml = 'Like what you see? Visit the ' +\n",
              "            '<a target=\"_blank\" href=https://colab.research.google.com/notebooks/data_table.ipynb>data table notebook</a>'\n",
              "            + ' to learn more about interactive tables.';\n",
              "          element.innerHTML = '';\n",
              "          dataTable['output_type'] = 'display_data';\n",
              "          await google.colab.output.renderOutput(dataTable, element);\n",
              "          const docLink = document.createElement('div');\n",
              "          docLink.innerHTML = docLinkHtml;\n",
              "          element.appendChild(docLink);\n",
              "        }\n",
              "      </script>\n",
              "    </div>\n",
              "  </div>\n",
              "  "
            ]
          },
          "metadata": {},
          "execution_count": 19
        }
      ]
    },
    {
      "cell_type": "code",
      "source": [
        "filtrolimpezabom = df.nota_limpeza >= 7.0\n",
        "filtrolimpezam = (df.nota_limpeza < 7.0) & (df.nota_limpeza >=5)\n",
        "filtrolimpezar = (df.nota_limpeza < 5.0)\n",
        "\n"
      ],
      "metadata": {
        "id": "q-tQDIfiByof"
      },
      "execution_count": null,
      "outputs": []
    },
    {
      "cell_type": "code",
      "source": [
        "dflimpezabom = df.loc[filtrotipos & filtrolimpezabom]\n",
        "dflimpezam = df.loc[filtrotipos & filtrolimpezam]\n",
        "dflimpezar = df.loc[filtrotipos & filtrolimpezar]"
      ],
      "metadata": {
        "id": "j16WJzS6EeTo"
      },
      "execution_count": null,
      "outputs": []
    },
    {
      "cell_type": "code",
      "source": [
        "dflimpezabom.groupby(['tipo']).size().plot.line()"
      ],
      "metadata": {
        "colab": {
          "base_uri": "https://localhost:8080/",
          "height": 296
        },
        "id": "_h8-VTa0F3DY",
        "outputId": "97d0da59-91b8-4498-8a37-3f618805aecf"
      },
      "execution_count": null,
      "outputs": [
        {
          "output_type": "execute_result",
          "data": {
            "text/plain": [
              "<AxesSubplot:xlabel='tipo'>"
            ]
          },
          "metadata": {},
          "execution_count": 35
        },
        {
          "output_type": "display_data",
          "data": {
            "text/plain": [
              "<Figure size 432x288 with 1 Axes>"
            ],
            "image/png": "[encoded data removed]"
          },
          "metadata": {
            "needs_background": "light"
          }
        }
      ]
    },
    {
      "cell_type": "code",
      "source": [
        "dflimpezam.groupby(['tipo']).size().plot.line(figsize=(12,8))"
      ],
      "metadata": {
        "colab": {
          "base_uri": "https://localhost:8080/",
          "height": 514
        },
        "id": "lvc5u6JSHS-6",
        "outputId": "5c4dc587-9910-4f66-89e4-12f706c735bd"
      },
      "execution_count": null,
      "outputs": [
        {
          "output_type": "execute_result",
          "data": {
            "text/plain": [
              "<AxesSubplot:xlabel='tipo'>"
            ]
          },
          "metadata": {},
          "execution_count": 41
        },
        {
          "output_type": "display_data",
          "data": {
            "text/plain": [
              "<Figure size 864x576 with 1 Axes>"
            ],
            "image/png": "[encoded data removed]"
          },
          "metadata": {
            "needs_background": "light"
          }
        }
      ]
    },
    {
      "cell_type": "code",
      "source": [
        "dflimpezar.groupby(['tipo']).size().plot.line()"
      ],
      "metadata": {
        "colab": {
          "base_uri": "https://localhost:8080/",
          "height": 296
        },
        "id": "LZVqs8SoHu6d",
        "outputId": "7223c0b5-fb93-47a9-c36b-d495affca280"
      },
      "execution_count": null,
      "outputs": [
        {
          "output_type": "execute_result",
          "data": {
            "text/plain": [
              "<AxesSubplot:xlabel='tipo'>"
            ]
          },
          "metadata": {},
          "execution_count": 37
        },
        {
          "output_type": "display_data",
          "data": {
            "text/plain": [
              "<Figure size 432x288 with 1 Axes>"
            ],
            "image/png": "[encoded data removed]"
          },
          "metadata": {
            "needs_background": "light"
          }
        }
      ]
    }
  ]
}